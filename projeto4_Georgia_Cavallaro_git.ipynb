{
 "cells": [
  {
   "cell_type": "markdown",
   "metadata": {},
   "source": [
    "<div>\n",
    "Olá, Georgia!\n",
    "\n",
    "Meu nome é Luiz. Fico feliz em revisar seu projeto. Ao longo do texto farei algumas observações sobre melhorias no código e também farei comentários sobre suas percepções sobre o assunto. Estarei aberto a feedbacks e discussões sobre o tema.\n",
    "\n",
    "**Peço que mantenha e não altere os comentários que eu fizer por aqui para que possamos nos localizar posteriormente, ok?**\n",
    "\n",
    "Mais uma coisa, vamos utilizar um código de cores para você entender o meu feedback no seu notebook. Funciona assim:\n",
    "\n",
    "<div class=\"alert alert-block alert-success\">\n",
    "<b> Comentário do revisor: </b> <a class=\"tocSkip\"></a>\n",
    "\n",
    "Sucesso. Tudo foi feito corretamente.\n",
    "</div>\n",
    "\n",
    "<div class=\"alert alert-block alert-warning\">\n",
    "<b>Comentário do revisor: </b> <a class=\"tocSkip\"></a>\n",
    "\n",
    "Alerta não crítico, mas que pode ser corrigido para melhoria geral no seu código/análise.\n",
    "</div>\n",
    "\n",
    "<div class=\"alert alert-block alert-danger\">\n",
    "\n",
    "<b>Comentário do revisor: </b> <a class=\"tocSkip\"></a>\n",
    "    \n",
    "Erro que precisa ser arrumado, caso contrário seu projeto **não** será aceito.\n",
    "</div>\n",
    "\n",
    "Você pode interagir comigo através dessa célula:\n",
    "<div class=\"alert alert-block alert-info\">\n",
    "<b>Resposta do Aluno.</b> <a class=\"tocSkip\"></a>\n",
    "</div>\n"
   ]
  },
  {
   "cell_type": "markdown",
   "metadata": {},
   "source": [
    "<div class=\"alert alert-block alert-danger\">\n",
    "<b> Comentário geral do revisor v1</b> <a class=\"tocSkip\"></a>\n",
    "<s>\n",
    "Obrigado por enviar o seu projeto e pelo esforço de chegar até aqui. O seu projeto possui alguns pontos bem interessantes, dos quais eu destaco:\n",
    "    \n",
    "- Código bem simples e estruturado \n",
    "- Comentários sucintos e bem objetivos\n",
    "- Conclusões pertinentes em cada análise e etapa de avaliação\n",
    "- Análises bem detalhadas em cada etapa do projeto\n",
    "    \n",
    "<br>\n",
    "    \n",
    "Entretanto, deixei alguns comentários em alguns trechos que precisam de ajuste. Peço que trabalhe nesses pontos para avançarmos.\n",
    "    \n",
    "<br>\n",
    "    \n",
    "Qualquer dúvida, pode contar comigo.   \n",
    "    \n",
    "    \n",
    "**Até breve!**\n",
    "</s>\n",
    "</div>"
   ]
  },
  {
   "cell_type": "markdown",
   "metadata": {},
   "source": [
    "<div class=\"alert alert-block alert-success\">\n",
    "<b> Comentário geral do revisor v2</b> <a class=\"tocSkip\"></a>\n",
    "\n",
    "Obrigado por enviar o seu projeto e fazer os ajustes sugeridos. Essa versão do seu trabalho ficou muito melhor! Espero que as sugestões sejam relevantes para projetos futuros.\n",
    "    \n",
    "<br>\n",
    "Te desejo uma jornada de muito sucesso e aprendizado.\n",
    "    \n",
    "<br>   \n",
    "    \n",
    "Qualquer dúvida, pode contar comigo.   \n",
    "    \n",
    "<br>  \n",
    "    \n",
    "**Até breve!**\n",
    "\n",
    "</div>"
   ]
  },
  {
   "cell_type": "markdown",
   "metadata": {
    "id": "eAkbw7Ueuj8X"
   },
   "source": [
    "# Qual é o melhor plano?\n",
    "\n",
    "Você trabalha como analista para a empresa de telecomunicações Megaline. A empresa oferece aos clientes dois planos pré-pagos: Surf e Ultimate. O departamento comercial quer saber qual dos planos gera mais receita para ajustar o orçamento de publicidade.\n",
    "\n",
    "Você vai realizar uma análise preliminar dos planos com base em uma pequena seleção de clientes. Você terá dados de 500 clientes da Megaline: que clientes são, de onde eles são, qual plano usam e o número de chamadas e mensagens realizadas em 2018. Seu trabalho é analisar o comportamento dos clientes e determinar qual plano pré-pago gera mais receita."
   ]
  },
  {
   "cell_type": "markdown",
   "metadata": {
    "id": "Z_iOKMX_uj8a"
   },
   "source": [
    "[Fornecemos alguns comentários para guiar sua linha de raciocínio enquanto você conclui esse projeto. Entretanto, certifique-se de remover todos os comentários entre colchetes antes de enviar o projeto.]\n",
    "\n",
    "[Antes de mergulhar na análise dos seus dados, explique em suas palavras o propósito do projeto e as ações que planeja realizar.]\n",
    "\n",
    "### Propósito do Projeto\n",
    "\n",
    "O propósito deste projeto é descobrir qual dos dois planos oferecidos pela operadora Megaline (Ultimate ou Surf) é efetivamente mais lucrativo, para aumentar a publicidade do mesmo.\n",
    "\n",
    "Tenho os dados de uma amostra de 500 dos clientes da operadora e, com a ajuda de estatísticas, descobriremos qual plano gera mais receita (entre a compra do pacote e gastos adicionais que os clientes de cada plano têm).\n",
    "\n",
    "[Tenha em mente que estudar, modificar e analisar dados é um processo iterativo. É normal retornar a etapas anteriores e corrigir/expandir algo para permitir as próximas etapas.]"
   ]
  },
  {
   "cell_type": "markdown",
   "metadata": {
    "id": "lnomf-3Xuj8b"
   },
   "source": [
    "## Inicialização"
   ]
  },
  {
   "cell_type": "code",
   "execution_count": 1,
   "metadata": {
    "id": "JdJusn5ouj8c"
   },
   "outputs": [
    {
     "ename": "ModuleNotFoundError",
     "evalue": "No module named 'matplotlib'",
     "output_type": "error",
     "traceback": [
      "\u001b[1;31m---------------------------------------------------------------------------\u001b[0m",
      "\u001b[1;31mModuleNotFoundError\u001b[0m                       Traceback (most recent call last)",
      "Cell \u001b[1;32mIn[1], line 3\u001b[0m\n\u001b[0;32m      1\u001b[0m \u001b[38;5;66;03m# Carregando todas as bibliotecas\u001b[39;00m\n\u001b[0;32m      2\u001b[0m \u001b[38;5;28;01mimport\u001b[39;00m \u001b[38;5;21;01mpandas\u001b[39;00m \u001b[38;5;28;01mas\u001b[39;00m \u001b[38;5;21;01mpd\u001b[39;00m\n\u001b[1;32m----> 3\u001b[0m \u001b[38;5;28;01mfrom\u001b[39;00m \u001b[38;5;21;01mmatplotlib\u001b[39;00m \u001b[38;5;28;01mimport\u001b[39;00m pyplot \u001b[38;5;28;01mas\u001b[39;00m plt\n\u001b[0;32m      4\u001b[0m \u001b[38;5;28;01mimport\u001b[39;00m \u001b[38;5;21;01mnumpy\u001b[39;00m \u001b[38;5;28;01mas\u001b[39;00m \u001b[38;5;21;01mnp\u001b[39;00m\n\u001b[0;32m      5\u001b[0m \u001b[38;5;28;01mfrom\u001b[39;00m \u001b[38;5;21;01mscipy\u001b[39;00m \u001b[38;5;28;01mimport\u001b[39;00m stats \u001b[38;5;28;01mas\u001b[39;00m st\n",
      "\u001b[1;31mModuleNotFoundError\u001b[0m: No module named 'matplotlib'"
     ]
    }
   ],
   "source": [
    "# Carregando todas as bibliotecas\n",
    "import pandas as pd\n",
    "from matplotlib import pyplot as plt\n",
    "import numpy as np\n",
    "from scipy import stats as st\n",
    "import math\n",
    "import seaborn as sns"
   ]
  },
  {
   "cell_type": "markdown",
   "metadata": {
    "id": "rzqsCrgquj8d"
   },
   "source": [
    "## Carregue os dados"
   ]
  },
  {
   "cell_type": "code",
   "execution_count": null,
   "metadata": {
    "id": "HmzmQRXIuj8e"
   },
   "outputs": [],
   "source": [
    "# Carregue os arquivos de dados em diferentes DataFrames\n",
    "df_calls = pd.read_csv(\"/datasets/megaline_calls.csv\")"
   ]
  },
  {
   "cell_type": "code",
   "execution_count": null,
   "metadata": {},
   "outputs": [],
   "source": [
    "df_internet = pd.read_csv(\"/datasets/megaline_internet.csv\")"
   ]
  },
  {
   "cell_type": "code",
   "execution_count": null,
   "metadata": {},
   "outputs": [],
   "source": [
    "df_messages = pd.read_csv(\"/datasets/megaline_messages.csv\")"
   ]
  },
  {
   "cell_type": "code",
   "execution_count": null,
   "metadata": {},
   "outputs": [],
   "source": [
    "df_plans = pd.read_csv(\"/datasets/megaline_plans.csv\")"
   ]
  },
  {
   "cell_type": "code",
   "execution_count": null,
   "metadata": {},
   "outputs": [],
   "source": [
    "df_users = pd.read_csv(\"/datasets/megaline_users.csv\")"
   ]
  },
  {
   "cell_type": "markdown",
   "metadata": {},
   "source": [
    "<div class=\"alert alert-block alert-success\">\n",
    "<b> Comentário do revisor: </b> <a class=\"tocSkip\"></a>\n",
    "    \n",
    "- Os conjuntos de dados foram carregados corretamente\n",
    "- O import das bibliotecas foi feito de forma correta e em uma célula separada.\n",
    "</div>"
   ]
  },
  {
   "cell_type": "markdown",
   "metadata": {
    "id": "XQh-EeiIuj8e"
   },
   "source": [
    "## Prepare os dados"
   ]
  },
  {
   "cell_type": "markdown",
   "metadata": {
    "id": "RmibJmmzuj8e"
   },
   "source": [
    "[Os dados deste projeto estão divididos em várias tabelas. Explore cada uma para obter uma compreensão inicial dos dados. Faça correções em cada tabela, se necessário.]"
   ]
  },
  {
   "cell_type": "markdown",
   "metadata": {
    "id": "TlZUw_Cyuj8f"
   },
   "source": [
    "## Planos"
   ]
  },
  {
   "cell_type": "code",
   "execution_count": null,
   "metadata": {
    "id": "x9qB5mAOuj8f"
   },
   "outputs": [
    {
     "name": "stdout",
     "output_type": "stream",
     "text": [
      "<class 'pandas.core.frame.DataFrame'>\n",
      "RangeIndex: 2 entries, 0 to 1\n",
      "Data columns (total 8 columns):\n",
      " #   Column                 Non-Null Count  Dtype  \n",
      "---  ------                 --------------  -----  \n",
      " 0   messages_included      2 non-null      int64  \n",
      " 1   mb_per_month_included  2 non-null      int64  \n",
      " 2   minutes_included       2 non-null      int64  \n",
      " 3   usd_monthly_pay        2 non-null      int64  \n",
      " 4   usd_per_gb             2 non-null      int64  \n",
      " 5   usd_per_message        2 non-null      float64\n",
      " 6   usd_per_minute         2 non-null      float64\n",
      " 7   plan_name              2 non-null      object \n",
      "dtypes: float64(2), int64(5), object(1)\n",
      "memory usage: 256.0+ bytes\n"
     ]
    }
   ],
   "source": [
    "# Imprima as informações gerais/resumidas sobre o DataFrame dos planos\n",
    "df_plans.info()"
   ]
  },
  {
   "cell_type": "code",
   "execution_count": null,
   "metadata": {
    "id": "9MRo7tyVuj8f"
   },
   "outputs": [
    {
     "data": {
      "text/html": [
       "<div>\n",
       "<style scoped>\n",
       "    .dataframe tbody tr th:only-of-type {\n",
       "        vertical-align: middle;\n",
       "    }\n",
       "\n",
       "    .dataframe tbody tr th {\n",
       "        vertical-align: top;\n",
       "    }\n",
       "\n",
       "    .dataframe thead th {\n",
       "        text-align: right;\n",
       "    }\n",
       "</style>\n",
       "<table border=\"1\" class=\"dataframe\">\n",
       "  <thead>\n",
       "    <tr style=\"text-align: right;\">\n",
       "      <th></th>\n",
       "      <th>messages_included</th>\n",
       "      <th>mb_per_month_included</th>\n",
       "      <th>minutes_included</th>\n",
       "      <th>usd_monthly_pay</th>\n",
       "      <th>usd_per_gb</th>\n",
       "      <th>usd_per_message</th>\n",
       "      <th>usd_per_minute</th>\n",
       "      <th>plan_name</th>\n",
       "    </tr>\n",
       "  </thead>\n",
       "  <tbody>\n",
       "    <tr>\n",
       "      <th>0</th>\n",
       "      <td>50</td>\n",
       "      <td>15360</td>\n",
       "      <td>500</td>\n",
       "      <td>20</td>\n",
       "      <td>10</td>\n",
       "      <td>0.03</td>\n",
       "      <td>0.03</td>\n",
       "      <td>surf</td>\n",
       "    </tr>\n",
       "    <tr>\n",
       "      <th>1</th>\n",
       "      <td>1000</td>\n",
       "      <td>30720</td>\n",
       "      <td>3000</td>\n",
       "      <td>70</td>\n",
       "      <td>7</td>\n",
       "      <td>0.01</td>\n",
       "      <td>0.01</td>\n",
       "      <td>ultimate</td>\n",
       "    </tr>\n",
       "  </tbody>\n",
       "</table>\n",
       "</div>"
      ],
      "text/plain": [
       "   messages_included  mb_per_month_included  minutes_included  \\\n",
       "0                 50                  15360               500   \n",
       "1               1000                  30720              3000   \n",
       "\n",
       "   usd_monthly_pay  usd_per_gb  usd_per_message  usd_per_minute plan_name  \n",
       "0               20          10             0.03            0.03      surf  \n",
       "1               70           7             0.01            0.01  ultimate  "
      ]
     },
     "execution_count": 8,
     "metadata": {},
     "output_type": "execute_result"
    }
   ],
   "source": [
    "# Imprima uma amostra de dados dos planos\n",
    "df_plans.head()"
   ]
  },
  {
   "cell_type": "markdown",
   "metadata": {
    "id": "P8hzr-lquj8f"
   },
   "source": [
    "[Descreva o que você vê e observa nas informações gerais e na amostra de dados impressa para a parte dos dados acima. Existem problemas (tipos de dados inadequados, dados ausentes, etc.) que precisam de mais investigação e alterações? Como isso pode ser corrigido?]\n",
    "\n",
    "Os dados desde DaraFrame parecem estar prontos para uso, sem dados ausentes, todos estão em tipologia adequada e mesmo as colunas possuem nomeação apropriada.\n",
    "\n",
    "Podemos adicionar uma coluna chamada ``gb_per_month_included``, já que o dado que temos de valores está em USD por GB."
   ]
  },
  {
   "cell_type": "markdown",
   "metadata": {
    "id": "KXtaxmKsuj8f"
   },
   "source": [
    "## Corrija os dados"
   ]
  },
  {
   "cell_type": "markdown",
   "metadata": {
    "id": "9BWuM80Buj8f"
   },
   "source": [
    "[Corrija problemas óbvios com os dados conforme as observações iniciais.]\n",
    "\n",
    "Não há problemas para serem corrigidos."
   ]
  },
  {
   "cell_type": "code",
   "execution_count": null,
   "metadata": {
    "id": "Hen8bhG1uj8g"
   },
   "outputs": [],
   "source": []
  },
  {
   "cell_type": "markdown",
   "metadata": {
    "id": "kLcdKu6Duj8g"
   },
   "source": [
    "## Enriqueça os dados"
   ]
  },
  {
   "cell_type": "markdown",
   "metadata": {
    "id": "x1L6F_gmuj8g"
   },
   "source": [
    "[Inclua fatores adicionais aos dados se você acredita que eles podem ser úteis.]\n",
    "\n",
    "Adicionando um nova coluna chamada `gb_per_month_included` para facilitar a leitura de `usd_per_gb`."
   ]
  },
  {
   "cell_type": "code",
   "execution_count": null,
   "metadata": {
    "id": "6j4XA9_ruj8g"
   },
   "outputs": [
    {
     "data": {
      "text/html": [
       "<div>\n",
       "<style scoped>\n",
       "    .dataframe tbody tr th:only-of-type {\n",
       "        vertical-align: middle;\n",
       "    }\n",
       "\n",
       "    .dataframe tbody tr th {\n",
       "        vertical-align: top;\n",
       "    }\n",
       "\n",
       "    .dataframe thead th {\n",
       "        text-align: right;\n",
       "    }\n",
       "</style>\n",
       "<table border=\"1\" class=\"dataframe\">\n",
       "  <thead>\n",
       "    <tr style=\"text-align: right;\">\n",
       "      <th></th>\n",
       "      <th>messages_included</th>\n",
       "      <th>mb_per_month_included</th>\n",
       "      <th>minutes_included</th>\n",
       "      <th>usd_monthly_pay</th>\n",
       "      <th>usd_per_gb</th>\n",
       "      <th>usd_per_message</th>\n",
       "      <th>usd_per_minute</th>\n",
       "      <th>plan_name</th>\n",
       "      <th>gb_per_month_included</th>\n",
       "    </tr>\n",
       "  </thead>\n",
       "  <tbody>\n",
       "    <tr>\n",
       "      <th>0</th>\n",
       "      <td>50</td>\n",
       "      <td>15360</td>\n",
       "      <td>500</td>\n",
       "      <td>20</td>\n",
       "      <td>10</td>\n",
       "      <td>0.03</td>\n",
       "      <td>0.03</td>\n",
       "      <td>surf</td>\n",
       "      <td>15</td>\n",
       "    </tr>\n",
       "    <tr>\n",
       "      <th>1</th>\n",
       "      <td>1000</td>\n",
       "      <td>30720</td>\n",
       "      <td>3000</td>\n",
       "      <td>70</td>\n",
       "      <td>7</td>\n",
       "      <td>0.01</td>\n",
       "      <td>0.01</td>\n",
       "      <td>ultimate</td>\n",
       "      <td>30</td>\n",
       "    </tr>\n",
       "  </tbody>\n",
       "</table>\n",
       "</div>"
      ],
      "text/plain": [
       "   messages_included  mb_per_month_included  minutes_included  \\\n",
       "0                 50                  15360               500   \n",
       "1               1000                  30720              3000   \n",
       "\n",
       "   usd_monthly_pay  usd_per_gb  usd_per_message  usd_per_minute plan_name  \\\n",
       "0               20          10             0.03            0.03      surf   \n",
       "1               70           7             0.01            0.01  ultimate   \n",
       "\n",
       "   gb_per_month_included  \n",
       "0                     15  \n",
       "1                     30  "
      ]
     },
     "execution_count": 9,
     "metadata": {},
     "output_type": "execute_result"
    }
   ],
   "source": [
    "df_plans[\"gb_per_month_included\"] = (\n",
    "    (df_plans[\"mb_per_month_included\"] / 1024).round().astype(int)\n",
    ")\n",
    "\n",
    "df_plans"
   ]
  },
  {
   "cell_type": "markdown",
   "metadata": {},
   "source": [
    "<div class=\"alert alert-block alert-success\">\n",
    "<b> Comentário do revisor: </b> <a class=\"tocSkip\"></a>\n",
    "    \n",
    "- Os métodos `info()` e `head()` foram utilizados para estudo dos dados\n",
    "- Os dados foram enriquecidos\n",
    "</div>"
   ]
  },
  {
   "cell_type": "markdown",
   "metadata": {
    "id": "YJg2O9qjuj8g"
   },
   "source": [
    "## Usuários"
   ]
  },
  {
   "cell_type": "code",
   "execution_count": null,
   "metadata": {
    "id": "7JzxwD2juj8g"
   },
   "outputs": [
    {
     "name": "stdout",
     "output_type": "stream",
     "text": [
      "<class 'pandas.core.frame.DataFrame'>\n",
      "RangeIndex: 500 entries, 0 to 499\n",
      "Data columns (total 8 columns):\n",
      " #   Column      Non-Null Count  Dtype \n",
      "---  ------      --------------  ----- \n",
      " 0   user_id     500 non-null    int64 \n",
      " 1   first_name  500 non-null    object\n",
      " 2   last_name   500 non-null    object\n",
      " 3   age         500 non-null    int64 \n",
      " 4   city        500 non-null    object\n",
      " 5   reg_date    500 non-null    object\n",
      " 6   plan        500 non-null    object\n",
      " 7   churn_date  34 non-null     object\n",
      "dtypes: int64(2), object(6)\n",
      "memory usage: 31.4+ KB\n"
     ]
    }
   ],
   "source": [
    "# Imprima as informações gerais/resumidas sobre o DataFrame dos usuários\n",
    "df_users.info()"
   ]
  },
  {
   "cell_type": "code",
   "execution_count": null,
   "metadata": {
    "id": "5KZ8XmD8uj8g",
    "scrolled": true
   },
   "outputs": [
    {
     "data": {
      "text/html": [
       "<div>\n",
       "<style scoped>\n",
       "    .dataframe tbody tr th:only-of-type {\n",
       "        vertical-align: middle;\n",
       "    }\n",
       "\n",
       "    .dataframe tbody tr th {\n",
       "        vertical-align: top;\n",
       "    }\n",
       "\n",
       "    .dataframe thead th {\n",
       "        text-align: right;\n",
       "    }\n",
       "</style>\n",
       "<table border=\"1\" class=\"dataframe\">\n",
       "  <thead>\n",
       "    <tr style=\"text-align: right;\">\n",
       "      <th></th>\n",
       "      <th>user_id</th>\n",
       "      <th>first_name</th>\n",
       "      <th>last_name</th>\n",
       "      <th>age</th>\n",
       "      <th>city</th>\n",
       "      <th>reg_date</th>\n",
       "      <th>plan</th>\n",
       "      <th>churn_date</th>\n",
       "    </tr>\n",
       "  </thead>\n",
       "  <tbody>\n",
       "    <tr>\n",
       "      <th>83</th>\n",
       "      <td>1083</td>\n",
       "      <td>Lyndia</td>\n",
       "      <td>Acevedo</td>\n",
       "      <td>65</td>\n",
       "      <td>Los Angeles-Long Beach-Anaheim, CA MSA</td>\n",
       "      <td>2018-10-26</td>\n",
       "      <td>surf</td>\n",
       "      <td>2018-12-18</td>\n",
       "    </tr>\n",
       "    <tr>\n",
       "      <th>189</th>\n",
       "      <td>1189</td>\n",
       "      <td>Terrence</td>\n",
       "      <td>Smith</td>\n",
       "      <td>75</td>\n",
       "      <td>Columbus, OH MSA</td>\n",
       "      <td>2018-09-24</td>\n",
       "      <td>surf</td>\n",
       "      <td>NaN</td>\n",
       "    </tr>\n",
       "    <tr>\n",
       "      <th>317</th>\n",
       "      <td>1317</td>\n",
       "      <td>Ruthanne</td>\n",
       "      <td>Heath</td>\n",
       "      <td>70</td>\n",
       "      <td>Phoenix-Mesa-Chandler, AZ MSA</td>\n",
       "      <td>2018-11-11</td>\n",
       "      <td>ultimate</td>\n",
       "      <td>NaN</td>\n",
       "    </tr>\n",
       "    <tr>\n",
       "      <th>361</th>\n",
       "      <td>1361</td>\n",
       "      <td>Jacelyn</td>\n",
       "      <td>Hoffman</td>\n",
       "      <td>45</td>\n",
       "      <td>Birmingham-Hoover, AL MSA</td>\n",
       "      <td>2018-04-14</td>\n",
       "      <td>surf</td>\n",
       "      <td>NaN</td>\n",
       "    </tr>\n",
       "    <tr>\n",
       "      <th>339</th>\n",
       "      <td>1339</td>\n",
       "      <td>Mariette</td>\n",
       "      <td>Mclean</td>\n",
       "      <td>27</td>\n",
       "      <td>Charlotte-Concord-Gastonia, NC-SC MSA</td>\n",
       "      <td>2018-03-03</td>\n",
       "      <td>surf</td>\n",
       "      <td>NaN</td>\n",
       "    </tr>\n",
       "  </tbody>\n",
       "</table>\n",
       "</div>"
      ],
      "text/plain": [
       "     user_id first_name last_name  age  \\\n",
       "83      1083     Lyndia   Acevedo   65   \n",
       "189     1189   Terrence     Smith   75   \n",
       "317     1317   Ruthanne     Heath   70   \n",
       "361     1361    Jacelyn   Hoffman   45   \n",
       "339     1339   Mariette    Mclean   27   \n",
       "\n",
       "                                       city    reg_date      plan  churn_date  \n",
       "83   Los Angeles-Long Beach-Anaheim, CA MSA  2018-10-26      surf  2018-12-18  \n",
       "189                        Columbus, OH MSA  2018-09-24      surf         NaN  \n",
       "317           Phoenix-Mesa-Chandler, AZ MSA  2018-11-11  ultimate         NaN  \n",
       "361               Birmingham-Hoover, AL MSA  2018-04-14      surf         NaN  \n",
       "339   Charlotte-Concord-Gastonia, NC-SC MSA  2018-03-03      surf         NaN  "
      ]
     },
     "execution_count": 11,
     "metadata": {},
     "output_type": "execute_result"
    }
   ],
   "source": [
    "# Imprima uma amostra de dados dos usuários\n",
    "df_users.sample(5, random_state=3333)"
   ]
  },
  {
   "cell_type": "markdown",
   "metadata": {
    "id": "XGCgkfLvuj8h"
   },
   "source": [
    "[Descreva o que você vê e observa nas informações gerais e na amostra de dados impressa para a parte dos dados acima. Existem problemas (tipos de dados inadequados, dados ausentes, etc.) que precisam de mais investigação e alterações? Como isso pode ser corrigido?]\n",
    "\n",
    "Os valores tanto de `churn_date` quanto de `reg_date` precisam ser convertidos para _datetime_.\n",
    "\n",
    "Também é bom criar uma nova coluna chamada `complete_name` em _lower case_ para acessar os nomes completos com menos erros.\n",
    "\n",
    "Os nomes das cidades também precisam ficar em _snake case_."
   ]
  },
  {
   "cell_type": "markdown",
   "metadata": {
    "id": "ppiEfe3luj8i"
   },
   "source": [
    "### Corrija os dados"
   ]
  },
  {
   "cell_type": "markdown",
   "metadata": {
    "id": "os4Gubp_uj8j"
   },
   "source": [
    "[Corrija problemas óbvios com os dados conforme as observações iniciais.]"
   ]
  },
  {
   "cell_type": "code",
   "execution_count": null,
   "metadata": {
    "id": "Oa1XFooouj8j"
   },
   "outputs": [],
   "source": [
    "df_users[\"reg_date\"] = pd.to_datetime(df_users[\"reg_date\"], format=\"%Y-%m-%d\")"
   ]
  },
  {
   "cell_type": "code",
   "execution_count": null,
   "metadata": {},
   "outputs": [
    {
     "name": "stdout",
     "output_type": "stream",
     "text": [
      "<class 'pandas.core.frame.DataFrame'>\n",
      "RangeIndex: 500 entries, 0 to 499\n",
      "Data columns (total 8 columns):\n",
      " #   Column      Non-Null Count  Dtype         \n",
      "---  ------      --------------  -----         \n",
      " 0   user_id     500 non-null    int64         \n",
      " 1   first_name  500 non-null    object        \n",
      " 2   last_name   500 non-null    object        \n",
      " 3   age         500 non-null    int64         \n",
      " 4   city        500 non-null    object        \n",
      " 5   reg_date    500 non-null    datetime64[ns]\n",
      " 6   plan        500 non-null    object        \n",
      " 7   churn_date  34 non-null     datetime64[ns]\n",
      "dtypes: datetime64[ns](2), int64(2), object(4)\n",
      "memory usage: 31.4+ KB\n"
     ]
    }
   ],
   "source": [
    "df_users[\"churn_date\"] = pd.to_datetime(df_users[\"churn_date\"], format=\"%Y-%m-%d\")\n",
    "\n",
    "df_users.info()"
   ]
  },
  {
   "cell_type": "code",
   "execution_count": null,
   "metadata": {},
   "outputs": [],
   "source": [
    "df_users[\"city\"] = df_users[\"city\"].str.replace(\" \", \"_\")"
   ]
  },
  {
   "cell_type": "markdown",
   "metadata": {
    "id": "H3gpde3Juj8j"
   },
   "source": [
    "### Enriqueça os dados"
   ]
  },
  {
   "cell_type": "markdown",
   "metadata": {
    "id": "HOZyfII6uj8j"
   },
   "source": [
    "[Inclua fatores adicionais aos dados se você acredita que eles podem ser úteis.]"
   ]
  },
  {
   "cell_type": "code",
   "execution_count": null,
   "metadata": {
    "id": "4vuUjT2juj8j"
   },
   "outputs": [],
   "source": [
    "df_users[\"complete_name\"] = df_users[\"first_name\"] + \"_\" + df_users[\"last_name\"]\n",
    "df_users[\"complete_name\"] = df_users[\"complete_name\"].str.lower()"
   ]
  },
  {
   "cell_type": "code",
   "execution_count": null,
   "metadata": {},
   "outputs": [],
   "source": [
    "df_users[\"reg_month\"] = df_users[\"reg_date\"].dt.month\n",
    "# adicionando coluna com o mês de inscrição"
   ]
  },
  {
   "cell_type": "code",
   "execution_count": null,
   "metadata": {},
   "outputs": [],
   "source": [
    "df_users[\"red_weekday\"] = df_users[\"reg_date\"].dt.weekday\n",
    "# adicionando coluna com o dia da semana da inscrição"
   ]
  },
  {
   "cell_type": "code",
   "execution_count": null,
   "metadata": {},
   "outputs": [],
   "source": [
    "df_users[\"churn_month\"] = df_users[\"churn_date\"].dt.month\n",
    "# adicionando coluna para o mês de cancelamento, quando há"
   ]
  },
  {
   "cell_type": "code",
   "execution_count": null,
   "metadata": {},
   "outputs": [
    {
     "data": {
      "text/html": [
       "<div>\n",
       "<style scoped>\n",
       "    .dataframe tbody tr th:only-of-type {\n",
       "        vertical-align: middle;\n",
       "    }\n",
       "\n",
       "    .dataframe tbody tr th {\n",
       "        vertical-align: top;\n",
       "    }\n",
       "\n",
       "    .dataframe thead th {\n",
       "        text-align: right;\n",
       "    }\n",
       "</style>\n",
       "<table border=\"1\" class=\"dataframe\">\n",
       "  <thead>\n",
       "    <tr style=\"text-align: right;\">\n",
       "      <th></th>\n",
       "      <th>user_id</th>\n",
       "      <th>first_name</th>\n",
       "      <th>last_name</th>\n",
       "      <th>age</th>\n",
       "      <th>city</th>\n",
       "      <th>reg_date</th>\n",
       "      <th>plan</th>\n",
       "      <th>churn_date</th>\n",
       "      <th>complete_name</th>\n",
       "      <th>reg_month</th>\n",
       "      <th>red_weekday</th>\n",
       "      <th>churn_month</th>\n",
       "      <th>churn_weekday</th>\n",
       "    </tr>\n",
       "  </thead>\n",
       "  <tbody>\n",
       "    <tr>\n",
       "      <th>83</th>\n",
       "      <td>1083</td>\n",
       "      <td>Lyndia</td>\n",
       "      <td>Acevedo</td>\n",
       "      <td>65</td>\n",
       "      <td>Los_Angeles-Long_Beach-Anaheim,_CA_MSA</td>\n",
       "      <td>2018-10-26</td>\n",
       "      <td>surf</td>\n",
       "      <td>2018-12-18</td>\n",
       "      <td>lyndia_acevedo</td>\n",
       "      <td>10</td>\n",
       "      <td>4</td>\n",
       "      <td>12.0</td>\n",
       "      <td>1.0</td>\n",
       "    </tr>\n",
       "    <tr>\n",
       "      <th>189</th>\n",
       "      <td>1189</td>\n",
       "      <td>Terrence</td>\n",
       "      <td>Smith</td>\n",
       "      <td>75</td>\n",
       "      <td>Columbus,_OH_MSA</td>\n",
       "      <td>2018-09-24</td>\n",
       "      <td>surf</td>\n",
       "      <td>NaT</td>\n",
       "      <td>terrence_smith</td>\n",
       "      <td>9</td>\n",
       "      <td>0</td>\n",
       "      <td>NaN</td>\n",
       "      <td>NaN</td>\n",
       "    </tr>\n",
       "    <tr>\n",
       "      <th>317</th>\n",
       "      <td>1317</td>\n",
       "      <td>Ruthanne</td>\n",
       "      <td>Heath</td>\n",
       "      <td>70</td>\n",
       "      <td>Phoenix-Mesa-Chandler,_AZ_MSA</td>\n",
       "      <td>2018-11-11</td>\n",
       "      <td>ultimate</td>\n",
       "      <td>NaT</td>\n",
       "      <td>ruthanne_heath</td>\n",
       "      <td>11</td>\n",
       "      <td>6</td>\n",
       "      <td>NaN</td>\n",
       "      <td>NaN</td>\n",
       "    </tr>\n",
       "    <tr>\n",
       "      <th>361</th>\n",
       "      <td>1361</td>\n",
       "      <td>Jacelyn</td>\n",
       "      <td>Hoffman</td>\n",
       "      <td>45</td>\n",
       "      <td>Birmingham-Hoover,_AL_MSA</td>\n",
       "      <td>2018-04-14</td>\n",
       "      <td>surf</td>\n",
       "      <td>NaT</td>\n",
       "      <td>jacelyn_hoffman</td>\n",
       "      <td>4</td>\n",
       "      <td>5</td>\n",
       "      <td>NaN</td>\n",
       "      <td>NaN</td>\n",
       "    </tr>\n",
       "    <tr>\n",
       "      <th>339</th>\n",
       "      <td>1339</td>\n",
       "      <td>Mariette</td>\n",
       "      <td>Mclean</td>\n",
       "      <td>27</td>\n",
       "      <td>Charlotte-Concord-Gastonia,_NC-SC_MSA</td>\n",
       "      <td>2018-03-03</td>\n",
       "      <td>surf</td>\n",
       "      <td>NaT</td>\n",
       "      <td>mariette_mclean</td>\n",
       "      <td>3</td>\n",
       "      <td>5</td>\n",
       "      <td>NaN</td>\n",
       "      <td>NaN</td>\n",
       "    </tr>\n",
       "  </tbody>\n",
       "</table>\n",
       "</div>"
      ],
      "text/plain": [
       "     user_id first_name last_name  age  \\\n",
       "83      1083     Lyndia   Acevedo   65   \n",
       "189     1189   Terrence     Smith   75   \n",
       "317     1317   Ruthanne     Heath   70   \n",
       "361     1361    Jacelyn   Hoffman   45   \n",
       "339     1339   Mariette    Mclean   27   \n",
       "\n",
       "                                       city   reg_date      plan churn_date  \\\n",
       "83   Los_Angeles-Long_Beach-Anaheim,_CA_MSA 2018-10-26      surf 2018-12-18   \n",
       "189                        Columbus,_OH_MSA 2018-09-24      surf        NaT   \n",
       "317           Phoenix-Mesa-Chandler,_AZ_MSA 2018-11-11  ultimate        NaT   \n",
       "361               Birmingham-Hoover,_AL_MSA 2018-04-14      surf        NaT   \n",
       "339   Charlotte-Concord-Gastonia,_NC-SC_MSA 2018-03-03      surf        NaT   \n",
       "\n",
       "       complete_name  reg_month  red_weekday  churn_month  churn_weekday  \n",
       "83    lyndia_acevedo         10            4         12.0            1.0  \n",
       "189   terrence_smith          9            0          NaN            NaN  \n",
       "317   ruthanne_heath         11            6          NaN            NaN  \n",
       "361  jacelyn_hoffman          4            5          NaN            NaN  \n",
       "339  mariette_mclean          3            5          NaN            NaN  "
      ]
     },
     "execution_count": 19,
     "metadata": {},
     "output_type": "execute_result"
    }
   ],
   "source": [
    "df_users[\"churn_weekday\"] = df_users[\"churn_date\"].dt.weekday\n",
    "# adicionando coluna para o dia da semana de cancelamento do plano, quando há\n",
    "\n",
    "df_users.sample(5, random_state=3333)"
   ]
  },
  {
   "cell_type": "markdown",
   "metadata": {},
   "source": [
    "<div class=\"alert alert-block alert-warning\">\n",
    "<b> Comentário do revisor: </b> <a class=\"tocSkip\"></a>\n",
    "    \n",
    "- Os métodos `info()` e `head()` foram utilizados para estudo dos dados\n",
    "- Os dados foram enriquecidos\n",
    "- Os campos foram convertidos para os tipos adequados. Os campos de data foram corrigidos.\n",
    "- Como sugestão, você poderia criar uma coluna que indica se um cliente está ativo com base no atributo `churn_date`\n",
    "</div>"
   ]
  },
  {
   "cell_type": "markdown",
   "metadata": {},
   "source": [
    "<div class=\"alert alert-block alert-info\">\n",
    "<b>Resposta do Aluno.</b>\n",
    "    Oii Luiz! Tudo bom? Até devo ter usado os métodos citados, faço isso toda hora, porém me esqueci de deixar o código ativo aqui.\n",
    "    Adorei a sugestão, obrigada! <a class=\"tocSkip\"></a>\n",
    "</div>"
   ]
  },
  {
   "cell_type": "markdown",
   "metadata": {
    "id": "f4uSIMuuuj8j"
   },
   "source": [
    "## Chamadas"
   ]
  },
  {
   "cell_type": "code",
   "execution_count": null,
   "metadata": {
    "id": "hkY01fJnuj8j"
   },
   "outputs": [
    {
     "name": "stdout",
     "output_type": "stream",
     "text": [
      "<class 'pandas.core.frame.DataFrame'>\n",
      "RangeIndex: 137735 entries, 0 to 137734\n",
      "Data columns (total 4 columns):\n",
      " #   Column     Non-Null Count   Dtype  \n",
      "---  ------     --------------   -----  \n",
      " 0   id         137735 non-null  object \n",
      " 1   user_id    137735 non-null  int64  \n",
      " 2   call_date  137735 non-null  object \n",
      " 3   duration   137735 non-null  float64\n",
      "dtypes: float64(1), int64(1), object(2)\n",
      "memory usage: 4.2+ MB\n"
     ]
    }
   ],
   "source": [
    "# Imprima as informações gerais/resumidas sobre o DataFrame das chamadas\n",
    "df_calls.info()"
   ]
  },
  {
   "cell_type": "code",
   "execution_count": null,
   "metadata": {
    "id": "wdBwJG5Yuj8k"
   },
   "outputs": [
    {
     "data": {
      "text/html": [
       "<div>\n",
       "<style scoped>\n",
       "    .dataframe tbody tr th:only-of-type {\n",
       "        vertical-align: middle;\n",
       "    }\n",
       "\n",
       "    .dataframe tbody tr th {\n",
       "        vertical-align: top;\n",
       "    }\n",
       "\n",
       "    .dataframe thead th {\n",
       "        text-align: right;\n",
       "    }\n",
       "</style>\n",
       "<table border=\"1\" class=\"dataframe\">\n",
       "  <thead>\n",
       "    <tr style=\"text-align: right;\">\n",
       "      <th></th>\n",
       "      <th>id</th>\n",
       "      <th>user_id</th>\n",
       "      <th>call_date</th>\n",
       "      <th>duration</th>\n",
       "    </tr>\n",
       "  </thead>\n",
       "  <tbody>\n",
       "    <tr>\n",
       "      <th>56646</th>\n",
       "      <td>1203_37</td>\n",
       "      <td>1203</td>\n",
       "      <td>2018-07-02</td>\n",
       "      <td>3.59</td>\n",
       "    </tr>\n",
       "    <tr>\n",
       "      <th>130859</th>\n",
       "      <td>1470_308</td>\n",
       "      <td>1470</td>\n",
       "      <td>2018-06-10</td>\n",
       "      <td>6.88</td>\n",
       "    </tr>\n",
       "    <tr>\n",
       "      <th>81771</th>\n",
       "      <td>1295_1</td>\n",
       "      <td>1295</td>\n",
       "      <td>2018-12-04</td>\n",
       "      <td>0.00</td>\n",
       "    </tr>\n",
       "    <tr>\n",
       "      <th>12629</th>\n",
       "      <td>1055_36</td>\n",
       "      <td>1055</td>\n",
       "      <td>2018-09-09</td>\n",
       "      <td>1.76</td>\n",
       "    </tr>\n",
       "    <tr>\n",
       "      <th>16904</th>\n",
       "      <td>1066_4</td>\n",
       "      <td>1066</td>\n",
       "      <td>2018-05-25</td>\n",
       "      <td>6.48</td>\n",
       "    </tr>\n",
       "  </tbody>\n",
       "</table>\n",
       "</div>"
      ],
      "text/plain": [
       "              id  user_id   call_date  duration\n",
       "56646    1203_37     1203  2018-07-02      3.59\n",
       "130859  1470_308     1470  2018-06-10      6.88\n",
       "81771     1295_1     1295  2018-12-04      0.00\n",
       "12629    1055_36     1055  2018-09-09      1.76\n",
       "16904     1066_4     1066  2018-05-25      6.48"
      ]
     },
     "execution_count": 21,
     "metadata": {},
     "output_type": "execute_result"
    }
   ],
   "source": [
    "# Imprima uma amostra de dados das chamadas\n",
    "df_calls.sample(5, random_state=3333)"
   ]
  },
  {
   "cell_type": "markdown",
   "metadata": {
    "id": "Y8An85-Tuj8k"
   },
   "source": [
    "[Descreva o que você vê e observa nas informações gerais e na amostra de dados impressa para a parte dos dados acima. Existem problemas (tipos de dados inadequados, dados ausentes, etc.) que precisam de mais investigação e alterações? Como isso pode ser corrigido?]\n",
    "\n",
    "Os valores de 'call_date' precisam ser convertidos para _datetime_ e 'duration' precisa ser arredondada para cima, assim como funciona a cobrança pelos minutos de ligação.\n",
    "\n",
    "Também é bom apagar os erros de registro (ligações com duração zero) e criar uma nova coluna contendo os meses em que as ligações foram feitas e dias da semana."
   ]
  },
  {
   "cell_type": "markdown",
   "metadata": {
    "id": "x5a99U4xuj8k"
   },
   "source": [
    "### Corrija os dados"
   ]
  },
  {
   "cell_type": "markdown",
   "metadata": {
    "id": "MQqkU83Xuj8k"
   },
   "source": [
    "[Corrija problemas óbvios com os dados conforme as observações iniciais.]"
   ]
  },
  {
   "cell_type": "code",
   "execution_count": null,
   "metadata": {
    "id": "lBjdw0Bnuj8l"
   },
   "outputs": [
    {
     "name": "stdout",
     "output_type": "stream",
     "text": [
      "<class 'pandas.core.frame.DataFrame'>\n",
      "RangeIndex: 137735 entries, 0 to 137734\n",
      "Data columns (total 4 columns):\n",
      " #   Column     Non-Null Count   Dtype         \n",
      "---  ------     --------------   -----         \n",
      " 0   id         137735 non-null  object        \n",
      " 1   user_id    137735 non-null  int64         \n",
      " 2   call_date  137735 non-null  datetime64[ns]\n",
      " 3   duration   137735 non-null  float64       \n",
      "dtypes: datetime64[ns](1), float64(1), int64(1), object(1)\n",
      "memory usage: 4.2+ MB\n"
     ]
    }
   ],
   "source": [
    "df_calls[\"call_date\"] = pd.to_datetime(df_calls[\"call_date\"], format=\"%Y-%m-%d\")\n",
    "\n",
    "df_calls.info()"
   ]
  },
  {
   "cell_type": "code",
   "execution_count": null,
   "metadata": {},
   "outputs": [
    {
     "data": {
      "text/html": [
       "<div>\n",
       "<style scoped>\n",
       "    .dataframe tbody tr th:only-of-type {\n",
       "        vertical-align: middle;\n",
       "    }\n",
       "\n",
       "    .dataframe tbody tr th {\n",
       "        vertical-align: top;\n",
       "    }\n",
       "\n",
       "    .dataframe thead th {\n",
       "        text-align: right;\n",
       "    }\n",
       "</style>\n",
       "<table border=\"1\" class=\"dataframe\">\n",
       "  <thead>\n",
       "    <tr style=\"text-align: right;\">\n",
       "      <th></th>\n",
       "      <th>id</th>\n",
       "      <th>user_id</th>\n",
       "      <th>call_date</th>\n",
       "      <th>duration</th>\n",
       "    </tr>\n",
       "  </thead>\n",
       "  <tbody>\n",
       "    <tr>\n",
       "      <th>40568</th>\n",
       "      <td>1181_620</td>\n",
       "      <td>1181</td>\n",
       "      <td>2018-04-27</td>\n",
       "      <td>6</td>\n",
       "    </tr>\n",
       "    <tr>\n",
       "      <th>82223</th>\n",
       "      <td>1362_829</td>\n",
       "      <td>1362</td>\n",
       "      <td>2018-11-11</td>\n",
       "      <td>5</td>\n",
       "    </tr>\n",
       "    <tr>\n",
       "      <th>104547</th>\n",
       "      <td>1467_109</td>\n",
       "      <td>1467</td>\n",
       "      <td>2018-07-08</td>\n",
       "      <td>13</td>\n",
       "    </tr>\n",
       "    <tr>\n",
       "      <th>33565</th>\n",
       "      <td>1153_385</td>\n",
       "      <td>1153</td>\n",
       "      <td>2018-11-22</td>\n",
       "      <td>9</td>\n",
       "    </tr>\n",
       "    <tr>\n",
       "      <th>89149</th>\n",
       "      <td>1390_146</td>\n",
       "      <td>1390</td>\n",
       "      <td>2018-12-06</td>\n",
       "      <td>2</td>\n",
       "    </tr>\n",
       "  </tbody>\n",
       "</table>\n",
       "</div>"
      ],
      "text/plain": [
       "              id  user_id  call_date  duration\n",
       "40568   1181_620     1181 2018-04-27         6\n",
       "82223   1362_829     1362 2018-11-11         5\n",
       "104547  1467_109     1467 2018-07-08        13\n",
       "33565   1153_385     1153 2018-11-22         9\n",
       "89149   1390_146     1390 2018-12-06         2"
      ]
     },
     "execution_count": 23,
     "metadata": {},
     "output_type": "execute_result"
    }
   ],
   "source": [
    "df_calls[\"duration\"] = df_calls[\"duration\"].apply(math.ceil).astype(int)\n",
    "df_calls = df_calls[df_calls[\"duration\"] != 0]\n",
    "df_calls = df_calls.reset_index(drop=True)\n",
    "\n",
    "df_calls.sample(5, random_state=3333)"
   ]
  },
  {
   "cell_type": "markdown",
   "metadata": {
    "id": "MFm5xyh4uj8l"
   },
   "source": [
    "### Enriqueça os dados"
   ]
  },
  {
   "cell_type": "markdown",
   "metadata": {
    "id": "Udv2togruj8l"
   },
   "source": [
    "[Inclua fatores adicionais aos dados se você acredita que eles podem ser úteis.]"
   ]
  },
  {
   "cell_type": "code",
   "execution_count": null,
   "metadata": {
    "id": "nwOKTgfluj8l"
   },
   "outputs": [],
   "source": [
    "df_calls[\"month\"] = df_calls[\"call_date\"].dt.month"
   ]
  },
  {
   "cell_type": "code",
   "execution_count": null,
   "metadata": {},
   "outputs": [
    {
     "data": {
      "text/html": [
       "<div>\n",
       "<style scoped>\n",
       "    .dataframe tbody tr th:only-of-type {\n",
       "        vertical-align: middle;\n",
       "    }\n",
       "\n",
       "    .dataframe tbody tr th {\n",
       "        vertical-align: top;\n",
       "    }\n",
       "\n",
       "    .dataframe thead th {\n",
       "        text-align: right;\n",
       "    }\n",
       "</style>\n",
       "<table border=\"1\" class=\"dataframe\">\n",
       "  <thead>\n",
       "    <tr style=\"text-align: right;\">\n",
       "      <th></th>\n",
       "      <th>id</th>\n",
       "      <th>user_id</th>\n",
       "      <th>call_date</th>\n",
       "      <th>duration</th>\n",
       "      <th>month</th>\n",
       "      <th>weekday</th>\n",
       "    </tr>\n",
       "  </thead>\n",
       "  <tbody>\n",
       "    <tr>\n",
       "      <th>40568</th>\n",
       "      <td>1181_620</td>\n",
       "      <td>1181</td>\n",
       "      <td>2018-04-27</td>\n",
       "      <td>6</td>\n",
       "      <td>4</td>\n",
       "      <td>4</td>\n",
       "    </tr>\n",
       "    <tr>\n",
       "      <th>82223</th>\n",
       "      <td>1362_829</td>\n",
       "      <td>1362</td>\n",
       "      <td>2018-11-11</td>\n",
       "      <td>5</td>\n",
       "      <td>11</td>\n",
       "      <td>6</td>\n",
       "    </tr>\n",
       "    <tr>\n",
       "      <th>104547</th>\n",
       "      <td>1467_109</td>\n",
       "      <td>1467</td>\n",
       "      <td>2018-07-08</td>\n",
       "      <td>13</td>\n",
       "      <td>7</td>\n",
       "      <td>6</td>\n",
       "    </tr>\n",
       "    <tr>\n",
       "      <th>33565</th>\n",
       "      <td>1153_385</td>\n",
       "      <td>1153</td>\n",
       "      <td>2018-11-22</td>\n",
       "      <td>9</td>\n",
       "      <td>11</td>\n",
       "      <td>3</td>\n",
       "    </tr>\n",
       "    <tr>\n",
       "      <th>89149</th>\n",
       "      <td>1390_146</td>\n",
       "      <td>1390</td>\n",
       "      <td>2018-12-06</td>\n",
       "      <td>2</td>\n",
       "      <td>12</td>\n",
       "      <td>3</td>\n",
       "    </tr>\n",
       "  </tbody>\n",
       "</table>\n",
       "</div>"
      ],
      "text/plain": [
       "              id  user_id  call_date  duration  month  weekday\n",
       "40568   1181_620     1181 2018-04-27         6      4        4\n",
       "82223   1362_829     1362 2018-11-11         5     11        6\n",
       "104547  1467_109     1467 2018-07-08        13      7        6\n",
       "33565   1153_385     1153 2018-11-22         9     11        3\n",
       "89149   1390_146     1390 2018-12-06         2     12        3"
      ]
     },
     "execution_count": 25,
     "metadata": {},
     "output_type": "execute_result"
    }
   ],
   "source": [
    "df_calls[\"weekday\"] = df_calls[\"call_date\"].dt.weekday\n",
    "\n",
    "df_calls.sample(5, random_state=3333)"
   ]
  },
  {
   "cell_type": "markdown",
   "metadata": {},
   "source": [
    "<div class=\"alert alert-block alert-success\">\n",
    "<b> Comentário do revisor: </b> <a class=\"tocSkip\"></a>\n",
    "    \n",
    "- Os métodos `info()` e `sample()` foram utilizados para estudo dos dados\n",
    "- Os dados foram enriquecidos\n",
    "- Os campos foram convertidos para os tipos adequados. Os campos de data foram corrigidos.\n",
    "</div>"
   ]
  },
  {
   "cell_type": "markdown",
   "metadata": {
    "id": "qLz4FkyRuj8l"
   },
   "source": [
    "## Mensagens"
   ]
  },
  {
   "cell_type": "code",
   "execution_count": null,
   "metadata": {
    "id": "nFA9DFkCuj8l"
   },
   "outputs": [
    {
     "name": "stdout",
     "output_type": "stream",
     "text": [
      "<class 'pandas.core.frame.DataFrame'>\n",
      "RangeIndex: 76051 entries, 0 to 76050\n",
      "Data columns (total 3 columns):\n",
      " #   Column        Non-Null Count  Dtype \n",
      "---  ------        --------------  ----- \n",
      " 0   id            76051 non-null  object\n",
      " 1   user_id       76051 non-null  int64 \n",
      " 2   message_date  76051 non-null  object\n",
      "dtypes: int64(1), object(2)\n",
      "memory usage: 1.7+ MB\n"
     ]
    }
   ],
   "source": [
    "# Imprima as informações gerais/resumidas sobre o DataFrame das mensagens\n",
    "df_messages.info()"
   ]
  },
  {
   "cell_type": "code",
   "execution_count": null,
   "metadata": {
    "id": "ysEFBZWxuj8m"
   },
   "outputs": [
    {
     "data": {
      "text/html": [
       "<div>\n",
       "<style scoped>\n",
       "    .dataframe tbody tr th:only-of-type {\n",
       "        vertical-align: middle;\n",
       "    }\n",
       "\n",
       "    .dataframe tbody tr th {\n",
       "        vertical-align: top;\n",
       "    }\n",
       "\n",
       "    .dataframe thead th {\n",
       "        text-align: right;\n",
       "    }\n",
       "</style>\n",
       "<table border=\"1\" class=\"dataframe\">\n",
       "  <thead>\n",
       "    <tr style=\"text-align: right;\">\n",
       "      <th></th>\n",
       "      <th>id</th>\n",
       "      <th>user_id</th>\n",
       "      <th>message_date</th>\n",
       "    </tr>\n",
       "  </thead>\n",
       "  <tbody>\n",
       "    <tr>\n",
       "      <th>61621</th>\n",
       "      <td>1385_85</td>\n",
       "      <td>1385</td>\n",
       "      <td>2018-10-25</td>\n",
       "    </tr>\n",
       "    <tr>\n",
       "      <th>22513</th>\n",
       "      <td>1133_731</td>\n",
       "      <td>1133</td>\n",
       "      <td>2018-12-11</td>\n",
       "    </tr>\n",
       "    <tr>\n",
       "      <th>31919</th>\n",
       "      <td>1198_35</td>\n",
       "      <td>1198</td>\n",
       "      <td>2018-11-09</td>\n",
       "    </tr>\n",
       "    <tr>\n",
       "      <th>47029</th>\n",
       "      <td>1320_273</td>\n",
       "      <td>1320</td>\n",
       "      <td>2018-06-11</td>\n",
       "    </tr>\n",
       "    <tr>\n",
       "      <th>37159</th>\n",
       "      <td>1247_323</td>\n",
       "      <td>1247</td>\n",
       "      <td>2018-12-26</td>\n",
       "    </tr>\n",
       "  </tbody>\n",
       "</table>\n",
       "</div>"
      ],
      "text/plain": [
       "             id  user_id message_date\n",
       "61621   1385_85     1385   2018-10-25\n",
       "22513  1133_731     1133   2018-12-11\n",
       "31919   1198_35     1198   2018-11-09\n",
       "47029  1320_273     1320   2018-06-11\n",
       "37159  1247_323     1247   2018-12-26"
      ]
     },
     "execution_count": 27,
     "metadata": {},
     "output_type": "execute_result"
    }
   ],
   "source": [
    "# Imprima uma amostra dos dados das mensagens\n",
    "df_messages.sample(5, random_state=3333)"
   ]
  },
  {
   "cell_type": "markdown",
   "metadata": {
    "id": "GUtt1TqCuj8m"
   },
   "source": [
    "[Descreva o que você vê e observa nas informações gerais e na amostra de dados impressa para a parte dos dados acima. Existem problemas (tipos de dados inadequados, dados ausentes, etc.) que precisam de mais investigação e alterações? Como isso pode ser corrigido?]\n",
    "\n",
    "Os valores em 'message_date' precisam ser alterados para formato _datetime_.\n",
    "\n",
    "Podemos criar colunas com o mês e o dia da semana de cada mensagem enviada."
   ]
  },
  {
   "cell_type": "markdown",
   "metadata": {
    "id": "tT8N_hc6uj8m"
   },
   "source": [
    "### Corrija os dados"
   ]
  },
  {
   "cell_type": "markdown",
   "metadata": {
    "id": "IgO0SzXKuj8m"
   },
   "source": [
    "[Corrija problemas óbvios com os dados conforme as observações iniciais.]"
   ]
  },
  {
   "cell_type": "code",
   "execution_count": null,
   "metadata": {
    "id": "SpBqbQHCuj8m"
   },
   "outputs": [
    {
     "name": "stdout",
     "output_type": "stream",
     "text": [
      "<class 'pandas.core.frame.DataFrame'>\n",
      "RangeIndex: 76051 entries, 0 to 76050\n",
      "Data columns (total 3 columns):\n",
      " #   Column        Non-Null Count  Dtype         \n",
      "---  ------        --------------  -----         \n",
      " 0   id            76051 non-null  object        \n",
      " 1   user_id       76051 non-null  int64         \n",
      " 2   message_date  76051 non-null  datetime64[ns]\n",
      "dtypes: datetime64[ns](1), int64(1), object(1)\n",
      "memory usage: 1.7+ MB\n"
     ]
    }
   ],
   "source": [
    "df_messages[\"message_date\"] = pd.to_datetime(\n",
    "    df_messages[\"message_date\"], format=\"%Y-%m-%d\"\n",
    ")\n",
    "\n",
    "df_messages.info()"
   ]
  },
  {
   "cell_type": "markdown",
   "metadata": {
    "id": "feV2Njo9uj8n"
   },
   "source": [
    "### Enriqueça os dados"
   ]
  },
  {
   "cell_type": "markdown",
   "metadata": {
    "id": "KA5XDEoZuj8n"
   },
   "source": [
    "[Inclua fatores adicionais aos dados se você acredita que eles podem ser úteis.]"
   ]
  },
  {
   "cell_type": "code",
   "execution_count": null,
   "metadata": {
    "id": "SkuCXcLJuj8n"
   },
   "outputs": [],
   "source": [
    "# Criando coluna para os meses em que cada mensagem foi enviada\n",
    "df_messages[\"month\"] = df_messages[\"message_date\"].dt.month"
   ]
  },
  {
   "cell_type": "code",
   "execution_count": null,
   "metadata": {},
   "outputs": [
    {
     "data": {
      "text/html": [
       "<div>\n",
       "<style scoped>\n",
       "    .dataframe tbody tr th:only-of-type {\n",
       "        vertical-align: middle;\n",
       "    }\n",
       "\n",
       "    .dataframe tbody tr th {\n",
       "        vertical-align: top;\n",
       "    }\n",
       "\n",
       "    .dataframe thead th {\n",
       "        text-align: right;\n",
       "    }\n",
       "</style>\n",
       "<table border=\"1\" class=\"dataframe\">\n",
       "  <thead>\n",
       "    <tr style=\"text-align: right;\">\n",
       "      <th></th>\n",
       "      <th>id</th>\n",
       "      <th>user_id</th>\n",
       "      <th>message_date</th>\n",
       "      <th>month</th>\n",
       "      <th>weekday</th>\n",
       "    </tr>\n",
       "  </thead>\n",
       "  <tbody>\n",
       "    <tr>\n",
       "      <th>61621</th>\n",
       "      <td>1385_85</td>\n",
       "      <td>1385</td>\n",
       "      <td>2018-10-25</td>\n",
       "      <td>10</td>\n",
       "      <td>3</td>\n",
       "    </tr>\n",
       "    <tr>\n",
       "      <th>22513</th>\n",
       "      <td>1133_731</td>\n",
       "      <td>1133</td>\n",
       "      <td>2018-12-11</td>\n",
       "      <td>12</td>\n",
       "      <td>1</td>\n",
       "    </tr>\n",
       "    <tr>\n",
       "      <th>31919</th>\n",
       "      <td>1198_35</td>\n",
       "      <td>1198</td>\n",
       "      <td>2018-11-09</td>\n",
       "      <td>11</td>\n",
       "      <td>4</td>\n",
       "    </tr>\n",
       "    <tr>\n",
       "      <th>47029</th>\n",
       "      <td>1320_273</td>\n",
       "      <td>1320</td>\n",
       "      <td>2018-06-11</td>\n",
       "      <td>6</td>\n",
       "      <td>0</td>\n",
       "    </tr>\n",
       "    <tr>\n",
       "      <th>37159</th>\n",
       "      <td>1247_323</td>\n",
       "      <td>1247</td>\n",
       "      <td>2018-12-26</td>\n",
       "      <td>12</td>\n",
       "      <td>2</td>\n",
       "    </tr>\n",
       "  </tbody>\n",
       "</table>\n",
       "</div>"
      ],
      "text/plain": [
       "             id  user_id message_date  month  weekday\n",
       "61621   1385_85     1385   2018-10-25     10        3\n",
       "22513  1133_731     1133   2018-12-11     12        1\n",
       "31919   1198_35     1198   2018-11-09     11        4\n",
       "47029  1320_273     1320   2018-06-11      6        0\n",
       "37159  1247_323     1247   2018-12-26     12        2"
      ]
     },
     "execution_count": 30,
     "metadata": {},
     "output_type": "execute_result"
    }
   ],
   "source": [
    "# Criando coluna para os dias da semana em que cada mensagem foi enviada\n",
    "df_messages[\"weekday\"] = df_messages[\"message_date\"].dt.weekday\n",
    "\n",
    "df_messages.sample(5, random_state=3333)"
   ]
  },
  {
   "cell_type": "markdown",
   "metadata": {},
   "source": [
    "<div class=\"alert alert-block alert-success\">\n",
    "<b> Comentário do revisor: </b> <a class=\"tocSkip\"></a>\n",
    "    \n",
    "- Os métodos `info()` e `sample()` foram utilizados para estudo dos dados\n",
    "- Os dados foram enriquecidos\n",
    "- Os campos foram convertidos para os tipos adequados. Os campos de data foram corrigidos.\n",
    "</div>"
   ]
  },
  {
   "cell_type": "markdown",
   "metadata": {
    "id": "ZRFaOWzGuj8n"
   },
   "source": [
    "## Internet"
   ]
  },
  {
   "cell_type": "code",
   "execution_count": null,
   "metadata": {
    "id": "ob3-qv4nuj8n"
   },
   "outputs": [
    {
     "name": "stdout",
     "output_type": "stream",
     "text": [
      "<class 'pandas.core.frame.DataFrame'>\n",
      "RangeIndex: 104825 entries, 0 to 104824\n",
      "Data columns (total 4 columns):\n",
      " #   Column        Non-Null Count   Dtype  \n",
      "---  ------        --------------   -----  \n",
      " 0   id            104825 non-null  object \n",
      " 1   user_id       104825 non-null  int64  \n",
      " 2   session_date  104825 non-null  object \n",
      " 3   mb_used       104825 non-null  float64\n",
      "dtypes: float64(1), int64(1), object(2)\n",
      "memory usage: 3.2+ MB\n"
     ]
    }
   ],
   "source": [
    "# Imprima as informações gerais/resumidas sobre o DataFrame da internet\n",
    "df_internet.info()"
   ]
  },
  {
   "cell_type": "code",
   "execution_count": null,
   "metadata": {
    "id": "iIHK4fZsuj8n"
   },
   "outputs": [
    {
     "data": {
      "text/html": [
       "<div>\n",
       "<style scoped>\n",
       "    .dataframe tbody tr th:only-of-type {\n",
       "        vertical-align: middle;\n",
       "    }\n",
       "\n",
       "    .dataframe tbody tr th {\n",
       "        vertical-align: top;\n",
       "    }\n",
       "\n",
       "    .dataframe thead th {\n",
       "        text-align: right;\n",
       "    }\n",
       "</style>\n",
       "<table border=\"1\" class=\"dataframe\">\n",
       "  <thead>\n",
       "    <tr style=\"text-align: right;\">\n",
       "      <th></th>\n",
       "      <th>id</th>\n",
       "      <th>user_id</th>\n",
       "      <th>session_date</th>\n",
       "      <th>mb_used</th>\n",
       "    </tr>\n",
       "  </thead>\n",
       "  <tbody>\n",
       "    <tr>\n",
       "      <th>78167</th>\n",
       "      <td>1364_341</td>\n",
       "      <td>1364</td>\n",
       "      <td>2018-11-23</td>\n",
       "      <td>521.52</td>\n",
       "    </tr>\n",
       "    <tr>\n",
       "      <th>8827</th>\n",
       "      <td>1046_112</td>\n",
       "      <td>1046</td>\n",
       "      <td>2018-12-06</td>\n",
       "      <td>0.00</td>\n",
       "    </tr>\n",
       "    <tr>\n",
       "      <th>75819</th>\n",
       "      <td>1357_107</td>\n",
       "      <td>1357</td>\n",
       "      <td>2018-08-03</td>\n",
       "      <td>71.11</td>\n",
       "    </tr>\n",
       "    <tr>\n",
       "      <th>29260</th>\n",
       "      <td>1133_380</td>\n",
       "      <td>1133</td>\n",
       "      <td>2018-10-29</td>\n",
       "      <td>289.94</td>\n",
       "    </tr>\n",
       "    <tr>\n",
       "      <th>6773</th>\n",
       "      <td>1039_48</td>\n",
       "      <td>1039</td>\n",
       "      <td>2018-09-13</td>\n",
       "      <td>49.61</td>\n",
       "    </tr>\n",
       "  </tbody>\n",
       "</table>\n",
       "</div>"
      ],
      "text/plain": [
       "             id  user_id session_date  mb_used\n",
       "78167  1364_341     1364   2018-11-23   521.52\n",
       "8827   1046_112     1046   2018-12-06     0.00\n",
       "75819  1357_107     1357   2018-08-03    71.11\n",
       "29260  1133_380     1133   2018-10-29   289.94\n",
       "6773    1039_48     1039   2018-09-13    49.61"
      ]
     },
     "execution_count": 32,
     "metadata": {},
     "output_type": "execute_result"
    }
   ],
   "source": [
    "#  Imprima uma amostra de dados para o tráfego da internet\n",
    "df_internet.sample(5, random_state=3333)"
   ]
  },
  {
   "cell_type": "markdown",
   "metadata": {
    "id": "6wpo7ugquj8o"
   },
   "source": [
    "[Descreva o que você vê e observa nas informações gerais e na amostra de dados impressa para a parte dos dados acima. Existem problemas (tipos de dados inadequados, dados ausentes, etc.) que precisam de mais investigação e alterações? Como isso pode ser corrigido?]\n",
    "\n",
    "Os dados da coluna 'session_date' precisam ser convertidos para _datetime_ e precisamos criar uma nova coluna com os dados utilizados em 'gb', outra para o mês de cada acesso e outra para o dia da semana de cada acesso.\n",
    "\n",
    "Também podemos apagar os registros errados com mb nulos."
   ]
  },
  {
   "cell_type": "markdown",
   "metadata": {
    "id": "Tly90YrTuj8o"
   },
   "source": [
    "### Corrija os dados"
   ]
  },
  {
   "cell_type": "markdown",
   "metadata": {
    "id": "F_yvcX-9uj8o"
   },
   "source": [
    "[Corrija problemas óbvios com os dados conforme as observações iniciais.]"
   ]
  },
  {
   "cell_type": "code",
   "execution_count": null,
   "metadata": {
    "id": "GCoX7kbmuj8o"
   },
   "outputs": [
    {
     "name": "stdout",
     "output_type": "stream",
     "text": [
      "<class 'pandas.core.frame.DataFrame'>\n",
      "RangeIndex: 104825 entries, 0 to 104824\n",
      "Data columns (total 4 columns):\n",
      " #   Column        Non-Null Count   Dtype         \n",
      "---  ------        --------------   -----         \n",
      " 0   id            104825 non-null  object        \n",
      " 1   user_id       104825 non-null  int64         \n",
      " 2   session_date  104825 non-null  datetime64[ns]\n",
      " 3   mb_used       104825 non-null  float64       \n",
      "dtypes: datetime64[ns](1), float64(1), int64(1), object(1)\n",
      "memory usage: 3.2+ MB\n"
     ]
    }
   ],
   "source": [
    "df_internet[\"session_date\"] = pd.to_datetime(\n",
    "    df_internet[\"session_date\"], format=\"%Y-%m-%d\"\n",
    ")\n",
    "\n",
    "df_internet.info()"
   ]
  },
  {
   "cell_type": "markdown",
   "metadata": {
    "id": "DEDbrtFduj8o"
   },
   "source": [
    "### Enriqueça os dados"
   ]
  },
  {
   "cell_type": "markdown",
   "metadata": {
    "id": "ilg-XzXpuj8p"
   },
   "source": [
    "[Inclua fatores adicionais aos dados se você acredita que eles podem ser úteis.]"
   ]
  },
  {
   "cell_type": "code",
   "execution_count": null,
   "metadata": {},
   "outputs": [],
   "source": [
    "# Nova coluna: gb_used\n",
    "df_internet[\"gb_used\"] = df_internet[\"mb_used\"] / 1024"
   ]
  },
  {
   "cell_type": "code",
   "execution_count": null,
   "metadata": {},
   "outputs": [],
   "source": [
    "# Nova coluna: month\n",
    "df_internet[\"month\"] = df_internet[\"session_date\"].dt.month"
   ]
  },
  {
   "cell_type": "code",
   "execution_count": null,
   "metadata": {
    "id": "f1PoZ3Ukuj8p"
   },
   "outputs": [
    {
     "data": {
      "text/html": [
       "<div>\n",
       "<style scoped>\n",
       "    .dataframe tbody tr th:only-of-type {\n",
       "        vertical-align: middle;\n",
       "    }\n",
       "\n",
       "    .dataframe tbody tr th {\n",
       "        vertical-align: top;\n",
       "    }\n",
       "\n",
       "    .dataframe thead th {\n",
       "        text-align: right;\n",
       "    }\n",
       "</style>\n",
       "<table border=\"1\" class=\"dataframe\">\n",
       "  <thead>\n",
       "    <tr style=\"text-align: right;\">\n",
       "      <th></th>\n",
       "      <th>id</th>\n",
       "      <th>user_id</th>\n",
       "      <th>session_date</th>\n",
       "      <th>mb_used</th>\n",
       "      <th>gb_used</th>\n",
       "      <th>month</th>\n",
       "      <th>weekday</th>\n",
       "    </tr>\n",
       "  </thead>\n",
       "  <tbody>\n",
       "    <tr>\n",
       "      <th>78167</th>\n",
       "      <td>1364_341</td>\n",
       "      <td>1364</td>\n",
       "      <td>2018-11-23</td>\n",
       "      <td>521.52</td>\n",
       "      <td>1</td>\n",
       "      <td>11</td>\n",
       "      <td>4</td>\n",
       "    </tr>\n",
       "    <tr>\n",
       "      <th>8827</th>\n",
       "      <td>1046_112</td>\n",
       "      <td>1046</td>\n",
       "      <td>2018-12-06</td>\n",
       "      <td>0.00</td>\n",
       "      <td>0</td>\n",
       "      <td>12</td>\n",
       "      <td>3</td>\n",
       "    </tr>\n",
       "    <tr>\n",
       "      <th>75819</th>\n",
       "      <td>1357_107</td>\n",
       "      <td>1357</td>\n",
       "      <td>2018-08-03</td>\n",
       "      <td>71.11</td>\n",
       "      <td>1</td>\n",
       "      <td>8</td>\n",
       "      <td>4</td>\n",
       "    </tr>\n",
       "    <tr>\n",
       "      <th>29260</th>\n",
       "      <td>1133_380</td>\n",
       "      <td>1133</td>\n",
       "      <td>2018-10-29</td>\n",
       "      <td>289.94</td>\n",
       "      <td>1</td>\n",
       "      <td>10</td>\n",
       "      <td>0</td>\n",
       "    </tr>\n",
       "    <tr>\n",
       "      <th>6773</th>\n",
       "      <td>1039_48</td>\n",
       "      <td>1039</td>\n",
       "      <td>2018-09-13</td>\n",
       "      <td>49.61</td>\n",
       "      <td>1</td>\n",
       "      <td>9</td>\n",
       "      <td>3</td>\n",
       "    </tr>\n",
       "  </tbody>\n",
       "</table>\n",
       "</div>"
      ],
      "text/plain": [
       "             id  user_id session_date  mb_used  gb_used  month  weekday\n",
       "78167  1364_341     1364   2018-11-23   521.52        1     11        4\n",
       "8827   1046_112     1046   2018-12-06     0.00        0     12        3\n",
       "75819  1357_107     1357   2018-08-03    71.11        1      8        4\n",
       "29260  1133_380     1133   2018-10-29   289.94        1     10        0\n",
       "6773    1039_48     1039   2018-09-13    49.61        1      9        3"
      ]
     },
     "execution_count": 142,
     "metadata": {},
     "output_type": "execute_result"
    }
   ],
   "source": [
    "# Nova coluna: weekday\n",
    "df_internet[\"weekday\"] = df_internet[\"session_date\"].dt.weekday\n",
    "\n",
    "df_internet.sample(5, random_state=3333)"
   ]
  },
  {
   "cell_type": "markdown",
   "metadata": {},
   "source": [
    "<div class=\"alert alert-block alert-success\">\n",
    "<b> Comentário do revisor: </b> <a class=\"tocSkip\"></a>\n",
    "    \n",
    "- Os métodos `info()` e `sample()` foram utilizados para estudo dos dados\n",
    "- Os dados foram enriquecidos\n",
    "- Os campos foram convertidos para os tipos adequados. Os campos de data foram corrigidos.\n",
    "</div>"
   ]
  },
  {
   "cell_type": "markdown",
   "metadata": {
    "id": "bnOX4ARJuj8p"
   },
   "source": [
    "## Estude as condições dos planos"
   ]
  },
  {
   "cell_type": "markdown",
   "metadata": {
    "id": "vMu9_L8quj8p"
   },
   "source": [
    "[É fundamental entender como os planos funcionam e como são as cobranças dos usuários com base na assinatura. Sugerimos imprimir as informações do plano para visualizar novamente as condições.]"
   ]
  },
  {
   "cell_type": "code",
   "execution_count": null,
   "metadata": {
    "id": "vMXVndWEuj8p"
   },
   "outputs": [
    {
     "data": {
      "text/html": [
       "<div>\n",
       "<style scoped>\n",
       "    .dataframe tbody tr th:only-of-type {\n",
       "        vertical-align: middle;\n",
       "    }\n",
       "\n",
       "    .dataframe tbody tr th {\n",
       "        vertical-align: top;\n",
       "    }\n",
       "\n",
       "    .dataframe thead th {\n",
       "        text-align: right;\n",
       "    }\n",
       "</style>\n",
       "<table border=\"1\" class=\"dataframe\">\n",
       "  <thead>\n",
       "    <tr style=\"text-align: right;\">\n",
       "      <th></th>\n",
       "      <th>messages_included</th>\n",
       "      <th>mb_per_month_included</th>\n",
       "      <th>minutes_included</th>\n",
       "      <th>usd_monthly_pay</th>\n",
       "      <th>usd_per_gb</th>\n",
       "      <th>usd_per_message</th>\n",
       "      <th>usd_per_minute</th>\n",
       "      <th>plan_name</th>\n",
       "      <th>gb_per_month_included</th>\n",
       "    </tr>\n",
       "  </thead>\n",
       "  <tbody>\n",
       "    <tr>\n",
       "      <th>0</th>\n",
       "      <td>50</td>\n",
       "      <td>15360</td>\n",
       "      <td>500</td>\n",
       "      <td>20</td>\n",
       "      <td>10</td>\n",
       "      <td>0.03</td>\n",
       "      <td>0.03</td>\n",
       "      <td>surf</td>\n",
       "      <td>15</td>\n",
       "    </tr>\n",
       "    <tr>\n",
       "      <th>1</th>\n",
       "      <td>1000</td>\n",
       "      <td>30720</td>\n",
       "      <td>3000</td>\n",
       "      <td>70</td>\n",
       "      <td>7</td>\n",
       "      <td>0.01</td>\n",
       "      <td>0.01</td>\n",
       "      <td>ultimate</td>\n",
       "      <td>30</td>\n",
       "    </tr>\n",
       "  </tbody>\n",
       "</table>\n",
       "</div>"
      ],
      "text/plain": [
       "   messages_included  mb_per_month_included  minutes_included  \\\n",
       "0                 50                  15360               500   \n",
       "1               1000                  30720              3000   \n",
       "\n",
       "   usd_monthly_pay  usd_per_gb  usd_per_message  usd_per_minute plan_name  \\\n",
       "0               20          10             0.03            0.03      surf   \n",
       "1               70           7             0.01            0.01  ultimate   \n",
       "\n",
       "   gb_per_month_included  \n",
       "0                     15  \n",
       "1                     30  "
      ]
     },
     "execution_count": 37,
     "metadata": {},
     "output_type": "execute_result"
    }
   ],
   "source": [
    "# Imprima as condições do plano e certifique-se de que elas fazem sentido para você\n",
    "df_plans"
   ]
  },
  {
   "cell_type": "markdown",
   "metadata": {
    "id": "1v1EshDmuj8q"
   },
   "source": [
    "## Agregue os dados por usuário\n",
    "\n",
    "[Agora, como os dados estão limpos, agregue os dados por usuário por período para ter apenas um registro por usuário por período. Isso vai facilitar muito a análise posterior.]"
   ]
  },
  {
   "cell_type": "code",
   "execution_count": null,
   "metadata": {
    "id": "4hmb2pSPuj8q"
   },
   "outputs": [
    {
     "data": {
      "text/html": [
       "<div>\n",
       "<style scoped>\n",
       "    .dataframe tbody tr th:only-of-type {\n",
       "        vertical-align: middle;\n",
       "    }\n",
       "\n",
       "    .dataframe tbody tr th {\n",
       "        vertical-align: top;\n",
       "    }\n",
       "\n",
       "    .dataframe thead th {\n",
       "        text-align: right;\n",
       "    }\n",
       "</style>\n",
       "<table border=\"1\" class=\"dataframe\">\n",
       "  <thead>\n",
       "    <tr style=\"text-align: right;\">\n",
       "      <th></th>\n",
       "      <th>user_id</th>\n",
       "      <th>month</th>\n",
       "      <th>calls</th>\n",
       "    </tr>\n",
       "  </thead>\n",
       "  <tbody>\n",
       "    <tr>\n",
       "      <th>0</th>\n",
       "      <td>1000</td>\n",
       "      <td>12</td>\n",
       "      <td>16</td>\n",
       "    </tr>\n",
       "    <tr>\n",
       "      <th>1</th>\n",
       "      <td>1001</td>\n",
       "      <td>8</td>\n",
       "      <td>22</td>\n",
       "    </tr>\n",
       "    <tr>\n",
       "      <th>2</th>\n",
       "      <td>1001</td>\n",
       "      <td>9</td>\n",
       "      <td>38</td>\n",
       "    </tr>\n",
       "    <tr>\n",
       "      <th>3</th>\n",
       "      <td>1001</td>\n",
       "      <td>10</td>\n",
       "      <td>47</td>\n",
       "    </tr>\n",
       "    <tr>\n",
       "      <th>4</th>\n",
       "      <td>1001</td>\n",
       "      <td>11</td>\n",
       "      <td>49</td>\n",
       "    </tr>\n",
       "  </tbody>\n",
       "</table>\n",
       "</div>"
      ],
      "text/plain": [
       "   user_id  month  calls\n",
       "0     1000     12     16\n",
       "1     1001      8     22\n",
       "2     1001      9     38\n",
       "3     1001     10     47\n",
       "4     1001     11     49"
      ]
     },
     "execution_count": 137,
     "metadata": {},
     "output_type": "execute_result"
    }
   ],
   "source": [
    "# Calcule o número de chamadas feitas por cada usuário por mês. Salve o resultado.\n",
    "calls_by_user = df_calls.groupby([\"user_id\", \"month\"])[\"id\"].count().reset_index()\n",
    "calls_by_user = calls_by_user.rename(columns={\"id\": \"calls\"})\n",
    "\n",
    "calls_by_user.head()"
   ]
  },
  {
   "cell_type": "code",
   "execution_count": null,
   "metadata": {
    "id": "yHgBWCJJuj8q"
   },
   "outputs": [
    {
     "data": {
      "text/html": [
       "<div>\n",
       "<style scoped>\n",
       "    .dataframe tbody tr th:only-of-type {\n",
       "        vertical-align: middle;\n",
       "    }\n",
       "\n",
       "    .dataframe tbody tr th {\n",
       "        vertical-align: top;\n",
       "    }\n",
       "\n",
       "    .dataframe thead th {\n",
       "        text-align: right;\n",
       "    }\n",
       "</style>\n",
       "<table border=\"1\" class=\"dataframe\">\n",
       "  <thead>\n",
       "    <tr style=\"text-align: right;\">\n",
       "      <th></th>\n",
       "      <th>user_id</th>\n",
       "      <th>month</th>\n",
       "      <th>duration</th>\n",
       "    </tr>\n",
       "  </thead>\n",
       "  <tbody>\n",
       "    <tr>\n",
       "      <th>0</th>\n",
       "      <td>1000</td>\n",
       "      <td>12</td>\n",
       "      <td>124</td>\n",
       "    </tr>\n",
       "    <tr>\n",
       "      <th>1</th>\n",
       "      <td>1001</td>\n",
       "      <td>8</td>\n",
       "      <td>182</td>\n",
       "    </tr>\n",
       "    <tr>\n",
       "      <th>2</th>\n",
       "      <td>1001</td>\n",
       "      <td>9</td>\n",
       "      <td>315</td>\n",
       "    </tr>\n",
       "    <tr>\n",
       "      <th>3</th>\n",
       "      <td>1001</td>\n",
       "      <td>10</td>\n",
       "      <td>393</td>\n",
       "    </tr>\n",
       "    <tr>\n",
       "      <th>4</th>\n",
       "      <td>1001</td>\n",
       "      <td>11</td>\n",
       "      <td>426</td>\n",
       "    </tr>\n",
       "  </tbody>\n",
       "</table>\n",
       "</div>"
      ],
      "text/plain": [
       "   user_id  month  duration\n",
       "0     1000     12       124\n",
       "1     1001      8       182\n",
       "2     1001      9       315\n",
       "3     1001     10       393\n",
       "4     1001     11       426"
      ]
     },
     "execution_count": 116,
     "metadata": {},
     "output_type": "execute_result"
    }
   ],
   "source": [
    "# Calcule a quantidade de minutos gastos por cada usuário por mês. Salve o resultado.\n",
    "minutes_by_user = df_calls.groupby([\"user_id\", \"month\"])[\"duration\"].sum().reset_index()\n",
    "\n",
    "minutes_by_user.head()"
   ]
  },
  {
   "cell_type": "code",
   "execution_count": null,
   "metadata": {
    "id": "MaM_cPxauj8q"
   },
   "outputs": [
    {
     "data": {
      "text/html": [
       "<div>\n",
       "<style scoped>\n",
       "    .dataframe tbody tr th:only-of-type {\n",
       "        vertical-align: middle;\n",
       "    }\n",
       "\n",
       "    .dataframe tbody tr th {\n",
       "        vertical-align: top;\n",
       "    }\n",
       "\n",
       "    .dataframe thead th {\n",
       "        text-align: right;\n",
       "    }\n",
       "</style>\n",
       "<table border=\"1\" class=\"dataframe\">\n",
       "  <thead>\n",
       "    <tr style=\"text-align: right;\">\n",
       "      <th></th>\n",
       "      <th>user_id</th>\n",
       "      <th>month</th>\n",
       "      <th>messages</th>\n",
       "    </tr>\n",
       "  </thead>\n",
       "  <tbody>\n",
       "    <tr>\n",
       "      <th>0</th>\n",
       "      <td>1000</td>\n",
       "      <td>12</td>\n",
       "      <td>11</td>\n",
       "    </tr>\n",
       "    <tr>\n",
       "      <th>1</th>\n",
       "      <td>1001</td>\n",
       "      <td>8</td>\n",
       "      <td>30</td>\n",
       "    </tr>\n",
       "    <tr>\n",
       "      <th>2</th>\n",
       "      <td>1001</td>\n",
       "      <td>9</td>\n",
       "      <td>44</td>\n",
       "    </tr>\n",
       "    <tr>\n",
       "      <th>3</th>\n",
       "      <td>1001</td>\n",
       "      <td>10</td>\n",
       "      <td>53</td>\n",
       "    </tr>\n",
       "    <tr>\n",
       "      <th>4</th>\n",
       "      <td>1001</td>\n",
       "      <td>11</td>\n",
       "      <td>36</td>\n",
       "    </tr>\n",
       "  </tbody>\n",
       "</table>\n",
       "</div>"
      ],
      "text/plain": [
       "   user_id  month  messages\n",
       "0     1000     12        11\n",
       "1     1001      8        30\n",
       "2     1001      9        44\n",
       "3     1001     10        53\n",
       "4     1001     11        36"
      ]
     },
     "execution_count": 138,
     "metadata": {},
     "output_type": "execute_result"
    }
   ],
   "source": [
    "# Calcule o número de mensagens enviadas por cada usuário por mês. Salve o resultado.\n",
    "messages_by_user = df_messages.groupby([\"user_id\", \"month\"])[\"id\"].count().reset_index()\n",
    "messages_by_user = messages_by_user.rename(columns={\"id\": \"messages\"})\n",
    "\n",
    "messages_by_user.head()"
   ]
  },
  {
   "cell_type": "code",
   "execution_count": null,
   "metadata": {
    "id": "WsCEZJ_xuj8q"
   },
   "outputs": [
    {
     "data": {
      "text/html": [
       "<div>\n",
       "<style scoped>\n",
       "    .dataframe tbody tr th:only-of-type {\n",
       "        vertical-align: middle;\n",
       "    }\n",
       "\n",
       "    .dataframe tbody tr th {\n",
       "        vertical-align: top;\n",
       "    }\n",
       "\n",
       "    .dataframe thead th {\n",
       "        text-align: right;\n",
       "    }\n",
       "</style>\n",
       "<table border=\"1\" class=\"dataframe\">\n",
       "  <thead>\n",
       "    <tr style=\"text-align: right;\">\n",
       "      <th></th>\n",
       "      <th>user_id</th>\n",
       "      <th>month</th>\n",
       "      <th>gb_used</th>\n",
       "    </tr>\n",
       "  </thead>\n",
       "  <tbody>\n",
       "    <tr>\n",
       "      <th>0</th>\n",
       "      <td>1000</td>\n",
       "      <td>12</td>\n",
       "      <td>1.856904</td>\n",
       "    </tr>\n",
       "    <tr>\n",
       "      <th>1</th>\n",
       "      <td>1001</td>\n",
       "      <td>8</td>\n",
       "      <td>6.756982</td>\n",
       "    </tr>\n",
       "    <tr>\n",
       "      <th>2</th>\n",
       "      <td>1001</td>\n",
       "      <td>9</td>\n",
       "      <td>13.002754</td>\n",
       "    </tr>\n",
       "    <tr>\n",
       "      <th>3</th>\n",
       "      <td>1001</td>\n",
       "      <td>10</td>\n",
       "      <td>21.807119</td>\n",
       "    </tr>\n",
       "    <tr>\n",
       "      <th>4</th>\n",
       "      <td>1001</td>\n",
       "      <td>11</td>\n",
       "      <td>18.070605</td>\n",
       "    </tr>\n",
       "  </tbody>\n",
       "</table>\n",
       "</div>"
      ],
      "text/plain": [
       "   user_id  month    gb_used\n",
       "0     1000     12   1.856904\n",
       "1     1001      8   6.756982\n",
       "2     1001      9  13.002754\n",
       "3     1001     10  21.807119\n",
       "4     1001     11  18.070605"
      ]
     },
     "execution_count": 145,
     "metadata": {},
     "output_type": "execute_result"
    }
   ],
   "source": [
    "# Calcule o volume de tráfego de internet usado por cada usuário por mês. Salve o resultado.\n",
    "gb_by_user = df_internet.groupby([\"user_id\", \"month\"])[\"gb_used\"].sum().reset_index()\n",
    "\n",
    "gb_by_user.head()"
   ]
  },
  {
   "cell_type": "markdown",
   "metadata": {
    "id": "6nBsD4hduj8q"
   },
   "source": [
    "[Coloque os dados agregados em um DataFrame para que um registro nele represente o que um usuário unívoco consumiu em um determinado mês.]"
   ]
  },
  {
   "cell_type": "code",
   "execution_count": null,
   "metadata": {
    "id": "BYDTkxOauj8r"
   },
   "outputs": [],
   "source": [
    "# Junte os dados de chamadas, minutos, mensagens e internet com base em user_id e month\n",
    "info_per_user = pd.merge(\n",
    "    calls_by_user, minutes_by_user, on=[\"user_id\", \"month\"], how=\"outer\"\n",
    ")"
   ]
  },
  {
   "cell_type": "code",
   "execution_count": null,
   "metadata": {},
   "outputs": [],
   "source": [
    "info_per_user = pd.merge(\n",
    "    info_per_user, messages_by_user, on=[\"user_id\", \"month\"], how=\"outer\"\n",
    ")"
   ]
  },
  {
   "cell_type": "code",
   "execution_count": null,
   "metadata": {},
   "outputs": [],
   "source": [
    "info_per_user = pd.merge(\n",
    "    info_per_user, gb_by_user, on=[\"user_id\", \"month\"], how=\"outer\"\n",
    ")"
   ]
  },
  {
   "cell_type": "code",
   "execution_count": null,
   "metadata": {
    "id": "SW-sgLaHuj8r"
   },
   "outputs": [],
   "source": [
    "# Adicione as informações sobre o plano\n",
    "user_plans = df_users[[\"user_id\", \"plan\", \"city\"]]"
   ]
  },
  {
   "cell_type": "code",
   "execution_count": null,
   "metadata": {},
   "outputs": [],
   "source": [
    "user_plans = pd.merge(\n",
    "    user_plans, df_plans, left_on=[\"plan\"], right_on=[\"plan_name\"], how=\"outer\"\n",
    ")"
   ]
  },
  {
   "cell_type": "code",
   "execution_count": null,
   "metadata": {},
   "outputs": [],
   "source": [
    "info_per_user = pd.merge(info_per_user, user_plans, on=[\"user_id\"], how=\"left\")"
   ]
  },
  {
   "cell_type": "code",
   "execution_count": null,
   "metadata": {},
   "outputs": [
    {
     "data": {
      "text/html": [
       "<div>\n",
       "<style scoped>\n",
       "    .dataframe tbody tr th:only-of-type {\n",
       "        vertical-align: middle;\n",
       "    }\n",
       "\n",
       "    .dataframe tbody tr th {\n",
       "        vertical-align: top;\n",
       "    }\n",
       "\n",
       "    .dataframe thead th {\n",
       "        text-align: right;\n",
       "    }\n",
       "</style>\n",
       "<table border=\"1\" class=\"dataframe\">\n",
       "  <thead>\n",
       "    <tr style=\"text-align: right;\">\n",
       "      <th></th>\n",
       "      <th>user_id</th>\n",
       "      <th>plan</th>\n",
       "      <th>city</th>\n",
       "      <th>messages_included</th>\n",
       "      <th>mb_per_month_included</th>\n",
       "      <th>minutes_included</th>\n",
       "      <th>usd_monthly_pay</th>\n",
       "      <th>usd_per_gb</th>\n",
       "      <th>usd_per_message</th>\n",
       "      <th>usd_per_minute</th>\n",
       "      <th>plan_name</th>\n",
       "      <th>gb_per_month_included</th>\n",
       "    </tr>\n",
       "  </thead>\n",
       "  <tbody>\n",
       "    <tr>\n",
       "      <th>0</th>\n",
       "      <td>1000</td>\n",
       "      <td>ultimate</td>\n",
       "      <td>Atlanta-Sandy_Springs-Roswell,_GA_MSA</td>\n",
       "      <td>1000</td>\n",
       "      <td>30720</td>\n",
       "      <td>3000</td>\n",
       "      <td>70</td>\n",
       "      <td>7</td>\n",
       "      <td>0.01</td>\n",
       "      <td>0.01</td>\n",
       "      <td>ultimate</td>\n",
       "      <td>30</td>\n",
       "    </tr>\n",
       "    <tr>\n",
       "      <th>1</th>\n",
       "      <td>1006</td>\n",
       "      <td>ultimate</td>\n",
       "      <td>San_Francisco-Oakland-Berkeley,_CA_MSA</td>\n",
       "      <td>1000</td>\n",
       "      <td>30720</td>\n",
       "      <td>3000</td>\n",
       "      <td>70</td>\n",
       "      <td>7</td>\n",
       "      <td>0.01</td>\n",
       "      <td>0.01</td>\n",
       "      <td>ultimate</td>\n",
       "      <td>30</td>\n",
       "    </tr>\n",
       "    <tr>\n",
       "      <th>2</th>\n",
       "      <td>1008</td>\n",
       "      <td>ultimate</td>\n",
       "      <td>Orlando-Kissimmee-Sanford,_FL_MSA</td>\n",
       "      <td>1000</td>\n",
       "      <td>30720</td>\n",
       "      <td>3000</td>\n",
       "      <td>70</td>\n",
       "      <td>7</td>\n",
       "      <td>0.01</td>\n",
       "      <td>0.01</td>\n",
       "      <td>ultimate</td>\n",
       "      <td>30</td>\n",
       "    </tr>\n",
       "    <tr>\n",
       "      <th>3</th>\n",
       "      <td>1011</td>\n",
       "      <td>ultimate</td>\n",
       "      <td>Cleveland-Elyria,_OH_MSA</td>\n",
       "      <td>1000</td>\n",
       "      <td>30720</td>\n",
       "      <td>3000</td>\n",
       "      <td>70</td>\n",
       "      <td>7</td>\n",
       "      <td>0.01</td>\n",
       "      <td>0.01</td>\n",
       "      <td>ultimate</td>\n",
       "      <td>30</td>\n",
       "    </tr>\n",
       "    <tr>\n",
       "      <th>4</th>\n",
       "      <td>1013</td>\n",
       "      <td>ultimate</td>\n",
       "      <td>Knoxville,_TN_MSA</td>\n",
       "      <td>1000</td>\n",
       "      <td>30720</td>\n",
       "      <td>3000</td>\n",
       "      <td>70</td>\n",
       "      <td>7</td>\n",
       "      <td>0.01</td>\n",
       "      <td>0.01</td>\n",
       "      <td>ultimate</td>\n",
       "      <td>30</td>\n",
       "    </tr>\n",
       "  </tbody>\n",
       "</table>\n",
       "</div>"
      ],
      "text/plain": [
       "   user_id      plan                                    city  \\\n",
       "0     1000  ultimate   Atlanta-Sandy_Springs-Roswell,_GA_MSA   \n",
       "1     1006  ultimate  San_Francisco-Oakland-Berkeley,_CA_MSA   \n",
       "2     1008  ultimate       Orlando-Kissimmee-Sanford,_FL_MSA   \n",
       "3     1011  ultimate                Cleveland-Elyria,_OH_MSA   \n",
       "4     1013  ultimate                       Knoxville,_TN_MSA   \n",
       "\n",
       "   messages_included  mb_per_month_included  minutes_included  \\\n",
       "0               1000                  30720              3000   \n",
       "1               1000                  30720              3000   \n",
       "2               1000                  30720              3000   \n",
       "3               1000                  30720              3000   \n",
       "4               1000                  30720              3000   \n",
       "\n",
       "   usd_monthly_pay  usd_per_gb  usd_per_message  usd_per_minute plan_name  \\\n",
       "0               70           7             0.01            0.01  ultimate   \n",
       "1               70           7             0.01            0.01  ultimate   \n",
       "2               70           7             0.01            0.01  ultimate   \n",
       "3               70           7             0.01            0.01  ultimate   \n",
       "4               70           7             0.01            0.01  ultimate   \n",
       "\n",
       "   gb_per_month_included  \n",
       "0                     30  \n",
       "1                     30  \n",
       "2                     30  \n",
       "3                     30  \n",
       "4                     30  "
      ]
     },
     "execution_count": 152,
     "metadata": {},
     "output_type": "execute_result"
    }
   ],
   "source": [
    "user_plans.head()"
   ]
  },
  {
   "cell_type": "markdown",
   "metadata": {},
   "source": [
    "<div class=\"alert alert-block alert-success\">\n",
    "<b> Comentário do revisor: </b> <a class=\"tocSkip\"></a>\n",
    "    \n",
    "Bom trabalho fazendo o join usando `outer`. Aqui é essencial fazer o join dessa forma para evitar filtrar registros dos usuários\n",
    "</div>"
   ]
  },
  {
   "cell_type": "markdown",
   "metadata": {
    "id": "mU8dKHTQuj8r"
   },
   "source": [
    "[Calcule a receita mensal para cada usuário: subtraia o limite gratuito do pacote do número total de chamadas, mensagens de texto e dados; multiplique o resultado pelo valor do plano de chamadas; adicione o preço mensal dependendo do plano. Importante: isso pode não ser tão trivial quanto apenas algumas linhas, dadas as condições do plano. Portanto, não há problema em gastar algum tempo nisso.]"
   ]
  },
  {
   "cell_type": "code",
   "execution_count": null,
   "metadata": {
    "id": "JiPHXbQAuj8r"
   },
   "outputs": [],
   "source": [
    "# Calcule a receita mensal para cada usuário\n",
    "# Criando coluna com ligações além do pacote contratado\n",
    "\n",
    "# info_per_user['extra_minutes'] = info_per_user['duration'] - info_per_user['minutes_included']\n",
    "# info_per_user['extra_minutes'] = info_per_user['extra_minutes'].clip(lower=0)"
   ]
  },
  {
   "cell_type": "code",
   "execution_count": null,
   "metadata": {},
   "outputs": [],
   "source": [
    "# Criando coluna com mensagens de texto além do pacote contratado\n",
    "\n",
    "# info_per_user['extra_messages'] = info_per_user['messages'] - info_per_user['messages_included']\n",
    "# info_per_user['extra_messages'] = info_per_user['extra_messages'].clip(lower=0)"
   ]
  },
  {
   "cell_type": "code",
   "execution_count": null,
   "metadata": {},
   "outputs": [],
   "source": [
    "# Criando coluna com dados além do pacote contratado (gb)\n",
    "\n",
    "# info_per_user['extra_gb'] = info_per_user['gb_used'] - info_per_user['gb_per_month_included']\n",
    "# info_per_user['extra_gb'] = info_per_user['extra_gb'].clip(lower=0)"
   ]
  },
  {
   "cell_type": "code",
   "execution_count": null,
   "metadata": {},
   "outputs": [],
   "source": [
    "# Determinando os custos dos minutos extras\n",
    "\n",
    "# info_per_user['extra_minutes_cost'] = info_per_user['extra_minutes'] * info_per_user['usd_per_minute']"
   ]
  },
  {
   "cell_type": "code",
   "execution_count": null,
   "metadata": {},
   "outputs": [],
   "source": [
    "# Determinando os custos dos gb extras\n",
    "\n",
    "# info_per_user['extra_gb_cost'] = info_per_user['extra_gb'] * info_per_user['usd_per_gb']"
   ]
  },
  {
   "cell_type": "code",
   "execution_count": null,
   "metadata": {},
   "outputs": [],
   "source": [
    "# Determinando os custos das mensagens de texto extras\n",
    "\n",
    "# info_per_user['extra_messages_cost'] = info_per_user['extra_messages'] * info_per_user['usd_per_message']\n",
    "# info_per_user.fillna(0, inplace=True)"
   ]
  },
  {
   "cell_type": "code",
   "execution_count": null,
   "metadata": {},
   "outputs": [],
   "source": [
    "# Determinando custos totais por usuário\n",
    "\n",
    "# info_per_user['monthly_user_cost'] = info_per_user['extra_messages_cost'] + info_per_user['extra_gb_cost'] + info_per_user['extra_minutes_cost'] + info_per_user['usd_monthly_pay']"
   ]
  },
  {
   "cell_type": "code",
   "execution_count": null,
   "metadata": {},
   "outputs": [],
   "source": [
    "# Função para cálculo do total de receitas por usuário\n",
    "def calc_revenue(row):\n",
    "    # Define as quantidades excedentes\n",
    "    extra_minutes = max(0, row[\"duration\"] - row[\"minutes_included\"])\n",
    "    extra_messages = max(0, row[\"messages\"] - row[\"messages_included\"])\n",
    "    extra_internet = max(0, (row[\"gb_used\"]) - row[\"gb_per_month_included\"])\n",
    "\n",
    "    # Calcula o excedente em usd $\n",
    "    extra_minutes_cost = extra_minutes * row[\"usd_per_minute\"]\n",
    "    extra_messages_cost = extra_messages * row[\"usd_per_message\"]\n",
    "    extra_internet_cost = extra_internet * row[\"usd_per_gb\"]\n",
    "\n",
    "    # Calcula o custo total\n",
    "    total_revenue = (\n",
    "        extra_minutes_cost\n",
    "        + extra_messages_cost\n",
    "        + extra_internet_cost\n",
    "        + row[\"usd_monthly_pay\"]\n",
    "    )\n",
    "\n",
    "    return total_revenue"
   ]
  },
  {
   "cell_type": "code",
   "execution_count": null,
   "metadata": {},
   "outputs": [],
   "source": [
    "# Criando uma coluna para o total de receitas por usuário\n",
    "\n",
    "info_per_user[\"user_cost\"] = info_per_user.apply(calc_revenue, axis=1)"
   ]
  },
  {
   "cell_type": "code",
   "execution_count": null,
   "metadata": {},
   "outputs": [
    {
     "data": {
      "text/html": [
       "<div>\n",
       "<style scoped>\n",
       "    .dataframe tbody tr th:only-of-type {\n",
       "        vertical-align: middle;\n",
       "    }\n",
       "\n",
       "    .dataframe tbody tr th {\n",
       "        vertical-align: top;\n",
       "    }\n",
       "\n",
       "    .dataframe thead th {\n",
       "        text-align: right;\n",
       "    }\n",
       "</style>\n",
       "<table border=\"1\" class=\"dataframe\">\n",
       "  <thead>\n",
       "    <tr style=\"text-align: right;\">\n",
       "      <th></th>\n",
       "      <th>user_id</th>\n",
       "      <th>month</th>\n",
       "      <th>calls</th>\n",
       "      <th>duration</th>\n",
       "      <th>messages</th>\n",
       "      <th>gb_used</th>\n",
       "      <th>plan</th>\n",
       "      <th>city</th>\n",
       "      <th>messages_included</th>\n",
       "      <th>mb_per_month_included</th>\n",
       "      <th>minutes_included</th>\n",
       "      <th>usd_monthly_pay</th>\n",
       "      <th>usd_per_gb</th>\n",
       "      <th>usd_per_message</th>\n",
       "      <th>usd_per_minute</th>\n",
       "      <th>plan_name</th>\n",
       "      <th>gb_per_month_included</th>\n",
       "      <th>user_cost</th>\n",
       "    </tr>\n",
       "  </thead>\n",
       "  <tbody>\n",
       "    <tr>\n",
       "      <th>0</th>\n",
       "      <td>1000</td>\n",
       "      <td>12</td>\n",
       "      <td>16.0</td>\n",
       "      <td>124.0</td>\n",
       "      <td>11.0</td>\n",
       "      <td>1.856904</td>\n",
       "      <td>ultimate</td>\n",
       "      <td>Atlanta-Sandy_Springs-Roswell,_GA_MSA</td>\n",
       "      <td>1000</td>\n",
       "      <td>30720</td>\n",
       "      <td>3000</td>\n",
       "      <td>70</td>\n",
       "      <td>7</td>\n",
       "      <td>0.01</td>\n",
       "      <td>0.01</td>\n",
       "      <td>ultimate</td>\n",
       "      <td>30</td>\n",
       "      <td>70.000000</td>\n",
       "    </tr>\n",
       "    <tr>\n",
       "      <th>1</th>\n",
       "      <td>1001</td>\n",
       "      <td>8</td>\n",
       "      <td>22.0</td>\n",
       "      <td>182.0</td>\n",
       "      <td>30.0</td>\n",
       "      <td>6.756982</td>\n",
       "      <td>surf</td>\n",
       "      <td>Seattle-Tacoma-Bellevue,_WA_MSA</td>\n",
       "      <td>50</td>\n",
       "      <td>15360</td>\n",
       "      <td>500</td>\n",
       "      <td>20</td>\n",
       "      <td>10</td>\n",
       "      <td>0.03</td>\n",
       "      <td>0.03</td>\n",
       "      <td>surf</td>\n",
       "      <td>15</td>\n",
       "      <td>20.000000</td>\n",
       "    </tr>\n",
       "    <tr>\n",
       "      <th>2</th>\n",
       "      <td>1001</td>\n",
       "      <td>9</td>\n",
       "      <td>38.0</td>\n",
       "      <td>315.0</td>\n",
       "      <td>44.0</td>\n",
       "      <td>13.002754</td>\n",
       "      <td>surf</td>\n",
       "      <td>Seattle-Tacoma-Bellevue,_WA_MSA</td>\n",
       "      <td>50</td>\n",
       "      <td>15360</td>\n",
       "      <td>500</td>\n",
       "      <td>20</td>\n",
       "      <td>10</td>\n",
       "      <td>0.03</td>\n",
       "      <td>0.03</td>\n",
       "      <td>surf</td>\n",
       "      <td>15</td>\n",
       "      <td>20.000000</td>\n",
       "    </tr>\n",
       "    <tr>\n",
       "      <th>3</th>\n",
       "      <td>1001</td>\n",
       "      <td>10</td>\n",
       "      <td>47.0</td>\n",
       "      <td>393.0</td>\n",
       "      <td>53.0</td>\n",
       "      <td>21.807119</td>\n",
       "      <td>surf</td>\n",
       "      <td>Seattle-Tacoma-Bellevue,_WA_MSA</td>\n",
       "      <td>50</td>\n",
       "      <td>15360</td>\n",
       "      <td>500</td>\n",
       "      <td>20</td>\n",
       "      <td>10</td>\n",
       "      <td>0.03</td>\n",
       "      <td>0.03</td>\n",
       "      <td>surf</td>\n",
       "      <td>15</td>\n",
       "      <td>88.161191</td>\n",
       "    </tr>\n",
       "    <tr>\n",
       "      <th>4</th>\n",
       "      <td>1001</td>\n",
       "      <td>11</td>\n",
       "      <td>49.0</td>\n",
       "      <td>426.0</td>\n",
       "      <td>36.0</td>\n",
       "      <td>18.070605</td>\n",
       "      <td>surf</td>\n",
       "      <td>Seattle-Tacoma-Bellevue,_WA_MSA</td>\n",
       "      <td>50</td>\n",
       "      <td>15360</td>\n",
       "      <td>500</td>\n",
       "      <td>20</td>\n",
       "      <td>10</td>\n",
       "      <td>0.03</td>\n",
       "      <td>0.03</td>\n",
       "      <td>surf</td>\n",
       "      <td>15</td>\n",
       "      <td>50.706055</td>\n",
       "    </tr>\n",
       "  </tbody>\n",
       "</table>\n",
       "</div>"
      ],
      "text/plain": [
       "   user_id  month  calls  duration  messages    gb_used      plan  \\\n",
       "0     1000     12   16.0     124.0      11.0   1.856904  ultimate   \n",
       "1     1001      8   22.0     182.0      30.0   6.756982      surf   \n",
       "2     1001      9   38.0     315.0      44.0  13.002754      surf   \n",
       "3     1001     10   47.0     393.0      53.0  21.807119      surf   \n",
       "4     1001     11   49.0     426.0      36.0  18.070605      surf   \n",
       "\n",
       "                                    city  messages_included  \\\n",
       "0  Atlanta-Sandy_Springs-Roswell,_GA_MSA               1000   \n",
       "1        Seattle-Tacoma-Bellevue,_WA_MSA                 50   \n",
       "2        Seattle-Tacoma-Bellevue,_WA_MSA                 50   \n",
       "3        Seattle-Tacoma-Bellevue,_WA_MSA                 50   \n",
       "4        Seattle-Tacoma-Bellevue,_WA_MSA                 50   \n",
       "\n",
       "   mb_per_month_included  minutes_included  usd_monthly_pay  usd_per_gb  \\\n",
       "0                  30720              3000               70           7   \n",
       "1                  15360               500               20          10   \n",
       "2                  15360               500               20          10   \n",
       "3                  15360               500               20          10   \n",
       "4                  15360               500               20          10   \n",
       "\n",
       "   usd_per_message  usd_per_minute plan_name  gb_per_month_included  user_cost  \n",
       "0             0.01            0.01  ultimate                     30  70.000000  \n",
       "1             0.03            0.03      surf                     15  20.000000  \n",
       "2             0.03            0.03      surf                     15  20.000000  \n",
       "3             0.03            0.03      surf                     15  88.161191  \n",
       "4             0.03            0.03      surf                     15  50.706055  "
      ]
     },
     "execution_count": 163,
     "metadata": {},
     "output_type": "execute_result"
    }
   ],
   "source": [
    "info_per_user.head()"
   ]
  },
  {
   "cell_type": "markdown",
   "metadata": {},
   "source": [
    "<div class=\"alert alert-block alert-danger\">\n",
    "<b> Comentário do revisor: </b> <a class=\"tocSkip\"></a>\n",
    "<s>    \n",
    "Aqui o cálculo de receita precisa de pequenos ajustes, pois os valores estão bem acima do esperado. Por exemplo, nas primeiras 5 linhas do seu dataframe, não é esperado que o usuário tenha receita muito acima de `100`. Abaixo eu compartilho um trecho de código que pode te ajudar com a sua implementação. Lembre-se que é uma boa prática criar funções para organizar trechos de código e funcionalidades.\n",
    "    \n",
    "```python\n",
    "    \n",
    "def calc_revenue(row):\n",
    "    minutes_used = max(0, row['minutes_calls_sum'] - row['minutes_included'])\n",
    "    messages_used = max(0, row['messages_count'] - row['messages_included'])\n",
    "    internet_used = max(0, (row['gb_internet_sum']) - row['gb_per_month_included']) \n",
    "\n",
    "    # Calcula o excedente\n",
    "    extra_minutes_cost = minutes_used * row['usd_per_minute']\n",
    "    extra_messages_cost = messages_used * row['usd_per_message']\n",
    "    extra_internet_cost = internet_used * row['usd_per_gb']\n",
    "    \n",
    "    # Calcula o custo total\n",
    "    total_revenue = extra_minutes_cost + extra_messages_cost + extra_internet_cost + row['usd_monthly_pay']\n",
    "    \n",
    "...\n",
    "```\n",
    "</s>\n",
    "</div>"
   ]
  },
  {
   "cell_type": "markdown",
   "metadata": {
    "id": "0HFWXKTQuj8r"
   },
   "source": [
    "## Estude o comportamento do usuário"
   ]
  },
  {
   "cell_type": "markdown",
   "metadata": {
    "id": "i6gGFggkuj8s"
   },
   "source": [
    "[Calcule algumas estatísticas descritivas úteis para os dados agregados e unidos, que geralmente revelam uma imagem geral capturada pelos dados. Desenhe gráficos úteis para ajudar na compreensão. Já que a tarefa principal é comparar os planos e decidir qual é mais rentável, as estatísticas e os gráficos devem ser calculados por plano.]\n",
    "\n",
    "[Existem dicas relevantes nos comentários para chamadas, mas elas não são fornecidas para mensagens e internet, embora o princípio do estudo estatístico seja o mesmo para todas.]"
   ]
  },
  {
   "cell_type": "markdown",
   "metadata": {
    "id": "umaMfSLxuj8s"
   },
   "source": [
    "### Chamadas"
   ]
  },
  {
   "cell_type": "code",
   "execution_count": null,
   "metadata": {
    "id": "0236-tJnuj8t"
   },
   "outputs": [],
   "source": [
    "# Compare a duração média das chamadas de cada plano para cada mês distinto. Crie um gráfico de barras para visualizá-lo.\n",
    "\n",
    "# Agrupando as médias para cada plano e cada mês\n",
    "average_minutes = (\n",
    "    info_per_user.groupby([\"month\", \"plan\"])[\"duration\"].mean().reset_index()\n",
    ")\n",
    "average_minutes_surf = average_minutes[average_minutes[\"plan\"] == \"surf\"]\n",
    "average_minutes_ultimate = average_minutes[average_minutes[\"plan\"] == \"ultimate\"]"
   ]
  },
  {
   "cell_type": "code",
   "execution_count": null,
   "metadata": {},
   "outputs": [],
   "source": [
    "# Juntando os dataframes de modo que as durações referentes a cada plano fiquem separadas porém referente a cada mês\n",
    "\n",
    "average_minutes = pd.merge(\n",
    "    average_minutes_surf, average_minutes_ultimate, on=[\"month\"]\n",
    ").set_index(\"month\")"
   ]
  },
  {
   "cell_type": "code",
   "execution_count": null,
   "metadata": {},
   "outputs": [],
   "source": [
    "average_minutes = average_minutes.rename(\n",
    "    columns={\"duration_x\": \"surf\", \"duration_y\": \"ultimate\"}\n",
    ")"
   ]
  },
  {
   "cell_type": "code",
   "execution_count": null,
   "metadata": {},
   "outputs": [
    {
     "data": {
      "text/plain": [
       "[Text(0, 0, 'Janeiro'),\n",
       " Text(1, 0, 'Fevereiro'),\n",
       " Text(2, 0, 'Março'),\n",
       " Text(3, 0, 'Abril'),\n",
       " Text(4, 0, 'Maio'),\n",
       " Text(5, 0, 'Junho'),\n",
       " Text(6, 0, 'Julho'),\n",
       " Text(7, 0, 'Agosto'),\n",
       " Text(8, 0, 'Setembro'),\n",
       " Text(9, 0, 'Outubro'),\n",
       " Text(10, 0, 'Novembro'),\n",
       " Text(11, 0, 'Dezembro')]"
      ]
     },
     "execution_count": 168,
     "metadata": {},
     "output_type": "execute_result"
    },
    {
     "data": {
      "image/png": "[encoded data removed]",
      "text/plain": [
       "<Figure size 640x480 with 1 Axes>"
      ]
     },
     "metadata": {},
     "output_type": "display_data"
    }
   ],
   "source": [
    "# Criando gráfico de barras\n",
    "\n",
    "average_minutes.plot.bar(\n",
    "    width=0.7,\n",
    "    xlabel=\"Mês\",\n",
    "    ylabel=\"Duração das chamadas\",\n",
    "    yticks=[0, 100, 200, 300, 400, 500],\n",
    "    color=[\"cornflowerblue\", \"orange\"],\n",
    "    title=\"Duração médias das chamadas feitas em cada plano (min)\",\n",
    "    rot=45,\n",
    ")\n",
    "\n",
    "plt.gca().set_xticklabels(\n",
    "    [\n",
    "        \"Janeiro\",\n",
    "        \"Fevereiro\",\n",
    "        \"Março\",\n",
    "        \"Abril\",\n",
    "        \"Maio\",\n",
    "        \"Junho\",\n",
    "        \"Julho\",\n",
    "        \"Agosto\",\n",
    "        \"Setembro\",\n",
    "        \"Outubro\",\n",
    "        \"Novembro\",\n",
    "        \"Dezembro\",\n",
    "    ]\n",
    ")"
   ]
  },
  {
   "cell_type": "code",
   "execution_count": null,
   "metadata": {},
   "outputs": [],
   "source": [
    "total_minutes = info_per_user.groupby([\"month\", \"plan\"])[\"duration\"].sum().reset_index()\n",
    "total_minutes_surf = total_minutes[total_minutes[\"plan\"] == \"surf\"]\n",
    "total_minutes_ultimate = total_minutes[total_minutes[\"plan\"] == \"ultimate\"]"
   ]
  },
  {
   "cell_type": "code",
   "execution_count": null,
   "metadata": {},
   "outputs": [],
   "source": [
    "total_minutes = pd.merge(\n",
    "    total_minutes_surf, total_minutes_ultimate, on=[\"month\"]\n",
    ").set_index(\"month\")"
   ]
  },
  {
   "cell_type": "code",
   "execution_count": null,
   "metadata": {},
   "outputs": [],
   "source": [
    "total_minutes = total_minutes.rename(\n",
    "    columns={\"duration_x\": \"surf\", \"duration_y\": \"ultimate\"}\n",
    ")"
   ]
  },
  {
   "cell_type": "code",
   "execution_count": null,
   "metadata": {
    "id": "9sCQ1lP8uj8u"
   },
   "outputs": [
    {
     "data": {
      "text/plain": [
       "Text(0, 0.5, 'Frequência')"
      ]
     },
     "execution_count": 172,
     "metadata": {},
     "output_type": "execute_result"
    },
    {
     "data": {
      "image/png": "[encoded data removed]",
      "text/plain": [
       "<Figure size 640x480 with 1 Axes>"
      ]
     },
     "metadata": {},
     "output_type": "display_data"
    }
   ],
   "source": [
    "# Compare o número de minutos de que os usuários de cada plano necessitam a cada mês. Construa um histograma.\n",
    "\n",
    "total_minutes.plot.hist(\n",
    "    bins=8,\n",
    "    alpha=0.5,\n",
    "    title=\"Tempo de chamadas mensal necessitados pelos usuários de cada plano (min)\",\n",
    ")\n",
    "\n",
    "plt.gca().set_xlabel(\"Minutos mensais\")\n",
    "plt.gca().set_ylabel(\"Frequência\")"
   ]
  },
  {
   "cell_type": "markdown",
   "metadata": {
    "id": "_x1pRDFtuj8u"
   },
   "source": [
    "[Calcule a média e a variável da duração da chamada para raciocinar se os usuários de diferentes planos possuem comportamentos diferentes em suas chamadas.]"
   ]
  },
  {
   "cell_type": "code",
   "execution_count": null,
   "metadata": {
    "id": "cIdodPExuj8u"
   },
   "outputs": [
    {
     "data": {
      "text/plain": [
       "<AxesSubplot:xlabel='duration', ylabel='Count'>"
      ]
     },
     "execution_count": 173,
     "metadata": {},
     "output_type": "execute_result"
    },
    {
     "data": {
      "image/png": "[encoded data removed]",
      "text/plain": [
       "<Figure size 640x480 with 1 Axes>"
      ]
     },
     "metadata": {},
     "output_type": "display_data"
    }
   ],
   "source": [
    "# Calcule a média e a variação da duração mensal das chamadas\n",
    "\n",
    "calls_mean_var = info_per_user.groupby([\"plan\", \"month\"])[\"duration\"].agg(\n",
    "    {\"mean\", \"var\"}\n",
    ")\n",
    "\n",
    "sns.histplot(data=info_per_user, x=\"duration\", hue=\"plan\")"
   ]
  },
  {
   "cell_type": "code",
   "execution_count": null,
   "metadata": {
    "id": "DW7vTypxuj8u"
   },
   "outputs": [
    {
     "data": {
      "image/png": "[encoded data removed]",
      "text/plain": [
       "<Figure size 640x480 with 1 Axes>"
      ]
     },
     "metadata": {},
     "output_type": "display_data"
    }
   ],
   "source": [
    "# Faça um diagrama de caixa para visualizar a distribuição da duração mensal das chamadas\n",
    "\n",
    "call_boxplot = sns.boxplot(data=info_per_user, y=\"duration\", x=\"month\", hue=\"plan\")"
   ]
  },
  {
   "cell_type": "markdown",
   "metadata": {
    "id": "Uyt3rWn7uj8u"
   },
   "source": [
    "[Formule conclusões sobre como os usuários se comportam em termos de chamadas. O comportamento é diferente dependendo do plano?]\n",
    "\n",
    "Apesar de haver significativa diferença nos volumes movimentados em cada plano, o comportamento do usuário em si não muda muito: O pico de tempo das ligações é de aproximadamente 400 minutos, frequências mais significativas entre 0 e 600 minutos.\n",
    "\n",
    "A única diferença de comportamento se dá nos usuários do plano Surf, que têm um segundo pico bem significativo nos menores tempos de ligação entre 0 50 minutos mensais."
   ]
  },
  {
   "cell_type": "markdown",
   "metadata": {},
   "source": [
    "<div class=\"alert alert-block alert-warning\">\n",
    "<b> Comentário do revisor: </b> <a class=\"tocSkip\"></a>\n",
    "    \n",
    "- A duração média das chamadas foi comparada entre os planos\n",
    "- As distribuições foram analisadas\n",
    "- Estatísticas descritivas foram calculadas: média e variância. Dica: poderia ter calculado o desvio padrão\n",
    "</div>"
   ]
  },
  {
   "cell_type": "markdown",
   "metadata": {
    "id": "2hWSPtrnuj8v"
   },
   "source": [
    "### Mensagens"
   ]
  },
  {
   "cell_type": "code",
   "execution_count": null,
   "metadata": {
    "id": "9kPlAhOJuj8v"
   },
   "outputs": [
    {
     "data": {
      "image/png": "[encoded data removed]",
      "text/plain": [
       "<Figure size 640x480 with 1 Axes>"
      ]
     },
     "metadata": {},
     "output_type": "display_data"
    }
   ],
   "source": [
    "# Compare o número de mensagens que os usuários de cada plano tendem a enviar a cada mês\n",
    "\n",
    "messages_graph = sns.barplot(\n",
    "    data=info_per_user, x=\"month\", y=\"messages\", hue=\"plan\", ci=None\n",
    ")"
   ]
  },
  {
   "cell_type": "markdown",
   "metadata": {
    "id": "v6QELMtcuj8v"
   },
   "source": [
    "[Formule conclusões sobre como os usuários se comportam em termos de mensagens. O comportamento é diferente dependendo do plano?]\n",
    "\n",
    "Os usuáris do plano Ultimate, no geral, enviam mais mensagens que os usuários do plano Surf.\n",
    "\n",
    "Ambos os planos apresentam uma crescente no envio de mensagens."
   ]
  },
  {
   "cell_type": "markdown",
   "metadata": {},
   "source": [
    "<div class=\"alert alert-block alert-warning\">\n",
    "<b> Comentário do revisor: </b> <a class=\"tocSkip\"></a>\n",
    "    \n",
    "- O consumo de quantidade de mensagens foi comparado entre os planos\n",
    "- As distribuições foram analisadas\n",
    "- Estatísticas descritivas foram calculadas: média e variância. Dica: poderia ter calculado o desvio padrão\n",
    "</div>"
   ]
  },
  {
   "cell_type": "markdown",
   "metadata": {
    "id": "nHUCwAnauj8w"
   },
   "source": [
    "### Internet"
   ]
  },
  {
   "cell_type": "code",
   "execution_count": null,
   "metadata": {
    "id": "fIVdRuT6uj8v"
   },
   "outputs": [
    {
     "data": {
      "image/png": "[encoded data removed]",
      "text/plain": [
       "<Figure size 640x480 with 1 Axes>"
      ]
     },
     "metadata": {},
     "output_type": "display_data"
    }
   ],
   "source": [
    "# Compare a quantidade de tráfego de internet consumido pelos usuários por plano\n",
    "\n",
    "gb_graph = sns.histplot(data=info_per_user, x=\"gb_used\", hue=\"plan\")"
   ]
  },
  {
   "cell_type": "markdown",
   "metadata": {
    "id": "GsHkFpGmuj8w"
   },
   "source": [
    "[Formule conclusões sobre como os usuários tendem a consumir o tráfego da internet. O comportamento é diferente dependendo do plano?]\n",
    "\n",
    "Ao contrário do que acontece com as mensagens, há mais usuários do plano Surf que utilizam a internet do que os usuários do plano Ultimate, porém o comportamento de ambos é parecido em relação à quantidade de gb utilizados por mês (cerca de 40gb a 50gb)."
   ]
  },
  {
   "cell_type": "markdown",
   "metadata": {},
   "source": [
    "<div class=\"alert alert-block alert-warning\">\n",
    "<b> Comentário do revisor: </b> <a class=\"tocSkip\"></a>\n",
    "    \n",
    "- O consumo de internet em `gb` foi comparado entre os planos\n",
    "- As distribuições foram analisadas\n",
    "- Aqui você poderia plotar também um gráfico de caixa (boxplot) com a distribuição por plano\n",
    "</div>"
   ]
  },
  {
   "cell_type": "markdown",
   "metadata": {
    "id": "g23qXaYNuj8x"
   },
   "source": [
    "## Receita"
   ]
  },
  {
   "cell_type": "markdown",
   "metadata": {
    "id": "qI9oKXFZuj8y"
   },
   "source": [
    "[Da mesma forma que você estudou o comportamento dos usuários, descreva estatisticamente as receitas dos planos.]"
   ]
  },
  {
   "cell_type": "code",
   "execution_count": null,
   "metadata": {
    "id": "qJSyfvUguj8y"
   },
   "outputs": [
    {
     "data": {
      "image/png": "[encoded data removed]",
      "text/plain": [
       "<Figure size 640x480 with 1 Axes>"
      ]
     },
     "metadata": {},
     "output_type": "display_data"
    }
   ],
   "source": [
    "income_hist = sns.histplot(data=info_per_user, x=\"user_cost\", hue=\"plan\")"
   ]
  },
  {
   "cell_type": "code",
   "execution_count": null,
   "metadata": {
    "id": "CGuBwYRyuj8y"
   },
   "outputs": [
    {
     "data": {
      "image/png": "[encoded data removed]",
      "text/plain": [
       "<Figure size 640x480 with 1 Axes>"
      ]
     },
     "metadata": {},
     "output_type": "display_data"
    }
   ],
   "source": [
    "income_bars = sns.barplot(\n",
    "    data=info_per_user, x=\"month\", y=\"user_cost\", hue=\"plan\", ci=None\n",
    ")"
   ]
  },
  {
   "cell_type": "code",
   "execution_count": null,
   "metadata": {},
   "outputs": [],
   "source": [
    "# Função para cálculo dos minutos extras\n",
    "def extra_minutes(row):\n",
    "    # Define as quantidades excedentes\n",
    "    extra_minutes = max(0, row[\"duration\"] - row[\"minutes_included\"])\n",
    "\n",
    "    # Calcula o excedente em usd $\n",
    "    extra_minutes_cost = extra_minutes * row[\"usd_per_minute\"]\n",
    "\n",
    "    return extra_minutes_cost\n",
    "\n",
    "\n",
    "info_per_user[\"extra_minutes_cost\"] = info_per_user.apply(extra_minutes, axis=1)"
   ]
  },
  {
   "cell_type": "code",
   "execution_count": null,
   "metadata": {},
   "outputs": [],
   "source": [
    "# Função para cálculo das mensagens extras\n",
    "def extra_messages(row):\n",
    "    # Define as quantidades excedentes\n",
    "    extra_messages = max(0, row[\"messages\"] - row[\"messages_included\"])\n",
    "\n",
    "    # Calcula o excedente em usd $\n",
    "    extra_messages_cost = extra_messages * row[\"usd_per_message\"]\n",
    "\n",
    "    return extra_messages_cost\n",
    "\n",
    "\n",
    "info_per_user[\"extra_messages_cost\"] = info_per_user.apply(extra_messages, axis=1)"
   ]
  },
  {
   "cell_type": "code",
   "execution_count": null,
   "metadata": {},
   "outputs": [],
   "source": [
    "# Função para cálculo dos dados extras\n",
    "def extra_internet(row):\n",
    "    # Define as quantidades excedentes\n",
    "    extra_internet = max(0, (row[\"gb_used\"]) - row[\"gb_per_month_included\"])\n",
    "\n",
    "    # Calcula o excedente em usd $\n",
    "    extra_gb_cost = extra_internet * row[\"usd_per_gb\"]\n",
    "\n",
    "    return extra_gb_cost\n",
    "\n",
    "\n",
    "info_per_user[\"extra_gb_cost\"] = info_per_user.apply(extra_internet, axis=1)"
   ]
  },
  {
   "cell_type": "code",
   "execution_count": null,
   "metadata": {
    "id": "KUSxMW71uj8z"
   },
   "outputs": [
    {
     "data": {
      "text/plain": [
       "(0.0, 700.0)"
      ]
     },
     "execution_count": 182,
     "metadata": {},
     "output_type": "execute_result"
    },
    {
     "data": {
      "image/png": "[encoded data removed]",
      "text/plain": [
       "<Figure size 640x480 with 1 Axes>"
      ]
     },
     "metadata": {},
     "output_type": "display_data"
    }
   ],
   "source": [
    "plt.hist(\n",
    "    info_per_user[\"extra_minutes_cost\"],\n",
    "    color=\"blue\",\n",
    "    label=\"Extra Minutes Cost\",\n",
    "    alpha=0.5,\n",
    ")\n",
    "plt.hist(\n",
    "    info_per_user[\"extra_gb_cost\"], color=\"green\", label=\"Extra GB Cost\", alpha=0.5\n",
    ")\n",
    "plt.hist(\n",
    "    info_per_user[\"extra_messages_cost\"],\n",
    "    color=\"red\",\n",
    "    label=\"Extra Messages Cost\",\n",
    "    alpha=0.5,\n",
    ")\n",
    "plt.legend()\n",
    "plt.xlim([0, 700])"
   ]
  },
  {
   "cell_type": "code",
   "execution_count": null,
   "metadata": {},
   "outputs": [
    {
     "data": {
      "text/plain": [
       "<AxesSubplot:xlabel='month', ylabel='extra_gb_cost'>"
      ]
     },
     "execution_count": 183,
     "metadata": {},
     "output_type": "execute_result"
    },
    {
     "data": {
      "image/png": "[encoded data removed]",
      "text/plain": [
       "<Figure size 640x480 with 1 Axes>"
      ]
     },
     "metadata": {},
     "output_type": "display_data"
    }
   ],
   "source": [
    "sns.barplot(data=info_per_user, x=\"month\", y=\"extra_gb_cost\", hue=\"plan\", ci=None)"
   ]
  },
  {
   "cell_type": "markdown",
   "metadata": {
    "id": "6X34EwHpuj8z"
   },
   "source": [
    "[Formule conclusões sobre como a receita difere entre os planos.]\n",
    "\n",
    "O plano Surf gera muito mais receita do que o Ultimate e a principal fonte são os GBs extras consumidos pelos usuários."
   ]
  },
  {
   "cell_type": "markdown",
   "metadata": {},
   "source": [
    "<div class=\"alert alert-block alert-danger\">\n",
    "<b> Comentário do revisor: </b> <a class=\"tocSkip\"></a>\n",
    "    \n",
    "<s>Vamos revisar essa seção após os ajustes sugeridos no cálculo de receita</s>\n",
    "</div>"
   ]
  },
  {
   "cell_type": "markdown",
   "metadata": {},
   "source": [
    "<div class=\"alert alert-block alert-warning\">\n",
    "<b> Comentário do revisor v2: </b> <a class=\"tocSkip\"></a>\n",
    "    \n",
    "- O consumo de internet em `gb` foi comparado entre os planos\n",
    "- As distribuições foram analisadas\n",
    "- Estatísticas descritivas foram calculadas: média e variância. Dica: poderia ter calculado o desvio padrão\n",
    "- Aqui você poderia plotar também um gráfico de caixa (boxplot) com a distribuição por plano\n",
    "</div>"
   ]
  },
  {
   "cell_type": "markdown",
   "metadata": {
    "id": "xJ6Mu-KAuj8z"
   },
   "source": [
    "## Teste hipóteses estatísticas"
   ]
  },
  {
   "cell_type": "markdown",
   "metadata": {
    "id": "lop_0j4Duj8z"
   },
   "source": [
    "[Teste a hipótese de que as receitas médias dos usuários dos planos de chamadas Ultimate e Surf são diferentes.]"
   ]
  },
  {
   "cell_type": "markdown",
   "metadata": {
    "id": "-X2l1R8Luj80"
   },
   "source": [
    "[Formule as hipóteses nula e alternativa, escolha o teste estatístico, escolha o valor alfa.]\n",
    "\n",
    "**Hipótese Nula:** A receita dos dois planos não ter diferenças estatísticas.\n",
    "\n",
    "**Hipóstese Alternativa:** Um dos planos gera receitas estatisticamente maiores.\n",
    "\n",
    "**Teste estatístico realizado:** Teste T de duas amostras independentes.\n",
    "\n",
    "**Valor Alfa:** 5%\n",
    "\n",
    "**Interpretação:**\n",
    "\n",
    "*Se o valor p do teste for menor que o valor alfa (p < α), rejeitamos a hipótese nula e concluímos que existe uma diferença significativa entre os dois grupos (um dos planos gera receitas estatisticamente maiores). Caso contrário, não rejeitamos a hipótese nula e concluímos que não há diferença significativa entre os grupos.*"
   ]
  },
  {
   "cell_type": "markdown",
   "metadata": {},
   "source": [
    "<div class=\"alert alert-block alert-warning\">\n",
    "<b> Comentário do revisor: </b> <a class=\"tocSkip\"></a>\n",
    "\n",
    "Você definiu as hipóteses nula e alternativa no código abaixo, mas lembre-se que o ideal é definir formalmente as hipóteses no texto.\n",
    "</div>"
   ]
  },
  {
   "cell_type": "code",
   "execution_count": null,
   "metadata": {
    "id": "LyGrPhpUuj80"
   },
   "outputs": [
    {
     "data": {
      "text/plain": [
       "(4131.8291113430105, 15348.172444205653)"
      ]
     },
     "execution_count": 78,
     "metadata": {},
     "output_type": "execute_result"
    }
   ],
   "source": [
    "# Teste as hipóteses\n",
    "\n",
    "revenue = info_per_user.groupby([\"user_id\", \"plan\"])[\"user_cost\"].mean().reset_index()\n",
    "\n",
    "sample1 = revenue[revenue[\"plan\"] == \"ultimate\"][\"user_cost\"]\n",
    "sample2 = revenue[revenue[\"plan\"] == \"surf\"][\"user_cost\"]\n",
    "\n",
    "sample1.var(), sample2.var()"
   ]
  },
  {
   "cell_type": "code",
   "execution_count": null,
   "metadata": {},
   "outputs": [
    {
     "name": "stdout",
     "output_type": "stream",
     "text": [
      "valor-p: 6.539448654633006e-33\n",
      "Rejeitamos a hipótese nula, as receitas médias dos usuários de cada plano são estatisticamente diferentes!\n"
     ]
    }
   ],
   "source": [
    "alpha = 0.05\n",
    "\n",
    "results = st.ttest_ind(sample1, sample2, equal_var=False)\n",
    "\n",
    "print(\"valor-p:\", results.pvalue)\n",
    "\n",
    "if results.pvalue < alpha:\n",
    "    print(\n",
    "        \"Rejeitamos a hipótese nula, as receitas médias dos usuários de cada plano são estatisticamente diferentes!\"\n",
    "    )\n",
    "else:\n",
    "    print(\n",
    "        \"Não podemos rejeitar a hipótese nula, a diferença entre as receitas médias dos usuários de cada plano não tem diferença significativa.\"\n",
    "    )"
   ]
  },
  {
   "cell_type": "markdown",
   "metadata": {},
   "source": [
    "<div class=\"alert alert-block alert-danger\">\n",
    "<b> Comentário do revisor: </b> <a class=\"tocSkip\"></a>\n",
    "    \n",
    "<s>Vamos revisar os resultados desse teste após os ajustes sugeridos no cálculo de receita</s>\n",
    "</div>"
   ]
  },
  {
   "cell_type": "markdown",
   "metadata": {},
   "source": [
    "<div class=\"alert alert-block alert-success\">\n",
    "<b> Comentário do revisor v2: </b> <a class=\"tocSkip\"></a>\n",
    "    \n",
    "- O valor de alpha foi escolhido\n",
    "- Os testes foram conduzidos corretamente usando o teste t\n",
    "- O argumento `equal_var` foi configurado para conduzir o teste assumindo diferença nas variâncias.\n",
    "</div>"
   ]
  },
  {
   "cell_type": "markdown",
   "metadata": {
    "id": "Cz6rwE56uj80"
   },
   "source": [
    "[Teste a hipótese de que a receita média dos usuários da área de NY-NJ difere dos usuários das demais regiões.]"
   ]
  },
  {
   "cell_type": "markdown",
   "metadata": {
    "id": "kMHim5__uj80"
   },
   "source": [
    "[Formule as hipóteses nula e alternativa, escolha o teste estatístico, escolha o valor alfa.]"
   ]
  },
  {
   "cell_type": "markdown",
   "metadata": {},
   "source": [
    "<div class=\"alert alert-block alert-warning\">\n",
    "<b> Comentário do revisor: </b> <a class=\"tocSkip\"></a>\n",
    "\n",
    "Você definiu as hipóteses nula e alternativa no código abaixo, mas lembre-se que o ideal é definir formalmente as hipóteses no texto.\n",
    "</div>"
   ]
  },
  {
   "cell_type": "code",
   "execution_count": null,
   "metadata": {
    "id": "98t8iiJyuj80"
   },
   "outputs": [],
   "source": [
    "# Teste as hipóteses\n",
    "\n",
    "info_per_user[\"nynj\"] = info_per_user[\"city\"].str.contains(\"NY-NJ\")"
   ]
  },
  {
   "cell_type": "code",
   "execution_count": null,
   "metadata": {},
   "outputs": [
    {
     "data": {
      "text/plain": [
       "(13431.766665566338, 14567.346708945135)"
      ]
     },
     "execution_count": 81,
     "metadata": {},
     "output_type": "execute_result"
    }
   ],
   "source": [
    "city_revenue = (\n",
    "    info_per_user.groupby([\"user_id\", \"nynj\"])[\"user_cost\"].mean().reset_index()\n",
    ")\n",
    "\n",
    "sample1 = city_revenue[city_revenue[\"nynj\"] == True][\"user_cost\"]\n",
    "sample2 = city_revenue[city_revenue[\"nynj\"] == False][\"user_cost\"]\n",
    "\n",
    "sample1.var(), sample2.var()"
   ]
  },
  {
   "cell_type": "code",
   "execution_count": null,
   "metadata": {},
   "outputs": [
    {
     "name": "stdout",
     "output_type": "stream",
     "text": [
      "valor-p: 0.5631451681239417\n",
      "Não podemos rejeitar a hipótese nula, a receita média vinda dos usuários de NY-NJ não difere estatisticamente das demais regiões\n"
     ]
    }
   ],
   "source": [
    "alpha = 0.05\n",
    "\n",
    "results = st.ttest_ind(sample1, sample2, equal_var=False)\n",
    "\n",
    "print(\"valor-p:\", results.pvalue)\n",
    "\n",
    "if results.pvalue < alpha:\n",
    "    print(\n",
    "        \"Rejeitamos a hipótese nula, a receita média vinda dos usuários de NY-NJ difere estatisticamente das demais regiões\"\n",
    "    )\n",
    "else:\n",
    "    print(\n",
    "        \"Não podemos rejeitar a hipótese nula, a receita média vinda dos usuários de NY-NJ não difere estatisticamente das demais regiões\"\n",
    "    )"
   ]
  },
  {
   "cell_type": "markdown",
   "metadata": {},
   "source": [
    "<div class=\"alert alert-block alert-danger\">\n",
    "<b> Comentário do revisor: </b> <a class=\"tocSkip\"></a>\n",
    "    \n",
    "<s>Vamos revisar os resultados desse teste após os ajustes sugeridos no cálculo de receita</s>\n",
    "</div>"
   ]
  },
  {
   "cell_type": "markdown",
   "metadata": {},
   "source": [
    "<div class=\"alert alert-block alert-success\">\n",
    "<b> Comentário do revisor v2: </b> <a class=\"tocSkip\"></a>\n",
    "    \n",
    "- O valor de alpha foi escolhido\n",
    "- Os testes foram conduzidos corretamente usando o teste t\n",
    "- O argumento `equal_var` foi configurado para conduzir o teste assumindo diferença nas variâncias.\n",
    "</div>"
   ]
  },
  {
   "cell_type": "markdown",
   "metadata": {
    "id": "M8WycwWFuj81"
   },
   "source": [
    "## Conclusão geral\n",
    "\n",
    "[Liste suas conclusões importantes nessa seção final, certifique-se de que elas cobrem todas as decisões (suposições) importantes que você tomou e que levaram à maneira como você processou e analisou os dados.]\n",
    "\n",
    "Este é um banco de dados bem denso, mesmo se tratando de uma amostra mas os dados eram bem passíveis de enriquecimento o que somou muito na investigação.\n",
    "\n",
    "O plano que eu recomendaria aumentar o orçamento publicitário, após esta análise, é o Surf, o plano Ultimate, apesar de mais caro e de ter uma base de usuários maior não gera tanto lucro quanto o Surf, pois os valores por GB consumido além-limite junto com o limite atual definido pelo plano geram uma receita maior, mesmo com uma base de usuários menor."
   ]
  },
  {
   "cell_type": "markdown",
   "metadata": {},
   "source": [
    "<div class=\"alert alert-block alert-success\">\n",
    "<b> Comentário do revisor: </b> <a class=\"tocSkip\"></a>\n",
    "    \n",
    "Boa conclusão geral do projeto!\n",
    "</div>"
   ]
  }
 ],
 "metadata": {
  "ExecuteTimeLog": [
   {
    "duration": 828,
    "start_time": "2021-11-16T09:21:11.304Z"
   },
   {
    "duration": 893,
    "start_time": "2021-11-16T09:21:17.728Z"
   },
   {
    "duration": 1150,
    "start_time": "2021-11-16T09:21:29.568Z"
   },
   {
    "duration": 3,
    "start_time": "2021-11-16T09:24:14.495Z"
   },
   {
    "duration": 120,
    "start_time": "2021-11-16T09:24:46.630Z"
   },
   {
    "duration": 3,
    "start_time": "2021-11-16T09:28:27.882Z"
   },
   {
    "duration": 4,
    "start_time": "2021-11-16T09:29:54.281Z"
   },
   {
    "duration": 3,
    "start_time": "2021-11-16T09:30:45.936Z"
   },
   {
    "duration": 4,
    "start_time": "2021-11-16T09:31:06.300Z"
   },
   {
    "duration": 113,
    "start_time": "2021-11-16T09:31:37.208Z"
   },
   {
    "duration": 143,
    "start_time": "2021-11-16T09:31:48.656Z"
   },
   {
    "duration": 98,
    "start_time": "2021-11-16T09:31:55.678Z"
   },
   {
    "duration": 3,
    "start_time": "2021-11-16T09:32:08.535Z"
   },
   {
    "duration": 111,
    "start_time": "2021-11-16T09:32:10.120Z"
   },
   {
    "duration": 3,
    "start_time": "2021-11-16T09:32:15.732Z"
   },
   {
    "duration": 4,
    "start_time": "2021-11-16T09:32:29.423Z"
   },
   {
    "duration": 3,
    "start_time": "2021-11-16T10:03:03.074Z"
   },
   {
    "duration": 3,
    "start_time": "2021-11-16T10:10:01.288Z"
   },
   {
    "duration": 3,
    "start_time": "2021-11-16T10:10:46.923Z"
   },
   {
    "duration": 121,
    "start_time": "2021-11-16T10:37:46.494Z"
   },
   {
    "duration": 125,
    "start_time": "2021-11-16T10:38:20.632Z"
   },
   {
    "duration": 112,
    "start_time": "2021-11-16T10:46:53.001Z"
   },
   {
    "duration": 110,
    "start_time": "2021-11-16T10:48:25.775Z"
   },
   {
    "duration": 3,
    "start_time": "2021-11-16T10:50:18.720Z"
   },
   {
    "duration": 4,
    "start_time": "2021-11-16T10:50:37.649Z"
   },
   {
    "duration": 2,
    "start_time": "2021-11-16T10:50:51.884Z"
   },
   {
    "duration": 3,
    "start_time": "2021-11-16T10:51:56.237Z"
   },
   {
    "duration": 101,
    "start_time": "2021-11-16T10:53:13.791Z"
   },
   {
    "duration": 3,
    "start_time": "2021-11-16T10:55:59.186Z"
   },
   {
    "duration": 3,
    "start_time": "2021-11-16T10:56:10.751Z"
   },
   {
    "duration": 3,
    "start_time": "2021-11-16T10:56:49.038Z"
   },
   {
    "duration": 3,
    "start_time": "2021-11-16T10:56:49.174Z"
   },
   {
    "duration": 4,
    "start_time": "2021-11-16T10:56:49.414Z"
   },
   {
    "duration": 3,
    "start_time": "2021-11-16T10:56:49.680Z"
   },
   {
    "duration": 3,
    "start_time": "2021-11-16T10:56:50.370Z"
   },
   {
    "duration": 114,
    "start_time": "2021-11-16T10:59:34.518Z"
   },
   {
    "duration": 3,
    "start_time": "2021-11-16T11:01:41.201Z"
   },
   {
    "duration": 116,
    "start_time": "2021-11-16T11:01:48.754Z"
   },
   {
    "duration": 3,
    "start_time": "2021-11-16T11:02:16.685Z"
   },
   {
    "duration": 3,
    "start_time": "2021-11-16T11:02:19.479Z"
   },
   {
    "duration": 3,
    "start_time": "2021-11-16T11:02:47.067Z"
   },
   {
    "duration": 3,
    "start_time": "2021-11-16T11:02:49.353Z"
   },
   {
    "duration": 3,
    "start_time": "2021-11-16T11:03:07.835Z"
   },
   {
    "duration": 3,
    "start_time": "2021-11-16T11:03:07.953Z"
   },
   {
    "duration": 112,
    "start_time": "2021-11-16T11:07:52.072Z"
   },
   {
    "duration": 187,
    "start_time": "2021-11-16T11:09:23.468Z"
   },
   {
    "duration": 4,
    "start_time": "2021-11-16T11:10:01.455Z"
   },
   {
    "duration": 3,
    "start_time": "2021-11-16T11:10:05.069Z"
   },
   {
    "duration": 4,
    "start_time": "2021-11-16T11:10:13.376Z"
   },
   {
    "duration": 3,
    "start_time": "2021-11-16T11:10:14.434Z"
   },
   {
    "duration": 3,
    "start_time": "2021-11-16T11:10:22.853Z"
   },
   {
    "duration": 4,
    "start_time": "2021-11-16T11:27:29.279Z"
   },
   {
    "duration": 4,
    "start_time": "2021-11-16T11:29:08.919Z"
   },
   {
    "duration": 118,
    "start_time": "2021-11-16T11:29:46.703Z"
   },
   {
    "duration": 437,
    "start_time": "2021-11-16T11:36:02.181Z"
   },
   {
    "duration": 157,
    "start_time": "2021-11-16T11:36:14.388Z"
   },
   {
    "duration": 207,
    "start_time": "2021-11-16T11:47:15.898Z"
   },
   {
    "duration": 3,
    "start_time": "2021-11-16T11:53:52.092Z"
   },
   {
    "duration": 3,
    "start_time": "2021-11-16T11:53:52.236Z"
   },
   {
    "duration": 3,
    "start_time": "2021-11-16T11:59:12.005Z"
   },
   {
    "duration": 112,
    "start_time": "2021-11-16T12:00:33.446Z"
   },
   {
    "duration": 3,
    "start_time": "2021-11-16T12:02:14.453Z"
   },
   {
    "duration": 3,
    "start_time": "2021-11-16T12:02:39.512Z"
   },
   {
    "duration": 106,
    "start_time": "2021-11-16T12:03:03.460Z"
   },
   {
    "duration": 3,
    "start_time": "2021-11-17T20:37:21.139Z"
   },
   {
    "duration": 3,
    "start_time": "2021-11-17T20:37:22.229Z"
   },
   {
    "duration": 3,
    "start_time": "2021-11-17T20:38:38.806Z"
   },
   {
    "duration": 3,
    "start_time": "2021-11-17T20:38:41.958Z"
   },
   {
    "duration": 3,
    "start_time": "2021-11-17T20:43:46.551Z"
   },
   {
    "duration": 4,
    "start_time": "2021-11-17T20:58:21.835Z"
   },
   {
    "duration": 3,
    "start_time": "2021-11-17T20:59:21.872Z"
   },
   {
    "duration": 4,
    "start_time": "2021-11-17T20:59:45.352Z"
   },
   {
    "duration": 4,
    "start_time": "2021-11-17T20:59:49.646Z"
   },
   {
    "duration": 159,
    "start_time": "2021-11-17T21:02:26.949Z"
   },
   {
    "duration": 3,
    "start_time": "2021-11-17T21:03:53.461Z"
   },
   {
    "duration": 3,
    "start_time": "2021-11-17T21:03:53.694Z"
   },
   {
    "duration": 3,
    "start_time": "2021-11-17T21:05:28.145Z"
   },
   {
    "duration": 116,
    "start_time": "2021-11-17T21:05:57.787Z"
   },
   {
    "duration": 3,
    "start_time": "2021-11-17T21:06:37.993Z"
   },
   {
    "duration": 3,
    "start_time": "2021-11-17T21:06:38.261Z"
   },
   {
    "duration": 3,
    "start_time": "2021-11-17T21:11:54.358Z"
   },
   {
    "duration": 3,
    "start_time": "2021-11-17T21:12:43.846Z"
   },
   {
    "duration": 4,
    "start_time": "2021-11-17T21:13:08.773Z"
   },
   {
    "duration": 3,
    "start_time": "2021-11-17T21:14:44.441Z"
   },
   {
    "duration": 3,
    "start_time": "2021-11-17T21:15:42.059Z"
   },
   {
    "duration": 4,
    "start_time": "2021-11-17T21:15:51.995Z"
   },
   {
    "duration": 3,
    "start_time": "2021-11-17T21:15:53.923Z"
   },
   {
    "duration": 3,
    "start_time": "2021-11-17T21:15:55.282Z"
   },
   {
    "duration": 3,
    "start_time": "2021-11-17T21:16:28.492Z"
   },
   {
    "duration": 3,
    "start_time": "2021-11-17T21:16:32.603Z"
   },
   {
    "duration": 3,
    "start_time": "2021-11-17T21:17:06.941Z"
   },
   {
    "duration": 98,
    "start_time": "2021-11-17T21:18:05.733Z"
   },
   {
    "duration": 4,
    "start_time": "2021-11-17T21:21:35.255Z"
   },
   {
    "duration": 3,
    "start_time": "2021-11-17T21:21:37.804Z"
   },
   {
    "duration": 4,
    "start_time": "2021-11-17T21:23:06.071Z"
   },
   {
    "duration": 3,
    "start_time": "2021-11-17T21:23:24.799Z"
   },
   {
    "duration": 3,
    "start_time": "2021-11-17T21:23:32.591Z"
   },
   {
    "duration": 98,
    "start_time": "2021-11-17T21:28:31.559Z"
   },
   {
    "duration": 3,
    "start_time": "2021-11-17T21:28:45.448Z"
   },
   {
    "duration": 3,
    "start_time": "2021-11-17T21:29:17.303Z"
   },
   {
    "duration": 3,
    "start_time": "2021-11-17T21:29:29.617Z"
   },
   {
    "duration": 3,
    "start_time": "2021-11-17T21:29:32.681Z"
   },
   {
    "duration": 3,
    "start_time": "2021-11-17T21:36:11.474Z"
   },
   {
    "duration": 3,
    "start_time": "2021-11-17T21:36:14.791Z"
   },
   {
    "duration": 3,
    "start_time": "2021-11-17T21:36:53.943Z"
   },
   {
    "duration": 3,
    "start_time": "2021-11-17T21:36:56.165Z"
   },
   {
    "duration": 4,
    "start_time": "2021-11-17T21:37:16.590Z"
   },
   {
    "duration": 3,
    "start_time": "2021-11-17T21:37:22.702Z"
   },
   {
    "duration": 4,
    "start_time": "2021-11-17T21:38:03.479Z"
   },
   {
    "duration": 3,
    "start_time": "2021-11-17T21:38:08.601Z"
   },
   {
    "duration": 3,
    "start_time": "2021-11-17T21:38:12.928Z"
   },
   {
    "duration": 3,
    "start_time": "2021-11-17T21:38:48.896Z"
   },
   {
    "duration": 2,
    "start_time": "2021-11-17T21:38:49.171Z"
   },
   {
    "duration": 4,
    "start_time": "2021-11-17T21:39:57.889Z"
   },
   {
    "duration": 3,
    "start_time": "2021-11-17T21:39:58.057Z"
   },
   {
    "duration": 3,
    "start_time": "2021-11-17T21:41:20.108Z"
   },
   {
    "duration": 3,
    "start_time": "2021-11-17T21:41:20.629Z"
   },
   {
    "duration": 3,
    "start_time": "2021-11-17T21:42:49.136Z"
   },
   {
    "duration": 3,
    "start_time": "2021-11-17T21:43:15.137Z"
   },
   {
    "duration": 4,
    "start_time": "2021-11-17T21:43:16.766Z"
   },
   {
    "duration": 4,
    "start_time": "2021-11-17T21:43:31.711Z"
   },
   {
    "duration": 3,
    "start_time": "2021-11-17T21:43:36.312Z"
   },
   {
    "duration": 4,
    "start_time": "2021-11-17T21:45:08.825Z"
   },
   {
    "duration": 4,
    "start_time": "2021-11-17T21:45:10.119Z"
   },
   {
    "duration": 4,
    "start_time": "2021-11-17T21:45:13.748Z"
   },
   {
    "duration": 3,
    "start_time": "2021-11-17T21:45:22.219Z"
   },
   {
    "duration": 3,
    "start_time": "2021-11-17T21:45:33.412Z"
   },
   {
    "duration": 2,
    "start_time": "2021-11-17T21:46:01.885Z"
   },
   {
    "duration": 3,
    "start_time": "2021-11-17T21:46:03.628Z"
   },
   {
    "duration": 107,
    "start_time": "2021-11-17T21:47:32.512Z"
   },
   {
    "duration": 103,
    "start_time": "2021-11-17T21:50:36.243Z"
   },
   {
    "duration": 3,
    "start_time": "2021-11-18T06:28:31.440Z"
   },
   {
    "duration": 3,
    "start_time": "2021-11-18T06:29:00.168Z"
   },
   {
    "duration": 3,
    "start_time": "2021-11-18T06:31:27.008Z"
   },
   {
    "duration": 2,
    "start_time": "2021-11-18T06:35:34.288Z"
   },
   {
    "duration": 2,
    "start_time": "2021-11-18T06:38:04.527Z"
   },
   {
    "duration": 916,
    "start_time": "2024-05-23T17:54:15.738Z"
   },
   {
    "duration": 3917,
    "start_time": "2024-05-23T17:54:33.159Z"
   },
   {
    "duration": 7,
    "start_time": "2024-05-23T17:55:34.167Z"
   },
   {
    "duration": 156,
    "start_time": "2024-05-23T17:55:47.023Z"
   },
   {
    "duration": 120,
    "start_time": "2024-05-23T17:56:00.688Z"
   },
   {
    "duration": 127,
    "start_time": "2024-05-23T17:57:00.550Z"
   },
   {
    "duration": 77,
    "start_time": "2024-05-23T17:57:30.854Z"
   },
   {
    "duration": 9,
    "start_time": "2024-05-23T17:57:57.370Z"
   },
   {
    "duration": 14,
    "start_time": "2024-05-23T17:58:20.028Z"
   },
   {
    "duration": 17,
    "start_time": "2024-05-23T17:59:08.805Z"
   },
   {
    "duration": 962,
    "start_time": "2024-05-23T18:00:02.131Z"
   },
   {
    "duration": 10,
    "start_time": "2024-05-23T18:01:32.831Z"
   },
   {
    "duration": 15,
    "start_time": "2024-05-23T18:01:39.354Z"
   },
   {
    "duration": 11,
    "start_time": "2024-05-23T18:08:07.271Z"
   },
   {
    "duration": 13,
    "start_time": "2024-05-23T18:08:17.982Z"
   },
   {
    "duration": 24,
    "start_time": "2024-05-23T18:08:34.493Z"
   },
   {
    "duration": 23,
    "start_time": "2024-05-23T18:08:48.785Z"
   },
   {
    "duration": 14,
    "start_time": "2024-05-23T18:08:57.836Z"
   },
   {
    "duration": 6,
    "start_time": "2024-05-23T18:09:13.333Z"
   },
   {
    "duration": 14,
    "start_time": "2024-05-23T18:09:19.154Z"
   },
   {
    "duration": 23,
    "start_time": "2024-05-23T18:09:27.325Z"
   },
   {
    "duration": 16,
    "start_time": "2024-05-23T18:09:46.895Z"
   },
   {
    "duration": 26,
    "start_time": "2024-05-23T18:12:09.868Z"
   },
   {
    "duration": 14,
    "start_time": "2024-05-23T18:12:18.316Z"
   },
   {
    "duration": 182,
    "start_time": "2024-05-23T18:13:01.557Z"
   },
   {
    "duration": 14,
    "start_time": "2024-05-23T18:13:11.598Z"
   },
   {
    "duration": 24,
    "start_time": "2024-05-23T18:13:57.155Z"
   },
   {
    "duration": 16,
    "start_time": "2024-05-23T18:14:06.493Z"
   },
   {
    "duration": 12,
    "start_time": "2024-05-23T18:22:24.904Z"
   },
   {
    "duration": 13,
    "start_time": "2024-05-23T18:24:32.999Z"
   },
   {
    "duration": 22,
    "start_time": "2024-05-23T18:24:53.510Z"
   },
   {
    "duration": 21,
    "start_time": "2024-05-23T18:26:31.951Z"
   },
   {
    "duration": 15,
    "start_time": "2024-05-23T18:27:06.351Z"
   },
   {
    "duration": 312,
    "start_time": "2024-05-23T23:05:44.526Z"
   },
   {
    "duration": 4842,
    "start_time": "2024-05-23T23:05:58.486Z"
   },
   {
    "duration": 151,
    "start_time": "2024-05-23T23:06:03.333Z"
   },
   {
    "duration": 154,
    "start_time": "2024-05-23T23:06:03.487Z"
   },
   {
    "duration": 86,
    "start_time": "2024-05-23T23:06:03.646Z"
   },
   {
    "duration": 9,
    "start_time": "2024-05-23T23:06:03.735Z"
   },
   {
    "duration": 10,
    "start_time": "2024-05-23T23:06:03.747Z"
   },
   {
    "duration": 16,
    "start_time": "2024-05-23T23:06:03.761Z"
   },
   {
    "duration": 47,
    "start_time": "2024-05-23T23:06:03.780Z"
   },
   {
    "duration": 16,
    "start_time": "2024-05-23T23:06:03.829Z"
   },
   {
    "duration": 14,
    "start_time": "2024-05-23T23:06:03.850Z"
   },
   {
    "duration": 55,
    "start_time": "2024-05-23T23:06:03.867Z"
   },
   {
    "duration": 17,
    "start_time": "2024-05-23T23:06:03.924Z"
   },
   {
    "duration": 4,
    "start_time": "2024-05-23T23:06:03.944Z"
   },
   {
    "duration": 3,
    "start_time": "2024-05-23T23:06:03.951Z"
   },
   {
    "duration": 3,
    "start_time": "2024-05-23T23:06:03.958Z"
   },
   {
    "duration": 48,
    "start_time": "2024-05-23T23:06:03.965Z"
   },
   {
    "duration": 4,
    "start_time": "2024-05-23T23:06:04.017Z"
   },
   {
    "duration": 4,
    "start_time": "2024-05-23T23:06:04.025Z"
   },
   {
    "duration": 3,
    "start_time": "2024-05-23T23:06:04.033Z"
   },
   {
    "duration": 3,
    "start_time": "2024-05-23T23:06:04.039Z"
   },
   {
    "duration": 4,
    "start_time": "2024-05-23T23:06:04.045Z"
   },
   {
    "duration": 4,
    "start_time": "2024-05-23T23:06:04.052Z"
   },
   {
    "duration": 3,
    "start_time": "2024-05-23T23:06:04.112Z"
   },
   {
    "duration": 7,
    "start_time": "2024-05-23T23:06:04.121Z"
   },
   {
    "duration": 4,
    "start_time": "2024-05-23T23:06:04.131Z"
   },
   {
    "duration": 3,
    "start_time": "2024-05-23T23:06:04.139Z"
   },
   {
    "duration": 4,
    "start_time": "2024-05-23T23:06:04.145Z"
   },
   {
    "duration": 3,
    "start_time": "2024-05-23T23:06:04.156Z"
   },
   {
    "duration": 4,
    "start_time": "2024-05-23T23:06:04.214Z"
   },
   {
    "duration": 3,
    "start_time": "2024-05-23T23:06:04.222Z"
   },
   {
    "duration": 3,
    "start_time": "2024-05-23T23:06:04.228Z"
   },
   {
    "duration": 4,
    "start_time": "2024-05-23T23:06:04.234Z"
   },
   {
    "duration": 5,
    "start_time": "2024-05-23T23:06:04.242Z"
   },
   {
    "duration": 3,
    "start_time": "2024-05-23T23:06:04.251Z"
   },
   {
    "duration": 5,
    "start_time": "2024-05-23T23:06:46.341Z"
   },
   {
    "duration": 8,
    "start_time": "2024-05-23T23:07:43.711Z"
   },
   {
    "duration": 18,
    "start_time": "2024-05-23T23:07:50.484Z"
   },
   {
    "duration": 2413,
    "start_time": "2024-05-23T23:12:53.126Z"
   },
   {
    "duration": 177,
    "start_time": "2024-05-23T23:15:33.468Z"
   },
   {
    "duration": 71,
    "start_time": "2024-05-23T23:16:14.355Z"
   },
   {
    "duration": 305,
    "start_time": "2024-05-23T23:21:32.204Z"
   },
   {
    "duration": 109,
    "start_time": "2024-05-23T23:22:05.333Z"
   },
   {
    "duration": 108,
    "start_time": "2024-05-23T23:24:54.917Z"
   },
   {
    "duration": 79,
    "start_time": "2024-05-23T23:25:21.325Z"
   },
   {
    "duration": 32,
    "start_time": "2024-05-23T23:28:30.118Z"
   },
   {
    "duration": 21,
    "start_time": "2024-05-23T23:28:43.254Z"
   },
   {
    "duration": 19,
    "start_time": "2024-05-23T23:29:46.727Z"
   },
   {
    "duration": 23,
    "start_time": "2024-05-23T23:29:57.496Z"
   },
   {
    "duration": 18,
    "start_time": "2024-05-23T23:30:04.732Z"
   },
   {
    "duration": 23,
    "start_time": "2024-05-23T23:30:10.269Z"
   },
   {
    "duration": 26,
    "start_time": "2024-05-23T23:30:20.416Z"
   },
   {
    "duration": 24,
    "start_time": "2024-05-23T23:30:37.829Z"
   },
   {
    "duration": 25,
    "start_time": "2024-05-23T23:30:49.473Z"
   },
   {
    "duration": 19,
    "start_time": "2024-05-23T23:31:26.602Z"
   },
   {
    "duration": 19,
    "start_time": "2024-05-23T23:31:36.514Z"
   },
   {
    "duration": 236,
    "start_time": "2024-05-23T23:31:48.759Z"
   },
   {
    "duration": 19,
    "start_time": "2024-05-23T23:32:08.141Z"
   },
   {
    "duration": 5,
    "start_time": "2024-05-23T23:37:22.983Z"
   },
   {
    "duration": 20,
    "start_time": "2024-05-23T23:37:25.959Z"
   },
   {
    "duration": 1155,
    "start_time": "2024-05-23T23:37:40.904Z"
   },
   {
    "duration": 136,
    "start_time": "2024-05-23T23:37:42.063Z"
   },
   {
    "duration": 91,
    "start_time": "2024-05-23T23:37:42.201Z"
   },
   {
    "duration": 66,
    "start_time": "2024-05-23T23:37:42.296Z"
   },
   {
    "duration": 7,
    "start_time": "2024-05-23T23:37:42.368Z"
   },
   {
    "duration": 9,
    "start_time": "2024-05-23T23:37:42.378Z"
   },
   {
    "duration": 35,
    "start_time": "2024-05-23T23:37:42.390Z"
   },
   {
    "duration": 17,
    "start_time": "2024-05-23T23:37:42.428Z"
   },
   {
    "duration": 17,
    "start_time": "2024-05-23T23:37:42.448Z"
   },
   {
    "duration": 52,
    "start_time": "2024-05-23T23:37:42.468Z"
   },
   {
    "duration": 14,
    "start_time": "2024-05-23T23:37:42.523Z"
   },
   {
    "duration": 6,
    "start_time": "2024-05-23T23:37:42.540Z"
   },
   {
    "duration": 63,
    "start_time": "2024-05-23T23:37:42.549Z"
   },
   {
    "duration": 5,
    "start_time": "2024-05-23T23:37:42.618Z"
   },
   {
    "duration": 22,
    "start_time": "2024-05-23T23:37:42.625Z"
   },
   {
    "duration": 3,
    "start_time": "2024-05-23T23:37:42.650Z"
   },
   {
    "duration": 3,
    "start_time": "2024-05-23T23:37:42.657Z"
   },
   {
    "duration": 4,
    "start_time": "2024-05-23T23:37:42.663Z"
   },
   {
    "duration": 3,
    "start_time": "2024-05-23T23:37:42.713Z"
   },
   {
    "duration": 4,
    "start_time": "2024-05-23T23:37:42.720Z"
   },
   {
    "duration": 3,
    "start_time": "2024-05-23T23:37:42.727Z"
   },
   {
    "duration": 4,
    "start_time": "2024-05-23T23:37:42.733Z"
   },
   {
    "duration": 3,
    "start_time": "2024-05-23T23:37:42.740Z"
   },
   {
    "duration": 4,
    "start_time": "2024-05-23T23:37:42.746Z"
   },
   {
    "duration": 59,
    "start_time": "2024-05-23T23:37:42.753Z"
   },
   {
    "duration": 3,
    "start_time": "2024-05-23T23:37:42.815Z"
   },
   {
    "duration": 3,
    "start_time": "2024-05-23T23:37:42.822Z"
   },
   {
    "duration": 4,
    "start_time": "2024-05-23T23:37:42.828Z"
   },
   {
    "duration": 3,
    "start_time": "2024-05-23T23:37:42.835Z"
   },
   {
    "duration": 3,
    "start_time": "2024-05-23T23:37:42.842Z"
   },
   {
    "duration": 4,
    "start_time": "2024-05-23T23:37:42.848Z"
   },
   {
    "duration": 57,
    "start_time": "2024-05-23T23:37:42.855Z"
   },
   {
    "duration": 3,
    "start_time": "2024-05-23T23:37:42.916Z"
   },
   {
    "duration": 3,
    "start_time": "2024-05-23T23:37:42.923Z"
   },
   {
    "duration": 4,
    "start_time": "2024-05-23T23:37:42.929Z"
   },
   {
    "duration": 4,
    "start_time": "2024-05-23T23:37:42.935Z"
   },
   {
    "duration": 4,
    "start_time": "2024-05-23T23:37:42.942Z"
   },
   {
    "duration": 17,
    "start_time": "2024-05-23T23:38:48.979Z"
   },
   {
    "duration": 12,
    "start_time": "2024-05-23T23:39:01.515Z"
   },
   {
    "duration": 403,
    "start_time": "2024-05-23T23:39:44.457Z"
   },
   {
    "duration": 26,
    "start_time": "2024-05-23T23:39:56.222Z"
   },
   {
    "duration": 5,
    "start_time": "2024-05-23T23:40:02.407Z"
   },
   {
    "duration": 845,
    "start_time": "2024-05-23T23:41:01.704Z"
   },
   {
    "duration": 88,
    "start_time": "2024-05-23T23:41:19.051Z"
   },
   {
    "duration": 5,
    "start_time": "2024-05-23T23:41:24.504Z"
   },
   {
    "duration": 20,
    "start_time": "2024-05-23T23:41:33.579Z"
   },
   {
    "duration": 19,
    "start_time": "2024-05-23T23:41:43.447Z"
   },
   {
    "duration": 17,
    "start_time": "2024-05-23T23:41:49.169Z"
   },
   {
    "duration": 19,
    "start_time": "2024-05-23T23:46:26.760Z"
   },
   {
    "duration": 5,
    "start_time": "2024-05-23T23:46:50.039Z"
   },
   {
    "duration": 20,
    "start_time": "2024-05-23T23:46:52.584Z"
   },
   {
    "duration": 339,
    "start_time": "2024-05-24T00:21:11.514Z"
   },
   {
    "duration": 25,
    "start_time": "2024-05-24T00:21:36.336Z"
   },
   {
    "duration": 3,
    "start_time": "2024-05-24T00:21:39.624Z"
   },
   {
    "duration": 5231,
    "start_time": "2024-05-24T00:21:53.401Z"
   },
   {
    "duration": 165,
    "start_time": "2024-05-24T00:21:58.638Z"
   },
   {
    "duration": 154,
    "start_time": "2024-05-24T00:21:58.807Z"
   },
   {
    "duration": 94,
    "start_time": "2024-05-24T00:21:58.967Z"
   },
   {
    "duration": 12,
    "start_time": "2024-05-24T00:21:59.064Z"
   },
   {
    "duration": 13,
    "start_time": "2024-05-24T00:21:59.079Z"
   },
   {
    "duration": 33,
    "start_time": "2024-05-24T00:21:59.098Z"
   },
   {
    "duration": 17,
    "start_time": "2024-05-24T00:21:59.135Z"
   },
   {
    "duration": 18,
    "start_time": "2024-05-24T00:21:59.155Z"
   },
   {
    "duration": 54,
    "start_time": "2024-05-24T00:21:59.180Z"
   },
   {
    "duration": 16,
    "start_time": "2024-05-24T00:21:59.238Z"
   },
   {
    "duration": 7,
    "start_time": "2024-05-24T00:21:59.258Z"
   },
   {
    "duration": 20,
    "start_time": "2024-05-24T00:21:59.270Z"
   },
   {
    "duration": 6,
    "start_time": "2024-05-24T00:21:59.331Z"
   },
   {
    "duration": 26,
    "start_time": "2024-05-24T00:21:59.340Z"
   },
   {
    "duration": 62,
    "start_time": "2024-05-24T00:21:59.371Z"
   },
   {
    "duration": 4,
    "start_time": "2024-05-24T00:21:59.436Z"
   },
   {
    "duration": 4,
    "start_time": "2024-05-24T00:21:59.444Z"
   },
   {
    "duration": 4,
    "start_time": "2024-05-24T00:21:59.451Z"
   },
   {
    "duration": 4,
    "start_time": "2024-05-24T00:21:59.458Z"
   },
   {
    "duration": 10,
    "start_time": "2024-05-24T00:21:59.465Z"
   },
   {
    "duration": 4,
    "start_time": "2024-05-24T00:21:59.478Z"
   },
   {
    "duration": 3,
    "start_time": "2024-05-24T00:21:59.530Z"
   },
   {
    "duration": 3,
    "start_time": "2024-05-24T00:21:59.538Z"
   },
   {
    "duration": 4,
    "start_time": "2024-05-24T00:21:59.545Z"
   },
   {
    "duration": 3,
    "start_time": "2024-05-24T00:21:59.554Z"
   },
   {
    "duration": 4,
    "start_time": "2024-05-24T00:21:59.561Z"
   },
   {
    "duration": 3,
    "start_time": "2024-05-24T00:21:59.573Z"
   },
   {
    "duration": 4,
    "start_time": "2024-05-24T00:21:59.632Z"
   },
   {
    "duration": 3,
    "start_time": "2024-05-24T00:21:59.640Z"
   },
   {
    "duration": 4,
    "start_time": "2024-05-24T00:21:59.646Z"
   },
   {
    "duration": 3,
    "start_time": "2024-05-24T00:21:59.653Z"
   },
   {
    "duration": 3,
    "start_time": "2024-05-24T00:21:59.660Z"
   },
   {
    "duration": 4,
    "start_time": "2024-05-24T00:21:59.667Z"
   },
   {
    "duration": 4,
    "start_time": "2024-05-24T00:21:59.730Z"
   },
   {
    "duration": 4,
    "start_time": "2024-05-24T00:21:59.738Z"
   },
   {
    "duration": 4,
    "start_time": "2024-05-24T00:21:59.745Z"
   },
   {
    "duration": 19,
    "start_time": "2024-05-24T00:23:12.410Z"
   },
   {
    "duration": 45,
    "start_time": "2024-05-24T00:35:53.443Z"
   },
   {
    "duration": 5,
    "start_time": "2024-05-24T00:37:44.974Z"
   },
   {
    "duration": 17,
    "start_time": "2024-05-24T00:38:13.276Z"
   },
   {
    "duration": 18,
    "start_time": "2024-05-24T00:39:26.319Z"
   },
   {
    "duration": 4,
    "start_time": "2024-05-24T00:44:08.561Z"
   },
   {
    "duration": 548,
    "start_time": "2024-05-24T00:44:56.218Z"
   },
   {
    "duration": 67,
    "start_time": "2024-05-24T00:47:06.342Z"
   },
   {
    "duration": 1212,
    "start_time": "2024-05-24T00:47:33.662Z"
   },
   {
    "duration": 134,
    "start_time": "2024-05-24T00:47:34.878Z"
   },
   {
    "duration": 91,
    "start_time": "2024-05-24T00:47:35.015Z"
   },
   {
    "duration": 75,
    "start_time": "2024-05-24T00:47:35.109Z"
   },
   {
    "duration": 9,
    "start_time": "2024-05-24T00:47:35.188Z"
   },
   {
    "duration": 10,
    "start_time": "2024-05-24T00:47:35.200Z"
   },
   {
    "duration": 16,
    "start_time": "2024-05-24T00:47:35.232Z"
   },
   {
    "duration": 18,
    "start_time": "2024-05-24T00:47:35.251Z"
   },
   {
    "duration": 17,
    "start_time": "2024-05-24T00:47:35.272Z"
   },
   {
    "duration": 15,
    "start_time": "2024-05-24T00:47:35.332Z"
   },
   {
    "duration": 15,
    "start_time": "2024-05-24T00:47:35.349Z"
   },
   {
    "duration": 7,
    "start_time": "2024-05-24T00:47:35.367Z"
   },
   {
    "duration": 57,
    "start_time": "2024-05-24T00:47:35.378Z"
   },
   {
    "duration": 5,
    "start_time": "2024-05-24T00:47:35.442Z"
   },
   {
    "duration": 20,
    "start_time": "2024-05-24T00:47:35.450Z"
   },
   {
    "duration": 58,
    "start_time": "2024-05-24T00:47:35.473Z"
   },
   {
    "duration": 16,
    "start_time": "2024-05-24T00:47:35.534Z"
   },
   {
    "duration": 46,
    "start_time": "2024-05-24T00:47:35.553Z"
   },
   {
    "duration": 114,
    "start_time": "2024-05-24T00:47:35.601Z"
   },
   {
    "duration": 14,
    "start_time": "2024-05-24T00:47:35.717Z"
   },
   {
    "duration": 4,
    "start_time": "2024-05-24T00:47:35.734Z"
   },
   {
    "duration": 4,
    "start_time": "2024-05-24T00:47:35.741Z"
   },
   {
    "duration": 4,
    "start_time": "2024-05-24T00:47:35.748Z"
   },
   {
    "duration": 4,
    "start_time": "2024-05-24T00:47:35.755Z"
   },
   {
    "duration": 3,
    "start_time": "2024-05-24T00:47:35.762Z"
   },
   {
    "duration": 4,
    "start_time": "2024-05-24T00:47:35.768Z"
   },
   {
    "duration": 58,
    "start_time": "2024-05-24T00:47:35.775Z"
   },
   {
    "duration": 4,
    "start_time": "2024-05-24T00:47:35.836Z"
   },
   {
    "duration": 4,
    "start_time": "2024-05-24T00:47:35.842Z"
   },
   {
    "duration": 4,
    "start_time": "2024-05-24T00:47:35.849Z"
   },
   {
    "duration": 4,
    "start_time": "2024-05-24T00:47:35.856Z"
   },
   {
    "duration": 3,
    "start_time": "2024-05-24T00:47:35.863Z"
   },
   {
    "duration": 60,
    "start_time": "2024-05-24T00:47:35.870Z"
   },
   {
    "duration": 5,
    "start_time": "2024-05-24T00:47:35.934Z"
   },
   {
    "duration": 6,
    "start_time": "2024-05-24T00:47:35.943Z"
   },
   {
    "duration": 4,
    "start_time": "2024-05-24T00:47:35.951Z"
   },
   {
    "duration": 4,
    "start_time": "2024-05-24T00:47:35.958Z"
   },
   {
    "duration": 3,
    "start_time": "2024-05-24T00:47:35.966Z"
   },
   {
    "duration": 3,
    "start_time": "2024-05-24T00:47:35.972Z"
   },
   {
    "duration": 246,
    "start_time": "2024-05-24T00:54:15.772Z"
   },
   {
    "duration": 69,
    "start_time": "2024-05-24T00:54:23.596Z"
   },
   {
    "duration": 65,
    "start_time": "2024-05-24T00:54:28.127Z"
   },
   {
    "duration": 292,
    "start_time": "2024-05-24T01:00:22.752Z"
   },
   {
    "duration": 9,
    "start_time": "2024-05-24T01:00:32.264Z"
   },
   {
    "duration": 818,
    "start_time": "2024-05-24T01:00:34.846Z"
   },
   {
    "duration": 232,
    "start_time": "2024-05-24T01:02:46.913Z"
   },
   {
    "duration": 47,
    "start_time": "2024-05-24T01:03:10.715Z"
   },
   {
    "duration": 44,
    "start_time": "2024-05-24T01:03:27.883Z"
   },
   {
    "duration": 1174,
    "start_time": "2024-05-24T01:03:39.499Z"
   },
   {
    "duration": 124,
    "start_time": "2024-05-24T01:03:40.678Z"
   },
   {
    "duration": 94,
    "start_time": "2024-05-24T01:03:40.805Z"
   },
   {
    "duration": 60,
    "start_time": "2024-05-24T01:03:40.904Z"
   },
   {
    "duration": 9,
    "start_time": "2024-05-24T01:03:40.966Z"
   },
   {
    "duration": 9,
    "start_time": "2024-05-24T01:03:40.978Z"
   },
   {
    "duration": 15,
    "start_time": "2024-05-24T01:03:40.990Z"
   },
   {
    "duration": 16,
    "start_time": "2024-05-24T01:03:41.031Z"
   },
   {
    "duration": 20,
    "start_time": "2024-05-24T01:03:41.050Z"
   },
   {
    "duration": 15,
    "start_time": "2024-05-24T01:03:41.077Z"
   },
   {
    "duration": 48,
    "start_time": "2024-05-24T01:03:41.095Z"
   },
   {
    "duration": 6,
    "start_time": "2024-05-24T01:03:41.146Z"
   },
   {
    "duration": 17,
    "start_time": "2024-05-24T01:03:41.155Z"
   },
   {
    "duration": 6,
    "start_time": "2024-05-24T01:03:41.176Z"
   },
   {
    "duration": 62,
    "start_time": "2024-05-24T01:03:41.186Z"
   },
   {
    "duration": 25,
    "start_time": "2024-05-24T01:03:41.252Z"
   },
   {
    "duration": 16,
    "start_time": "2024-05-24T01:03:41.282Z"
   },
   {
    "duration": 45,
    "start_time": "2024-05-24T01:03:41.331Z"
   },
   {
    "duration": 75,
    "start_time": "2024-05-24T01:03:41.379Z"
   },
   {
    "duration": 3,
    "start_time": "2024-05-24T01:03:41.457Z"
   },
   {
    "duration": 3,
    "start_time": "2024-05-24T01:03:41.464Z"
   },
   {
    "duration": 6,
    "start_time": "2024-05-24T01:03:41.471Z"
   },
   {
    "duration": 4,
    "start_time": "2024-05-24T01:03:41.480Z"
   },
   {
    "duration": 41,
    "start_time": "2024-05-24T01:03:41.490Z"
   },
   {
    "duration": 4,
    "start_time": "2024-05-24T01:03:41.534Z"
   },
   {
    "duration": 3,
    "start_time": "2024-05-24T01:03:41.542Z"
   },
   {
    "duration": 6,
    "start_time": "2024-05-24T01:03:41.548Z"
   },
   {
    "duration": 4,
    "start_time": "2024-05-24T01:03:41.562Z"
   },
   {
    "duration": 4,
    "start_time": "2024-05-24T01:03:41.569Z"
   },
   {
    "duration": 52,
    "start_time": "2024-05-24T01:03:41.579Z"
   },
   {
    "duration": 5,
    "start_time": "2024-05-24T01:03:41.635Z"
   },
   {
    "duration": 4,
    "start_time": "2024-05-24T01:03:41.643Z"
   },
   {
    "duration": 4,
    "start_time": "2024-05-24T01:03:41.650Z"
   },
   {
    "duration": 4,
    "start_time": "2024-05-24T01:03:41.657Z"
   },
   {
    "duration": 4,
    "start_time": "2024-05-24T01:03:41.664Z"
   },
   {
    "duration": 7,
    "start_time": "2024-05-24T01:03:41.671Z"
   },
   {
    "duration": 53,
    "start_time": "2024-05-24T01:03:41.680Z"
   },
   {
    "duration": 3,
    "start_time": "2024-05-24T01:03:41.736Z"
   },
   {
    "duration": 4,
    "start_time": "2024-05-24T01:03:41.742Z"
   },
   {
    "duration": 1782,
    "start_time": "2024-05-24T01:03:59.628Z"
   },
   {
    "duration": 83,
    "start_time": "2024-05-24T01:04:39.580Z"
   },
   {
    "duration": 147,
    "start_time": "2024-05-24T01:04:51.966Z"
   },
   {
    "duration": 79,
    "start_time": "2024-05-24T01:06:48.961Z"
   },
   {
    "duration": 78,
    "start_time": "2024-05-24T01:07:05.498Z"
   },
   {
    "duration": 79,
    "start_time": "2024-05-24T01:09:46.033Z"
   },
   {
    "duration": 77,
    "start_time": "2024-05-24T01:10:33.245Z"
   },
   {
    "duration": 69,
    "start_time": "2024-05-24T01:10:58.150Z"
   },
   {
    "duration": 68,
    "start_time": "2024-05-24T01:11:25.734Z"
   },
   {
    "duration": 352,
    "start_time": "2024-05-24T01:12:06.254Z"
   },
   {
    "duration": 1328,
    "start_time": "2024-05-24T01:12:24.819Z"
   },
   {
    "duration": 156,
    "start_time": "2024-05-24T01:12:26.156Z"
   },
   {
    "duration": 125,
    "start_time": "2024-05-24T01:12:26.314Z"
   },
   {
    "duration": 59,
    "start_time": "2024-05-24T01:12:26.445Z"
   },
   {
    "duration": 27,
    "start_time": "2024-05-24T01:12:26.508Z"
   },
   {
    "duration": 10,
    "start_time": "2024-05-24T01:12:26.538Z"
   },
   {
    "duration": 19,
    "start_time": "2024-05-24T01:12:26.552Z"
   },
   {
    "duration": 18,
    "start_time": "2024-05-24T01:12:26.575Z"
   },
   {
    "duration": 21,
    "start_time": "2024-05-24T01:12:26.631Z"
   },
   {
    "duration": 18,
    "start_time": "2024-05-24T01:12:26.659Z"
   },
   {
    "duration": 51,
    "start_time": "2024-05-24T01:12:26.681Z"
   },
   {
    "duration": 6,
    "start_time": "2024-05-24T01:12:26.736Z"
   },
   {
    "duration": 18,
    "start_time": "2024-05-24T01:12:26.745Z"
   },
   {
    "duration": 7,
    "start_time": "2024-05-24T01:12:26.767Z"
   },
   {
    "duration": 72,
    "start_time": "2024-05-24T01:12:26.777Z"
   },
   {
    "duration": 38,
    "start_time": "2024-05-24T01:12:26.852Z"
   },
   {
    "duration": 47,
    "start_time": "2024-05-24T01:12:26.893Z"
   },
   {
    "duration": 60,
    "start_time": "2024-05-24T01:12:26.946Z"
   },
   {
    "duration": 126,
    "start_time": "2024-05-24T01:12:27.011Z"
   },
   {
    "duration": 5,
    "start_time": "2024-05-24T01:12:27.140Z"
   },
   {
    "duration": 4,
    "start_time": "2024-05-24T01:12:27.148Z"
   },
   {
    "duration": 5,
    "start_time": "2024-05-24T01:12:27.156Z"
   },
   {
    "duration": 7,
    "start_time": "2024-05-24T01:12:27.167Z"
   },
   {
    "duration": 4,
    "start_time": "2024-05-24T01:12:27.183Z"
   },
   {
    "duration": 42,
    "start_time": "2024-05-24T01:12:27.190Z"
   },
   {
    "duration": 6,
    "start_time": "2024-05-24T01:12:27.235Z"
   },
   {
    "duration": 3,
    "start_time": "2024-05-24T01:12:27.249Z"
   },
   {
    "duration": 6,
    "start_time": "2024-05-24T01:12:27.265Z"
   },
   {
    "duration": 6,
    "start_time": "2024-05-24T01:12:27.278Z"
   },
   {
    "duration": 3,
    "start_time": "2024-05-24T01:12:27.330Z"
   },
   {
    "duration": 15,
    "start_time": "2024-05-24T01:12:27.338Z"
   },
   {
    "duration": 6,
    "start_time": "2024-05-24T01:12:27.357Z"
   },
   {
    "duration": 4,
    "start_time": "2024-05-24T01:12:27.369Z"
   },
   {
    "duration": 4,
    "start_time": "2024-05-24T01:12:27.379Z"
   },
   {
    "duration": 9,
    "start_time": "2024-05-24T01:12:27.386Z"
   },
   {
    "duration": 38,
    "start_time": "2024-05-24T01:12:27.401Z"
   },
   {
    "duration": 2,
    "start_time": "2024-05-24T01:12:27.447Z"
   },
   {
    "duration": 28,
    "start_time": "2024-05-24T01:12:27.453Z"
   },
   {
    "duration": 7,
    "start_time": "2024-05-24T01:12:27.496Z"
   },
   {
    "duration": 73,
    "start_time": "2024-05-24T01:13:12.269Z"
   },
   {
    "duration": 1182,
    "start_time": "2024-05-24T01:13:24.257Z"
   },
   {
    "duration": 122,
    "start_time": "2024-05-24T01:13:25.443Z"
   },
   {
    "duration": 114,
    "start_time": "2024-05-24T01:13:25.568Z"
   },
   {
    "duration": 64,
    "start_time": "2024-05-24T01:13:25.685Z"
   },
   {
    "duration": 8,
    "start_time": "2024-05-24T01:13:25.754Z"
   },
   {
    "duration": 10,
    "start_time": "2024-05-24T01:13:25.764Z"
   },
   {
    "duration": 16,
    "start_time": "2024-05-24T01:13:25.777Z"
   },
   {
    "duration": 48,
    "start_time": "2024-05-24T01:13:25.796Z"
   },
   {
    "duration": 16,
    "start_time": "2024-05-24T01:13:25.847Z"
   },
   {
    "duration": 16,
    "start_time": "2024-05-24T01:13:25.865Z"
   },
   {
    "duration": 53,
    "start_time": "2024-05-24T01:13:25.883Z"
   },
   {
    "duration": 7,
    "start_time": "2024-05-24T01:13:25.940Z"
   },
   {
    "duration": 18,
    "start_time": "2024-05-24T01:13:25.961Z"
   },
   {
    "duration": 6,
    "start_time": "2024-05-24T01:13:25.987Z"
   },
   {
    "duration": 51,
    "start_time": "2024-05-24T01:13:25.997Z"
   },
   {
    "duration": 28,
    "start_time": "2024-05-24T01:13:26.051Z"
   },
   {
    "duration": 50,
    "start_time": "2024-05-24T01:13:26.082Z"
   },
   {
    "duration": 46,
    "start_time": "2024-05-24T01:13:26.135Z"
   },
   {
    "duration": 107,
    "start_time": "2024-05-24T01:13:26.184Z"
   },
   {
    "duration": 5,
    "start_time": "2024-05-24T01:13:26.293Z"
   },
   {
    "duration": 3,
    "start_time": "2024-05-24T01:13:26.302Z"
   },
   {
    "duration": 25,
    "start_time": "2024-05-24T01:13:26.307Z"
   },
   {
    "duration": 4,
    "start_time": "2024-05-24T01:13:26.335Z"
   },
   {
    "duration": 4,
    "start_time": "2024-05-24T01:13:26.342Z"
   },
   {
    "duration": 4,
    "start_time": "2024-05-24T01:13:26.348Z"
   },
   {
    "duration": 3,
    "start_time": "2024-05-24T01:13:26.355Z"
   },
   {
    "duration": 4,
    "start_time": "2024-05-24T01:13:26.361Z"
   },
   {
    "duration": 4,
    "start_time": "2024-05-24T01:13:26.367Z"
   },
   {
    "duration": 57,
    "start_time": "2024-05-24T01:13:26.374Z"
   },
   {
    "duration": 3,
    "start_time": "2024-05-24T01:13:26.435Z"
   },
   {
    "duration": 3,
    "start_time": "2024-05-24T01:13:26.442Z"
   },
   {
    "duration": 3,
    "start_time": "2024-05-24T01:13:26.449Z"
   },
   {
    "duration": 3,
    "start_time": "2024-05-24T01:13:26.455Z"
   },
   {
    "duration": 4,
    "start_time": "2024-05-24T01:13:26.461Z"
   },
   {
    "duration": 4,
    "start_time": "2024-05-24T01:13:26.469Z"
   },
   {
    "duration": 4,
    "start_time": "2024-05-24T01:13:26.532Z"
   },
   {
    "duration": 3,
    "start_time": "2024-05-24T01:13:26.539Z"
   },
   {
    "duration": 4,
    "start_time": "2024-05-24T01:13:26.545Z"
   },
   {
    "duration": 4,
    "start_time": "2024-05-24T01:13:26.552Z"
   },
   {
    "duration": 13,
    "start_time": "2024-05-24T01:18:22.426Z"
   },
   {
    "duration": 26,
    "start_time": "2024-05-24T01:18:43.857Z"
   },
   {
    "duration": 30,
    "start_time": "2024-05-24T01:21:45.320Z"
   },
   {
    "duration": 12,
    "start_time": "2024-05-24T01:21:51.383Z"
   },
   {
    "duration": 27,
    "start_time": "2024-05-24T01:21:53.047Z"
   },
   {
    "duration": 6,
    "start_time": "2024-05-24T01:23:40.261Z"
   },
   {
    "duration": 20,
    "start_time": "2024-05-24T01:23:53.325Z"
   },
   {
    "duration": 6,
    "start_time": "2024-05-24T01:24:08.076Z"
   },
   {
    "duration": 18,
    "start_time": "2024-05-24T01:24:10.064Z"
   },
   {
    "duration": 19,
    "start_time": "2024-05-24T01:25:30.451Z"
   },
   {
    "duration": 5,
    "start_time": "2024-05-24T01:25:39.962Z"
   },
   {
    "duration": 19,
    "start_time": "2024-05-24T01:25:54.362Z"
   },
   {
    "duration": 5,
    "start_time": "2024-05-24T01:26:14.716Z"
   },
   {
    "duration": 396,
    "start_time": "2024-05-24T01:27:09.577Z"
   },
   {
    "duration": 1226,
    "start_time": "2024-05-24T01:27:31.039Z"
   },
   {
    "duration": 132,
    "start_time": "2024-05-24T01:27:32.270Z"
   },
   {
    "duration": 95,
    "start_time": "2024-05-24T01:27:32.405Z"
   },
   {
    "duration": 76,
    "start_time": "2024-05-24T01:27:32.504Z"
   },
   {
    "duration": 12,
    "start_time": "2024-05-24T01:27:32.583Z"
   },
   {
    "duration": 11,
    "start_time": "2024-05-24T01:27:32.598Z"
   },
   {
    "duration": 30,
    "start_time": "2024-05-24T01:27:32.615Z"
   },
   {
    "duration": 19,
    "start_time": "2024-05-24T01:27:32.648Z"
   },
   {
    "duration": 18,
    "start_time": "2024-05-24T01:27:32.670Z"
   },
   {
    "duration": 16,
    "start_time": "2024-05-24T01:27:32.730Z"
   },
   {
    "duration": 15,
    "start_time": "2024-05-24T01:27:32.749Z"
   },
   {
    "duration": 7,
    "start_time": "2024-05-24T01:27:32.767Z"
   },
   {
    "duration": 55,
    "start_time": "2024-05-24T01:27:32.777Z"
   },
   {
    "duration": 7,
    "start_time": "2024-05-24T01:27:32.836Z"
   },
   {
    "duration": 8,
    "start_time": "2024-05-24T01:27:32.846Z"
   },
   {
    "duration": 6,
    "start_time": "2024-05-24T01:27:32.856Z"
   },
   {
    "duration": 9,
    "start_time": "2024-05-24T01:27:32.865Z"
   },
   {
    "duration": 434,
    "start_time": "2024-05-24T01:27:32.877Z"
   },
   {
    "duration": 0,
    "start_time": "2024-05-24T01:27:33.316Z"
   },
   {
    "duration": 0,
    "start_time": "2024-05-24T01:27:33.318Z"
   },
   {
    "duration": 0,
    "start_time": "2024-05-24T01:27:33.331Z"
   },
   {
    "duration": 0,
    "start_time": "2024-05-24T01:27:33.333Z"
   },
   {
    "duration": 0,
    "start_time": "2024-05-24T01:27:33.334Z"
   },
   {
    "duration": 0,
    "start_time": "2024-05-24T01:27:33.337Z"
   },
   {
    "duration": 1,
    "start_time": "2024-05-24T01:27:33.339Z"
   },
   {
    "duration": 0,
    "start_time": "2024-05-24T01:27:33.341Z"
   },
   {
    "duration": 0,
    "start_time": "2024-05-24T01:27:33.344Z"
   },
   {
    "duration": 0,
    "start_time": "2024-05-24T01:27:33.345Z"
   },
   {
    "duration": 0,
    "start_time": "2024-05-24T01:27:33.346Z"
   },
   {
    "duration": 0,
    "start_time": "2024-05-24T01:27:33.350Z"
   },
   {
    "duration": 0,
    "start_time": "2024-05-24T01:27:33.352Z"
   },
   {
    "duration": 0,
    "start_time": "2024-05-24T01:27:33.355Z"
   },
   {
    "duration": 0,
    "start_time": "2024-05-24T01:27:33.357Z"
   },
   {
    "duration": 0,
    "start_time": "2024-05-24T01:27:33.359Z"
   },
   {
    "duration": 0,
    "start_time": "2024-05-24T01:27:33.361Z"
   },
   {
    "duration": 0,
    "start_time": "2024-05-24T01:27:33.363Z"
   },
   {
    "duration": 0,
    "start_time": "2024-05-24T01:27:33.366Z"
   },
   {
    "duration": 0,
    "start_time": "2024-05-24T01:27:33.368Z"
   },
   {
    "duration": 0,
    "start_time": "2024-05-24T01:27:33.431Z"
   },
   {
    "duration": 0,
    "start_time": "2024-05-24T01:27:33.433Z"
   },
   {
    "duration": 0,
    "start_time": "2024-05-24T01:27:33.435Z"
   },
   {
    "duration": 0,
    "start_time": "2024-05-24T01:27:33.438Z"
   },
   {
    "duration": 0,
    "start_time": "2024-05-24T01:27:33.440Z"
   },
   {
    "duration": 1,
    "start_time": "2024-05-24T01:27:33.442Z"
   },
   {
    "duration": 5,
    "start_time": "2024-05-24T01:27:48.168Z"
   },
   {
    "duration": 5,
    "start_time": "2024-05-24T01:27:51.103Z"
   },
   {
    "duration": 24,
    "start_time": "2024-05-24T01:27:53.912Z"
   },
   {
    "duration": 5,
    "start_time": "2024-05-24T01:28:04.251Z"
   },
   {
    "duration": 21,
    "start_time": "2024-05-24T01:29:04.792Z"
   },
   {
    "duration": 27,
    "start_time": "2024-05-24T01:29:24.330Z"
   },
   {
    "duration": 24,
    "start_time": "2024-05-24T01:30:01.535Z"
   },
   {
    "duration": 30,
    "start_time": "2024-05-24T01:30:15.711Z"
   },
   {
    "duration": 1216,
    "start_time": "2024-05-24T01:30:28.854Z"
   },
   {
    "duration": 99,
    "start_time": "2024-05-24T01:30:39.904Z"
   },
   {
    "duration": 115,
    "start_time": "2024-05-24T01:30:55.930Z"
   },
   {
    "duration": 1214,
    "start_time": "2024-05-24T01:31:01.963Z"
   },
   {
    "duration": 144,
    "start_time": "2024-05-24T01:31:03.183Z"
   },
   {
    "duration": 90,
    "start_time": "2024-05-24T01:31:03.330Z"
   },
   {
    "duration": 56,
    "start_time": "2024-05-24T01:31:03.430Z"
   },
   {
    "duration": 9,
    "start_time": "2024-05-24T01:31:03.489Z"
   },
   {
    "duration": 33,
    "start_time": "2024-05-24T01:31:03.501Z"
   },
   {
    "duration": 17,
    "start_time": "2024-05-24T01:31:03.536Z"
   },
   {
    "duration": 16,
    "start_time": "2024-05-24T01:31:03.556Z"
   },
   {
    "duration": 16,
    "start_time": "2024-05-24T01:31:03.575Z"
   },
   {
    "duration": 14,
    "start_time": "2024-05-24T01:31:03.630Z"
   },
   {
    "duration": 15,
    "start_time": "2024-05-24T01:31:03.647Z"
   },
   {
    "duration": 6,
    "start_time": "2024-05-24T01:31:03.664Z"
   },
   {
    "duration": 59,
    "start_time": "2024-05-24T01:31:03.674Z"
   },
   {
    "duration": 6,
    "start_time": "2024-05-24T01:31:03.736Z"
   },
   {
    "duration": 8,
    "start_time": "2024-05-24T01:31:03.744Z"
   },
   {
    "duration": 6,
    "start_time": "2024-05-24T01:31:03.755Z"
   },
   {
    "duration": 6,
    "start_time": "2024-05-24T01:31:03.764Z"
   },
   {
    "duration": 1637,
    "start_time": "2024-05-24T01:31:03.774Z"
   },
   {
    "duration": 0,
    "start_time": "2024-05-24T01:31:05.416Z"
   },
   {
    "duration": 0,
    "start_time": "2024-05-24T01:31:05.419Z"
   },
   {
    "duration": 0,
    "start_time": "2024-05-24T01:31:05.430Z"
   },
   {
    "duration": 1,
    "start_time": "2024-05-24T01:31:05.431Z"
   },
   {
    "duration": 0,
    "start_time": "2024-05-24T01:31:05.434Z"
   },
   {
    "duration": 0,
    "start_time": "2024-05-24T01:31:05.436Z"
   },
   {
    "duration": 0,
    "start_time": "2024-05-24T01:31:05.438Z"
   },
   {
    "duration": 0,
    "start_time": "2024-05-24T01:31:05.440Z"
   },
   {
    "duration": 1,
    "start_time": "2024-05-24T01:31:05.441Z"
   },
   {
    "duration": 0,
    "start_time": "2024-05-24T01:31:05.444Z"
   },
   {
    "duration": 0,
    "start_time": "2024-05-24T01:31:05.446Z"
   },
   {
    "duration": 0,
    "start_time": "2024-05-24T01:31:05.449Z"
   },
   {
    "duration": 0,
    "start_time": "2024-05-24T01:31:05.452Z"
   },
   {
    "duration": 0,
    "start_time": "2024-05-24T01:31:05.454Z"
   },
   {
    "duration": 0,
    "start_time": "2024-05-24T01:31:05.457Z"
   },
   {
    "duration": 0,
    "start_time": "2024-05-24T01:31:05.459Z"
   },
   {
    "duration": 0,
    "start_time": "2024-05-24T01:31:05.460Z"
   },
   {
    "duration": 0,
    "start_time": "2024-05-24T01:31:05.463Z"
   },
   {
    "duration": 0,
    "start_time": "2024-05-24T01:31:05.465Z"
   },
   {
    "duration": 0,
    "start_time": "2024-05-24T01:31:05.466Z"
   },
   {
    "duration": 0,
    "start_time": "2024-05-24T01:31:05.468Z"
   },
   {
    "duration": 0,
    "start_time": "2024-05-24T01:31:05.472Z"
   },
   {
    "duration": 0,
    "start_time": "2024-05-24T01:31:05.474Z"
   },
   {
    "duration": 0,
    "start_time": "2024-05-24T01:31:05.535Z"
   },
   {
    "duration": 0,
    "start_time": "2024-05-24T01:31:05.537Z"
   },
   {
    "duration": 0,
    "start_time": "2024-05-24T01:31:05.540Z"
   },
   {
    "duration": 0,
    "start_time": "2024-05-24T01:31:05.545Z"
   },
   {
    "duration": 98,
    "start_time": "2024-05-24T01:32:51.735Z"
   },
   {
    "duration": 5,
    "start_time": "2024-05-24T01:33:08.919Z"
   },
   {
    "duration": 22,
    "start_time": "2024-05-24T01:33:11.304Z"
   },
   {
    "duration": 6,
    "start_time": "2024-05-24T01:33:32.809Z"
   },
   {
    "duration": 20,
    "start_time": "2024-05-24T01:33:33.457Z"
   },
   {
    "duration": 80,
    "start_time": "2024-05-24T01:33:39.356Z"
   },
   {
    "duration": 103,
    "start_time": "2024-05-24T01:33:46.307Z"
   },
   {
    "duration": 6,
    "start_time": "2024-05-24T01:34:03.154Z"
   },
   {
    "duration": 21,
    "start_time": "2024-05-24T01:34:04.089Z"
   },
   {
    "duration": 5,
    "start_time": "2024-05-24T01:34:25.449Z"
   },
   {
    "duration": 21,
    "start_time": "2024-05-24T01:34:26.814Z"
   },
   {
    "duration": 4,
    "start_time": "2024-05-24T01:34:37.061Z"
   },
   {
    "duration": 21,
    "start_time": "2024-05-24T01:34:37.714Z"
   },
   {
    "duration": 1155,
    "start_time": "2024-05-24T01:34:46.391Z"
   },
   {
    "duration": 121,
    "start_time": "2024-05-24T01:34:47.552Z"
   },
   {
    "duration": 92,
    "start_time": "2024-05-24T01:34:47.676Z"
   },
   {
    "duration": 63,
    "start_time": "2024-05-24T01:34:47.772Z"
   },
   {
    "duration": 9,
    "start_time": "2024-05-24T01:34:47.837Z"
   },
   {
    "duration": 9,
    "start_time": "2024-05-24T01:34:47.849Z"
   },
   {
    "duration": 17,
    "start_time": "2024-05-24T01:34:47.861Z"
   },
   {
    "duration": 50,
    "start_time": "2024-05-24T01:34:47.882Z"
   },
   {
    "duration": 17,
    "start_time": "2024-05-24T01:34:47.935Z"
   },
   {
    "duration": 14,
    "start_time": "2024-05-24T01:34:47.957Z"
   },
   {
    "duration": 15,
    "start_time": "2024-05-24T01:34:47.974Z"
   },
   {
    "duration": 7,
    "start_time": "2024-05-24T01:34:48.032Z"
   },
   {
    "duration": 18,
    "start_time": "2024-05-24T01:34:48.043Z"
   },
   {
    "duration": 7,
    "start_time": "2024-05-24T01:34:48.065Z"
   },
   {
    "duration": 8,
    "start_time": "2024-05-24T01:34:48.076Z"
   },
   {
    "duration": 5,
    "start_time": "2024-05-24T01:34:48.131Z"
   },
   {
    "duration": 7,
    "start_time": "2024-05-24T01:34:48.139Z"
   },
   {
    "duration": 7,
    "start_time": "2024-05-24T01:34:48.149Z"
   },
   {
    "duration": 22,
    "start_time": "2024-05-24T01:34:48.160Z"
   },
   {
    "duration": 65,
    "start_time": "2024-05-24T01:34:48.187Z"
   },
   {
    "duration": 19,
    "start_time": "2024-05-24T01:34:48.255Z"
   },
   {
    "duration": 69,
    "start_time": "2024-05-24T01:34:48.277Z"
   },
   {
    "duration": 94,
    "start_time": "2024-05-24T01:34:48.349Z"
   },
   {
    "duration": 13,
    "start_time": "2024-05-24T01:34:48.446Z"
   },
   {
    "duration": 30,
    "start_time": "2024-05-24T01:34:48.461Z"
   },
   {
    "duration": 35,
    "start_time": "2024-05-24T01:34:48.495Z"
   },
   {
    "duration": 5,
    "start_time": "2024-05-24T01:34:48.533Z"
   },
   {
    "duration": 3,
    "start_time": "2024-05-24T01:34:48.548Z"
   },
   {
    "duration": 3,
    "start_time": "2024-05-24T01:34:48.555Z"
   },
   {
    "duration": 3,
    "start_time": "2024-05-24T01:34:48.562Z"
   },
   {
    "duration": 4,
    "start_time": "2024-05-24T01:34:48.569Z"
   },
   {
    "duration": 3,
    "start_time": "2024-05-24T01:34:48.577Z"
   },
   {
    "duration": 3,
    "start_time": "2024-05-24T01:34:48.630Z"
   },
   {
    "duration": 4,
    "start_time": "2024-05-24T01:34:48.637Z"
   },
   {
    "duration": 4,
    "start_time": "2024-05-24T01:34:48.644Z"
   },
   {
    "duration": 3,
    "start_time": "2024-05-24T01:34:48.652Z"
   },
   {
    "duration": 4,
    "start_time": "2024-05-24T01:34:48.658Z"
   },
   {
    "duration": 3,
    "start_time": "2024-05-24T01:34:48.665Z"
   },
   {
    "duration": 59,
    "start_time": "2024-05-24T01:34:48.672Z"
   },
   {
    "duration": 3,
    "start_time": "2024-05-24T01:34:48.734Z"
   },
   {
    "duration": 4,
    "start_time": "2024-05-24T01:34:48.740Z"
   },
   {
    "duration": 4,
    "start_time": "2024-05-24T01:34:48.747Z"
   },
   {
    "duration": 4,
    "start_time": "2024-05-24T01:34:48.754Z"
   },
   {
    "duration": 4,
    "start_time": "2024-05-24T01:34:48.760Z"
   },
   {
    "duration": 7,
    "start_time": "2024-05-24T01:34:48.767Z"
   },
   {
    "duration": 5,
    "start_time": "2024-05-24T01:34:59.420Z"
   },
   {
    "duration": 21,
    "start_time": "2024-05-24T01:35:00.267Z"
   },
   {
    "duration": 663,
    "start_time": "2024-05-24T01:37:15.149Z"
   },
   {
    "duration": 25,
    "start_time": "2024-05-24T01:37:15.823Z"
   },
   {
    "duration": 1211,
    "start_time": "2024-05-24T01:37:28.128Z"
   },
   {
    "duration": 121,
    "start_time": "2024-05-24T01:37:29.343Z"
   },
   {
    "duration": 97,
    "start_time": "2024-05-24T01:37:29.466Z"
   },
   {
    "duration": 64,
    "start_time": "2024-05-24T01:37:29.567Z"
   },
   {
    "duration": 8,
    "start_time": "2024-05-24T01:37:29.634Z"
   },
   {
    "duration": 9,
    "start_time": "2024-05-24T01:37:29.644Z"
   },
   {
    "duration": 15,
    "start_time": "2024-05-24T01:37:29.657Z"
   },
   {
    "duration": 16,
    "start_time": "2024-05-24T01:37:29.675Z"
   },
   {
    "duration": 16,
    "start_time": "2024-05-24T01:37:29.731Z"
   },
   {
    "duration": 14,
    "start_time": "2024-05-24T01:37:29.752Z"
   },
   {
    "duration": 15,
    "start_time": "2024-05-24T01:37:29.769Z"
   },
   {
    "duration": 46,
    "start_time": "2024-05-24T01:37:29.787Z"
   },
   {
    "duration": 19,
    "start_time": "2024-05-24T01:37:29.837Z"
   },
   {
    "duration": 5,
    "start_time": "2024-05-24T01:37:29.859Z"
   },
   {
    "duration": 8,
    "start_time": "2024-05-24T01:37:29.868Z"
   },
   {
    "duration": 8,
    "start_time": "2024-05-24T01:37:29.880Z"
   },
   {
    "duration": 7,
    "start_time": "2024-05-24T01:37:29.933Z"
   },
   {
    "duration": 668,
    "start_time": "2024-05-24T01:37:29.943Z"
   },
   {
    "duration": 0,
    "start_time": "2024-05-24T01:37:30.615Z"
   },
   {
    "duration": 0,
    "start_time": "2024-05-24T01:37:30.616Z"
   },
   {
    "duration": 0,
    "start_time": "2024-05-24T01:37:30.618Z"
   },
   {
    "duration": 0,
    "start_time": "2024-05-24T01:37:30.631Z"
   },
   {
    "duration": 0,
    "start_time": "2024-05-24T01:37:30.634Z"
   },
   {
    "duration": 0,
    "start_time": "2024-05-24T01:37:30.636Z"
   },
   {
    "duration": 0,
    "start_time": "2024-05-24T01:37:30.637Z"
   },
   {
    "duration": 0,
    "start_time": "2024-05-24T01:37:30.639Z"
   },
   {
    "duration": 0,
    "start_time": "2024-05-24T01:37:30.640Z"
   },
   {
    "duration": 0,
    "start_time": "2024-05-24T01:37:30.642Z"
   },
   {
    "duration": 0,
    "start_time": "2024-05-24T01:37:30.643Z"
   },
   {
    "duration": 0,
    "start_time": "2024-05-24T01:37:30.646Z"
   },
   {
    "duration": 0,
    "start_time": "2024-05-24T01:37:30.647Z"
   },
   {
    "duration": 0,
    "start_time": "2024-05-24T01:37:30.649Z"
   },
   {
    "duration": 0,
    "start_time": "2024-05-24T01:37:30.652Z"
   },
   {
    "duration": 0,
    "start_time": "2024-05-24T01:37:30.653Z"
   },
   {
    "duration": 0,
    "start_time": "2024-05-24T01:37:30.655Z"
   },
   {
    "duration": 0,
    "start_time": "2024-05-24T01:37:30.656Z"
   },
   {
    "duration": 0,
    "start_time": "2024-05-24T01:37:30.659Z"
   },
   {
    "duration": 0,
    "start_time": "2024-05-24T01:37:30.661Z"
   },
   {
    "duration": 0,
    "start_time": "2024-05-24T01:37:30.663Z"
   },
   {
    "duration": 0,
    "start_time": "2024-05-24T01:37:30.665Z"
   },
   {
    "duration": 0,
    "start_time": "2024-05-24T01:37:30.666Z"
   },
   {
    "duration": 0,
    "start_time": "2024-05-24T01:37:30.669Z"
   },
   {
    "duration": 0,
    "start_time": "2024-05-24T01:37:30.671Z"
   },
   {
    "duration": 0,
    "start_time": "2024-05-24T01:37:30.731Z"
   },
   {
    "duration": 0,
    "start_time": "2024-05-24T01:37:30.735Z"
   },
   {
    "duration": 5,
    "start_time": "2024-05-24T01:38:01.236Z"
   },
   {
    "duration": 22,
    "start_time": "2024-05-24T01:38:02.247Z"
   },
   {
    "duration": 26,
    "start_time": "2024-05-24T01:38:25.801Z"
   },
   {
    "duration": 20,
    "start_time": "2024-05-24T01:38:26.800Z"
   },
   {
    "duration": 45,
    "start_time": "2024-05-24T01:38:30.764Z"
   },
   {
    "duration": 78,
    "start_time": "2024-05-24T01:38:31.428Z"
   },
   {
    "duration": 14,
    "start_time": "2024-05-24T01:38:38.230Z"
   },
   {
    "duration": 29,
    "start_time": "2024-05-24T01:38:38.673Z"
   },
   {
    "duration": 12,
    "start_time": "2024-05-24T01:38:47.790Z"
   },
   {
    "duration": 28,
    "start_time": "2024-05-24T01:38:48.417Z"
   },
   {
    "duration": 12,
    "start_time": "2024-05-24T01:38:52.552Z"
   },
   {
    "duration": 26,
    "start_time": "2024-05-24T01:38:53.531Z"
   },
   {
    "duration": 1264,
    "start_time": "2024-05-24T01:39:00.639Z"
   },
   {
    "duration": 171,
    "start_time": "2024-05-24T01:39:01.909Z"
   },
   {
    "duration": 126,
    "start_time": "2024-05-24T01:39:02.084Z"
   },
   {
    "duration": 74,
    "start_time": "2024-05-24T01:39:02.214Z"
   },
   {
    "duration": 8,
    "start_time": "2024-05-24T01:39:02.294Z"
   },
   {
    "duration": 27,
    "start_time": "2024-05-24T01:39:02.306Z"
   },
   {
    "duration": 20,
    "start_time": "2024-05-24T01:39:02.336Z"
   },
   {
    "duration": 20,
    "start_time": "2024-05-24T01:39:02.359Z"
   },
   {
    "duration": 50,
    "start_time": "2024-05-24T01:39:02.381Z"
   },
   {
    "duration": 18,
    "start_time": "2024-05-24T01:39:02.435Z"
   },
   {
    "duration": 21,
    "start_time": "2024-05-24T01:39:02.457Z"
   },
   {
    "duration": 6,
    "start_time": "2024-05-24T01:39:02.480Z"
   },
   {
    "duration": 62,
    "start_time": "2024-05-24T01:39:02.489Z"
   },
   {
    "duration": 6,
    "start_time": "2024-05-24T01:39:02.560Z"
   },
   {
    "duration": 9,
    "start_time": "2024-05-24T01:39:02.571Z"
   },
   {
    "duration": 7,
    "start_time": "2024-05-24T01:39:02.586Z"
   },
   {
    "duration": 38,
    "start_time": "2024-05-24T01:39:02.597Z"
   },
   {
    "duration": 6,
    "start_time": "2024-05-24T01:39:02.639Z"
   },
   {
    "duration": 33,
    "start_time": "2024-05-24T01:39:02.650Z"
   },
   {
    "duration": 66,
    "start_time": "2024-05-24T01:39:02.687Z"
   },
   {
    "duration": 19,
    "start_time": "2024-05-24T01:39:02.755Z"
   },
   {
    "duration": 73,
    "start_time": "2024-05-24T01:39:02.776Z"
   },
   {
    "duration": 98,
    "start_time": "2024-05-24T01:39:02.852Z"
   },
   {
    "duration": 17,
    "start_time": "2024-05-24T01:39:02.953Z"
   },
   {
    "duration": 36,
    "start_time": "2024-05-24T01:39:02.973Z"
   },
   {
    "duration": 8,
    "start_time": "2024-05-24T01:39:03.031Z"
   },
   {
    "duration": 9,
    "start_time": "2024-05-24T01:39:03.042Z"
   },
   {
    "duration": 11,
    "start_time": "2024-05-24T01:39:03.055Z"
   },
   {
    "duration": 8,
    "start_time": "2024-05-24T01:39:03.072Z"
   },
   {
    "duration": 4,
    "start_time": "2024-05-24T01:39:03.084Z"
   },
   {
    "duration": 5,
    "start_time": "2024-05-24T01:39:03.093Z"
   },
   {
    "duration": 4,
    "start_time": "2024-05-24T01:39:03.101Z"
   },
   {
    "duration": 6,
    "start_time": "2024-05-24T01:39:03.132Z"
   },
   {
    "duration": 4,
    "start_time": "2024-05-24T01:39:03.143Z"
   },
   {
    "duration": 5,
    "start_time": "2024-05-24T01:39:03.150Z"
   },
   {
    "duration": 8,
    "start_time": "2024-05-24T01:39:03.159Z"
   },
   {
    "duration": 4,
    "start_time": "2024-05-24T01:39:03.171Z"
   },
   {
    "duration": 3,
    "start_time": "2024-05-24T01:39:03.179Z"
   },
   {
    "duration": 3,
    "start_time": "2024-05-24T01:39:03.186Z"
   },
   {
    "duration": 7,
    "start_time": "2024-05-24T01:39:03.234Z"
   },
   {
    "duration": 4,
    "start_time": "2024-05-24T01:39:03.251Z"
   },
   {
    "duration": 4,
    "start_time": "2024-05-24T01:39:03.259Z"
   },
   {
    "duration": 10,
    "start_time": "2024-05-24T01:39:03.266Z"
   },
   {
    "duration": 5,
    "start_time": "2024-05-24T01:39:03.280Z"
   },
   {
    "duration": 44,
    "start_time": "2024-05-24T01:39:03.288Z"
   },
   {
    "duration": 23,
    "start_time": "2024-05-24T01:39:30.309Z"
   },
   {
    "duration": 13,
    "start_time": "2024-05-24T01:39:57.551Z"
   },
   {
    "duration": 21,
    "start_time": "2024-05-24T01:42:32.888Z"
   },
   {
    "duration": 30,
    "start_time": "2024-05-24T01:42:41.044Z"
   },
   {
    "duration": 10,
    "start_time": "2024-05-24T01:43:39.307Z"
   },
   {
    "duration": 21,
    "start_time": "2024-05-24T01:43:56.732Z"
   },
   {
    "duration": 22,
    "start_time": "2024-05-24T01:44:49.958Z"
   },
   {
    "duration": 10,
    "start_time": "2024-05-24T01:44:55.976Z"
   },
   {
    "duration": 20,
    "start_time": "2024-05-24T01:44:56.278Z"
   },
   {
    "duration": 21,
    "start_time": "2024-05-24T01:45:28.674Z"
   },
   {
    "duration": 15,
    "start_time": "2024-05-24T01:45:51.932Z"
   },
   {
    "duration": 22,
    "start_time": "2024-05-24T01:47:58.565Z"
   },
   {
    "duration": 32,
    "start_time": "2024-05-24T01:48:06.841Z"
   },
   {
    "duration": 1275,
    "start_time": "2024-05-24T01:48:44.110Z"
   },
   {
    "duration": 6,
    "start_time": "2024-05-24T01:49:09.531Z"
   },
   {
    "duration": 19,
    "start_time": "2024-05-24T01:49:21.518Z"
   },
   {
    "duration": 56,
    "start_time": "2024-05-24T01:52:29.180Z"
   },
   {
    "duration": 12,
    "start_time": "2024-05-24T01:54:29.015Z"
   },
   {
    "duration": 26,
    "start_time": "2024-05-24T01:55:00.939Z"
   },
   {
    "duration": 28,
    "start_time": "2024-05-24T01:55:06.466Z"
   },
   {
    "duration": 44,
    "start_time": "2024-05-24T01:55:14.905Z"
   },
   {
    "duration": 11,
    "start_time": "2024-05-24T01:55:16.942Z"
   },
   {
    "duration": 27,
    "start_time": "2024-05-24T01:55:17.045Z"
   },
   {
    "duration": 24,
    "start_time": "2024-05-24T01:56:05.828Z"
   },
   {
    "duration": 42,
    "start_time": "2024-05-24T01:57:12.149Z"
   },
   {
    "duration": 11,
    "start_time": "2024-05-24T01:57:12.298Z"
   },
   {
    "duration": 26,
    "start_time": "2024-05-24T01:57:12.479Z"
   },
   {
    "duration": 12,
    "start_time": "2024-05-24T01:58:02.155Z"
   },
   {
    "duration": 328,
    "start_time": "2024-05-25T19:27:45.491Z"
   },
   {
    "duration": 22,
    "start_time": "2024-05-25T19:28:11.765Z"
   },
   {
    "duration": 5054,
    "start_time": "2024-05-25T19:28:29.800Z"
   },
   {
    "duration": 169,
    "start_time": "2024-05-25T19:28:34.861Z"
   },
   {
    "duration": 135,
    "start_time": "2024-05-25T19:28:35.033Z"
   },
   {
    "duration": 93,
    "start_time": "2024-05-25T19:28:35.172Z"
   },
   {
    "duration": 11,
    "start_time": "2024-05-25T19:28:35.270Z"
   },
   {
    "duration": 12,
    "start_time": "2024-05-25T19:28:35.284Z"
   },
   {
    "duration": 34,
    "start_time": "2024-05-25T19:28:35.300Z"
   },
   {
    "duration": 18,
    "start_time": "2024-05-25T19:28:35.337Z"
   },
   {
    "duration": 18,
    "start_time": "2024-05-25T19:28:35.359Z"
   },
   {
    "duration": 51,
    "start_time": "2024-05-25T19:28:35.380Z"
   },
   {
    "duration": 22,
    "start_time": "2024-05-25T19:28:35.434Z"
   },
   {
    "duration": 6,
    "start_time": "2024-05-25T19:28:35.460Z"
   },
   {
    "duration": 20,
    "start_time": "2024-05-25T19:28:35.470Z"
   },
   {
    "duration": 5,
    "start_time": "2024-05-25T19:28:35.535Z"
   },
   {
    "duration": 9,
    "start_time": "2024-05-25T19:28:35.543Z"
   },
   {
    "duration": 6,
    "start_time": "2024-05-25T19:28:35.555Z"
   },
   {
    "duration": 5,
    "start_time": "2024-05-25T19:28:35.566Z"
   },
   {
    "duration": 55,
    "start_time": "2024-05-25T19:28:35.576Z"
   },
   {
    "duration": 24,
    "start_time": "2024-05-25T19:28:35.634Z"
   },
   {
    "duration": 26,
    "start_time": "2024-05-25T19:28:35.660Z"
   },
   {
    "duration": 51,
    "start_time": "2024-05-25T19:28:35.690Z"
   },
   {
    "duration": 45,
    "start_time": "2024-05-25T19:28:35.744Z"
   },
   {
    "duration": 110,
    "start_time": "2024-05-25T19:28:35.792Z"
   },
   {
    "duration": 29,
    "start_time": "2024-05-25T19:28:35.905Z"
   },
   {
    "duration": 29,
    "start_time": "2024-05-25T19:28:35.936Z"
   },
   {
    "duration": 20,
    "start_time": "2024-05-25T19:28:35.968Z"
   },
   {
    "duration": 43,
    "start_time": "2024-05-25T19:28:35.990Z"
   },
   {
    "duration": 30,
    "start_time": "2024-05-25T19:28:36.036Z"
   },
   {
    "duration": 9,
    "start_time": "2024-05-25T19:28:36.069Z"
   },
   {
    "duration": 57,
    "start_time": "2024-05-25T19:28:36.081Z"
   },
   {
    "duration": 23,
    "start_time": "2024-05-25T19:28:36.141Z"
   },
   {
    "duration": 16,
    "start_time": "2024-05-25T19:28:36.167Z"
   },
   {
    "duration": 75,
    "start_time": "2024-05-25T19:28:36.186Z"
   },
   {
    "duration": 65,
    "start_time": "2024-05-25T19:28:36.265Z"
   },
   {
    "duration": 13,
    "start_time": "2024-05-25T19:28:36.333Z"
   },
   {
    "duration": 29,
    "start_time": "2024-05-25T19:28:36.349Z"
   },
   {
    "duration": 45,
    "start_time": "2024-05-25T19:28:36.381Z"
   },
   {
    "duration": 4,
    "start_time": "2024-05-25T19:28:36.429Z"
   },
   {
    "duration": 13,
    "start_time": "2024-05-25T19:28:36.436Z"
   },
   {
    "duration": 4,
    "start_time": "2024-05-25T19:28:36.452Z"
   },
   {
    "duration": 3,
    "start_time": "2024-05-25T19:28:36.465Z"
   },
   {
    "duration": 4,
    "start_time": "2024-05-25T19:28:36.471Z"
   },
   {
    "duration": 50,
    "start_time": "2024-05-25T19:28:36.478Z"
   },
   {
    "duration": 4,
    "start_time": "2024-05-25T19:28:36.531Z"
   },
   {
    "duration": 4,
    "start_time": "2024-05-25T19:28:36.538Z"
   },
   {
    "duration": 4,
    "start_time": "2024-05-25T19:28:36.547Z"
   },
   {
    "duration": 4,
    "start_time": "2024-05-25T19:28:36.553Z"
   },
   {
    "duration": 4,
    "start_time": "2024-05-25T19:28:36.561Z"
   },
   {
    "duration": 59,
    "start_time": "2024-05-25T19:28:36.569Z"
   },
   {
    "duration": 4,
    "start_time": "2024-05-25T19:28:36.631Z"
   },
   {
    "duration": 5,
    "start_time": "2024-05-25T19:28:36.638Z"
   },
   {
    "duration": 4,
    "start_time": "2024-05-25T19:28:36.647Z"
   },
   {
    "duration": 8,
    "start_time": "2024-05-25T19:29:15.550Z"
   },
   {
    "duration": 15,
    "start_time": "2024-05-25T19:29:24.346Z"
   },
   {
    "duration": 6,
    "start_time": "2024-05-25T19:29:47.703Z"
   },
   {
    "duration": 14,
    "start_time": "2024-05-25T19:30:04.539Z"
   },
   {
    "duration": 9,
    "start_time": "2024-05-25T19:30:19.245Z"
   },
   {
    "duration": 15,
    "start_time": "2024-05-25T19:30:25.627Z"
   },
   {
    "duration": 42,
    "start_time": "2024-05-25T19:31:27.296Z"
   },
   {
    "duration": 24,
    "start_time": "2024-05-25T19:31:42.394Z"
   },
   {
    "duration": 569,
    "start_time": "2024-05-25T19:32:12.517Z"
   },
   {
    "duration": 26,
    "start_time": "2024-05-25T19:32:35.555Z"
   },
   {
    "duration": 30,
    "start_time": "2024-05-25T19:35:05.832Z"
   },
   {
    "duration": 54,
    "start_time": "2024-05-25T19:36:47.518Z"
   },
   {
    "duration": 42,
    "start_time": "2024-05-25T19:36:52.842Z"
   },
   {
    "duration": 43,
    "start_time": "2024-05-25T19:37:14.850Z"
   },
   {
    "duration": 34,
    "start_time": "2024-05-25T19:37:28.587Z"
   },
   {
    "duration": 33,
    "start_time": "2024-05-25T19:38:30.325Z"
   },
   {
    "duration": 42,
    "start_time": "2024-05-25T19:39:40.812Z"
   },
   {
    "duration": 10,
    "start_time": "2024-05-25T19:41:13.788Z"
   },
   {
    "duration": 6,
    "start_time": "2024-05-25T19:41:19.195Z"
   },
   {
    "duration": 7,
    "start_time": "2024-05-25T19:41:27.705Z"
   },
   {
    "duration": 7,
    "start_time": "2024-05-25T19:43:20.744Z"
   },
   {
    "duration": 6,
    "start_time": "2024-05-25T19:43:35.034Z"
   },
   {
    "duration": 495,
    "start_time": "2024-05-25T19:43:51.473Z"
   },
   {
    "duration": 33,
    "start_time": "2024-05-25T19:44:00.356Z"
   },
   {
    "duration": 55,
    "start_time": "2024-05-25T19:44:09.311Z"
   },
   {
    "duration": 38,
    "start_time": "2024-05-25T19:46:05.710Z"
   },
   {
    "duration": 33,
    "start_time": "2024-05-25T19:47:20.624Z"
   },
   {
    "duration": 12,
    "start_time": "2024-05-25T19:49:27.068Z"
   },
   {
    "duration": 5,
    "start_time": "2024-05-25T19:50:03.707Z"
   },
   {
    "duration": 40,
    "start_time": "2024-05-25T19:53:01.991Z"
   },
   {
    "duration": 39,
    "start_time": "2024-05-25T19:53:22.254Z"
   },
   {
    "duration": 33,
    "start_time": "2024-05-25T19:54:12.531Z"
   },
   {
    "duration": 1469,
    "start_time": "2024-05-25T22:14:26.536Z"
   },
   {
    "duration": 30,
    "start_time": "2024-05-25T22:14:45.253Z"
   },
   {
    "duration": 13,
    "start_time": "2024-05-25T22:15:54.775Z"
   },
   {
    "duration": 4,
    "start_time": "2024-05-25T22:16:04.500Z"
   },
   {
    "duration": 220,
    "start_time": "2024-05-25T22:17:06.810Z"
   },
   {
    "duration": 31,
    "start_time": "2024-05-25T22:17:18.010Z"
   },
   {
    "duration": 31,
    "start_time": "2024-05-25T22:18:34.704Z"
   },
   {
    "duration": 29,
    "start_time": "2024-05-25T22:19:08.204Z"
   },
   {
    "duration": 14,
    "start_time": "2024-05-25T22:22:43.924Z"
   },
   {
    "duration": 3,
    "start_time": "2024-05-25T22:22:48.554Z"
   },
   {
    "duration": 259,
    "start_time": "2024-05-25T22:24:06.517Z"
   },
   {
    "duration": 24,
    "start_time": "2024-05-25T22:24:25.603Z"
   },
   {
    "duration": 409,
    "start_time": "2024-05-27T13:46:00.343Z"
   },
   {
    "duration": 6787,
    "start_time": "2024-05-27T13:46:12.214Z"
   },
   {
    "duration": 248,
    "start_time": "2024-05-27T13:46:19.008Z"
   },
   {
    "duration": 152,
    "start_time": "2024-05-27T13:46:19.259Z"
   },
   {
    "duration": 135,
    "start_time": "2024-05-27T13:46:19.414Z"
   },
   {
    "duration": 10,
    "start_time": "2024-05-27T13:46:19.555Z"
   },
   {
    "duration": 12,
    "start_time": "2024-05-27T13:46:19.569Z"
   },
   {
    "duration": 17,
    "start_time": "2024-05-27T13:46:19.584Z"
   },
   {
    "duration": 34,
    "start_time": "2024-05-27T13:46:19.621Z"
   },
   {
    "duration": 20,
    "start_time": "2024-05-27T13:46:19.659Z"
   },
   {
    "duration": 41,
    "start_time": "2024-05-27T13:46:19.682Z"
   },
   {
    "duration": 24,
    "start_time": "2024-05-27T13:46:19.741Z"
   },
   {
    "duration": 7,
    "start_time": "2024-05-27T13:46:19.769Z"
   },
   {
    "duration": 35,
    "start_time": "2024-05-27T13:46:19.780Z"
   },
   {
    "duration": 13,
    "start_time": "2024-05-27T13:46:19.834Z"
   },
   {
    "duration": 8,
    "start_time": "2024-05-27T13:46:19.850Z"
   },
   {
    "duration": 8,
    "start_time": "2024-05-27T13:46:19.860Z"
   },
   {
    "duration": 6,
    "start_time": "2024-05-27T13:46:19.871Z"
   },
   {
    "duration": 7,
    "start_time": "2024-05-27T13:46:19.881Z"
   },
   {
    "duration": 33,
    "start_time": "2024-05-27T13:46:19.915Z"
   },
   {
    "duration": 28,
    "start_time": "2024-05-27T13:46:19.956Z"
   },
   {
    "duration": 60,
    "start_time": "2024-05-27T13:46:19.987Z"
   },
   {
    "duration": 50,
    "start_time": "2024-05-27T13:46:20.050Z"
   },
   {
    "duration": 112,
    "start_time": "2024-05-27T13:46:20.103Z"
   },
   {
    "duration": 20,
    "start_time": "2024-05-27T13:46:20.233Z"
   },
   {
    "duration": 32,
    "start_time": "2024-05-27T13:46:20.256Z"
   },
   {
    "duration": 21,
    "start_time": "2024-05-27T13:46:20.292Z"
   },
   {
    "duration": 15,
    "start_time": "2024-05-27T13:46:20.316Z"
   },
   {
    "duration": 41,
    "start_time": "2024-05-27T13:46:20.345Z"
   },
   {
    "duration": 20,
    "start_time": "2024-05-27T13:46:20.413Z"
   },
   {
    "duration": 36,
    "start_time": "2024-05-27T13:46:20.437Z"
   },
   {
    "duration": 42,
    "start_time": "2024-05-27T13:46:20.477Z"
   },
   {
    "duration": 28,
    "start_time": "2024-05-27T13:46:20.523Z"
   },
   {
    "duration": 62,
    "start_time": "2024-05-27T13:46:20.555Z"
   },
   {
    "duration": 55,
    "start_time": "2024-05-27T13:46:20.625Z"
   },
   {
    "duration": 36,
    "start_time": "2024-05-27T13:46:20.683Z"
   },
   {
    "duration": 36,
    "start_time": "2024-05-27T13:46:20.737Z"
   },
   {
    "duration": 14,
    "start_time": "2024-05-27T13:46:20.776Z"
   },
   {
    "duration": 60,
    "start_time": "2024-05-27T13:46:20.793Z"
   },
   {
    "duration": 20,
    "start_time": "2024-05-27T13:46:20.856Z"
   },
   {
    "duration": 60,
    "start_time": "2024-05-27T13:46:20.879Z"
   },
   {
    "duration": 25,
    "start_time": "2024-05-27T13:46:20.956Z"
   },
   {
    "duration": 4,
    "start_time": "2024-05-27T13:46:20.984Z"
   },
   {
    "duration": 12,
    "start_time": "2024-05-27T13:46:20.992Z"
   },
   {
    "duration": 10,
    "start_time": "2024-05-27T13:46:21.013Z"
   },
   {
    "duration": 14,
    "start_time": "2024-05-27T13:46:21.033Z"
   },
   {
    "duration": 3,
    "start_time": "2024-05-27T13:46:21.051Z"
   },
   {
    "duration": 4,
    "start_time": "2024-05-27T13:46:21.057Z"
   },
   {
    "duration": 3,
    "start_time": "2024-05-27T13:46:21.065Z"
   },
   {
    "duration": 3,
    "start_time": "2024-05-27T13:46:21.072Z"
   },
   {
    "duration": 3,
    "start_time": "2024-05-27T13:46:21.079Z"
   },
   {
    "duration": 19,
    "start_time": "2024-05-27T13:46:21.112Z"
   },
   {
    "duration": 4,
    "start_time": "2024-05-27T13:46:21.145Z"
   },
   {
    "duration": 14,
    "start_time": "2024-05-27T13:46:57.733Z"
   },
   {
    "duration": 18,
    "start_time": "2024-05-27T13:47:10.729Z"
   },
   {
    "duration": 10,
    "start_time": "2024-05-27T13:47:29.153Z"
   },
   {
    "duration": 12,
    "start_time": "2024-05-27T13:47:33.579Z"
   },
   {
    "duration": 10,
    "start_time": "2024-05-27T13:48:29.754Z"
   },
   {
    "duration": 867,
    "start_time": "2024-05-27T13:51:03.833Z"
   },
   {
    "duration": 143,
    "start_time": "2024-05-27T13:54:19.804Z"
   },
   {
    "duration": 70,
    "start_time": "2024-05-27T13:55:37.785Z"
   },
   {
    "duration": 66,
    "start_time": "2024-05-27T13:55:43.621Z"
   },
   {
    "duration": 22,
    "start_time": "2024-05-27T13:55:49.576Z"
   },
   {
    "duration": 103,
    "start_time": "2024-05-27T13:56:02.490Z"
   },
   {
    "duration": 168,
    "start_time": "2024-05-27T13:56:56.339Z"
   },
   {
    "duration": 80,
    "start_time": "2024-05-27T13:57:13.124Z"
   },
   {
    "duration": 79,
    "start_time": "2024-05-27T13:57:17.607Z"
   },
   {
    "duration": 47,
    "start_time": "2024-05-27T13:57:22.716Z"
   },
   {
    "duration": 27,
    "start_time": "2024-05-27T13:57:26.337Z"
   },
   {
    "duration": 778,
    "start_time": "2024-05-27T13:59:45.573Z"
   },
   {
    "duration": 96,
    "start_time": "2024-05-27T14:00:17.752Z"
   },
   {
    "duration": 29,
    "start_time": "2024-05-27T14:01:06.137Z"
   },
   {
    "duration": 23,
    "start_time": "2024-05-27T14:01:16.822Z"
   },
   {
    "duration": 9,
    "start_time": "2024-05-27T14:02:28.047Z"
   },
   {
    "duration": 27,
    "start_time": "2024-05-27T14:02:46.047Z"
   },
   {
    "duration": 22,
    "start_time": "2024-05-27T14:05:31.941Z"
   },
   {
    "duration": 7,
    "start_time": "2024-05-27T14:05:42.337Z"
   },
   {
    "duration": 546,
    "start_time": "2024-05-27T14:09:54.337Z"
   },
   {
    "duration": 719,
    "start_time": "2024-05-27T14:10:35.557Z"
   },
   {
    "duration": 170,
    "start_time": "2024-05-27T14:10:47.193Z"
   },
   {
    "duration": 83,
    "start_time": "2024-05-27T14:10:56.660Z"
   },
   {
    "duration": 10,
    "start_time": "2024-05-27T14:11:18.333Z"
   },
   {
    "duration": 35,
    "start_time": "2024-05-27T14:11:21.061Z"
   },
   {
    "duration": 41,
    "start_time": "2024-05-27T14:11:31.161Z"
   },
   {
    "duration": 47,
    "start_time": "2024-05-27T14:11:33.322Z"
   },
   {
    "duration": 1629,
    "start_time": "2024-05-27T14:11:43.545Z"
   },
   {
    "duration": 198,
    "start_time": "2024-05-27T14:11:45.180Z"
   },
   {
    "duration": 181,
    "start_time": "2024-05-27T14:11:45.382Z"
   },
   {
    "duration": 109,
    "start_time": "2024-05-27T14:11:45.567Z"
   },
   {
    "duration": 119,
    "start_time": "2024-05-27T14:11:45.682Z"
   },
   {
    "duration": 83,
    "start_time": "2024-05-27T14:11:45.804Z"
   },
   {
    "duration": 45,
    "start_time": "2024-05-27T14:11:45.890Z"
   },
   {
    "duration": 44,
    "start_time": "2024-05-27T14:11:45.945Z"
   },
   {
    "duration": 66,
    "start_time": "2024-05-27T14:11:45.997Z"
   },
   {
    "duration": 31,
    "start_time": "2024-05-27T14:11:46.071Z"
   },
   {
    "duration": 22,
    "start_time": "2024-05-27T14:11:46.105Z"
   },
   {
    "duration": 13,
    "start_time": "2024-05-27T14:11:46.135Z"
   },
   {
    "duration": 40,
    "start_time": "2024-05-27T14:11:46.151Z"
   },
   {
    "duration": 17,
    "start_time": "2024-05-27T14:11:46.199Z"
   },
   {
    "duration": 11,
    "start_time": "2024-05-27T14:11:46.220Z"
   },
   {
    "duration": 8,
    "start_time": "2024-05-27T14:11:46.235Z"
   },
   {
    "duration": 5,
    "start_time": "2024-05-27T14:11:46.247Z"
   },
   {
    "duration": 13,
    "start_time": "2024-05-27T14:11:46.255Z"
   },
   {
    "duration": 36,
    "start_time": "2024-05-27T14:11:46.271Z"
   },
   {
    "duration": 45,
    "start_time": "2024-05-27T14:11:46.310Z"
   },
   {
    "duration": 41,
    "start_time": "2024-05-27T14:11:46.358Z"
   },
   {
    "duration": 76,
    "start_time": "2024-05-27T14:11:46.403Z"
   },
   {
    "duration": 105,
    "start_time": "2024-05-27T14:11:46.482Z"
   },
   {
    "duration": 25,
    "start_time": "2024-05-27T14:11:46.590Z"
   },
   {
    "duration": 53,
    "start_time": "2024-05-27T14:11:46.618Z"
   },
   {
    "duration": 26,
    "start_time": "2024-05-27T14:11:46.675Z"
   },
   {
    "duration": 15,
    "start_time": "2024-05-27T14:11:46.705Z"
   },
   {
    "duration": 52,
    "start_time": "2024-05-27T14:11:46.724Z"
   },
   {
    "duration": 19,
    "start_time": "2024-05-27T14:11:46.784Z"
   },
   {
    "duration": 40,
    "start_time": "2024-05-27T14:11:46.807Z"
   },
   {
    "duration": 40,
    "start_time": "2024-05-27T14:11:46.851Z"
   },
   {
    "duration": 24,
    "start_time": "2024-05-27T14:11:46.895Z"
   },
   {
    "duration": 84,
    "start_time": "2024-05-27T14:11:46.923Z"
   },
   {
    "duration": 74,
    "start_time": "2024-05-27T14:11:47.011Z"
   },
   {
    "duration": 19,
    "start_time": "2024-05-27T14:11:47.088Z"
   },
   {
    "duration": 48,
    "start_time": "2024-05-27T14:11:47.111Z"
   },
   {
    "duration": 20,
    "start_time": "2024-05-27T14:11:47.163Z"
   },
   {
    "duration": 56,
    "start_time": "2024-05-27T14:11:47.187Z"
   },
   {
    "duration": 36,
    "start_time": "2024-05-27T14:11:47.247Z"
   },
   {
    "duration": 61,
    "start_time": "2024-05-27T14:11:47.287Z"
   },
   {
    "duration": 56,
    "start_time": "2024-05-27T14:11:47.359Z"
   },
   {
    "duration": 11,
    "start_time": "2024-05-27T14:11:47.420Z"
   },
   {
    "duration": 7,
    "start_time": "2024-05-27T14:11:47.435Z"
   },
   {
    "duration": 673,
    "start_time": "2024-05-27T14:11:47.446Z"
   },
   {
    "duration": 0,
    "start_time": "2024-05-27T14:11:48.123Z"
   },
   {
    "duration": 0,
    "start_time": "2024-05-27T14:11:48.125Z"
   },
   {
    "duration": 0,
    "start_time": "2024-05-27T14:11:48.128Z"
   },
   {
    "duration": 0,
    "start_time": "2024-05-27T14:11:48.130Z"
   },
   {
    "duration": 0,
    "start_time": "2024-05-27T14:11:48.133Z"
   },
   {
    "duration": 0,
    "start_time": "2024-05-27T14:11:48.135Z"
   },
   {
    "duration": 0,
    "start_time": "2024-05-27T14:11:48.138Z"
   },
   {
    "duration": 0,
    "start_time": "2024-05-27T14:11:48.145Z"
   },
   {
    "duration": 0,
    "start_time": "2024-05-27T14:11:48.147Z"
   },
   {
    "duration": 61,
    "start_time": "2024-05-27T14:12:21.384Z"
   },
   {
    "duration": 1468,
    "start_time": "2024-05-27T14:12:28.301Z"
   },
   {
    "duration": 174,
    "start_time": "2024-05-27T14:12:29.775Z"
   },
   {
    "duration": 123,
    "start_time": "2024-05-27T14:12:29.952Z"
   },
   {
    "duration": 68,
    "start_time": "2024-05-27T14:12:30.079Z"
   },
   {
    "duration": 9,
    "start_time": "2024-05-27T14:12:30.150Z"
   },
   {
    "duration": 11,
    "start_time": "2024-05-27T14:12:30.163Z"
   },
   {
    "duration": 34,
    "start_time": "2024-05-27T14:12:30.177Z"
   },
   {
    "duration": 25,
    "start_time": "2024-05-27T14:12:30.215Z"
   },
   {
    "duration": 21,
    "start_time": "2024-05-27T14:12:30.244Z"
   },
   {
    "duration": 46,
    "start_time": "2024-05-27T14:12:30.273Z"
   },
   {
    "duration": 22,
    "start_time": "2024-05-27T14:12:30.323Z"
   },
   {
    "duration": 11,
    "start_time": "2024-05-27T14:12:30.348Z"
   },
   {
    "duration": 48,
    "start_time": "2024-05-27T14:12:30.364Z"
   },
   {
    "duration": 6,
    "start_time": "2024-05-27T14:12:30.421Z"
   },
   {
    "duration": 16,
    "start_time": "2024-05-27T14:12:30.431Z"
   },
   {
    "duration": 11,
    "start_time": "2024-05-27T14:12:30.450Z"
   },
   {
    "duration": 6,
    "start_time": "2024-05-27T14:12:30.466Z"
   },
   {
    "duration": 7,
    "start_time": "2024-05-27T14:12:30.476Z"
   },
   {
    "duration": 45,
    "start_time": "2024-05-27T14:12:30.514Z"
   },
   {
    "duration": 39,
    "start_time": "2024-05-27T14:12:30.563Z"
   },
   {
    "duration": 42,
    "start_time": "2024-05-27T14:12:30.614Z"
   },
   {
    "duration": 69,
    "start_time": "2024-05-27T14:12:30.663Z"
   },
   {
    "duration": 123,
    "start_time": "2024-05-27T14:12:30.739Z"
   },
   {
    "duration": 14,
    "start_time": "2024-05-27T14:12:30.866Z"
   },
   {
    "duration": 55,
    "start_time": "2024-05-27T14:12:30.883Z"
   },
   {
    "duration": 31,
    "start_time": "2024-05-27T14:12:30.946Z"
   },
   {
    "duration": 16,
    "start_time": "2024-05-27T14:12:30.981Z"
   },
   {
    "duration": 58,
    "start_time": "2024-05-27T14:12:31.005Z"
   },
   {
    "duration": 12,
    "start_time": "2024-05-27T14:12:31.068Z"
   },
   {
    "duration": 43,
    "start_time": "2024-05-27T14:12:31.086Z"
   },
   {
    "duration": 25,
    "start_time": "2024-05-27T14:12:31.145Z"
   },
   {
    "duration": 16,
    "start_time": "2024-05-27T14:12:31.174Z"
   },
   {
    "duration": 76,
    "start_time": "2024-05-27T14:12:31.194Z"
   },
   {
    "duration": 72,
    "start_time": "2024-05-27T14:12:31.275Z"
   },
   {
    "duration": 14,
    "start_time": "2024-05-27T14:12:31.351Z"
   },
   {
    "duration": 29,
    "start_time": "2024-05-27T14:12:31.368Z"
   },
   {
    "duration": 45,
    "start_time": "2024-05-27T14:12:31.400Z"
   },
   {
    "duration": 33,
    "start_time": "2024-05-27T14:12:31.449Z"
   },
   {
    "duration": 47,
    "start_time": "2024-05-27T14:12:31.486Z"
   },
   {
    "duration": 34,
    "start_time": "2024-05-27T14:12:31.536Z"
   },
   {
    "duration": 20,
    "start_time": "2024-05-27T14:12:31.573Z"
   },
   {
    "duration": 11,
    "start_time": "2024-05-27T14:12:31.608Z"
   },
   {
    "duration": 13,
    "start_time": "2024-05-27T14:12:31.622Z"
   },
   {
    "duration": 33,
    "start_time": "2024-05-27T14:12:31.638Z"
   },
   {
    "duration": 3,
    "start_time": "2024-05-27T14:12:31.676Z"
   },
   {
    "duration": 4,
    "start_time": "2024-05-27T14:12:31.683Z"
   },
   {
    "duration": 4,
    "start_time": "2024-05-27T14:12:31.714Z"
   },
   {
    "duration": 5,
    "start_time": "2024-05-27T14:12:31.723Z"
   },
   {
    "duration": 4,
    "start_time": "2024-05-27T14:12:31.733Z"
   },
   {
    "duration": 3,
    "start_time": "2024-05-27T14:12:31.741Z"
   },
   {
    "duration": 3,
    "start_time": "2024-05-27T14:12:31.748Z"
   },
   {
    "duration": 3,
    "start_time": "2024-05-27T14:12:31.755Z"
   },
   {
    "duration": 3,
    "start_time": "2024-05-27T14:12:31.762Z"
   },
   {
    "duration": 5,
    "start_time": "2024-05-27T14:13:16.980Z"
   },
   {
    "duration": 28,
    "start_time": "2024-05-27T14:13:18.126Z"
   },
   {
    "duration": 1397,
    "start_time": "2024-05-27T14:13:32.760Z"
   },
   {
    "duration": 185,
    "start_time": "2024-05-27T14:13:34.163Z"
   },
   {
    "duration": 124,
    "start_time": "2024-05-27T14:13:34.352Z"
   },
   {
    "duration": 90,
    "start_time": "2024-05-27T14:13:34.481Z"
   },
   {
    "duration": 14,
    "start_time": "2024-05-27T14:13:34.574Z"
   },
   {
    "duration": 64,
    "start_time": "2024-05-27T14:13:34.595Z"
   },
   {
    "duration": 23,
    "start_time": "2024-05-27T14:13:34.662Z"
   },
   {
    "duration": 17,
    "start_time": "2024-05-27T14:13:34.689Z"
   },
   {
    "duration": 31,
    "start_time": "2024-05-27T14:13:34.713Z"
   },
   {
    "duration": 21,
    "start_time": "2024-05-27T14:13:34.757Z"
   },
   {
    "duration": 18,
    "start_time": "2024-05-27T14:13:34.781Z"
   },
   {
    "duration": 26,
    "start_time": "2024-05-27T14:13:34.802Z"
   },
   {
    "duration": 26,
    "start_time": "2024-05-27T14:13:34.845Z"
   },
   {
    "duration": 5,
    "start_time": "2024-05-27T14:13:34.874Z"
   },
   {
    "duration": 8,
    "start_time": "2024-05-27T14:13:34.882Z"
   },
   {
    "duration": 31,
    "start_time": "2024-05-27T14:13:34.893Z"
   },
   {
    "duration": 18,
    "start_time": "2024-05-27T14:13:34.937Z"
   },
   {
    "duration": 10,
    "start_time": "2024-05-27T14:13:34.959Z"
   },
   {
    "duration": 26,
    "start_time": "2024-05-27T14:13:34.973Z"
   },
   {
    "duration": 60,
    "start_time": "2024-05-27T14:13:35.002Z"
   },
   {
    "duration": 17,
    "start_time": "2024-05-27T14:13:35.066Z"
   },
   {
    "duration": 70,
    "start_time": "2024-05-27T14:13:35.086Z"
   },
   {
    "duration": 121,
    "start_time": "2024-05-27T14:13:35.159Z"
   },
   {
    "duration": 15,
    "start_time": "2024-05-27T14:13:35.284Z"
   },
   {
    "duration": 54,
    "start_time": "2024-05-27T14:13:35.305Z"
   },
   {
    "duration": 34,
    "start_time": "2024-05-27T14:13:35.362Z"
   },
   {
    "duration": 35,
    "start_time": "2024-05-27T14:13:35.403Z"
   },
   {
    "duration": 41,
    "start_time": "2024-05-27T14:13:35.457Z"
   },
   {
    "duration": 12,
    "start_time": "2024-05-27T14:13:35.501Z"
   },
   {
    "duration": 27,
    "start_time": "2024-05-27T14:13:35.516Z"
   },
   {
    "duration": 30,
    "start_time": "2024-05-27T14:13:35.548Z"
   },
   {
    "duration": 43,
    "start_time": "2024-05-27T14:13:35.582Z"
   },
   {
    "duration": 62,
    "start_time": "2024-05-27T14:13:35.632Z"
   },
   {
    "duration": 85,
    "start_time": "2024-05-27T14:13:35.701Z"
   },
   {
    "duration": 14,
    "start_time": "2024-05-27T14:13:35.790Z"
   },
   {
    "duration": 59,
    "start_time": "2024-05-27T14:13:35.807Z"
   },
   {
    "duration": 17,
    "start_time": "2024-05-27T14:13:35.869Z"
   },
   {
    "duration": 66,
    "start_time": "2024-05-27T14:13:35.890Z"
   },
   {
    "duration": 25,
    "start_time": "2024-05-27T14:13:35.959Z"
   },
   {
    "duration": 39,
    "start_time": "2024-05-27T14:13:35.988Z"
   },
   {
    "duration": 27,
    "start_time": "2024-05-27T14:13:36.031Z"
   },
   {
    "duration": 9,
    "start_time": "2024-05-27T14:13:36.062Z"
   },
   {
    "duration": 8,
    "start_time": "2024-05-27T14:13:36.074Z"
   },
   {
    "duration": 33,
    "start_time": "2024-05-27T14:13:36.117Z"
   },
   {
    "duration": 5,
    "start_time": "2024-05-27T14:13:36.156Z"
   },
   {
    "duration": 3,
    "start_time": "2024-05-27T14:13:36.165Z"
   },
   {
    "duration": 3,
    "start_time": "2024-05-27T14:13:36.173Z"
   },
   {
    "duration": 5,
    "start_time": "2024-05-27T14:13:36.179Z"
   },
   {
    "duration": 5,
    "start_time": "2024-05-27T14:13:36.216Z"
   },
   {
    "duration": 7,
    "start_time": "2024-05-27T14:13:36.226Z"
   },
   {
    "duration": 9,
    "start_time": "2024-05-27T14:13:36.237Z"
   },
   {
    "duration": 4,
    "start_time": "2024-05-27T14:13:36.249Z"
   },
   {
    "duration": 5,
    "start_time": "2024-05-27T14:13:36.260Z"
   },
   {
    "duration": 458,
    "start_time": "2024-05-27T14:15:41.543Z"
   },
   {
    "duration": 23,
    "start_time": "2024-05-27T14:18:31.862Z"
   },
   {
    "duration": 471,
    "start_time": "2024-05-27T14:18:40.825Z"
   },
   {
    "duration": 41,
    "start_time": "2024-05-27T14:18:54.129Z"
   },
   {
    "duration": 45,
    "start_time": "2024-05-27T14:22:25.400Z"
   },
   {
    "duration": 5,
    "start_time": "2024-05-27T14:23:57.569Z"
   },
   {
    "duration": 167,
    "start_time": "2024-05-27T14:25:15.380Z"
   },
   {
    "duration": 102,
    "start_time": "2024-05-27T16:04:59.845Z"
   },
   {
    "duration": 35,
    "start_time": "2024-05-27T16:06:03.849Z"
   },
   {
    "duration": 7,
    "start_time": "2024-05-27T16:17:32.433Z"
   },
   {
    "duration": 8,
    "start_time": "2024-05-27T16:18:22.678Z"
   },
   {
    "duration": 13,
    "start_time": "2024-05-27T16:18:26.524Z"
   },
   {
    "duration": 26,
    "start_time": "2024-05-27T16:22:22.512Z"
   },
   {
    "duration": 43,
    "start_time": "2024-05-27T16:22:27.214Z"
   },
   {
    "duration": 8,
    "start_time": "2024-05-27T16:22:41.841Z"
   },
   {
    "duration": 12,
    "start_time": "2024-05-27T16:22:58.587Z"
   },
   {
    "duration": 13,
    "start_time": "2024-05-27T16:23:12.179Z"
   },
   {
    "duration": 53,
    "start_time": "2024-05-27T16:23:55.702Z"
   },
   {
    "duration": 13,
    "start_time": "2024-05-27T16:24:08.844Z"
   },
   {
    "duration": 14,
    "start_time": "2024-05-27T16:24:13.781Z"
   },
   {
    "duration": 30,
    "start_time": "2024-05-27T16:25:27.470Z"
   },
   {
    "duration": 31,
    "start_time": "2024-05-27T16:25:35.265Z"
   },
   {
    "duration": 48,
    "start_time": "2024-05-27T16:25:39.798Z"
   },
   {
    "duration": 31,
    "start_time": "2024-05-27T16:25:45.867Z"
   },
   {
    "duration": 37,
    "start_time": "2024-05-27T16:25:52.178Z"
   },
   {
    "duration": 3,
    "start_time": "2024-05-27T16:27:19.754Z"
   },
   {
    "duration": 18,
    "start_time": "2024-05-27T16:27:22.135Z"
   },
   {
    "duration": 947,
    "start_time": "2024-05-27T16:28:09.421Z"
   },
   {
    "duration": 1317,
    "start_time": "2024-05-27T16:28:24.161Z"
   },
   {
    "duration": 155,
    "start_time": "2024-05-27T16:28:25.482Z"
   },
   {
    "duration": 107,
    "start_time": "2024-05-27T16:28:25.640Z"
   },
   {
    "duration": 54,
    "start_time": "2024-05-27T16:28:25.752Z"
   },
   {
    "duration": 15,
    "start_time": "2024-05-27T16:28:25.809Z"
   },
   {
    "duration": 11,
    "start_time": "2024-05-27T16:28:25.827Z"
   },
   {
    "duration": 18,
    "start_time": "2024-05-27T16:28:25.842Z"
   },
   {
    "duration": 51,
    "start_time": "2024-05-27T16:28:25.864Z"
   },
   {
    "duration": 28,
    "start_time": "2024-05-27T16:28:25.918Z"
   },
   {
    "duration": 14,
    "start_time": "2024-05-27T16:28:25.951Z"
   },
   {
    "duration": 15,
    "start_time": "2024-05-27T16:28:25.968Z"
   },
   {
    "duration": 28,
    "start_time": "2024-05-27T16:28:25.987Z"
   },
   {
    "duration": 20,
    "start_time": "2024-05-27T16:28:26.024Z"
   },
   {
    "duration": 6,
    "start_time": "2024-05-27T16:28:26.047Z"
   },
   {
    "duration": 8,
    "start_time": "2024-05-27T16:28:26.055Z"
   },
   {
    "duration": 6,
    "start_time": "2024-05-27T16:28:26.066Z"
   },
   {
    "duration": 53,
    "start_time": "2024-05-27T16:28:26.074Z"
   },
   {
    "duration": 9,
    "start_time": "2024-05-27T16:28:26.141Z"
   },
   {
    "duration": 25,
    "start_time": "2024-05-27T16:28:26.154Z"
   },
   {
    "duration": 41,
    "start_time": "2024-05-27T16:28:26.182Z"
   },
   {
    "duration": 21,
    "start_time": "2024-05-27T16:28:26.227Z"
   },
   {
    "duration": 80,
    "start_time": "2024-05-27T16:28:26.251Z"
   },
   {
    "duration": 89,
    "start_time": "2024-05-27T16:28:26.337Z"
   },
   {
    "duration": 14,
    "start_time": "2024-05-27T16:28:26.429Z"
   },
   {
    "duration": 29,
    "start_time": "2024-05-27T16:28:26.446Z"
   },
   {
    "duration": 43,
    "start_time": "2024-05-27T16:28:26.478Z"
   },
   {
    "duration": 21,
    "start_time": "2024-05-27T16:28:26.525Z"
   },
   {
    "duration": 59,
    "start_time": "2024-05-27T16:28:26.557Z"
   },
   {
    "duration": 17,
    "start_time": "2024-05-27T16:28:26.619Z"
   },
   {
    "duration": 39,
    "start_time": "2024-05-27T16:28:26.639Z"
   },
   {
    "duration": 38,
    "start_time": "2024-05-27T16:28:26.681Z"
   },
   {
    "duration": 24,
    "start_time": "2024-05-27T16:28:26.722Z"
   },
   {
    "duration": 38,
    "start_time": "2024-05-27T16:28:26.749Z"
   },
   {
    "duration": 67,
    "start_time": "2024-05-27T16:28:26.789Z"
   },
   {
    "duration": 12,
    "start_time": "2024-05-27T16:28:26.860Z"
   },
   {
    "duration": 71,
    "start_time": "2024-05-27T16:28:26.874Z"
   },
   {
    "duration": 13,
    "start_time": "2024-05-27T16:28:26.951Z"
   },
   {
    "duration": 31,
    "start_time": "2024-05-27T16:28:26.967Z"
   },
   {
    "duration": 32,
    "start_time": "2024-05-27T16:28:27.012Z"
   },
   {
    "duration": 24,
    "start_time": "2024-05-27T16:28:27.047Z"
   },
   {
    "duration": 54,
    "start_time": "2024-05-27T16:28:27.074Z"
   },
   {
    "duration": 9,
    "start_time": "2024-05-27T16:28:27.133Z"
   },
   {
    "duration": 12,
    "start_time": "2024-05-27T16:28:27.145Z"
   },
   {
    "duration": 12,
    "start_time": "2024-05-27T16:28:27.160Z"
   },
   {
    "duration": 1460,
    "start_time": "2024-05-27T16:28:27.175Z"
   },
   {
    "duration": 0,
    "start_time": "2024-05-27T16:28:28.638Z"
   },
   {
    "duration": 0,
    "start_time": "2024-05-27T16:28:28.640Z"
   },
   {
    "duration": 0,
    "start_time": "2024-05-27T16:28:28.643Z"
   },
   {
    "duration": 0,
    "start_time": "2024-05-27T16:28:28.646Z"
   },
   {
    "duration": 0,
    "start_time": "2024-05-27T16:28:28.648Z"
   },
   {
    "duration": 0,
    "start_time": "2024-05-27T16:28:28.650Z"
   },
   {
    "duration": 0,
    "start_time": "2024-05-27T16:28:28.653Z"
   },
   {
    "duration": 0,
    "start_time": "2024-05-27T16:28:28.655Z"
   },
   {
    "duration": 0,
    "start_time": "2024-05-27T16:28:28.657Z"
   },
   {
    "duration": 5,
    "start_time": "2024-05-27T16:32:04.289Z"
   },
   {
    "duration": 10,
    "start_time": "2024-05-27T16:32:14.164Z"
   },
   {
    "duration": 13,
    "start_time": "2024-05-27T16:32:19.066Z"
   },
   {
    "duration": 5,
    "start_time": "2024-05-27T16:33:41.839Z"
   },
   {
    "duration": 10,
    "start_time": "2024-05-27T16:33:44.276Z"
   },
   {
    "duration": 46,
    "start_time": "2024-05-27T16:34:56.514Z"
   },
   {
    "duration": 8,
    "start_time": "2024-05-27T16:35:50.387Z"
   },
   {
    "duration": 18,
    "start_time": "2024-05-27T16:35:54.029Z"
   },
   {
    "duration": 12,
    "start_time": "2024-05-27T16:37:01.958Z"
   },
   {
    "duration": 22,
    "start_time": "2024-05-27T16:37:08.553Z"
   },
   {
    "duration": 4800,
    "start_time": "2024-05-27T17:47:56.512Z"
   },
   {
    "duration": 150,
    "start_time": "2024-05-27T17:48:01.316Z"
   },
   {
    "duration": 142,
    "start_time": "2024-05-27T17:48:01.469Z"
   },
   {
    "duration": 74,
    "start_time": "2024-05-27T17:48:01.615Z"
   },
   {
    "duration": 10,
    "start_time": "2024-05-27T17:48:01.692Z"
   },
   {
    "duration": 11,
    "start_time": "2024-05-27T17:48:01.705Z"
   },
   {
    "duration": 16,
    "start_time": "2024-05-27T17:48:01.718Z"
   },
   {
    "duration": 20,
    "start_time": "2024-05-27T17:48:01.737Z"
   },
   {
    "duration": 15,
    "start_time": "2024-05-27T17:48:01.761Z"
   },
   {
    "duration": 14,
    "start_time": "2024-05-27T17:48:01.815Z"
   },
   {
    "duration": 16,
    "start_time": "2024-05-27T17:48:01.832Z"
   },
   {
    "duration": 5,
    "start_time": "2024-05-27T17:48:01.851Z"
   },
   {
    "duration": 55,
    "start_time": "2024-05-27T17:48:01.860Z"
   },
   {
    "duration": 5,
    "start_time": "2024-05-27T17:48:01.918Z"
   },
   {
    "duration": 7,
    "start_time": "2024-05-27T17:48:01.927Z"
   },
   {
    "duration": 5,
    "start_time": "2024-05-27T17:48:01.939Z"
   },
   {
    "duration": 5,
    "start_time": "2024-05-27T17:48:01.948Z"
   },
   {
    "duration": 55,
    "start_time": "2024-05-27T17:48:01.957Z"
   },
   {
    "duration": 23,
    "start_time": "2024-05-27T17:48:02.015Z"
   },
   {
    "duration": 24,
    "start_time": "2024-05-27T17:48:02.041Z"
   },
   {
    "duration": 49,
    "start_time": "2024-05-27T17:48:02.068Z"
   },
   {
    "duration": 45,
    "start_time": "2024-05-27T17:48:02.120Z"
   },
   {
    "duration": 111,
    "start_time": "2024-05-27T17:48:02.168Z"
   },
   {
    "duration": 13,
    "start_time": "2024-05-27T17:48:02.282Z"
   },
   {
    "duration": 41,
    "start_time": "2024-05-27T17:48:02.297Z"
   },
   {
    "duration": 21,
    "start_time": "2024-05-27T17:48:02.341Z"
   },
   {
    "duration": 13,
    "start_time": "2024-05-27T17:48:02.365Z"
   },
   {
    "duration": 31,
    "start_time": "2024-05-27T17:48:02.420Z"
   },
   {
    "duration": 10,
    "start_time": "2024-05-27T17:48:02.454Z"
   },
   {
    "duration": 55,
    "start_time": "2024-05-27T17:48:02.466Z"
   },
   {
    "duration": 22,
    "start_time": "2024-05-27T17:48:02.524Z"
   },
   {
    "duration": 17,
    "start_time": "2024-05-27T17:48:02.549Z"
   },
   {
    "duration": 67,
    "start_time": "2024-05-27T17:48:02.569Z"
   },
   {
    "duration": 46,
    "start_time": "2024-05-27T17:48:02.638Z"
   },
   {
    "duration": 35,
    "start_time": "2024-05-27T17:48:02.687Z"
   },
   {
    "duration": 28,
    "start_time": "2024-05-27T17:48:02.724Z"
   },
   {
    "duration": 14,
    "start_time": "2024-05-27T17:48:02.755Z"
   },
   {
    "duration": 76,
    "start_time": "2024-05-27T17:48:02.772Z"
   },
   {
    "duration": 25,
    "start_time": "2024-05-27T17:48:02.852Z"
   },
   {
    "duration": 47,
    "start_time": "2024-05-27T17:48:02.880Z"
   },
   {
    "duration": 20,
    "start_time": "2024-05-27T17:48:02.930Z"
   },
   {
    "duration": 11,
    "start_time": "2024-05-27T17:48:02.953Z"
   },
   {
    "duration": 49,
    "start_time": "2024-05-27T17:48:02.966Z"
   },
   {
    "duration": 19,
    "start_time": "2024-05-27T17:48:03.018Z"
   },
   {
    "duration": 5,
    "start_time": "2024-05-27T17:48:03.040Z"
   },
   {
    "duration": 11,
    "start_time": "2024-05-27T17:48:03.052Z"
   },
   {
    "duration": 12,
    "start_time": "2024-05-27T17:48:03.066Z"
   },
   {
    "duration": 50,
    "start_time": "2024-05-27T17:48:03.080Z"
   },
   {
    "duration": 21,
    "start_time": "2024-05-27T17:48:03.134Z"
   },
   {
    "duration": 3,
    "start_time": "2024-05-27T17:48:03.159Z"
   },
   {
    "duration": 3,
    "start_time": "2024-05-27T17:48:03.166Z"
   },
   {
    "duration": 41,
    "start_time": "2024-05-27T17:48:03.172Z"
   },
   {
    "duration": 4,
    "start_time": "2024-05-27T17:48:03.216Z"
   },
   {
    "duration": 4,
    "start_time": "2024-05-27T17:48:03.223Z"
   },
   {
    "duration": 4,
    "start_time": "2024-05-27T17:48:03.230Z"
   },
   {
    "duration": 3,
    "start_time": "2024-05-27T17:48:03.237Z"
   },
   {
    "duration": 3,
    "start_time": "2024-05-27T17:48:03.243Z"
   },
   {
    "duration": 3,
    "start_time": "2024-05-27T17:49:46.455Z"
   },
   {
    "duration": 22,
    "start_time": "2024-05-27T17:49:48.298Z"
   },
   {
    "duration": 399,
    "start_time": "2024-05-27T17:50:29.222Z"
   },
   {
    "duration": 5,
    "start_time": "2024-05-27T17:50:31.476Z"
   },
   {
    "duration": 30,
    "start_time": "2024-05-27T17:50:33.802Z"
   },
   {
    "duration": 24,
    "start_time": "2024-05-27T17:51:05.366Z"
   },
   {
    "duration": 31,
    "start_time": "2024-05-27T17:51:13.014Z"
   },
   {
    "duration": 4,
    "start_time": "2024-05-27T17:51:36.165Z"
   },
   {
    "duration": 33,
    "start_time": "2024-05-27T17:51:37.183Z"
   },
   {
    "duration": 586,
    "start_time": "2024-05-27T17:52:34.991Z"
   },
   {
    "duration": 520,
    "start_time": "2024-05-27T17:52:45.886Z"
   },
   {
    "duration": 4,
    "start_time": "2024-05-27T17:52:51.709Z"
   },
   {
    "duration": 4,
    "start_time": "2024-05-27T17:53:01.704Z"
   },
   {
    "duration": 9,
    "start_time": "2024-05-27T17:53:02.532Z"
   },
   {
    "duration": 396,
    "start_time": "2024-05-27T17:53:40.954Z"
   },
   {
    "duration": 7,
    "start_time": "2024-05-27T17:53:49.827Z"
   },
   {
    "duration": 5,
    "start_time": "2024-05-27T17:53:59.002Z"
   },
   {
    "duration": 3,
    "start_time": "2024-05-27T17:54:07.524Z"
   },
   {
    "duration": 12,
    "start_time": "2024-05-27T17:54:08.309Z"
   },
   {
    "duration": 3,
    "start_time": "2024-05-27T17:54:38.143Z"
   },
   {
    "duration": 6,
    "start_time": "2024-05-27T17:56:49.822Z"
   },
   {
    "duration": 22,
    "start_time": "2024-05-27T17:56:53.167Z"
   },
   {
    "duration": 21,
    "start_time": "2024-05-27T17:58:31.842Z"
   },
   {
    "duration": 26,
    "start_time": "2024-05-27T18:00:42.772Z"
   },
   {
    "duration": 329,
    "start_time": "2024-05-27T18:00:57.335Z"
   },
   {
    "duration": 22,
    "start_time": "2024-05-27T18:01:01.814Z"
   },
   {
    "duration": 301,
    "start_time": "2024-05-27T18:01:24.739Z"
   },
   {
    "duration": 23,
    "start_time": "2024-05-27T18:01:25.545Z"
   },
   {
    "duration": 489,
    "start_time": "2024-05-27T18:01:51.859Z"
   },
   {
    "duration": 23,
    "start_time": "2024-05-27T18:01:54.161Z"
   },
   {
    "duration": 1138,
    "start_time": "2024-05-27T19:50:34.762Z"
   },
   {
    "duration": 127,
    "start_time": "2024-05-27T19:50:35.904Z"
   },
   {
    "duration": 97,
    "start_time": "2024-05-27T19:50:36.034Z"
   },
   {
    "duration": 58,
    "start_time": "2024-05-27T19:50:36.135Z"
   },
   {
    "duration": 11,
    "start_time": "2024-05-27T19:50:36.211Z"
   },
   {
    "duration": 11,
    "start_time": "2024-05-27T19:50:36.225Z"
   },
   {
    "duration": 16,
    "start_time": "2024-05-27T19:50:36.240Z"
   },
   {
    "duration": 16,
    "start_time": "2024-05-27T19:50:36.260Z"
   },
   {
    "duration": 18,
    "start_time": "2024-05-27T19:50:36.311Z"
   },
   {
    "duration": 13,
    "start_time": "2024-05-27T19:50:36.335Z"
   },
   {
    "duration": 17,
    "start_time": "2024-05-27T19:50:36.351Z"
   },
   {
    "duration": 42,
    "start_time": "2024-05-27T19:50:36.371Z"
   },
   {
    "duration": 19,
    "start_time": "2024-05-27T19:50:36.416Z"
   },
   {
    "duration": 5,
    "start_time": "2024-05-27T19:50:36.437Z"
   },
   {
    "duration": 7,
    "start_time": "2024-05-27T19:50:36.445Z"
   },
   {
    "duration": 6,
    "start_time": "2024-05-27T19:50:36.455Z"
   },
   {
    "duration": 46,
    "start_time": "2024-05-27T19:50:36.469Z"
   },
   {
    "duration": 6,
    "start_time": "2024-05-27T19:50:36.519Z"
   },
   {
    "duration": 23,
    "start_time": "2024-05-27T19:50:36.528Z"
   },
   {
    "duration": 61,
    "start_time": "2024-05-27T19:50:36.554Z"
   },
   {
    "duration": 16,
    "start_time": "2024-05-27T19:50:36.618Z"
   },
   {
    "duration": 44,
    "start_time": "2024-05-27T19:50:36.637Z"
   },
   {
    "duration": 86,
    "start_time": "2024-05-27T19:50:36.713Z"
   },
   {
    "duration": 13,
    "start_time": "2024-05-27T19:50:36.813Z"
   },
   {
    "duration": 30,
    "start_time": "2024-05-27T19:50:36.829Z"
   },
   {
    "duration": 52,
    "start_time": "2024-05-27T19:50:36.862Z"
   },
   {
    "duration": 15,
    "start_time": "2024-05-27T19:50:36.917Z"
   },
   {
    "duration": 30,
    "start_time": "2024-05-27T19:50:36.940Z"
   },
   {
    "duration": 40,
    "start_time": "2024-05-27T19:50:36.973Z"
   },
   {
    "duration": 23,
    "start_time": "2024-05-27T19:50:37.017Z"
   },
   {
    "duration": 22,
    "start_time": "2024-05-27T19:50:37.043Z"
   },
   {
    "duration": 48,
    "start_time": "2024-05-27T19:50:37.068Z"
   },
   {
    "duration": 37,
    "start_time": "2024-05-27T19:50:37.119Z"
   },
   {
    "duration": 75,
    "start_time": "2024-05-27T19:50:37.159Z"
   },
   {
    "duration": 12,
    "start_time": "2024-05-27T19:50:37.237Z"
   },
   {
    "duration": 33,
    "start_time": "2024-05-27T19:50:37.251Z"
   },
   {
    "duration": 36,
    "start_time": "2024-05-27T19:50:37.288Z"
   },
   {
    "duration": 34,
    "start_time": "2024-05-27T19:50:37.331Z"
   },
   {
    "duration": 48,
    "start_time": "2024-05-27T19:50:37.368Z"
   },
   {
    "duration": 25,
    "start_time": "2024-05-27T19:50:37.420Z"
   },
   {
    "duration": 19,
    "start_time": "2024-05-27T19:50:37.448Z"
   },
   {
    "duration": 44,
    "start_time": "2024-05-27T19:50:37.471Z"
   },
   {
    "duration": 11,
    "start_time": "2024-05-27T19:50:37.518Z"
   },
   {
    "duration": 12,
    "start_time": "2024-05-27T19:50:37.532Z"
   },
   {
    "duration": 5,
    "start_time": "2024-05-27T19:50:37.547Z"
   },
   {
    "duration": 9,
    "start_time": "2024-05-27T19:50:37.555Z"
   },
   {
    "duration": 12,
    "start_time": "2024-05-27T19:50:37.612Z"
   },
   {
    "duration": 16,
    "start_time": "2024-05-27T19:50:37.626Z"
   },
   {
    "duration": 556,
    "start_time": "2024-05-27T19:50:37.645Z"
   },
   {
    "duration": 28,
    "start_time": "2024-05-27T19:50:38.204Z"
   },
   {
    "duration": 3,
    "start_time": "2024-05-27T19:50:38.236Z"
   },
   {
    "duration": 8,
    "start_time": "2024-05-27T19:50:38.242Z"
   },
   {
    "duration": 3,
    "start_time": "2024-05-27T19:50:38.253Z"
   },
   {
    "duration": 3,
    "start_time": "2024-05-27T19:50:38.259Z"
   },
   {
    "duration": 3,
    "start_time": "2024-05-27T19:50:38.265Z"
   },
   {
    "duration": 3,
    "start_time": "2024-05-27T19:50:38.313Z"
   },
   {
    "duration": 5,
    "start_time": "2024-05-27T19:50:38.319Z"
   },
   {
    "duration": 3,
    "start_time": "2024-05-27T19:50:38.327Z"
   },
   {
    "duration": 5,
    "start_time": "2024-05-27T20:09:07.823Z"
   },
   {
    "duration": 197,
    "start_time": "2024-05-27T20:09:54.985Z"
   },
   {
    "duration": 15,
    "start_time": "2024-05-27T20:10:14.229Z"
   },
   {
    "duration": 22,
    "start_time": "2024-05-27T20:10:49.466Z"
   },
   {
    "duration": 8,
    "start_time": "2024-05-27T20:11:09.218Z"
   },
   {
    "duration": 25,
    "start_time": "2024-05-27T20:11:12.375Z"
   },
   {
    "duration": 6,
    "start_time": "2024-05-27T20:12:05.610Z"
   },
   {
    "duration": 7,
    "start_time": "2024-05-27T20:12:30.680Z"
   },
   {
    "duration": 3,
    "start_time": "2024-05-27T20:12:31.906Z"
   },
   {
    "duration": 6,
    "start_time": "2024-05-27T20:14:53.001Z"
   },
   {
    "duration": 25,
    "start_time": "2024-05-27T20:14:53.412Z"
   },
   {
    "duration": 11,
    "start_time": "2024-05-27T20:15:28.747Z"
   },
   {
    "duration": 31,
    "start_time": "2024-05-27T20:15:29.073Z"
   },
   {
    "duration": 5,
    "start_time": "2024-05-27T20:32:04.505Z"
   },
   {
    "duration": 24,
    "start_time": "2024-05-27T20:32:06.680Z"
   },
   {
    "duration": 6,
    "start_time": "2024-05-27T20:32:39.711Z"
   },
   {
    "duration": 23,
    "start_time": "2024-05-27T20:32:39.969Z"
   },
   {
    "duration": 4,
    "start_time": "2024-05-27T20:35:43.533Z"
   },
   {
    "duration": 25,
    "start_time": "2024-05-27T20:35:44.072Z"
   },
   {
    "duration": 27,
    "start_time": "2024-05-27T20:38:01.042Z"
   },
   {
    "duration": 8,
    "start_time": "2024-05-27T20:38:40.471Z"
   },
   {
    "duration": 5,
    "start_time": "2024-05-27T20:38:51.320Z"
   },
   {
    "duration": 32,
    "start_time": "2024-05-27T20:38:51.802Z"
   },
   {
    "duration": 1130,
    "start_time": "2024-05-27T20:39:19.254Z"
   },
   {
    "duration": 123,
    "start_time": "2024-05-27T20:39:20.388Z"
   },
   {
    "duration": 88,
    "start_time": "2024-05-27T20:39:20.513Z"
   },
   {
    "duration": 54,
    "start_time": "2024-05-27T20:39:20.611Z"
   },
   {
    "duration": 9,
    "start_time": "2024-05-27T20:39:20.668Z"
   },
   {
    "duration": 32,
    "start_time": "2024-05-27T20:39:20.680Z"
   },
   {
    "duration": 15,
    "start_time": "2024-05-27T20:39:20.715Z"
   },
   {
    "duration": 17,
    "start_time": "2024-05-27T20:39:20.733Z"
   },
   {
    "duration": 17,
    "start_time": "2024-05-27T20:39:20.753Z"
   },
   {
    "duration": 14,
    "start_time": "2024-05-27T20:39:20.811Z"
   },
   {
    "duration": 15,
    "start_time": "2024-05-27T20:39:20.828Z"
   },
   {
    "duration": 7,
    "start_time": "2024-05-27T20:39:20.846Z"
   },
   {
    "duration": 57,
    "start_time": "2024-05-27T20:39:20.857Z"
   },
   {
    "duration": 5,
    "start_time": "2024-05-27T20:39:20.917Z"
   },
   {
    "duration": 10,
    "start_time": "2024-05-27T20:39:20.925Z"
   },
   {
    "duration": 5,
    "start_time": "2024-05-27T20:39:20.939Z"
   },
   {
    "duration": 5,
    "start_time": "2024-05-27T20:39:20.948Z"
   },
   {
    "duration": 12,
    "start_time": "2024-05-27T20:39:20.960Z"
   },
   {
    "duration": 22,
    "start_time": "2024-05-27T20:39:21.012Z"
   },
   {
    "duration": 24,
    "start_time": "2024-05-27T20:39:21.037Z"
   },
   {
    "duration": 48,
    "start_time": "2024-05-27T20:39:21.064Z"
   },
   {
    "duration": 48,
    "start_time": "2024-05-27T20:39:21.115Z"
   },
   {
    "duration": 102,
    "start_time": "2024-05-27T20:39:21.166Z"
   },
   {
    "duration": 14,
    "start_time": "2024-05-27T20:39:21.271Z"
   },
   {
    "duration": 51,
    "start_time": "2024-05-27T20:39:21.287Z"
   },
   {
    "duration": 21,
    "start_time": "2024-05-27T20:39:21.341Z"
   },
   {
    "duration": 12,
    "start_time": "2024-05-27T20:39:21.365Z"
   },
   {
    "duration": 30,
    "start_time": "2024-05-27T20:39:21.419Z"
   },
   {
    "duration": 10,
    "start_time": "2024-05-27T20:39:21.452Z"
   },
   {
    "duration": 60,
    "start_time": "2024-05-27T20:39:21.465Z"
   },
   {
    "duration": 24,
    "start_time": "2024-05-27T20:39:21.528Z"
   },
   {
    "duration": 16,
    "start_time": "2024-05-27T20:39:21.555Z"
   },
   {
    "duration": 56,
    "start_time": "2024-05-27T20:39:21.574Z"
   },
   {
    "duration": 43,
    "start_time": "2024-05-27T20:39:21.633Z"
   },
   {
    "duration": 36,
    "start_time": "2024-05-27T20:39:21.679Z"
   },
   {
    "duration": 28,
    "start_time": "2024-05-27T20:39:21.717Z"
   },
   {
    "duration": 12,
    "start_time": "2024-05-27T20:39:21.747Z"
   },
   {
    "duration": 63,
    "start_time": "2024-05-27T20:39:21.763Z"
   },
   {
    "duration": 21,
    "start_time": "2024-05-27T20:39:21.829Z"
   },
   {
    "duration": 25,
    "start_time": "2024-05-27T20:39:21.853Z"
   },
   {
    "duration": 47,
    "start_time": "2024-05-27T20:39:21.881Z"
   },
   {
    "duration": 9,
    "start_time": "2024-05-27T20:39:21.931Z"
   },
   {
    "duration": 11,
    "start_time": "2024-05-27T20:39:21.942Z"
   },
   {
    "duration": 11,
    "start_time": "2024-05-27T20:39:21.956Z"
   },
   {
    "duration": 45,
    "start_time": "2024-05-27T20:39:21.970Z"
   },
   {
    "duration": 9,
    "start_time": "2024-05-27T20:39:22.017Z"
   },
   {
    "duration": 12,
    "start_time": "2024-05-27T20:39:22.029Z"
   },
   {
    "duration": 16,
    "start_time": "2024-05-27T20:39:22.043Z"
   },
   {
    "duration": 50,
    "start_time": "2024-05-27T20:39:22.062Z"
   },
   {
    "duration": 8,
    "start_time": "2024-05-27T20:39:22.115Z"
   },
   {
    "duration": 8,
    "start_time": "2024-05-27T20:39:22.126Z"
   },
   {
    "duration": 6,
    "start_time": "2024-05-27T20:39:22.137Z"
   },
   {
    "duration": 67,
    "start_time": "2024-05-27T20:39:22.146Z"
   },
   {
    "duration": 4,
    "start_time": "2024-05-27T20:39:22.217Z"
   },
   {
    "duration": 3,
    "start_time": "2024-05-27T20:39:22.225Z"
   },
   {
    "duration": 4,
    "start_time": "2024-05-27T20:39:22.232Z"
   },
   {
    "duration": 3,
    "start_time": "2024-05-27T20:39:22.240Z"
   },
   {
    "duration": 4,
    "start_time": "2024-05-27T20:39:22.247Z"
   },
   {
    "duration": 4,
    "start_time": "2024-05-27T20:39:22.255Z"
   },
   {
    "duration": 52,
    "start_time": "2024-05-27T20:39:22.262Z"
   },
   {
    "duration": 3,
    "start_time": "2024-05-27T20:39:22.318Z"
   },
   {
    "duration": 5,
    "start_time": "2024-05-27T20:40:37.210Z"
   },
   {
    "duration": 33,
    "start_time": "2024-05-27T20:40:39.050Z"
   },
   {
    "duration": 1167,
    "start_time": "2024-05-27T20:40:55.876Z"
   },
   {
    "duration": 122,
    "start_time": "2024-05-27T20:40:57.047Z"
   },
   {
    "duration": 99,
    "start_time": "2024-05-27T20:40:57.171Z"
   },
   {
    "duration": 62,
    "start_time": "2024-05-27T20:40:57.274Z"
   },
   {
    "duration": 10,
    "start_time": "2024-05-27T20:40:57.338Z"
   },
   {
    "duration": 9,
    "start_time": "2024-05-27T20:40:57.350Z"
   },
   {
    "duration": 16,
    "start_time": "2024-05-27T20:40:57.362Z"
   },
   {
    "duration": 45,
    "start_time": "2024-05-27T20:40:57.381Z"
   },
   {
    "duration": 16,
    "start_time": "2024-05-27T20:40:57.431Z"
   },
   {
    "duration": 14,
    "start_time": "2024-05-27T20:40:57.453Z"
   },
   {
    "duration": 53,
    "start_time": "2024-05-27T20:40:57.471Z"
   },
   {
    "duration": 6,
    "start_time": "2024-05-27T20:40:57.527Z"
   },
   {
    "duration": 16,
    "start_time": "2024-05-27T20:40:57.537Z"
   },
   {
    "duration": 7,
    "start_time": "2024-05-27T20:40:57.556Z"
   },
   {
    "duration": 46,
    "start_time": "2024-05-27T20:40:57.566Z"
   },
   {
    "duration": 5,
    "start_time": "2024-05-27T20:40:57.615Z"
   },
   {
    "duration": 5,
    "start_time": "2024-05-27T20:40:57.623Z"
   },
   {
    "duration": 5,
    "start_time": "2024-05-27T20:40:57.632Z"
   },
   {
    "duration": 22,
    "start_time": "2024-05-27T20:40:57.640Z"
   },
   {
    "duration": 67,
    "start_time": "2024-05-27T20:40:57.665Z"
   },
   {
    "duration": 18,
    "start_time": "2024-05-27T20:40:57.735Z"
   },
   {
    "duration": 73,
    "start_time": "2024-05-27T20:40:57.756Z"
   },
   {
    "duration": 93,
    "start_time": "2024-05-27T20:40:57.831Z"
   },
   {
    "duration": 12,
    "start_time": "2024-05-27T20:40:57.930Z"
   },
   {
    "duration": 27,
    "start_time": "2024-05-27T20:40:57.945Z"
   },
   {
    "duration": 49,
    "start_time": "2024-05-27T20:40:57.975Z"
   },
   {
    "duration": 15,
    "start_time": "2024-05-27T20:40:58.028Z"
   },
   {
    "duration": 58,
    "start_time": "2024-05-27T20:40:58.055Z"
   },
   {
    "duration": 9,
    "start_time": "2024-05-27T20:40:58.116Z"
   },
   {
    "duration": 23,
    "start_time": "2024-05-27T20:40:58.128Z"
   },
   {
    "duration": 22,
    "start_time": "2024-05-27T20:40:58.154Z"
   },
   {
    "duration": 15,
    "start_time": "2024-05-27T20:40:58.214Z"
   },
   {
    "duration": 36,
    "start_time": "2024-05-27T20:40:58.235Z"
   },
   {
    "duration": 71,
    "start_time": "2024-05-27T20:40:58.273Z"
   },
   {
    "duration": 13,
    "start_time": "2024-05-27T20:40:58.347Z"
   },
   {
    "duration": 51,
    "start_time": "2024-05-27T20:40:58.362Z"
   },
   {
    "duration": 13,
    "start_time": "2024-05-27T20:40:58.418Z"
   },
   {
    "duration": 31,
    "start_time": "2024-05-27T20:40:58.436Z"
   },
   {
    "duration": 53,
    "start_time": "2024-05-27T20:40:58.470Z"
   },
   {
    "duration": 24,
    "start_time": "2024-05-27T20:40:58.526Z"
   },
   {
    "duration": 20,
    "start_time": "2024-05-27T20:40:58.552Z"
   },
   {
    "duration": 40,
    "start_time": "2024-05-27T20:40:58.575Z"
   },
   {
    "duration": 10,
    "start_time": "2024-05-27T20:40:58.618Z"
   },
   {
    "duration": 11,
    "start_time": "2024-05-27T20:40:58.631Z"
   },
   {
    "duration": 7,
    "start_time": "2024-05-27T20:40:58.645Z"
   },
   {
    "duration": 8,
    "start_time": "2024-05-27T20:40:58.655Z"
   },
   {
    "duration": 55,
    "start_time": "2024-05-27T20:40:58.667Z"
   },
   {
    "duration": 17,
    "start_time": "2024-05-27T20:40:58.725Z"
   },
   {
    "duration": 8,
    "start_time": "2024-05-27T20:40:58.745Z"
   },
   {
    "duration": 9,
    "start_time": "2024-05-27T20:40:58.756Z"
   },
   {
    "duration": 47,
    "start_time": "2024-05-27T20:40:58.768Z"
   },
   {
    "duration": 5,
    "start_time": "2024-05-27T20:40:58.818Z"
   },
   {
    "duration": 29,
    "start_time": "2024-05-27T20:40:58.826Z"
   },
   {
    "duration": 3,
    "start_time": "2024-05-27T20:40:58.858Z"
   },
   {
    "duration": 4,
    "start_time": "2024-05-27T20:40:58.864Z"
   },
   {
    "duration": 43,
    "start_time": "2024-05-27T20:40:58.870Z"
   },
   {
    "duration": 3,
    "start_time": "2024-05-27T20:40:58.916Z"
   },
   {
    "duration": 4,
    "start_time": "2024-05-27T20:40:58.922Z"
   },
   {
    "duration": 4,
    "start_time": "2024-05-27T20:40:58.928Z"
   },
   {
    "duration": 6,
    "start_time": "2024-05-27T20:40:58.935Z"
   },
   {
    "duration": 3,
    "start_time": "2024-05-27T20:40:58.945Z"
   },
   {
    "duration": 5,
    "start_time": "2024-05-27T20:42:24.288Z"
   },
   {
    "duration": 31,
    "start_time": "2024-05-27T20:42:25.890Z"
   },
   {
    "duration": 5,
    "start_time": "2024-05-27T20:43:24.403Z"
   },
   {
    "duration": 39,
    "start_time": "2024-05-27T20:43:24.801Z"
   },
   {
    "duration": 5,
    "start_time": "2024-05-27T20:48:42.615Z"
   },
   {
    "duration": 31,
    "start_time": "2024-05-27T20:48:42.765Z"
   },
   {
    "duration": 18,
    "start_time": "2024-05-27T20:51:24.190Z"
   },
   {
    "duration": 6,
    "start_time": "2024-05-27T20:53:15.669Z"
   },
   {
    "duration": 18,
    "start_time": "2024-05-27T20:53:17.908Z"
   },
   {
    "duration": 32,
    "start_time": "2024-05-27T20:53:21.120Z"
   },
   {
    "duration": 1227,
    "start_time": "2024-05-27T20:54:00.912Z"
   },
   {
    "duration": 25,
    "start_time": "2024-05-27T20:54:12.724Z"
   },
   {
    "duration": 7,
    "start_time": "2024-05-27T20:55:28.515Z"
   },
   {
    "duration": 6,
    "start_time": "2024-05-27T20:59:12.855Z"
   },
   {
    "duration": 6,
    "start_time": "2024-05-27T20:59:14.028Z"
   },
   {
    "duration": 1180,
    "start_time": "2024-05-27T20:59:23.192Z"
   },
   {
    "duration": 130,
    "start_time": "2024-05-27T20:59:24.377Z"
   },
   {
    "duration": 92,
    "start_time": "2024-05-27T20:59:24.509Z"
   },
   {
    "duration": 55,
    "start_time": "2024-05-27T20:59:24.613Z"
   },
   {
    "duration": 8,
    "start_time": "2024-05-27T20:59:24.673Z"
   },
   {
    "duration": 34,
    "start_time": "2024-05-27T20:59:24.683Z"
   },
   {
    "duration": 16,
    "start_time": "2024-05-27T20:59:24.720Z"
   },
   {
    "duration": 16,
    "start_time": "2024-05-27T20:59:24.739Z"
   },
   {
    "duration": 17,
    "start_time": "2024-05-27T20:59:24.758Z"
   },
   {
    "duration": 14,
    "start_time": "2024-05-27T20:59:24.813Z"
   },
   {
    "duration": 16,
    "start_time": "2024-05-27T20:59:24.830Z"
   },
   {
    "duration": 5,
    "start_time": "2024-05-27T20:59:24.849Z"
   },
   {
    "duration": 57,
    "start_time": "2024-05-27T20:59:24.859Z"
   },
   {
    "duration": 4,
    "start_time": "2024-05-27T20:59:24.923Z"
   },
   {
    "duration": 6,
    "start_time": "2024-05-27T20:59:24.931Z"
   },
   {
    "duration": 6,
    "start_time": "2024-05-27T20:59:24.940Z"
   },
   {
    "duration": 4,
    "start_time": "2024-05-27T20:59:24.949Z"
   },
   {
    "duration": 5,
    "start_time": "2024-05-27T20:59:24.957Z"
   },
   {
    "duration": 22,
    "start_time": "2024-05-27T20:59:25.012Z"
   },
   {
    "duration": 24,
    "start_time": "2024-05-27T20:59:25.037Z"
   },
   {
    "duration": 16,
    "start_time": "2024-05-27T20:59:25.064Z"
   },
   {
    "duration": 72,
    "start_time": "2024-05-27T20:59:25.082Z"
   },
   {
    "duration": 98,
    "start_time": "2024-05-27T20:59:25.160Z"
   },
   {
    "duration": 13,
    "start_time": "2024-05-27T20:59:25.261Z"
   },
   {
    "duration": 49,
    "start_time": "2024-05-27T20:59:25.276Z"
   },
   {
    "duration": 18,
    "start_time": "2024-05-27T20:59:25.328Z"
   },
   {
    "duration": 16,
    "start_time": "2024-05-27T20:59:25.349Z"
   },
   {
    "duration": 63,
    "start_time": "2024-05-27T20:59:25.368Z"
   },
   {
    "duration": 11,
    "start_time": "2024-05-27T20:59:25.434Z"
   },
   {
    "duration": 26,
    "start_time": "2024-05-27T20:59:25.448Z"
   },
   {
    "duration": 55,
    "start_time": "2024-05-27T20:59:25.478Z"
   },
   {
    "duration": 16,
    "start_time": "2024-05-27T20:59:25.537Z"
   },
   {
    "duration": 65,
    "start_time": "2024-05-27T20:59:25.556Z"
   },
   {
    "duration": 43,
    "start_time": "2024-05-27T20:59:25.624Z"
   },
   {
    "duration": 12,
    "start_time": "2024-05-27T20:59:25.669Z"
   },
   {
    "duration": 52,
    "start_time": "2024-05-27T20:59:25.683Z"
   },
   {
    "duration": 11,
    "start_time": "2024-05-27T20:59:25.741Z"
   },
   {
    "duration": 31,
    "start_time": "2024-05-27T20:59:25.755Z"
   },
   {
    "duration": 19,
    "start_time": "2024-05-27T20:59:25.814Z"
   },
   {
    "duration": 25,
    "start_time": "2024-05-27T20:59:25.836Z"
   },
   {
    "duration": 53,
    "start_time": "2024-05-27T20:59:25.870Z"
   },
   {
    "duration": 9,
    "start_time": "2024-05-27T20:59:25.926Z"
   },
   {
    "duration": 10,
    "start_time": "2024-05-27T20:59:25.938Z"
   },
   {
    "duration": 12,
    "start_time": "2024-05-27T20:59:25.951Z"
   },
   {
    "duration": 5,
    "start_time": "2024-05-27T20:59:25.965Z"
   },
   {
    "duration": 8,
    "start_time": "2024-05-27T20:59:26.012Z"
   },
   {
    "duration": 13,
    "start_time": "2024-05-27T20:59:26.024Z"
   },
   {
    "duration": 16,
    "start_time": "2024-05-27T20:59:26.039Z"
   },
   {
    "duration": 8,
    "start_time": "2024-05-27T20:59:26.058Z"
   },
   {
    "duration": 48,
    "start_time": "2024-05-27T20:59:26.069Z"
   },
   {
    "duration": 8,
    "start_time": "2024-05-27T20:59:26.120Z"
   },
   {
    "duration": 5,
    "start_time": "2024-05-27T20:59:26.131Z"
   },
   {
    "duration": 6,
    "start_time": "2024-05-27T20:59:26.139Z"
   },
   {
    "duration": 10,
    "start_time": "2024-05-27T20:59:26.148Z"
   },
   {
    "duration": 51,
    "start_time": "2024-05-27T20:59:26.161Z"
   },
   {
    "duration": 10,
    "start_time": "2024-05-27T20:59:26.215Z"
   },
   {
    "duration": 32,
    "start_time": "2024-05-27T20:59:26.228Z"
   },
   {
    "duration": 3,
    "start_time": "2024-05-27T20:59:26.264Z"
   },
   {
    "duration": 4,
    "start_time": "2024-05-27T20:59:26.270Z"
   },
   {
    "duration": 4,
    "start_time": "2024-05-27T20:59:26.313Z"
   },
   {
    "duration": 4,
    "start_time": "2024-05-27T20:59:26.320Z"
   },
   {
    "duration": 3,
    "start_time": "2024-05-27T20:59:26.328Z"
   },
   {
    "duration": 3,
    "start_time": "2024-05-27T20:59:26.334Z"
   },
   {
    "duration": 3,
    "start_time": "2024-05-27T20:59:26.341Z"
   },
   {
    "duration": 3,
    "start_time": "2024-05-27T20:59:26.347Z"
   },
   {
    "duration": 7,
    "start_time": "2024-05-27T21:02:43.009Z"
   },
   {
    "duration": 35,
    "start_time": "2024-05-27T21:02:43.312Z"
   },
   {
    "duration": 1253,
    "start_time": "2024-05-27T21:03:02.311Z"
   },
   {
    "duration": 136,
    "start_time": "2024-05-27T21:03:03.570Z"
   },
   {
    "duration": 105,
    "start_time": "2024-05-27T21:03:03.709Z"
   },
   {
    "duration": 54,
    "start_time": "2024-05-27T21:03:03.819Z"
   },
   {
    "duration": 7,
    "start_time": "2024-05-27T21:03:03.876Z"
   },
   {
    "duration": 30,
    "start_time": "2024-05-27T21:03:03.886Z"
   },
   {
    "duration": 16,
    "start_time": "2024-05-27T21:03:03.922Z"
   },
   {
    "duration": 24,
    "start_time": "2024-05-27T21:03:03.941Z"
   },
   {
    "duration": 16,
    "start_time": "2024-05-27T21:03:03.968Z"
   },
   {
    "duration": 15,
    "start_time": "2024-05-27T21:03:04.016Z"
   },
   {
    "duration": 19,
    "start_time": "2024-05-27T21:03:04.034Z"
   },
   {
    "duration": 7,
    "start_time": "2024-05-27T21:03:04.057Z"
   },
   {
    "duration": 59,
    "start_time": "2024-05-27T21:03:04.068Z"
   },
   {
    "duration": 5,
    "start_time": "2024-05-27T21:03:04.130Z"
   },
   {
    "duration": 8,
    "start_time": "2024-05-27T21:03:04.139Z"
   },
   {
    "duration": 5,
    "start_time": "2024-05-27T21:03:04.151Z"
   },
   {
    "duration": 51,
    "start_time": "2024-05-27T21:03:04.160Z"
   },
   {
    "duration": 6,
    "start_time": "2024-05-27T21:03:04.214Z"
   },
   {
    "duration": 24,
    "start_time": "2024-05-27T21:03:04.223Z"
   },
   {
    "duration": 26,
    "start_time": "2024-05-27T21:03:04.250Z"
   },
   {
    "duration": 17,
    "start_time": "2024-05-27T21:03:04.311Z"
   },
   {
    "duration": 45,
    "start_time": "2024-05-27T21:03:04.330Z"
   },
   {
    "duration": 102,
    "start_time": "2024-05-27T21:03:04.378Z"
   },
   {
    "duration": 29,
    "start_time": "2024-05-27T21:03:04.483Z"
   },
   {
    "duration": 28,
    "start_time": "2024-05-27T21:03:04.515Z"
   },
   {
    "duration": 19,
    "start_time": "2024-05-27T21:03:04.546Z"
   },
   {
    "duration": 45,
    "start_time": "2024-05-27T21:03:04.568Z"
   },
   {
    "duration": 29,
    "start_time": "2024-05-27T21:03:04.623Z"
   },
   {
    "duration": 10,
    "start_time": "2024-05-27T21:03:04.656Z"
   },
   {
    "duration": 54,
    "start_time": "2024-05-27T21:03:04.669Z"
   },
   {
    "duration": 22,
    "start_time": "2024-05-27T21:03:04.726Z"
   },
   {
    "duration": 17,
    "start_time": "2024-05-27T21:03:04.751Z"
   },
   {
    "duration": 68,
    "start_time": "2024-05-27T21:03:04.770Z"
   },
   {
    "duration": 44,
    "start_time": "2024-05-27T21:03:04.841Z"
   },
   {
    "duration": 24,
    "start_time": "2024-05-27T21:03:04.889Z"
   },
   {
    "duration": 28,
    "start_time": "2024-05-27T21:03:04.916Z"
   },
   {
    "duration": 12,
    "start_time": "2024-05-27T21:03:04.947Z"
   },
   {
    "duration": 67,
    "start_time": "2024-05-27T21:03:04.962Z"
   },
   {
    "duration": 21,
    "start_time": "2024-05-27T21:03:05.032Z"
   },
   {
    "duration": 25,
    "start_time": "2024-05-27T21:03:05.055Z"
   },
   {
    "duration": 46,
    "start_time": "2024-05-27T21:03:05.083Z"
   },
   {
    "duration": 10,
    "start_time": "2024-05-27T21:03:05.134Z"
   },
   {
    "duration": 12,
    "start_time": "2024-05-27T21:03:05.148Z"
   },
   {
    "duration": 52,
    "start_time": "2024-05-27T21:03:05.164Z"
   },
   {
    "duration": 5,
    "start_time": "2024-05-27T21:03:05.219Z"
   },
   {
    "duration": 8,
    "start_time": "2024-05-27T21:03:05.228Z"
   },
   {
    "duration": 12,
    "start_time": "2024-05-27T21:03:05.240Z"
   },
   {
    "duration": 17,
    "start_time": "2024-05-27T21:03:05.254Z"
   },
   {
    "duration": 9,
    "start_time": "2024-05-27T21:03:05.313Z"
   },
   {
    "duration": 8,
    "start_time": "2024-05-27T21:03:05.326Z"
   },
   {
    "duration": 8,
    "start_time": "2024-05-27T21:03:05.337Z"
   },
   {
    "duration": 5,
    "start_time": "2024-05-27T21:03:05.348Z"
   },
   {
    "duration": 7,
    "start_time": "2024-05-27T21:03:05.356Z"
   },
   {
    "duration": 52,
    "start_time": "2024-05-27T21:03:05.365Z"
   },
   {
    "duration": 22,
    "start_time": "2024-05-27T21:03:05.420Z"
   },
   {
    "duration": 33,
    "start_time": "2024-05-27T21:03:05.445Z"
   },
   {
    "duration": 3,
    "start_time": "2024-05-27T21:03:05.481Z"
   },
   {
    "duration": 26,
    "start_time": "2024-05-27T21:03:05.487Z"
   },
   {
    "duration": 3,
    "start_time": "2024-05-27T21:03:05.516Z"
   },
   {
    "duration": 4,
    "start_time": "2024-05-27T21:03:05.522Z"
   },
   {
    "duration": 3,
    "start_time": "2024-05-27T21:03:05.529Z"
   },
   {
    "duration": 3,
    "start_time": "2024-05-27T21:03:05.536Z"
   },
   {
    "duration": 4,
    "start_time": "2024-05-27T21:03:05.542Z"
   },
   {
    "duration": 3,
    "start_time": "2024-05-27T21:03:05.549Z"
   },
   {
    "duration": 5,
    "start_time": "2024-05-27T21:08:27.766Z"
   },
   {
    "duration": 6,
    "start_time": "2024-05-27T21:08:32.001Z"
   },
   {
    "duration": 8,
    "start_time": "2024-05-27T21:08:50.149Z"
   },
   {
    "duration": 9,
    "start_time": "2024-05-27T21:09:15.514Z"
   },
   {
    "duration": 187,
    "start_time": "2024-05-27T21:09:31.160Z"
   },
   {
    "duration": 12,
    "start_time": "2024-05-27T21:09:31.428Z"
   },
   {
    "duration": 9,
    "start_time": "2024-05-27T21:09:37.442Z"
   },
   {
    "duration": 14,
    "start_time": "2024-05-27T21:09:38.358Z"
   },
   {
    "duration": 42,
    "start_time": "2024-05-27T21:12:03.406Z"
   },
   {
    "duration": 7,
    "start_time": "2024-05-27T21:12:36.817Z"
   },
   {
    "duration": 10,
    "start_time": "2024-05-27T21:12:37.575Z"
   },
   {
    "duration": 16,
    "start_time": "2024-05-27T21:32:18.427Z"
   },
   {
    "duration": 24,
    "start_time": "2024-05-27T21:32:47.865Z"
   },
   {
    "duration": 21,
    "start_time": "2024-05-27T21:32:53.613Z"
   },
   {
    "duration": 20,
    "start_time": "2024-05-27T21:32:57.841Z"
   },
   {
    "duration": 38,
    "start_time": "2024-05-27T21:33:24.259Z"
   },
   {
    "duration": 50,
    "start_time": "2024-05-27T21:33:40.333Z"
   },
   {
    "duration": 47,
    "start_time": "2024-05-27T21:33:58.528Z"
   },
   {
    "duration": 50,
    "start_time": "2024-05-27T21:34:21.521Z"
   },
   {
    "duration": 41,
    "start_time": "2024-05-27T21:35:28.212Z"
   },
   {
    "duration": 45,
    "start_time": "2024-05-27T21:35:40.181Z"
   },
   {
    "duration": 33,
    "start_time": "2024-05-27T21:35:48.048Z"
   },
   {
    "duration": 46,
    "start_time": "2024-05-27T21:35:55.178Z"
   },
   {
    "duration": 47,
    "start_time": "2024-05-27T21:36:07.938Z"
   },
   {
    "duration": 31,
    "start_time": "2024-05-27T21:36:26.236Z"
   },
   {
    "duration": 9,
    "start_time": "2024-05-27T21:36:57.649Z"
   },
   {
    "duration": 14,
    "start_time": "2024-05-27T21:36:59.893Z"
   },
   {
    "duration": 9,
    "start_time": "2024-05-27T21:37:51.357Z"
   },
   {
    "duration": 14,
    "start_time": "2024-05-27T21:37:54.197Z"
   },
   {
    "duration": 232,
    "start_time": "2024-05-27T21:37:58.400Z"
   },
   {
    "duration": 5,
    "start_time": "2024-05-27T21:38:12.076Z"
   },
   {
    "duration": 9,
    "start_time": "2024-05-27T21:38:14.703Z"
   },
   {
    "duration": 15,
    "start_time": "2024-05-27T21:38:19.690Z"
   },
   {
    "duration": 12,
    "start_time": "2024-05-27T21:38:44.945Z"
   },
   {
    "duration": 14,
    "start_time": "2024-05-27T21:38:45.766Z"
   },
   {
    "duration": 12,
    "start_time": "2024-05-27T21:38:51.279Z"
   },
   {
    "duration": 10,
    "start_time": "2024-05-27T21:39:20.772Z"
   },
   {
    "duration": 11,
    "start_time": "2024-05-27T21:39:21.299Z"
   },
   {
    "duration": 10,
    "start_time": "2024-05-27T21:39:59.270Z"
   },
   {
    "duration": 11,
    "start_time": "2024-05-27T21:40:02.808Z"
   },
   {
    "duration": 15,
    "start_time": "2024-05-27T21:45:21.809Z"
   },
   {
    "duration": 28,
    "start_time": "2024-05-27T21:45:52.994Z"
   },
   {
    "duration": 508,
    "start_time": "2024-05-27T21:48:52.411Z"
   },
   {
    "duration": 340,
    "start_time": "2024-05-27T21:49:38.318Z"
   },
   {
    "duration": 352,
    "start_time": "2024-05-27T21:51:10.262Z"
   },
   {
    "duration": 389,
    "start_time": "2024-05-27T21:51:21.648Z"
   },
   {
    "duration": 28,
    "start_time": "2024-05-27T21:53:36.865Z"
   },
   {
    "duration": 935,
    "start_time": "2024-05-27T21:53:44.867Z"
   },
   {
    "duration": 342,
    "start_time": "2024-05-27T21:54:00.865Z"
   },
   {
    "duration": 273,
    "start_time": "2024-05-27T21:54:31.254Z"
   },
   {
    "duration": 362,
    "start_time": "2024-05-27T21:54:50.895Z"
   },
   {
    "duration": 339,
    "start_time": "2024-05-27T21:55:17.405Z"
   },
   {
    "duration": 333,
    "start_time": "2024-05-27T21:55:30.581Z"
   },
   {
    "duration": 399,
    "start_time": "2024-05-27T21:55:44.692Z"
   },
   {
    "duration": 329,
    "start_time": "2024-05-27T21:55:49.975Z"
   },
   {
    "duration": 1823,
    "start_time": "2024-05-27T22:00:03.716Z"
   },
   {
    "duration": 22,
    "start_time": "2024-05-27T22:01:35.877Z"
   },
   {
    "duration": 22,
    "start_time": "2024-05-27T22:01:50.570Z"
   },
   {
    "duration": 653,
    "start_time": "2024-05-27T22:02:03.394Z"
   },
   {
    "duration": 418,
    "start_time": "2024-05-27T22:04:21.371Z"
   },
   {
    "duration": 4,
    "start_time": "2024-05-27T22:05:59.262Z"
   },
   {
    "duration": 411,
    "start_time": "2024-05-27T22:06:01.978Z"
   },
   {
    "duration": 4,
    "start_time": "2024-05-27T22:06:24.115Z"
   },
   {
    "duration": 353,
    "start_time": "2024-05-27T22:06:25.850Z"
   },
   {
    "duration": 1113,
    "start_time": "2024-05-27T22:06:34.559Z"
   },
   {
    "duration": 122,
    "start_time": "2024-05-27T22:06:35.676Z"
   },
   {
    "duration": 93,
    "start_time": "2024-05-27T22:06:35.801Z"
   },
   {
    "duration": 67,
    "start_time": "2024-05-27T22:06:35.898Z"
   },
   {
    "duration": 9,
    "start_time": "2024-05-27T22:06:35.968Z"
   },
   {
    "duration": 10,
    "start_time": "2024-05-27T22:06:35.981Z"
   },
   {
    "duration": 16,
    "start_time": "2024-05-27T22:06:36.014Z"
   },
   {
    "duration": 17,
    "start_time": "2024-05-27T22:06:36.033Z"
   },
   {
    "duration": 16,
    "start_time": "2024-05-27T22:06:36.053Z"
   },
   {
    "duration": 14,
    "start_time": "2024-05-27T22:06:36.111Z"
   },
   {
    "duration": 15,
    "start_time": "2024-05-27T22:06:36.128Z"
   },
   {
    "duration": 5,
    "start_time": "2024-05-27T22:06:36.147Z"
   },
   {
    "duration": 58,
    "start_time": "2024-05-27T22:06:36.155Z"
   },
   {
    "duration": 5,
    "start_time": "2024-05-27T22:06:36.216Z"
   },
   {
    "duration": 7,
    "start_time": "2024-05-27T22:06:36.224Z"
   },
   {
    "duration": 5,
    "start_time": "2024-05-27T22:06:36.235Z"
   },
   {
    "duration": 6,
    "start_time": "2024-05-27T22:06:36.243Z"
   },
   {
    "duration": 6,
    "start_time": "2024-05-27T22:06:36.252Z"
   },
   {
    "duration": 66,
    "start_time": "2024-05-27T22:06:36.260Z"
   },
   {
    "duration": 25,
    "start_time": "2024-05-27T22:06:36.329Z"
   },
   {
    "duration": 55,
    "start_time": "2024-05-27T22:06:36.358Z"
   },
   {
    "duration": 47,
    "start_time": "2024-05-27T22:06:36.415Z"
   },
   {
    "duration": 101,
    "start_time": "2024-05-27T22:06:36.465Z"
   },
   {
    "duration": 13,
    "start_time": "2024-05-27T22:06:36.569Z"
   },
   {
    "duration": 43,
    "start_time": "2024-05-27T22:06:36.585Z"
   },
   {
    "duration": 19,
    "start_time": "2024-05-27T22:06:36.631Z"
   },
   {
    "duration": 13,
    "start_time": "2024-05-27T22:06:36.653Z"
   },
   {
    "duration": 61,
    "start_time": "2024-05-27T22:06:36.674Z"
   },
   {
    "duration": 10,
    "start_time": "2024-05-27T22:06:36.739Z"
   },
   {
    "duration": 22,
    "start_time": "2024-05-27T22:06:36.751Z"
   },
   {
    "duration": 57,
    "start_time": "2024-05-27T22:06:36.777Z"
   },
   {
    "duration": 16,
    "start_time": "2024-05-27T22:06:36.837Z"
   },
   {
    "duration": 63,
    "start_time": "2024-05-27T22:06:36.859Z"
   },
   {
    "duration": 43,
    "start_time": "2024-05-27T22:06:36.925Z"
   },
   {
    "duration": 12,
    "start_time": "2024-05-27T22:06:36.971Z"
   },
   {
    "duration": 56,
    "start_time": "2024-05-27T22:06:36.985Z"
   },
   {
    "duration": 15,
    "start_time": "2024-05-27T22:06:37.044Z"
   },
   {
    "duration": 61,
    "start_time": "2024-05-27T22:06:37.063Z"
   },
   {
    "duration": 20,
    "start_time": "2024-05-27T22:06:37.127Z"
   },
   {
    "duration": 25,
    "start_time": "2024-05-27T22:06:37.150Z"
   },
   {
    "duration": 49,
    "start_time": "2024-05-27T22:06:37.178Z"
   },
   {
    "duration": 9,
    "start_time": "2024-05-27T22:06:37.230Z"
   },
   {
    "duration": 11,
    "start_time": "2024-05-27T22:06:37.241Z"
   },
   {
    "duration": 13,
    "start_time": "2024-05-27T22:06:37.254Z"
   },
   {
    "duration": 43,
    "start_time": "2024-05-27T22:06:37.270Z"
   },
   {
    "duration": 7,
    "start_time": "2024-05-27T22:06:37.317Z"
   },
   {
    "duration": 13,
    "start_time": "2024-05-27T22:06:37.327Z"
   },
   {
    "duration": 19,
    "start_time": "2024-05-27T22:06:37.343Z"
   },
   {
    "duration": 47,
    "start_time": "2024-05-27T22:06:37.365Z"
   },
   {
    "duration": 8,
    "start_time": "2024-05-27T22:06:37.415Z"
   },
   {
    "duration": 8,
    "start_time": "2024-05-27T22:06:37.426Z"
   },
   {
    "duration": 5,
    "start_time": "2024-05-27T22:06:37.437Z"
   },
   {
    "duration": 6,
    "start_time": "2024-05-27T22:06:37.445Z"
   },
   {
    "duration": 8,
    "start_time": "2024-05-27T22:06:37.454Z"
   },
   {
    "duration": 50,
    "start_time": "2024-05-27T22:06:37.465Z"
   },
   {
    "duration": 32,
    "start_time": "2024-05-27T22:06:37.519Z"
   },
   {
    "duration": 13,
    "start_time": "2024-05-27T22:06:37.554Z"
   },
   {
    "duration": 457,
    "start_time": "2024-05-27T22:06:37.570Z"
   },
   {
    "duration": 6,
    "start_time": "2024-05-27T22:06:38.029Z"
   },
   {
    "duration": 3,
    "start_time": "2024-05-27T22:06:38.038Z"
   },
   {
    "duration": 4,
    "start_time": "2024-05-27T22:06:38.044Z"
   },
   {
    "duration": 4,
    "start_time": "2024-05-27T22:06:38.051Z"
   },
   {
    "duration": 4,
    "start_time": "2024-05-27T22:06:38.058Z"
   },
   {
    "duration": 3,
    "start_time": "2024-05-27T22:06:38.113Z"
   },
   {
    "duration": 4,
    "start_time": "2024-05-27T22:06:38.120Z"
   },
   {
    "duration": 355,
    "start_time": "2024-05-27T22:06:42.557Z"
   },
   {
    "duration": 813,
    "start_time": "2024-05-27T22:06:56.883Z"
   },
   {
    "duration": 11,
    "start_time": "2024-05-27T22:07:11.038Z"
   },
   {
    "duration": 14,
    "start_time": "2024-05-27T22:07:21.380Z"
   },
   {
    "duration": 1109,
    "start_time": "2024-05-27T22:08:21.847Z"
   },
   {
    "duration": 137,
    "start_time": "2024-05-27T22:08:22.961Z"
   },
   {
    "duration": 96,
    "start_time": "2024-05-27T22:08:23.102Z"
   },
   {
    "duration": 64,
    "start_time": "2024-05-27T22:08:23.202Z"
   },
   {
    "duration": 7,
    "start_time": "2024-05-27T22:08:23.269Z"
   },
   {
    "duration": 9,
    "start_time": "2024-05-27T22:08:23.279Z"
   },
   {
    "duration": 16,
    "start_time": "2024-05-27T22:08:23.313Z"
   },
   {
    "duration": 17,
    "start_time": "2024-05-27T22:08:23.332Z"
   },
   {
    "duration": 18,
    "start_time": "2024-05-27T22:08:23.351Z"
   },
   {
    "duration": 16,
    "start_time": "2024-05-27T22:08:23.411Z"
   },
   {
    "duration": 15,
    "start_time": "2024-05-27T22:08:23.430Z"
   },
   {
    "duration": 5,
    "start_time": "2024-05-27T22:08:23.448Z"
   },
   {
    "duration": 63,
    "start_time": "2024-05-27T22:08:23.457Z"
   },
   {
    "duration": 5,
    "start_time": "2024-05-27T22:08:23.526Z"
   },
   {
    "duration": 7,
    "start_time": "2024-05-27T22:08:23.535Z"
   },
   {
    "duration": 7,
    "start_time": "2024-05-27T22:08:23.544Z"
   },
   {
    "duration": 6,
    "start_time": "2024-05-27T22:08:23.554Z"
   },
   {
    "duration": 7,
    "start_time": "2024-05-27T22:08:23.563Z"
   },
   {
    "duration": 23,
    "start_time": "2024-05-27T22:08:23.613Z"
   },
   {
    "duration": 26,
    "start_time": "2024-05-27T22:08:23.639Z"
   },
   {
    "duration": 50,
    "start_time": "2024-05-27T22:08:23.668Z"
   },
   {
    "duration": 50,
    "start_time": "2024-05-27T22:08:23.721Z"
   },
   {
    "duration": 101,
    "start_time": "2024-05-27T22:08:23.774Z"
   },
   {
    "duration": 13,
    "start_time": "2024-05-27T22:08:23.879Z"
   },
   {
    "duration": 31,
    "start_time": "2024-05-27T22:08:23.911Z"
   },
   {
    "duration": 21,
    "start_time": "2024-05-27T22:08:23.946Z"
   },
   {
    "duration": 13,
    "start_time": "2024-05-27T22:08:23.970Z"
   },
   {
    "duration": 30,
    "start_time": "2024-05-27T22:08:24.022Z"
   },
   {
    "duration": 9,
    "start_time": "2024-05-27T22:08:24.056Z"
   },
   {
    "duration": 56,
    "start_time": "2024-05-27T22:08:24.068Z"
   },
   {
    "duration": 23,
    "start_time": "2024-05-27T22:08:24.127Z"
   },
   {
    "duration": 16,
    "start_time": "2024-05-27T22:08:24.153Z"
   },
   {
    "duration": 63,
    "start_time": "2024-05-27T22:08:24.172Z"
   },
   {
    "duration": 43,
    "start_time": "2024-05-27T22:08:24.238Z"
   },
   {
    "duration": 32,
    "start_time": "2024-05-27T22:08:24.283Z"
   },
   {
    "duration": 27,
    "start_time": "2024-05-27T22:08:24.318Z"
   },
   {
    "duration": 15,
    "start_time": "2024-05-27T22:08:24.347Z"
   },
   {
    "duration": 63,
    "start_time": "2024-05-27T22:08:24.366Z"
   },
   {
    "duration": 18,
    "start_time": "2024-05-27T22:08:24.432Z"
   },
   {
    "duration": 24,
    "start_time": "2024-05-27T22:08:24.453Z"
   },
   {
    "duration": 46,
    "start_time": "2024-05-27T22:08:24.480Z"
   },
   {
    "duration": 9,
    "start_time": "2024-05-27T22:08:24.529Z"
   },
   {
    "duration": 10,
    "start_time": "2024-05-27T22:08:24.541Z"
   },
   {
    "duration": 12,
    "start_time": "2024-05-27T22:08:24.554Z"
   },
   {
    "duration": 43,
    "start_time": "2024-05-27T22:08:24.569Z"
   },
   {
    "duration": 8,
    "start_time": "2024-05-27T22:08:24.615Z"
   },
   {
    "duration": 11,
    "start_time": "2024-05-27T22:08:24.626Z"
   },
   {
    "duration": 16,
    "start_time": "2024-05-27T22:08:24.640Z"
   },
   {
    "duration": 8,
    "start_time": "2024-05-27T22:08:24.659Z"
   },
   {
    "duration": 44,
    "start_time": "2024-05-27T22:08:24.674Z"
   },
   {
    "duration": 9,
    "start_time": "2024-05-27T22:08:24.722Z"
   },
   {
    "duration": 5,
    "start_time": "2024-05-27T22:08:24.733Z"
   },
   {
    "duration": 5,
    "start_time": "2024-05-27T22:08:24.742Z"
   },
   {
    "duration": 8,
    "start_time": "2024-05-27T22:08:24.750Z"
   },
   {
    "duration": 55,
    "start_time": "2024-05-27T22:08:24.761Z"
   },
   {
    "duration": 41,
    "start_time": "2024-05-27T22:08:24.819Z"
   },
   {
    "duration": 13,
    "start_time": "2024-05-27T22:08:24.863Z"
   },
   {
    "duration": 447,
    "start_time": "2024-05-27T22:08:24.880Z"
   },
   {
    "duration": 15,
    "start_time": "2024-05-27T22:08:25.330Z"
   },
   {
    "duration": 4,
    "start_time": "2024-05-27T22:08:25.348Z"
   },
   {
    "duration": 3,
    "start_time": "2024-05-27T22:08:25.355Z"
   },
   {
    "duration": 5,
    "start_time": "2024-05-27T22:08:25.361Z"
   },
   {
    "duration": 44,
    "start_time": "2024-05-27T22:08:25.369Z"
   },
   {
    "duration": 4,
    "start_time": "2024-05-27T22:08:25.417Z"
   },
   {
    "duration": 4,
    "start_time": "2024-05-27T22:08:25.423Z"
   },
   {
    "duration": 15,
    "start_time": "2024-05-27T22:09:23.505Z"
   },
   {
    "duration": 12,
    "start_time": "2024-05-27T22:11:30.964Z"
   },
   {
    "duration": 19,
    "start_time": "2024-05-27T22:11:38.471Z"
   },
   {
    "duration": 342,
    "start_time": "2024-05-27T22:11:53.287Z"
   },
   {
    "duration": 20,
    "start_time": "2024-05-27T22:13:17.048Z"
   },
   {
    "duration": 328,
    "start_time": "2024-05-27T22:13:23.498Z"
   },
   {
    "duration": 1779,
    "start_time": "2024-05-27T22:16:52.234Z"
   },
   {
    "duration": 7,
    "start_time": "2024-05-27T22:17:13.160Z"
   },
   {
    "duration": 1188,
    "start_time": "2024-05-27T22:17:23.853Z"
   },
   {
    "duration": 123,
    "start_time": "2024-05-27T22:17:25.046Z"
   },
   {
    "duration": 95,
    "start_time": "2024-05-27T22:17:25.172Z"
   },
   {
    "duration": 63,
    "start_time": "2024-05-27T22:17:25.271Z"
   },
   {
    "duration": 9,
    "start_time": "2024-05-27T22:17:25.337Z"
   },
   {
    "duration": 13,
    "start_time": "2024-05-27T22:17:25.348Z"
   },
   {
    "duration": 16,
    "start_time": "2024-05-27T22:17:25.364Z"
   },
   {
    "duration": 17,
    "start_time": "2024-05-27T22:17:25.411Z"
   },
   {
    "duration": 17,
    "start_time": "2024-05-27T22:17:25.430Z"
   },
   {
    "duration": 13,
    "start_time": "2024-05-27T22:17:25.453Z"
   },
   {
    "duration": 59,
    "start_time": "2024-05-27T22:17:25.469Z"
   },
   {
    "duration": 6,
    "start_time": "2024-05-27T22:17:25.531Z"
   },
   {
    "duration": 18,
    "start_time": "2024-05-27T22:17:25.541Z"
   },
   {
    "duration": 5,
    "start_time": "2024-05-27T22:17:25.562Z"
   },
   {
    "duration": 47,
    "start_time": "2024-05-27T22:17:25.570Z"
   },
   {
    "duration": 6,
    "start_time": "2024-05-27T22:17:25.620Z"
   },
   {
    "duration": 5,
    "start_time": "2024-05-27T22:17:25.629Z"
   },
   {
    "duration": 5,
    "start_time": "2024-05-27T22:17:25.638Z"
   },
   {
    "duration": 66,
    "start_time": "2024-05-27T22:17:25.646Z"
   },
   {
    "duration": 26,
    "start_time": "2024-05-27T22:17:25.715Z"
   },
   {
    "duration": 18,
    "start_time": "2024-05-27T22:17:25.744Z"
   },
   {
    "duration": 72,
    "start_time": "2024-05-27T22:17:25.765Z"
   },
   {
    "duration": 95,
    "start_time": "2024-05-27T22:17:25.840Z"
   },
   {
    "duration": 12,
    "start_time": "2024-05-27T22:17:25.938Z"
   },
   {
    "duration": 29,
    "start_time": "2024-05-27T22:17:25.953Z"
   },
   {
    "duration": 44,
    "start_time": "2024-05-27T22:17:25.985Z"
   },
   {
    "duration": 13,
    "start_time": "2024-05-27T22:17:26.031Z"
   },
   {
    "duration": 59,
    "start_time": "2024-05-27T22:17:26.053Z"
   },
   {
    "duration": 10,
    "start_time": "2024-05-27T22:17:26.114Z"
   },
   {
    "duration": 22,
    "start_time": "2024-05-27T22:17:26.127Z"
   },
   {
    "duration": 24,
    "start_time": "2024-05-27T22:17:26.152Z"
   },
   {
    "duration": 15,
    "start_time": "2024-05-27T22:17:26.213Z"
   },
   {
    "duration": 36,
    "start_time": "2024-05-27T22:17:26.231Z"
   },
   {
    "duration": 74,
    "start_time": "2024-05-27T22:17:26.270Z"
   },
   {
    "duration": 12,
    "start_time": "2024-05-27T22:17:26.347Z"
   },
   {
    "duration": 27,
    "start_time": "2024-05-27T22:17:26.363Z"
   },
   {
    "duration": 28,
    "start_time": "2024-05-27T22:17:26.393Z"
   },
   {
    "duration": 30,
    "start_time": "2024-05-27T22:17:26.424Z"
   },
   {
    "duration": 19,
    "start_time": "2024-05-27T22:17:26.457Z"
   },
   {
    "duration": 25,
    "start_time": "2024-05-27T22:17:26.513Z"
   },
   {
    "duration": 24,
    "start_time": "2024-05-27T22:17:26.540Z"
   },
   {
    "duration": 9,
    "start_time": "2024-05-27T22:17:26.568Z"
   },
   {
    "duration": 12,
    "start_time": "2024-05-27T22:17:26.613Z"
   },
   {
    "duration": 12,
    "start_time": "2024-05-27T22:17:26.628Z"
   },
   {
    "duration": 6,
    "start_time": "2024-05-27T22:17:26.642Z"
   },
   {
    "duration": 8,
    "start_time": "2024-05-27T22:17:26.651Z"
   },
   {
    "duration": 52,
    "start_time": "2024-05-27T22:17:26.662Z"
   },
   {
    "duration": 17,
    "start_time": "2024-05-27T22:17:26.716Z"
   },
   {
    "duration": 7,
    "start_time": "2024-05-27T22:17:26.736Z"
   },
   {
    "duration": 8,
    "start_time": "2024-05-27T22:17:26.746Z"
   },
   {
    "duration": 17,
    "start_time": "2024-05-27T22:17:26.757Z"
   },
   {
    "duration": 38,
    "start_time": "2024-05-27T22:17:26.776Z"
   },
   {
    "duration": 6,
    "start_time": "2024-05-27T22:17:26.818Z"
   },
   {
    "duration": 8,
    "start_time": "2024-05-27T22:17:26.826Z"
   },
   {
    "duration": 6,
    "start_time": "2024-05-27T22:17:26.838Z"
   },
   {
    "duration": 77,
    "start_time": "2024-05-27T22:17:26.847Z"
   },
   {
    "duration": 12,
    "start_time": "2024-05-27T22:17:26.926Z"
   },
   {
    "duration": 433,
    "start_time": "2024-05-27T22:17:26.941Z"
   },
   {
    "duration": 6,
    "start_time": "2024-05-27T22:17:27.378Z"
   },
   {
    "duration": 0,
    "start_time": "2024-05-27T22:17:27.387Z"
   },
   {
    "duration": 0,
    "start_time": "2024-05-27T22:17:27.389Z"
   },
   {
    "duration": 0,
    "start_time": "2024-05-27T22:17:27.391Z"
   },
   {
    "duration": 0,
    "start_time": "2024-05-27T22:17:27.413Z"
   },
   {
    "duration": 0,
    "start_time": "2024-05-27T22:17:27.415Z"
   },
   {
    "duration": 0,
    "start_time": "2024-05-27T22:17:27.418Z"
   },
   {
    "duration": 1749,
    "start_time": "2024-05-27T22:17:41.225Z"
   },
   {
    "duration": 74,
    "start_time": "2024-05-27T22:18:07.155Z"
   },
   {
    "duration": 73,
    "start_time": "2024-05-27T22:18:17.878Z"
   },
   {
    "duration": 10,
    "start_time": "2024-05-27T22:18:47.825Z"
   },
   {
    "duration": 18,
    "start_time": "2024-05-27T22:18:53.366Z"
   },
   {
    "duration": 77,
    "start_time": "2024-05-27T22:20:06.067Z"
   },
   {
    "duration": 40,
    "start_time": "2024-05-27T22:20:27.933Z"
   },
   {
    "duration": 19,
    "start_time": "2024-05-27T22:20:42.027Z"
   },
   {
    "duration": 287,
    "start_time": "2024-05-27T22:20:53.303Z"
   },
   {
    "duration": 41,
    "start_time": "2024-05-27T22:21:36.660Z"
   },
   {
    "duration": 1161,
    "start_time": "2024-05-27T22:22:16.993Z"
   },
   {
    "duration": 125,
    "start_time": "2024-05-27T22:22:18.159Z"
   },
   {
    "duration": 98,
    "start_time": "2024-05-27T22:22:18.288Z"
   },
   {
    "duration": 63,
    "start_time": "2024-05-27T22:22:18.391Z"
   },
   {
    "duration": 8,
    "start_time": "2024-05-27T22:22:18.457Z"
   },
   {
    "duration": 11,
    "start_time": "2024-05-27T22:22:18.467Z"
   },
   {
    "duration": 36,
    "start_time": "2024-05-27T22:22:18.480Z"
   },
   {
    "duration": 16,
    "start_time": "2024-05-27T22:22:18.519Z"
   },
   {
    "duration": 16,
    "start_time": "2024-05-27T22:22:18.538Z"
   },
   {
    "duration": 52,
    "start_time": "2024-05-27T22:22:18.560Z"
   },
   {
    "duration": 15,
    "start_time": "2024-05-27T22:22:18.616Z"
   },
   {
    "duration": 6,
    "start_time": "2024-05-27T22:22:18.634Z"
   },
   {
    "duration": 17,
    "start_time": "2024-05-27T22:22:18.643Z"
   },
   {
    "duration": 5,
    "start_time": "2024-05-27T22:22:18.663Z"
   },
   {
    "duration": 6,
    "start_time": "2024-05-27T22:22:18.712Z"
   },
   {
    "duration": 7,
    "start_time": "2024-05-27T22:22:18.721Z"
   },
   {
    "duration": 6,
    "start_time": "2024-05-27T22:22:18.731Z"
   },
   {
    "duration": 5,
    "start_time": "2024-05-27T22:22:18.740Z"
   },
   {
    "duration": 66,
    "start_time": "2024-05-27T22:22:18.748Z"
   },
   {
    "duration": 26,
    "start_time": "2024-05-27T22:22:18.817Z"
   },
   {
    "duration": 18,
    "start_time": "2024-05-27T22:22:18.845Z"
   },
   {
    "duration": 78,
    "start_time": "2024-05-27T22:22:18.866Z"
   },
   {
    "duration": 94,
    "start_time": "2024-05-27T22:22:18.948Z"
   },
   {
    "duration": 13,
    "start_time": "2024-05-27T22:22:19.045Z"
   },
   {
    "duration": 51,
    "start_time": "2024-05-27T22:22:19.061Z"
   },
   {
    "duration": 20,
    "start_time": "2024-05-27T22:22:19.115Z"
   },
   {
    "duration": 13,
    "start_time": "2024-05-27T22:22:19.138Z"
   },
   {
    "duration": 61,
    "start_time": "2024-05-27T22:22:19.161Z"
   },
   {
    "duration": 10,
    "start_time": "2024-05-27T22:22:19.225Z"
   },
   {
    "duration": 22,
    "start_time": "2024-05-27T22:22:19.238Z"
   },
   {
    "duration": 51,
    "start_time": "2024-05-27T22:22:19.263Z"
   },
   {
    "duration": 18,
    "start_time": "2024-05-27T22:22:19.317Z"
   },
   {
    "duration": 42,
    "start_time": "2024-05-27T22:22:19.338Z"
   },
   {
    "duration": 42,
    "start_time": "2024-05-27T22:22:19.412Z"
   },
   {
    "duration": 12,
    "start_time": "2024-05-27T22:22:19.457Z"
   },
   {
    "duration": 52,
    "start_time": "2024-05-27T22:22:19.471Z"
   },
   {
    "duration": 12,
    "start_time": "2024-05-27T22:22:19.525Z"
   },
   {
    "duration": 32,
    "start_time": "2024-05-27T22:22:19.541Z"
   },
   {
    "duration": 46,
    "start_time": "2024-05-27T22:22:19.576Z"
   },
   {
    "duration": 25,
    "start_time": "2024-05-27T22:22:19.625Z"
   },
   {
    "duration": 21,
    "start_time": "2024-05-27T22:22:19.653Z"
   },
   {
    "duration": 41,
    "start_time": "2024-05-27T22:22:19.677Z"
   },
   {
    "duration": 11,
    "start_time": "2024-05-27T22:22:19.722Z"
   },
   {
    "duration": 10,
    "start_time": "2024-05-27T22:22:19.736Z"
   },
   {
    "duration": 5,
    "start_time": "2024-05-27T22:22:19.749Z"
   },
   {
    "duration": 9,
    "start_time": "2024-05-27T22:22:19.757Z"
   },
   {
    "duration": 54,
    "start_time": "2024-05-27T22:22:19.769Z"
   },
   {
    "duration": 15,
    "start_time": "2024-05-27T22:22:19.826Z"
   },
   {
    "duration": 9,
    "start_time": "2024-05-27T22:22:19.844Z"
   },
   {
    "duration": 9,
    "start_time": "2024-05-27T22:22:19.856Z"
   },
   {
    "duration": 49,
    "start_time": "2024-05-27T22:22:19.868Z"
   },
   {
    "duration": 6,
    "start_time": "2024-05-27T22:22:19.920Z"
   },
   {
    "duration": 6,
    "start_time": "2024-05-27T22:22:19.929Z"
   },
   {
    "duration": 7,
    "start_time": "2024-05-27T22:22:19.938Z"
   },
   {
    "duration": 7,
    "start_time": "2024-05-27T22:22:19.948Z"
   },
   {
    "duration": 80,
    "start_time": "2024-05-27T22:22:19.958Z"
   },
   {
    "duration": 12,
    "start_time": "2024-05-27T22:22:20.040Z"
   },
   {
    "duration": 1810,
    "start_time": "2024-05-27T22:22:20.054Z"
   },
   {
    "duration": 0,
    "start_time": "2024-05-27T22:22:21.866Z"
   },
   {
    "duration": 0,
    "start_time": "2024-05-27T22:22:21.869Z"
   },
   {
    "duration": 0,
    "start_time": "2024-05-27T22:22:21.871Z"
   },
   {
    "duration": 0,
    "start_time": "2024-05-27T22:22:21.874Z"
   },
   {
    "duration": 0,
    "start_time": "2024-05-27T22:22:21.876Z"
   },
   {
    "duration": 0,
    "start_time": "2024-05-27T22:22:21.877Z"
   },
   {
    "duration": 0,
    "start_time": "2024-05-27T22:22:21.880Z"
   },
   {
    "duration": 0,
    "start_time": "2024-05-27T22:22:21.882Z"
   },
   {
    "duration": 0,
    "start_time": "2024-05-27T22:22:21.884Z"
   },
   {
    "duration": 10,
    "start_time": "2024-05-27T22:23:07.292Z"
   },
   {
    "duration": 11,
    "start_time": "2024-05-27T22:23:11.740Z"
   },
   {
    "duration": 5,
    "start_time": "2024-05-27T22:23:20.757Z"
   },
   {
    "duration": 296,
    "start_time": "2024-05-27T22:23:23.387Z"
   },
   {
    "duration": 4,
    "start_time": "2024-05-27T22:25:55.162Z"
   },
   {
    "duration": 122,
    "start_time": "2024-05-27T22:25:55.170Z"
   },
   {
    "duration": 105,
    "start_time": "2024-05-27T22:25:55.294Z"
   },
   {
    "duration": 63,
    "start_time": "2024-05-27T22:25:55.402Z"
   },
   {
    "duration": 9,
    "start_time": "2024-05-27T22:25:55.468Z"
   },
   {
    "duration": 32,
    "start_time": "2024-05-27T22:25:55.480Z"
   },
   {
    "duration": 14,
    "start_time": "2024-05-27T22:25:55.515Z"
   },
   {
    "duration": 13,
    "start_time": "2024-05-27T22:25:55.532Z"
   },
   {
    "duration": 15,
    "start_time": "2024-05-27T22:25:55.550Z"
   },
   {
    "duration": 51,
    "start_time": "2024-05-27T22:25:55.568Z"
   },
   {
    "duration": 15,
    "start_time": "2024-05-27T22:25:55.622Z"
   },
   {
    "duration": 5,
    "start_time": "2024-05-27T22:25:55.640Z"
   },
   {
    "duration": 18,
    "start_time": "2024-05-27T22:25:55.649Z"
   },
   {
    "duration": 5,
    "start_time": "2024-05-27T22:25:55.712Z"
   },
   {
    "duration": 7,
    "start_time": "2024-05-27T22:25:55.720Z"
   },
   {
    "duration": 7,
    "start_time": "2024-05-27T22:25:55.730Z"
   },
   {
    "duration": 6,
    "start_time": "2024-05-27T22:25:55.740Z"
   },
   {
    "duration": 5,
    "start_time": "2024-05-27T22:25:55.749Z"
   },
   {
    "duration": 69,
    "start_time": "2024-05-27T22:25:55.758Z"
   },
   {
    "duration": 24,
    "start_time": "2024-05-27T22:25:55.830Z"
   },
   {
    "duration": 17,
    "start_time": "2024-05-27T22:25:55.856Z"
   },
   {
    "duration": 83,
    "start_time": "2024-05-27T22:25:55.876Z"
   },
   {
    "duration": 96,
    "start_time": "2024-05-27T22:25:55.962Z"
   },
   {
    "duration": 13,
    "start_time": "2024-05-27T22:25:56.065Z"
   },
   {
    "duration": 46,
    "start_time": "2024-05-27T22:25:56.080Z"
   },
   {
    "duration": 19,
    "start_time": "2024-05-27T22:25:56.130Z"
   },
   {
    "duration": 13,
    "start_time": "2024-05-27T22:25:56.152Z"
   },
   {
    "duration": 61,
    "start_time": "2024-05-27T22:25:56.168Z"
   },
   {
    "duration": 9,
    "start_time": "2024-05-27T22:25:56.232Z"
   },
   {
    "duration": 22,
    "start_time": "2024-05-27T22:25:56.243Z"
   },
   {
    "duration": 53,
    "start_time": "2024-05-27T22:25:56.268Z"
   },
   {
    "duration": 15,
    "start_time": "2024-05-27T22:25:56.324Z"
   },
   {
    "duration": 36,
    "start_time": "2024-05-27T22:25:56.342Z"
   },
   {
    "duration": 69,
    "start_time": "2024-05-27T22:25:56.381Z"
   },
   {
    "duration": 12,
    "start_time": "2024-05-27T22:25:56.452Z"
   },
   {
    "duration": 51,
    "start_time": "2024-05-27T22:25:56.467Z"
   },
   {
    "duration": 13,
    "start_time": "2024-05-27T22:25:56.520Z"
   },
   {
    "duration": 32,
    "start_time": "2024-05-27T22:25:56.536Z"
   },
   {
    "duration": 49,
    "start_time": "2024-05-27T22:25:56.570Z"
   },
   {
    "duration": 31,
    "start_time": "2024-05-27T22:25:56.622Z"
   },
   {
    "duration": 23,
    "start_time": "2024-05-27T22:25:56.659Z"
   },
   {
    "duration": 8,
    "start_time": "2024-05-27T22:25:56.712Z"
   },
   {
    "duration": 11,
    "start_time": "2024-05-27T22:25:56.723Z"
   },
   {
    "duration": 12,
    "start_time": "2024-05-27T22:25:56.736Z"
   },
   {
    "duration": 6,
    "start_time": "2024-05-27T22:25:56.750Z"
   },
   {
    "duration": 9,
    "start_time": "2024-05-27T22:25:56.759Z"
   },
   {
    "duration": 47,
    "start_time": "2024-05-27T22:25:56.776Z"
   },
   {
    "duration": 15,
    "start_time": "2024-05-27T22:25:56.825Z"
   },
   {
    "duration": 8,
    "start_time": "2024-05-27T22:25:56.844Z"
   },
   {
    "duration": 9,
    "start_time": "2024-05-27T22:25:56.856Z"
   },
   {
    "duration": 48,
    "start_time": "2024-05-27T22:25:56.868Z"
   },
   {
    "duration": 6,
    "start_time": "2024-05-27T22:25:56.919Z"
   },
   {
    "duration": 5,
    "start_time": "2024-05-27T22:25:56.928Z"
   },
   {
    "duration": 8,
    "start_time": "2024-05-27T22:25:56.936Z"
   },
   {
    "duration": 6,
    "start_time": "2024-05-27T22:25:56.947Z"
   },
   {
    "duration": 88,
    "start_time": "2024-05-27T22:25:56.956Z"
   },
   {
    "duration": 283,
    "start_time": "2024-05-27T22:26:08.350Z"
   },
   {
    "duration": 4,
    "start_time": "2024-05-27T22:26:24.575Z"
   },
   {
    "duration": 142,
    "start_time": "2024-05-27T22:26:24.583Z"
   },
   {
    "duration": 101,
    "start_time": "2024-05-27T22:26:24.728Z"
   },
   {
    "duration": 55,
    "start_time": "2024-05-27T22:26:24.834Z"
   },
   {
    "duration": 21,
    "start_time": "2024-05-27T22:26:24.891Z"
   },
   {
    "duration": 9,
    "start_time": "2024-05-27T22:26:24.916Z"
   },
   {
    "duration": 14,
    "start_time": "2024-05-27T22:26:24.928Z"
   },
   {
    "duration": 12,
    "start_time": "2024-05-27T22:26:24.945Z"
   },
   {
    "duration": 50,
    "start_time": "2024-05-27T22:26:24.963Z"
   },
   {
    "duration": 15,
    "start_time": "2024-05-27T22:26:25.016Z"
   },
   {
    "duration": 15,
    "start_time": "2024-05-27T22:26:25.034Z"
   },
   {
    "duration": 5,
    "start_time": "2024-05-27T22:26:25.051Z"
   },
   {
    "duration": 58,
    "start_time": "2024-05-27T22:26:25.060Z"
   },
   {
    "duration": 7,
    "start_time": "2024-05-27T22:26:25.121Z"
   },
   {
    "duration": 8,
    "start_time": "2024-05-27T22:26:25.131Z"
   },
   {
    "duration": 5,
    "start_time": "2024-05-27T22:26:25.142Z"
   },
   {
    "duration": 5,
    "start_time": "2024-05-27T22:26:25.151Z"
   },
   {
    "duration": 6,
    "start_time": "2024-05-27T22:26:25.159Z"
   },
   {
    "duration": 23,
    "start_time": "2024-05-27T22:26:25.213Z"
   },
   {
    "duration": 26,
    "start_time": "2024-05-27T22:26:25.239Z"
   },
   {
    "duration": 47,
    "start_time": "2024-05-27T22:26:25.268Z"
   },
   {
    "duration": 45,
    "start_time": "2024-05-27T22:26:25.319Z"
   },
   {
    "duration": 97,
    "start_time": "2024-05-27T22:26:25.367Z"
   },
   {
    "duration": 12,
    "start_time": "2024-05-27T22:26:25.473Z"
   },
   {
    "duration": 47,
    "start_time": "2024-05-27T22:26:25.489Z"
   },
   {
    "duration": 22,
    "start_time": "2024-05-27T22:26:25.541Z"
   },
   {
    "duration": 17,
    "start_time": "2024-05-27T22:26:25.566Z"
   },
   {
    "duration": 54,
    "start_time": "2024-05-27T22:26:25.586Z"
   },
   {
    "duration": 9,
    "start_time": "2024-05-27T22:26:25.642Z"
   },
   {
    "duration": 21,
    "start_time": "2024-05-27T22:26:25.654Z"
   },
   {
    "duration": 55,
    "start_time": "2024-05-27T22:26:25.677Z"
   },
   {
    "duration": 17,
    "start_time": "2024-05-27T22:26:25.735Z"
   },
   {
    "duration": 71,
    "start_time": "2024-05-27T22:26:25.755Z"
   },
   {
    "duration": 40,
    "start_time": "2024-05-27T22:26:25.829Z"
   },
   {
    "duration": 12,
    "start_time": "2024-05-27T22:26:25.872Z"
   },
   {
    "duration": 46,
    "start_time": "2024-05-27T22:26:25.887Z"
   },
   {
    "duration": 12,
    "start_time": "2024-05-27T22:26:25.936Z"
   },
   {
    "duration": 69,
    "start_time": "2024-05-27T22:26:25.951Z"
   },
   {
    "duration": 18,
    "start_time": "2024-05-27T22:26:26.023Z"
   },
   {
    "duration": 25,
    "start_time": "2024-05-27T22:26:26.044Z"
   },
   {
    "duration": 51,
    "start_time": "2024-05-27T22:26:26.071Z"
   },
   {
    "duration": 9,
    "start_time": "2024-05-27T22:26:26.125Z"
   },
   {
    "duration": 11,
    "start_time": "2024-05-27T22:26:26.136Z"
   },
   {
    "duration": 13,
    "start_time": "2024-05-27T22:26:26.149Z"
   },
   {
    "duration": 5,
    "start_time": "2024-05-27T22:26:26.164Z"
   },
   {
    "duration": 8,
    "start_time": "2024-05-27T22:26:26.212Z"
   },
   {
    "duration": 12,
    "start_time": "2024-05-27T22:26:26.223Z"
   },
   {
    "duration": 15,
    "start_time": "2024-05-27T22:26:26.237Z"
   },
   {
    "duration": 8,
    "start_time": "2024-05-27T22:26:26.256Z"
   },
   {
    "duration": 48,
    "start_time": "2024-05-27T22:26:26.267Z"
   },
   {
    "duration": 8,
    "start_time": "2024-05-27T22:26:26.318Z"
   },
   {
    "duration": 6,
    "start_time": "2024-05-27T22:26:26.329Z"
   },
   {
    "duration": 5,
    "start_time": "2024-05-27T22:26:26.337Z"
   },
   {
    "duration": 8,
    "start_time": "2024-05-27T22:26:26.346Z"
   },
   {
    "duration": 55,
    "start_time": "2024-05-27T22:26:26.357Z"
   },
   {
    "duration": 32,
    "start_time": "2024-05-27T22:26:26.415Z"
   },
   {
    "duration": 293,
    "start_time": "2024-05-27T22:26:31.321Z"
   },
   {
    "duration": 20,
    "start_time": "2024-05-27T22:27:10.508Z"
   },
   {
    "duration": 345,
    "start_time": "2024-05-27T22:27:23.560Z"
   },
   {
    "duration": 10,
    "start_time": "2024-05-27T22:27:53.623Z"
   },
   {
    "duration": 77,
    "start_time": "2024-05-27T22:27:55.324Z"
   },
   {
    "duration": 75,
    "start_time": "2024-05-27T22:28:04.799Z"
   },
   {
    "duration": 1110,
    "start_time": "2024-05-27T22:28:11.849Z"
   },
   {
    "duration": 136,
    "start_time": "2024-05-27T22:28:12.963Z"
   },
   {
    "duration": 94,
    "start_time": "2024-05-27T22:28:13.102Z"
   },
   {
    "duration": 71,
    "start_time": "2024-05-27T22:28:13.199Z"
   },
   {
    "duration": 7,
    "start_time": "2024-05-27T22:28:13.273Z"
   },
   {
    "duration": 9,
    "start_time": "2024-05-27T22:28:13.283Z"
   },
   {
    "duration": 35,
    "start_time": "2024-05-27T22:28:13.294Z"
   },
   {
    "duration": 17,
    "start_time": "2024-05-27T22:28:13.332Z"
   },
   {
    "duration": 19,
    "start_time": "2024-05-27T22:28:13.352Z"
   },
   {
    "duration": 18,
    "start_time": "2024-05-27T22:28:13.414Z"
   },
   {
    "duration": 17,
    "start_time": "2024-05-27T22:28:13.434Z"
   },
   {
    "duration": 6,
    "start_time": "2024-05-27T22:28:13.455Z"
   },
   {
    "duration": 60,
    "start_time": "2024-05-27T22:28:13.464Z"
   },
   {
    "duration": 5,
    "start_time": "2024-05-27T22:28:13.527Z"
   },
   {
    "duration": 7,
    "start_time": "2024-05-27T22:28:13.535Z"
   },
   {
    "duration": 6,
    "start_time": "2024-05-27T22:28:13.544Z"
   },
   {
    "duration": 6,
    "start_time": "2024-05-27T22:28:13.553Z"
   },
   {
    "duration": 10,
    "start_time": "2024-05-27T22:28:13.562Z"
   },
   {
    "duration": 25,
    "start_time": "2024-05-27T22:28:13.612Z"
   },
   {
    "duration": 24,
    "start_time": "2024-05-27T22:28:13.640Z"
   },
   {
    "duration": 51,
    "start_time": "2024-05-27T22:28:13.668Z"
   },
   {
    "duration": 46,
    "start_time": "2024-05-27T22:28:13.722Z"
   },
   {
    "duration": 100,
    "start_time": "2024-05-27T22:28:13.771Z"
   },
   {
    "duration": 13,
    "start_time": "2024-05-27T22:28:13.875Z"
   },
   {
    "duration": 45,
    "start_time": "2024-05-27T22:28:13.891Z"
   },
   {
    "duration": 20,
    "start_time": "2024-05-27T22:28:13.939Z"
   },
   {
    "duration": 14,
    "start_time": "2024-05-27T22:28:13.962Z"
   },
   {
    "duration": 31,
    "start_time": "2024-05-27T22:28:14.012Z"
   },
   {
    "duration": 10,
    "start_time": "2024-05-27T22:28:14.046Z"
   },
   {
    "duration": 53,
    "start_time": "2024-05-27T22:28:14.059Z"
   },
   {
    "duration": 23,
    "start_time": "2024-05-27T22:28:14.114Z"
   },
   {
    "duration": 15,
    "start_time": "2024-05-27T22:28:14.140Z"
   },
   {
    "duration": 70,
    "start_time": "2024-05-27T22:28:14.158Z"
   },
   {
    "duration": 44,
    "start_time": "2024-05-27T22:28:14.231Z"
   },
   {
    "duration": 12,
    "start_time": "2024-05-27T22:28:14.277Z"
   },
   {
    "duration": 48,
    "start_time": "2024-05-27T22:28:14.291Z"
   },
   {
    "duration": 12,
    "start_time": "2024-05-27T22:28:14.341Z"
   },
   {
    "duration": 63,
    "start_time": "2024-05-27T22:28:14.357Z"
   },
   {
    "duration": 19,
    "start_time": "2024-05-27T22:28:14.423Z"
   },
   {
    "duration": 25,
    "start_time": "2024-05-27T22:28:14.446Z"
   },
   {
    "duration": 55,
    "start_time": "2024-05-27T22:28:14.475Z"
   },
   {
    "duration": 12,
    "start_time": "2024-05-27T22:28:14.533Z"
   },
   {
    "duration": 13,
    "start_time": "2024-05-27T22:28:14.549Z"
   },
   {
    "duration": 47,
    "start_time": "2024-05-27T22:28:14.565Z"
   },
   {
    "duration": 5,
    "start_time": "2024-05-27T22:28:14.615Z"
   },
   {
    "duration": 10,
    "start_time": "2024-05-27T22:28:14.623Z"
   },
   {
    "duration": 13,
    "start_time": "2024-05-27T22:28:14.635Z"
   },
   {
    "duration": 15,
    "start_time": "2024-05-27T22:28:14.650Z"
   },
   {
    "duration": 47,
    "start_time": "2024-05-27T22:28:14.668Z"
   },
   {
    "duration": 9,
    "start_time": "2024-05-27T22:28:14.718Z"
   },
   {
    "duration": 8,
    "start_time": "2024-05-27T22:28:14.730Z"
   },
   {
    "duration": 5,
    "start_time": "2024-05-27T22:28:14.741Z"
   },
   {
    "duration": 6,
    "start_time": "2024-05-27T22:28:14.749Z"
   },
   {
    "duration": 54,
    "start_time": "2024-05-27T22:28:14.761Z"
   },
   {
    "duration": 6,
    "start_time": "2024-05-27T22:28:14.818Z"
   },
   {
    "duration": 32,
    "start_time": "2024-05-27T22:28:14.826Z"
   },
   {
    "duration": 11,
    "start_time": "2024-05-27T22:28:14.861Z"
   },
   {
    "duration": 1772,
    "start_time": "2024-05-27T22:28:14.875Z"
   },
   {
    "duration": 0,
    "start_time": "2024-05-27T22:28:16.650Z"
   },
   {
    "duration": 0,
    "start_time": "2024-05-27T22:28:16.652Z"
   },
   {
    "duration": 0,
    "start_time": "2024-05-27T22:28:16.656Z"
   },
   {
    "duration": 0,
    "start_time": "2024-05-27T22:28:16.659Z"
   },
   {
    "duration": 0,
    "start_time": "2024-05-27T22:28:16.662Z"
   },
   {
    "duration": 0,
    "start_time": "2024-05-27T22:28:16.664Z"
   },
   {
    "duration": 0,
    "start_time": "2024-05-27T22:28:16.668Z"
   },
   {
    "duration": 0,
    "start_time": "2024-05-27T22:28:16.671Z"
   },
   {
    "duration": 0,
    "start_time": "2024-05-27T22:28:16.673Z"
   },
   {
    "duration": 9,
    "start_time": "2024-05-27T22:28:39.302Z"
   },
   {
    "duration": 311,
    "start_time": "2024-05-27T22:28:42.944Z"
   },
   {
    "duration": 5,
    "start_time": "2024-05-27T22:28:47.709Z"
   },
   {
    "duration": 288,
    "start_time": "2024-05-27T22:28:49.294Z"
   },
   {
    "duration": 275,
    "start_time": "2024-05-27T22:31:47.964Z"
   },
   {
    "duration": 271,
    "start_time": "2024-05-27T22:31:58.159Z"
   },
   {
    "duration": 279,
    "start_time": "2024-05-27T22:32:02.142Z"
   },
   {
    "duration": 282,
    "start_time": "2024-05-27T22:33:28.439Z"
   },
   {
    "duration": 416,
    "start_time": "2024-05-27T22:33:50.243Z"
   },
   {
    "duration": 1335,
    "start_time": "2024-05-27T22:34:59.426Z"
   },
   {
    "duration": 22,
    "start_time": "2024-05-27T22:35:24.699Z"
   },
   {
    "duration": 28,
    "start_time": "2024-05-27T22:36:20.322Z"
   },
   {
    "duration": 6,
    "start_time": "2024-05-27T22:37:04.183Z"
   },
   {
    "duration": 167,
    "start_time": "2024-05-27T22:37:06.801Z"
   },
   {
    "duration": 79,
    "start_time": "2024-05-27T22:37:14.884Z"
   },
   {
    "duration": 25,
    "start_time": "2024-05-27T22:37:29.834Z"
   },
   {
    "duration": 87,
    "start_time": "2024-05-27T22:37:34.501Z"
   },
   {
    "duration": 15,
    "start_time": "2024-05-27T22:37:54.371Z"
   },
   {
    "duration": 82,
    "start_time": "2024-05-27T22:38:23.334Z"
   },
   {
    "duration": 532,
    "start_time": "2024-05-27T22:38:38.757Z"
   },
   {
    "duration": 20,
    "start_time": "2024-05-27T22:39:15.435Z"
   },
   {
    "duration": 314,
    "start_time": "2024-05-27T22:39:21.437Z"
   },
   {
    "duration": 326,
    "start_time": "2024-05-27T22:39:29.703Z"
   },
   {
    "duration": 285,
    "start_time": "2024-05-27T22:39:38.696Z"
   },
   {
    "duration": 306,
    "start_time": "2024-05-27T22:40:55.908Z"
   },
   {
    "duration": 309,
    "start_time": "2024-05-27T22:41:37.460Z"
   },
   {
    "duration": 307,
    "start_time": "2024-05-27T22:41:49.407Z"
   },
   {
    "duration": 1081,
    "start_time": "2024-05-27T22:42:54.365Z"
   },
   {
    "duration": 6,
    "start_time": "2024-05-27T22:46:26.900Z"
   },
   {
    "duration": 6,
    "start_time": "2024-05-27T22:47:03.489Z"
   },
   {
    "duration": 6,
    "start_time": "2024-05-27T22:47:50.581Z"
   },
   {
    "duration": 7,
    "start_time": "2024-05-27T22:48:25.056Z"
   },
   {
    "duration": 6,
    "start_time": "2024-05-27T22:48:48.015Z"
   },
   {
    "duration": 6,
    "start_time": "2024-05-27T22:49:21.212Z"
   },
   {
    "duration": 5,
    "start_time": "2024-05-27T22:50:11.871Z"
   },
   {
    "duration": 7,
    "start_time": "2024-05-27T22:51:32.225Z"
   },
   {
    "duration": 5,
    "start_time": "2024-05-27T22:51:37.950Z"
   },
   {
    "duration": 123,
    "start_time": "2024-05-27T22:51:37.959Z"
   },
   {
    "duration": 110,
    "start_time": "2024-05-27T22:51:38.085Z"
   },
   {
    "duration": 68,
    "start_time": "2024-05-27T22:51:38.197Z"
   },
   {
    "duration": 8,
    "start_time": "2024-05-27T22:51:38.270Z"
   },
   {
    "duration": 10,
    "start_time": "2024-05-27T22:51:38.281Z"
   },
   {
    "duration": 31,
    "start_time": "2024-05-27T22:51:38.293Z"
   },
   {
    "duration": 13,
    "start_time": "2024-05-27T22:51:38.327Z"
   },
   {
    "duration": 15,
    "start_time": "2024-05-27T22:51:38.343Z"
   },
   {
    "duration": 59,
    "start_time": "2024-05-27T22:51:38.362Z"
   },
   {
    "duration": 16,
    "start_time": "2024-05-27T22:51:38.423Z"
   },
   {
    "duration": 5,
    "start_time": "2024-05-27T22:51:38.442Z"
   },
   {
    "duration": 17,
    "start_time": "2024-05-27T22:51:38.451Z"
   },
   {
    "duration": 5,
    "start_time": "2024-05-27T22:51:38.515Z"
   },
   {
    "duration": 7,
    "start_time": "2024-05-27T22:51:38.523Z"
   },
   {
    "duration": 5,
    "start_time": "2024-05-27T22:51:38.533Z"
   },
   {
    "duration": 5,
    "start_time": "2024-05-27T22:51:38.542Z"
   },
   {
    "duration": 5,
    "start_time": "2024-05-27T22:51:38.551Z"
   },
   {
    "duration": 67,
    "start_time": "2024-05-27T22:51:38.560Z"
   },
   {
    "duration": 25,
    "start_time": "2024-05-27T22:51:38.630Z"
   },
   {
    "duration": 15,
    "start_time": "2024-05-27T22:51:38.659Z"
   },
   {
    "duration": 72,
    "start_time": "2024-05-27T22:51:38.677Z"
   },
   {
    "duration": 92,
    "start_time": "2024-05-27T22:51:38.752Z"
   },
   {
    "duration": 12,
    "start_time": "2024-05-27T22:51:38.847Z"
   },
   {
    "duration": 50,
    "start_time": "2024-05-27T22:51:38.862Z"
   },
   {
    "duration": 20,
    "start_time": "2024-05-27T22:51:38.914Z"
   },
   {
    "duration": 14,
    "start_time": "2024-05-27T22:51:38.937Z"
   },
   {
    "duration": 61,
    "start_time": "2024-05-27T22:51:38.954Z"
   },
   {
    "duration": 10,
    "start_time": "2024-05-27T22:51:39.018Z"
   },
   {
    "duration": 21,
    "start_time": "2024-05-27T22:51:39.031Z"
   },
   {
    "duration": 58,
    "start_time": "2024-05-27T22:51:39.055Z"
   },
   {
    "duration": 16,
    "start_time": "2024-05-27T22:51:39.116Z"
   },
   {
    "duration": 41,
    "start_time": "2024-05-27T22:51:39.136Z"
   },
   {
    "duration": 70,
    "start_time": "2024-05-27T22:51:39.181Z"
   },
   {
    "duration": 13,
    "start_time": "2024-05-27T22:51:39.254Z"
   },
   {
    "duration": 52,
    "start_time": "2024-05-27T22:51:39.270Z"
   },
   {
    "duration": 13,
    "start_time": "2024-05-27T22:51:39.325Z"
   },
   {
    "duration": 32,
    "start_time": "2024-05-27T22:51:39.340Z"
   },
   {
    "duration": 51,
    "start_time": "2024-05-27T22:51:39.375Z"
   },
   {
    "duration": 24,
    "start_time": "2024-05-27T22:51:39.429Z"
   },
   {
    "duration": 19,
    "start_time": "2024-05-27T22:51:39.461Z"
   },
   {
    "duration": 37,
    "start_time": "2024-05-27T22:51:39.483Z"
   },
   {
    "duration": 6,
    "start_time": "2024-05-27T22:51:48.691Z"
   },
   {
    "duration": 1157,
    "start_time": "2024-05-27T22:52:08.588Z"
   },
   {
    "duration": 127,
    "start_time": "2024-05-27T22:52:09.749Z"
   },
   {
    "duration": 96,
    "start_time": "2024-05-27T22:52:09.878Z"
   },
   {
    "duration": 62,
    "start_time": "2024-05-27T22:52:09.978Z"
   },
   {
    "duration": 8,
    "start_time": "2024-05-27T22:52:10.042Z"
   },
   {
    "duration": 11,
    "start_time": "2024-05-27T22:52:10.053Z"
   },
   {
    "duration": 16,
    "start_time": "2024-05-27T22:52:10.066Z"
   },
   {
    "duration": 40,
    "start_time": "2024-05-27T22:52:10.085Z"
   },
   {
    "duration": 16,
    "start_time": "2024-05-27T22:52:10.128Z"
   },
   {
    "duration": 16,
    "start_time": "2024-05-27T22:52:10.149Z"
   },
   {
    "duration": 51,
    "start_time": "2024-05-27T22:52:10.168Z"
   },
   {
    "duration": 6,
    "start_time": "2024-05-27T22:52:10.223Z"
   },
   {
    "duration": 17,
    "start_time": "2024-05-27T22:52:10.232Z"
   },
   {
    "duration": 8,
    "start_time": "2024-05-27T22:52:10.252Z"
   },
   {
    "duration": 6,
    "start_time": "2024-05-27T22:52:10.263Z"
   },
   {
    "duration": 5,
    "start_time": "2024-05-27T22:52:10.315Z"
   },
   {
    "duration": 6,
    "start_time": "2024-05-27T22:52:10.323Z"
   },
   {
    "duration": 6,
    "start_time": "2024-05-27T22:52:10.332Z"
   },
   {
    "duration": 25,
    "start_time": "2024-05-27T22:52:10.341Z"
   },
   {
    "duration": 66,
    "start_time": "2024-05-27T22:52:10.369Z"
   },
   {
    "duration": 17,
    "start_time": "2024-05-27T22:52:10.437Z"
   },
   {
    "duration": 77,
    "start_time": "2024-05-27T22:52:10.457Z"
   },
   {
    "duration": 90,
    "start_time": "2024-05-27T22:52:10.537Z"
   },
   {
    "duration": 13,
    "start_time": "2024-05-27T22:52:10.629Z"
   },
   {
    "duration": 30,
    "start_time": "2024-05-27T22:52:10.645Z"
   },
   {
    "duration": 43,
    "start_time": "2024-05-27T22:52:10.678Z"
   },
   {
    "duration": 14,
    "start_time": "2024-05-27T22:52:10.723Z"
   },
   {
    "duration": 30,
    "start_time": "2024-05-27T22:52:10.744Z"
   },
   {
    "duration": 42,
    "start_time": "2024-05-27T22:52:10.776Z"
   },
   {
    "duration": 22,
    "start_time": "2024-05-27T22:52:10.821Z"
   },
   {
    "duration": 23,
    "start_time": "2024-05-27T22:52:10.848Z"
   },
   {
    "duration": 45,
    "start_time": "2024-05-27T22:52:10.874Z"
   },
   {
    "duration": 42,
    "start_time": "2024-05-27T22:52:10.922Z"
   },
   {
    "duration": 73,
    "start_time": "2024-05-27T22:52:10.968Z"
   },
   {
    "duration": 11,
    "start_time": "2024-05-27T22:52:11.044Z"
   },
   {
    "duration": 29,
    "start_time": "2024-05-27T22:52:11.058Z"
   },
   {
    "duration": 34,
    "start_time": "2024-05-27T22:52:11.089Z"
   },
   {
    "duration": 32,
    "start_time": "2024-05-27T22:52:11.125Z"
   },
   {
    "duration": 18,
    "start_time": "2024-05-27T22:52:11.160Z"
   },
   {
    "duration": 24,
    "start_time": "2024-05-27T22:52:11.214Z"
   },
   {
    "duration": 18,
    "start_time": "2024-05-27T22:52:11.241Z"
   },
   {
    "duration": 11,
    "start_time": "2024-05-27T22:52:11.262Z"
   },
   {
    "duration": 11,
    "start_time": "2024-05-27T22:52:32.139Z"
   },
   {
    "duration": 6,
    "start_time": "2024-05-27T22:52:33.773Z"
   },
   {
    "duration": 11,
    "start_time": "2024-05-27T22:52:46.716Z"
   },
   {
    "duration": 6,
    "start_time": "2024-05-27T22:52:47.467Z"
   },
   {
    "duration": 6,
    "start_time": "2024-05-27T22:53:16.773Z"
   },
   {
    "duration": 135,
    "start_time": "2024-05-27T22:53:16.784Z"
   },
   {
    "duration": 94,
    "start_time": "2024-05-27T22:53:16.922Z"
   },
   {
    "duration": 55,
    "start_time": "2024-05-27T22:53:17.020Z"
   },
   {
    "duration": 8,
    "start_time": "2024-05-27T22:53:17.079Z"
   },
   {
    "duration": 29,
    "start_time": "2024-05-27T22:53:17.089Z"
   },
   {
    "duration": 15,
    "start_time": "2024-05-27T22:53:17.121Z"
   },
   {
    "duration": 15,
    "start_time": "2024-05-27T22:53:17.140Z"
   },
   {
    "duration": 16,
    "start_time": "2024-05-27T22:53:17.159Z"
   },
   {
    "duration": 15,
    "start_time": "2024-05-27T22:53:17.213Z"
   },
   {
    "duration": 15,
    "start_time": "2024-05-27T22:53:17.231Z"
   },
   {
    "duration": 5,
    "start_time": "2024-05-27T22:53:17.249Z"
   },
   {
    "duration": 58,
    "start_time": "2024-05-27T22:53:17.257Z"
   },
   {
    "duration": 5,
    "start_time": "2024-05-27T22:53:17.321Z"
   },
   {
    "duration": 7,
    "start_time": "2024-05-27T22:53:17.329Z"
   },
   {
    "duration": 6,
    "start_time": "2024-05-27T22:53:17.339Z"
   },
   {
    "duration": 5,
    "start_time": "2024-05-27T22:53:17.348Z"
   },
   {
    "duration": 9,
    "start_time": "2024-05-27T22:53:17.356Z"
   },
   {
    "duration": 24,
    "start_time": "2024-05-27T22:53:17.411Z"
   },
   {
    "duration": 27,
    "start_time": "2024-05-27T22:53:17.438Z"
   },
   {
    "duration": 46,
    "start_time": "2024-05-27T22:53:17.468Z"
   },
   {
    "duration": 46,
    "start_time": "2024-05-27T22:53:17.517Z"
   },
   {
    "duration": 94,
    "start_time": "2024-05-27T22:53:17.566Z"
   },
   {
    "duration": 13,
    "start_time": "2024-05-27T22:53:17.663Z"
   },
   {
    "duration": 50,
    "start_time": "2024-05-27T22:53:17.679Z"
   },
   {
    "duration": 20,
    "start_time": "2024-05-27T22:53:17.732Z"
   },
   {
    "duration": 14,
    "start_time": "2024-05-27T22:53:17.755Z"
   },
   {
    "duration": 62,
    "start_time": "2024-05-27T22:53:17.771Z"
   },
   {
    "duration": 10,
    "start_time": "2024-05-27T22:53:17.836Z"
   },
   {
    "duration": 22,
    "start_time": "2024-05-27T22:53:17.848Z"
   },
   {
    "duration": 55,
    "start_time": "2024-05-27T22:53:17.872Z"
   },
   {
    "duration": 15,
    "start_time": "2024-05-27T22:53:17.930Z"
   },
   {
    "duration": 66,
    "start_time": "2024-05-27T22:53:17.948Z"
   },
   {
    "duration": 43,
    "start_time": "2024-05-27T22:53:18.017Z"
   },
   {
    "duration": 12,
    "start_time": "2024-05-27T22:53:18.062Z"
   },
   {
    "duration": 49,
    "start_time": "2024-05-27T22:53:18.077Z"
   },
   {
    "duration": 13,
    "start_time": "2024-05-27T22:53:18.129Z"
   },
   {
    "duration": 32,
    "start_time": "2024-05-27T22:53:18.145Z"
   },
   {
    "duration": 52,
    "start_time": "2024-05-27T22:53:18.180Z"
   },
   {
    "duration": 30,
    "start_time": "2024-05-27T22:53:18.236Z"
   },
   {
    "duration": 50,
    "start_time": "2024-05-27T22:53:18.276Z"
   },
   {
    "duration": 10,
    "start_time": "2024-05-27T22:53:18.329Z"
   },
   {
    "duration": 11,
    "start_time": "2024-05-27T22:53:18.341Z"
   },
   {
    "duration": 11,
    "start_time": "2024-05-27T22:53:18.356Z"
   },
   {
    "duration": 46,
    "start_time": "2024-05-27T22:53:18.370Z"
   },
   {
    "duration": 7,
    "start_time": "2024-05-27T22:53:18.419Z"
   },
   {
    "duration": 12,
    "start_time": "2024-05-27T22:53:18.429Z"
   },
   {
    "duration": 7,
    "start_time": "2024-05-27T22:53:25.218Z"
   },
   {
    "duration": 12,
    "start_time": "2024-05-27T22:55:13.100Z"
   },
   {
    "duration": 7,
    "start_time": "2024-05-27T22:55:14.311Z"
   },
   {
    "duration": 1085,
    "start_time": "2024-05-27T22:55:37.176Z"
   },
   {
    "duration": 129,
    "start_time": "2024-05-27T22:55:38.266Z"
   },
   {
    "duration": 95,
    "start_time": "2024-05-27T22:55:38.398Z"
   },
   {
    "duration": 65,
    "start_time": "2024-05-27T22:55:38.497Z"
   },
   {
    "duration": 8,
    "start_time": "2024-05-27T22:55:38.564Z"
   },
   {
    "duration": 9,
    "start_time": "2024-05-27T22:55:38.574Z"
   },
   {
    "duration": 35,
    "start_time": "2024-05-27T22:55:38.586Z"
   },
   {
    "duration": 15,
    "start_time": "2024-05-27T22:55:38.624Z"
   },
   {
    "duration": 16,
    "start_time": "2024-05-27T22:55:38.643Z"
   },
   {
    "duration": 51,
    "start_time": "2024-05-27T22:55:38.664Z"
   },
   {
    "duration": 15,
    "start_time": "2024-05-27T22:55:38.717Z"
   },
   {
    "duration": 7,
    "start_time": "2024-05-27T22:55:38.735Z"
   },
   {
    "duration": 17,
    "start_time": "2024-05-27T22:55:38.745Z"
   },
   {
    "duration": 46,
    "start_time": "2024-05-27T22:55:38.765Z"
   },
   {
    "duration": 10,
    "start_time": "2024-05-27T22:55:38.814Z"
   },
   {
    "duration": 5,
    "start_time": "2024-05-27T22:55:38.827Z"
   },
   {
    "duration": 5,
    "start_time": "2024-05-27T22:55:38.836Z"
   },
   {
    "duration": 5,
    "start_time": "2024-05-27T22:55:38.844Z"
   },
   {
    "duration": 62,
    "start_time": "2024-05-27T22:55:38.852Z"
   },
   {
    "duration": 24,
    "start_time": "2024-05-27T22:55:38.917Z"
   },
   {
    "duration": 17,
    "start_time": "2024-05-27T22:55:38.943Z"
   },
   {
    "duration": 77,
    "start_time": "2024-05-27T22:55:38.963Z"
   },
   {
    "duration": 91,
    "start_time": "2024-05-27T22:55:39.043Z"
   },
   {
    "duration": 12,
    "start_time": "2024-05-27T22:55:39.137Z"
   },
   {
    "duration": 30,
    "start_time": "2024-05-27T22:55:39.152Z"
   },
   {
    "duration": 20,
    "start_time": "2024-05-27T22:55:39.212Z"
   },
   {
    "duration": 18,
    "start_time": "2024-05-27T22:55:39.236Z"
   },
   {
    "duration": 59,
    "start_time": "2024-05-27T22:55:39.263Z"
   },
   {
    "duration": 9,
    "start_time": "2024-05-27T22:55:39.325Z"
   },
   {
    "duration": 23,
    "start_time": "2024-05-27T22:55:39.337Z"
   },
   {
    "duration": 55,
    "start_time": "2024-05-27T22:55:39.363Z"
   },
   {
    "duration": 15,
    "start_time": "2024-05-27T22:55:39.421Z"
   },
   {
    "duration": 36,
    "start_time": "2024-05-27T22:55:39.438Z"
   },
   {
    "duration": 71,
    "start_time": "2024-05-27T22:55:39.477Z"
   },
   {
    "duration": 12,
    "start_time": "2024-05-27T22:55:39.550Z"
   },
   {
    "duration": 51,
    "start_time": "2024-05-27T22:55:39.565Z"
   },
   {
    "duration": 12,
    "start_time": "2024-05-27T22:55:39.619Z"
   },
   {
    "duration": 32,
    "start_time": "2024-05-27T22:55:39.634Z"
   },
   {
    "duration": 51,
    "start_time": "2024-05-27T22:55:39.668Z"
   },
   {
    "duration": 25,
    "start_time": "2024-05-27T22:55:39.722Z"
   },
   {
    "duration": 19,
    "start_time": "2024-05-27T22:55:39.749Z"
   },
   {
    "duration": 45,
    "start_time": "2024-05-27T22:55:39.771Z"
   },
   {
    "duration": 11,
    "start_time": "2024-05-27T22:55:39.819Z"
   },
   {
    "duration": 13,
    "start_time": "2024-05-27T22:55:39.833Z"
   },
   {
    "duration": 5,
    "start_time": "2024-05-27T22:55:39.849Z"
   },
   {
    "duration": 7,
    "start_time": "2024-05-27T22:55:43.057Z"
   },
   {
    "duration": 11,
    "start_time": "2024-05-27T22:55:45.336Z"
   },
   {
    "duration": 7,
    "start_time": "2024-05-27T22:55:46.050Z"
   },
   {
    "duration": 15,
    "start_time": "2024-05-27T22:55:55.410Z"
   },
   {
    "duration": 4,
    "start_time": "2024-05-27T22:56:23.232Z"
   },
   {
    "duration": 138,
    "start_time": "2024-05-27T22:56:23.239Z"
   },
   {
    "duration": 122,
    "start_time": "2024-05-27T22:56:23.379Z"
   },
   {
    "duration": 64,
    "start_time": "2024-05-27T22:56:23.505Z"
   },
   {
    "duration": 8,
    "start_time": "2024-05-27T22:56:23.571Z"
   },
   {
    "duration": 36,
    "start_time": "2024-05-27T22:56:23.582Z"
   },
   {
    "duration": 15,
    "start_time": "2024-05-27T22:56:23.621Z"
   },
   {
    "duration": 13,
    "start_time": "2024-05-27T22:56:23.639Z"
   },
   {
    "duration": 15,
    "start_time": "2024-05-27T22:56:23.655Z"
   },
   {
    "duration": 19,
    "start_time": "2024-05-27T22:56:23.714Z"
   },
   {
    "duration": 15,
    "start_time": "2024-05-27T22:56:23.737Z"
   },
   {
    "duration": 9,
    "start_time": "2024-05-27T22:56:23.755Z"
   },
   {
    "duration": 46,
    "start_time": "2024-05-27T22:56:23.767Z"
   },
   {
    "duration": 7,
    "start_time": "2024-05-27T22:56:23.817Z"
   },
   {
    "duration": 7,
    "start_time": "2024-05-27T22:56:23.827Z"
   },
   {
    "duration": 5,
    "start_time": "2024-05-27T22:56:23.836Z"
   },
   {
    "duration": 7,
    "start_time": "2024-05-27T22:56:23.845Z"
   },
   {
    "duration": 5,
    "start_time": "2024-05-27T22:56:23.856Z"
   },
   {
    "duration": 23,
    "start_time": "2024-05-27T22:56:23.912Z"
   },
   {
    "duration": 26,
    "start_time": "2024-05-27T22:56:23.938Z"
   },
   {
    "duration": 46,
    "start_time": "2024-05-27T22:56:23.967Z"
   },
   {
    "duration": 47,
    "start_time": "2024-05-27T22:56:24.017Z"
   },
   {
    "duration": 94,
    "start_time": "2024-05-27T22:56:24.067Z"
   },
   {
    "duration": 13,
    "start_time": "2024-05-27T22:56:24.164Z"
   },
   {
    "duration": 46,
    "start_time": "2024-05-27T22:56:24.180Z"
   },
   {
    "duration": 18,
    "start_time": "2024-05-27T22:56:24.229Z"
   },
   {
    "duration": 14,
    "start_time": "2024-05-27T22:56:24.250Z"
   },
   {
    "duration": 64,
    "start_time": "2024-05-27T22:56:24.272Z"
   },
   {
    "duration": 10,
    "start_time": "2024-05-27T22:56:24.339Z"
   },
   {
    "duration": 21,
    "start_time": "2024-05-27T22:56:24.351Z"
   },
   {
    "duration": 51,
    "start_time": "2024-05-27T22:56:24.375Z"
   },
   {
    "duration": 16,
    "start_time": "2024-05-27T22:56:24.429Z"
   },
   {
    "duration": 70,
    "start_time": "2024-05-27T22:56:24.448Z"
   },
   {
    "duration": 42,
    "start_time": "2024-05-27T22:56:24.524Z"
   },
   {
    "duration": 13,
    "start_time": "2024-05-27T22:56:24.569Z"
   },
   {
    "duration": 46,
    "start_time": "2024-05-27T22:56:24.584Z"
   },
   {
    "duration": 13,
    "start_time": "2024-05-27T22:56:24.633Z"
   },
   {
    "duration": 32,
    "start_time": "2024-05-27T22:56:24.649Z"
   },
   {
    "duration": 18,
    "start_time": "2024-05-27T22:56:24.713Z"
   },
   {
    "duration": 27,
    "start_time": "2024-05-27T22:56:24.734Z"
   },
   {
    "duration": 50,
    "start_time": "2024-05-27T22:56:24.764Z"
   },
   {
    "duration": 11,
    "start_time": "2024-05-27T22:56:24.817Z"
   },
   {
    "duration": 11,
    "start_time": "2024-05-27T22:56:24.831Z"
   },
   {
    "duration": 12,
    "start_time": "2024-05-27T22:56:24.845Z"
   },
   {
    "duration": 5,
    "start_time": "2024-05-27T22:56:24.860Z"
   },
   {
    "duration": 49,
    "start_time": "2024-05-27T22:56:24.868Z"
   },
   {
    "duration": 12,
    "start_time": "2024-05-27T22:56:24.920Z"
   },
   {
    "duration": 16,
    "start_time": "2024-05-27T22:56:24.934Z"
   },
   {
    "duration": 9,
    "start_time": "2024-05-27T22:56:24.953Z"
   },
   {
    "duration": 50,
    "start_time": "2024-05-27T22:56:24.965Z"
   },
   {
    "duration": 8,
    "start_time": "2024-05-27T22:56:25.018Z"
   },
   {
    "duration": 6,
    "start_time": "2024-05-27T22:56:25.029Z"
   },
   {
    "duration": 5,
    "start_time": "2024-05-27T22:56:25.038Z"
   },
   {
    "duration": 8,
    "start_time": "2024-05-27T22:56:25.047Z"
   },
   {
    "duration": 7,
    "start_time": "2024-05-27T22:56:25.058Z"
   },
   {
    "duration": 6,
    "start_time": "2024-05-27T22:56:41.059Z"
   },
   {
    "duration": 5,
    "start_time": "2024-05-27T22:57:02.378Z"
   },
   {
    "duration": 142,
    "start_time": "2024-05-27T22:57:02.386Z"
   },
   {
    "duration": 100,
    "start_time": "2024-05-27T22:57:02.531Z"
   },
   {
    "duration": 55,
    "start_time": "2024-05-27T22:57:02.634Z"
   },
   {
    "duration": 22,
    "start_time": "2024-05-27T22:57:02.693Z"
   },
   {
    "duration": 9,
    "start_time": "2024-05-27T22:57:02.717Z"
   },
   {
    "duration": 14,
    "start_time": "2024-05-27T22:57:02.729Z"
   },
   {
    "duration": 12,
    "start_time": "2024-05-27T22:57:02.746Z"
   },
   {
    "duration": 56,
    "start_time": "2024-05-27T22:57:02.761Z"
   },
   {
    "duration": 14,
    "start_time": "2024-05-27T22:57:02.820Z"
   },
   {
    "duration": 15,
    "start_time": "2024-05-27T22:57:02.837Z"
   },
   {
    "duration": 5,
    "start_time": "2024-05-27T22:57:02.855Z"
   },
   {
    "duration": 56,
    "start_time": "2024-05-27T22:57:02.864Z"
   },
   {
    "duration": 5,
    "start_time": "2024-05-27T22:57:02.927Z"
   },
   {
    "duration": 7,
    "start_time": "2024-05-27T22:57:02.935Z"
   },
   {
    "duration": 5,
    "start_time": "2024-05-27T22:57:02.946Z"
   },
   {
    "duration": 6,
    "start_time": "2024-05-27T22:57:02.954Z"
   },
   {
    "duration": 54,
    "start_time": "2024-05-27T22:57:02.962Z"
   },
   {
    "duration": 28,
    "start_time": "2024-05-27T22:57:03.021Z"
   },
   {
    "duration": 28,
    "start_time": "2024-05-27T22:57:03.053Z"
   },
   {
    "duration": 18,
    "start_time": "2024-05-27T22:57:03.112Z"
   },
   {
    "duration": 46,
    "start_time": "2024-05-27T22:57:03.134Z"
   },
   {
    "duration": 102,
    "start_time": "2024-05-27T22:57:03.183Z"
   },
   {
    "duration": 32,
    "start_time": "2024-05-27T22:57:03.288Z"
   },
   {
    "duration": 26,
    "start_time": "2024-05-27T22:57:03.323Z"
   },
   {
    "duration": 25,
    "start_time": "2024-05-27T22:57:03.352Z"
   },
   {
    "duration": 44,
    "start_time": "2024-05-27T22:57:03.380Z"
   },
   {
    "duration": 30,
    "start_time": "2024-05-27T22:57:03.428Z"
   },
   {
    "duration": 10,
    "start_time": "2024-05-27T22:57:03.460Z"
   },
   {
    "duration": 57,
    "start_time": "2024-05-27T22:57:03.472Z"
   },
   {
    "duration": 24,
    "start_time": "2024-05-27T22:57:03.532Z"
   },
   {
    "duration": 16,
    "start_time": "2024-05-27T22:57:03.559Z"
   },
   {
    "duration": 78,
    "start_time": "2024-05-27T22:57:03.578Z"
   },
   {
    "duration": 56,
    "start_time": "2024-05-27T22:57:03.659Z"
   },
   {
    "duration": 12,
    "start_time": "2024-05-27T22:57:03.722Z"
   },
   {
    "duration": 27,
    "start_time": "2024-05-27T22:57:03.739Z"
   },
   {
    "duration": 12,
    "start_time": "2024-05-27T22:57:03.769Z"
   },
   {
    "duration": 34,
    "start_time": "2024-05-27T22:57:03.814Z"
   },
   {
    "duration": 21,
    "start_time": "2024-05-27T22:57:03.853Z"
   },
   {
    "duration": 56,
    "start_time": "2024-05-27T22:57:03.877Z"
   },
   {
    "duration": 19,
    "start_time": "2024-05-27T22:57:03.941Z"
   },
   {
    "duration": 10,
    "start_time": "2024-05-27T22:57:03.963Z"
   },
   {
    "duration": 42,
    "start_time": "2024-05-27T22:57:03.976Z"
   },
   {
    "duration": 11,
    "start_time": "2024-05-27T22:57:04.022Z"
   },
   {
    "duration": 6,
    "start_time": "2024-05-27T22:57:04.036Z"
   },
   {
    "duration": 8,
    "start_time": "2024-05-27T22:57:04.046Z"
   },
   {
    "duration": 13,
    "start_time": "2024-05-27T22:57:04.056Z"
   },
   {
    "duration": 53,
    "start_time": "2024-05-27T22:57:04.072Z"
   },
   {
    "duration": 8,
    "start_time": "2024-05-27T22:57:04.129Z"
   },
   {
    "duration": 10,
    "start_time": "2024-05-27T22:57:04.140Z"
   },
   {
    "duration": 10,
    "start_time": "2024-05-27T22:57:04.153Z"
   },
   {
    "duration": 6,
    "start_time": "2024-05-27T22:57:04.165Z"
   },
   {
    "duration": 6,
    "start_time": "2024-05-27T22:57:04.214Z"
   },
   {
    "duration": 8,
    "start_time": "2024-05-27T22:57:04.223Z"
   },
   {
    "duration": 6,
    "start_time": "2024-05-27T22:57:04.234Z"
   },
   {
    "duration": 68,
    "start_time": "2024-05-27T22:57:04.245Z"
   },
   {
    "duration": 12,
    "start_time": "2024-05-27T22:57:04.317Z"
   },
   {
    "duration": 10,
    "start_time": "2024-05-27T22:57:04.331Z"
   },
   {
    "duration": 17,
    "start_time": "2024-05-27T22:57:06.751Z"
   },
   {
    "duration": 324,
    "start_time": "2024-05-27T22:57:23.183Z"
   },
   {
    "duration": 735,
    "start_time": "2024-05-27T22:57:37.641Z"
   },
   {
    "duration": 303,
    "start_time": "2024-05-27T22:57:48.100Z"
   },
   {
    "duration": 1336,
    "start_time": "2024-05-27T22:58:58.719Z"
   },
   {
    "duration": 288,
    "start_time": "2024-05-27T22:59:25.838Z"
   },
   {
    "duration": 9,
    "start_time": "2024-05-27T22:59:53.730Z"
   },
   {
    "duration": 314,
    "start_time": "2024-05-27T23:00:10.229Z"
   },
   {
    "duration": 28,
    "start_time": "2024-05-27T23:00:39.239Z"
   },
   {
    "duration": 309,
    "start_time": "2024-05-27T23:00:43.235Z"
   },
   {
    "duration": 6,
    "start_time": "2024-05-27T23:00:52.598Z"
   },
   {
    "duration": 298,
    "start_time": "2024-05-27T23:01:02.751Z"
   },
   {
    "duration": 304,
    "start_time": "2024-05-27T23:03:14.429Z"
   },
   {
    "duration": 292,
    "start_time": "2024-05-27T23:03:26.751Z"
   },
   {
    "duration": 430,
    "start_time": "2024-05-27T23:03:47.343Z"
   },
   {
    "duration": 294,
    "start_time": "2024-05-27T23:03:59.440Z"
   },
   {
    "duration": 320,
    "start_time": "2024-05-27T23:04:22.809Z"
   },
   {
    "duration": 303,
    "start_time": "2024-05-27T23:04:32.291Z"
   },
   {
    "duration": 386,
    "start_time": "2024-05-27T23:04:52.436Z"
   },
   {
    "duration": 307,
    "start_time": "2024-05-27T23:04:57.208Z"
   },
   {
    "duration": 319,
    "start_time": "2024-05-27T23:05:13.013Z"
   },
   {
    "duration": 295,
    "start_time": "2024-05-27T23:05:47.161Z"
   },
   {
    "duration": 299,
    "start_time": "2024-05-27T23:06:15.281Z"
   },
   {
    "duration": 6,
    "start_time": "2024-05-27T23:06:29.014Z"
   },
   {
    "duration": 318,
    "start_time": "2024-05-27T23:06:40.098Z"
   },
   {
    "duration": 317,
    "start_time": "2024-05-27T23:08:52.770Z"
   },
   {
    "duration": 319,
    "start_time": "2024-05-27T23:12:13.222Z"
   },
   {
    "duration": 4,
    "start_time": "2024-05-27T23:13:58.618Z"
   },
   {
    "duration": 260,
    "start_time": "2024-05-27T23:14:22.413Z"
   },
   {
    "duration": 260,
    "start_time": "2024-05-27T23:14:36.671Z"
   },
   {
    "duration": 819,
    "start_time": "2024-05-27T23:14:55.220Z"
   },
   {
    "duration": 236,
    "start_time": "2024-05-27T23:15:15.417Z"
   },
   {
    "duration": 222,
    "start_time": "2024-05-27T23:15:28.337Z"
   },
   {
    "duration": 240,
    "start_time": "2024-05-27T23:15:34.025Z"
   },
   {
    "duration": 223,
    "start_time": "2024-05-27T23:15:36.598Z"
   },
   {
    "duration": 225,
    "start_time": "2024-05-27T23:15:41.531Z"
   },
   {
    "duration": 245,
    "start_time": "2024-05-27T23:15:45.467Z"
   },
   {
    "duration": 237,
    "start_time": "2024-05-27T23:15:50.067Z"
   },
   {
    "duration": 233,
    "start_time": "2024-05-27T23:15:56.095Z"
   },
   {
    "duration": 264,
    "start_time": "2024-05-27T23:16:01.442Z"
   },
   {
    "duration": 6,
    "start_time": "2024-05-27T23:16:05.609Z"
   },
   {
    "duration": 260,
    "start_time": "2024-05-27T23:16:10.067Z"
   },
   {
    "duration": 299,
    "start_time": "2024-05-27T23:16:28.792Z"
   },
   {
    "duration": 8,
    "start_time": "2024-05-27T23:19:00.887Z"
   },
   {
    "duration": 248,
    "start_time": "2024-05-27T23:19:05.549Z"
   },
   {
    "duration": 268,
    "start_time": "2024-05-27T23:19:12.933Z"
   },
   {
    "duration": 18,
    "start_time": "2024-05-27T23:19:24.138Z"
   },
   {
    "duration": 935,
    "start_time": "2024-05-27T23:20:25.005Z"
   },
   {
    "duration": 86,
    "start_time": "2024-05-27T23:20:45.116Z"
   },
   {
    "duration": 1132,
    "start_time": "2024-05-27T23:20:56.633Z"
   },
   {
    "duration": 120,
    "start_time": "2024-05-27T23:20:57.770Z"
   },
   {
    "duration": 96,
    "start_time": "2024-05-27T23:20:57.892Z"
   },
   {
    "duration": 62,
    "start_time": "2024-05-27T23:20:57.992Z"
   },
   {
    "duration": 8,
    "start_time": "2024-05-27T23:20:58.057Z"
   },
   {
    "duration": 9,
    "start_time": "2024-05-27T23:20:58.068Z"
   },
   {
    "duration": 39,
    "start_time": "2024-05-27T23:20:58.080Z"
   },
   {
    "duration": 16,
    "start_time": "2024-05-27T23:20:58.123Z"
   },
   {
    "duration": 16,
    "start_time": "2024-05-27T23:20:58.143Z"
   },
   {
    "duration": 50,
    "start_time": "2024-05-27T23:20:58.164Z"
   },
   {
    "duration": 15,
    "start_time": "2024-05-27T23:20:58.217Z"
   },
   {
    "duration": 6,
    "start_time": "2024-05-27T23:20:58.235Z"
   },
   {
    "duration": 16,
    "start_time": "2024-05-27T23:20:58.244Z"
   },
   {
    "duration": 6,
    "start_time": "2024-05-27T23:20:58.264Z"
   },
   {
    "duration": 44,
    "start_time": "2024-05-27T23:20:58.272Z"
   },
   {
    "duration": 5,
    "start_time": "2024-05-27T23:20:58.320Z"
   },
   {
    "duration": 8,
    "start_time": "2024-05-27T23:20:58.328Z"
   },
   {
    "duration": 5,
    "start_time": "2024-05-27T23:20:58.339Z"
   },
   {
    "duration": 65,
    "start_time": "2024-05-27T23:20:58.347Z"
   },
   {
    "duration": 24,
    "start_time": "2024-05-27T23:20:58.415Z"
   },
   {
    "duration": 18,
    "start_time": "2024-05-27T23:20:58.442Z"
   },
   {
    "duration": 77,
    "start_time": "2024-05-27T23:20:58.463Z"
   },
   {
    "duration": 101,
    "start_time": "2024-05-27T23:20:58.543Z"
   },
   {
    "duration": 13,
    "start_time": "2024-05-27T23:20:58.647Z"
   },
   {
    "duration": 52,
    "start_time": "2024-05-27T23:20:58.662Z"
   },
   {
    "duration": 19,
    "start_time": "2024-05-27T23:20:58.717Z"
   },
   {
    "duration": 12,
    "start_time": "2024-05-27T23:20:58.739Z"
   },
   {
    "duration": 61,
    "start_time": "2024-05-27T23:20:58.763Z"
   },
   {
    "duration": 10,
    "start_time": "2024-05-27T23:20:58.827Z"
   },
   {
    "duration": 20,
    "start_time": "2024-05-27T23:20:58.840Z"
   },
   {
    "duration": 50,
    "start_time": "2024-05-27T23:20:58.863Z"
   },
   {
    "duration": 15,
    "start_time": "2024-05-27T23:20:58.916Z"
   },
   {
    "duration": 37,
    "start_time": "2024-05-27T23:20:58.934Z"
   },
   {
    "duration": 75,
    "start_time": "2024-05-27T23:20:58.973Z"
   },
   {
    "duration": 12,
    "start_time": "2024-05-27T23:20:59.051Z"
   },
   {
    "duration": 47,
    "start_time": "2024-05-27T23:20:59.066Z"
   },
   {
    "duration": 12,
    "start_time": "2024-05-27T23:20:59.117Z"
   },
   {
    "duration": 31,
    "start_time": "2024-05-27T23:20:59.132Z"
   },
   {
    "duration": 51,
    "start_time": "2024-05-27T23:20:59.165Z"
   },
   {
    "duration": 24,
    "start_time": "2024-05-27T23:20:59.219Z"
   },
   {
    "duration": 18,
    "start_time": "2024-05-27T23:20:59.245Z"
   },
   {
    "duration": 10,
    "start_time": "2024-05-27T23:20:59.267Z"
   },
   {
    "duration": 11,
    "start_time": "2024-05-27T23:20:59.313Z"
   },
   {
    "duration": 13,
    "start_time": "2024-05-27T23:20:59.327Z"
   },
   {
    "duration": 5,
    "start_time": "2024-05-27T23:20:59.343Z"
   },
   {
    "duration": 10,
    "start_time": "2024-05-27T23:20:59.350Z"
   },
   {
    "duration": 52,
    "start_time": "2024-05-27T23:20:59.364Z"
   },
   {
    "duration": 15,
    "start_time": "2024-05-27T23:20:59.419Z"
   },
   {
    "duration": 8,
    "start_time": "2024-05-27T23:20:59.437Z"
   },
   {
    "duration": 9,
    "start_time": "2024-05-27T23:20:59.448Z"
   },
   {
    "duration": 7,
    "start_time": "2024-05-27T23:20:59.460Z"
   },
   {
    "duration": 45,
    "start_time": "2024-05-27T23:20:59.470Z"
   },
   {
    "duration": 6,
    "start_time": "2024-05-27T23:20:59.518Z"
   },
   {
    "duration": 7,
    "start_time": "2024-05-27T23:20:59.527Z"
   },
   {
    "duration": 6,
    "start_time": "2024-05-27T23:20:59.537Z"
   },
   {
    "duration": 72,
    "start_time": "2024-05-27T23:20:59.545Z"
   },
   {
    "duration": 16,
    "start_time": "2024-05-27T23:20:59.620Z"
   },
   {
    "duration": 11,
    "start_time": "2024-05-27T23:20:59.640Z"
   },
   {
    "duration": 6,
    "start_time": "2024-05-27T23:20:59.653Z"
   },
   {
    "duration": 361,
    "start_time": "2024-05-27T23:20:59.665Z"
   },
   {
    "duration": 1318,
    "start_time": "2024-05-27T23:21:00.029Z"
   },
   {
    "duration": 0,
    "start_time": "2024-05-27T23:21:01.350Z"
   },
   {
    "duration": 0,
    "start_time": "2024-05-27T23:21:01.352Z"
   },
   {
    "duration": 0,
    "start_time": "2024-05-27T23:21:01.354Z"
   },
   {
    "duration": 0,
    "start_time": "2024-05-27T23:21:01.355Z"
   },
   {
    "duration": 0,
    "start_time": "2024-05-27T23:21:01.360Z"
   },
   {
    "duration": 0,
    "start_time": "2024-05-27T23:21:01.361Z"
   },
   {
    "duration": 0,
    "start_time": "2024-05-27T23:21:01.364Z"
   },
   {
    "duration": 81,
    "start_time": "2024-05-27T23:21:06.287Z"
   },
   {
    "duration": 89,
    "start_time": "2024-05-27T23:21:23.103Z"
   },
   {
    "duration": 1239,
    "start_time": "2024-05-27T23:21:33.011Z"
   },
   {
    "duration": 120,
    "start_time": "2024-05-27T23:21:34.255Z"
   },
   {
    "duration": 95,
    "start_time": "2024-05-27T23:21:34.378Z"
   },
   {
    "duration": 62,
    "start_time": "2024-05-27T23:21:34.476Z"
   },
   {
    "duration": 8,
    "start_time": "2024-05-27T23:21:34.541Z"
   },
   {
    "duration": 10,
    "start_time": "2024-05-27T23:21:34.551Z"
   },
   {
    "duration": 16,
    "start_time": "2024-05-27T23:21:34.563Z"
   },
   {
    "duration": 16,
    "start_time": "2024-05-27T23:21:34.613Z"
   },
   {
    "duration": 15,
    "start_time": "2024-05-27T23:21:34.632Z"
   },
   {
    "duration": 15,
    "start_time": "2024-05-27T23:21:34.653Z"
   },
   {
    "duration": 48,
    "start_time": "2024-05-27T23:21:34.670Z"
   },
   {
    "duration": 6,
    "start_time": "2024-05-27T23:21:34.721Z"
   },
   {
    "duration": 18,
    "start_time": "2024-05-27T23:21:34.730Z"
   },
   {
    "duration": 7,
    "start_time": "2024-05-27T23:21:34.750Z"
   },
   {
    "duration": 52,
    "start_time": "2024-05-27T23:21:34.760Z"
   },
   {
    "duration": 5,
    "start_time": "2024-05-27T23:21:34.815Z"
   },
   {
    "duration": 5,
    "start_time": "2024-05-27T23:21:34.824Z"
   },
   {
    "duration": 5,
    "start_time": "2024-05-27T23:21:34.832Z"
   },
   {
    "duration": 23,
    "start_time": "2024-05-27T23:21:34.840Z"
   },
   {
    "duration": 68,
    "start_time": "2024-05-27T23:21:34.866Z"
   },
   {
    "duration": 17,
    "start_time": "2024-05-27T23:21:34.937Z"
   },
   {
    "duration": 73,
    "start_time": "2024-05-27T23:21:34.959Z"
   },
   {
    "duration": 93,
    "start_time": "2024-05-27T23:21:35.035Z"
   },
   {
    "duration": 14,
    "start_time": "2024-05-27T23:21:35.132Z"
   },
   {
    "duration": 30,
    "start_time": "2024-05-27T23:21:35.149Z"
   },
   {
    "duration": 46,
    "start_time": "2024-05-27T23:21:35.182Z"
   },
   {
    "duration": 13,
    "start_time": "2024-05-27T23:21:35.231Z"
   },
   {
    "duration": 29,
    "start_time": "2024-05-27T23:21:35.253Z"
   },
   {
    "duration": 11,
    "start_time": "2024-05-27T23:21:35.314Z"
   },
   {
    "duration": 23,
    "start_time": "2024-05-27T23:21:35.333Z"
   },
   {
    "duration": 22,
    "start_time": "2024-05-27T23:21:35.360Z"
   },
   {
    "duration": 17,
    "start_time": "2024-05-27T23:21:35.413Z"
   },
   {
    "duration": 36,
    "start_time": "2024-05-27T23:21:35.434Z"
   },
   {
    "duration": 71,
    "start_time": "2024-05-27T23:21:35.473Z"
   },
   {
    "duration": 13,
    "start_time": "2024-05-27T23:21:35.546Z"
   },
   {
    "duration": 28,
    "start_time": "2024-05-27T23:21:35.562Z"
   },
   {
    "duration": 12,
    "start_time": "2024-05-27T23:21:35.612Z"
   },
   {
    "duration": 31,
    "start_time": "2024-05-27T23:21:35.627Z"
   },
   {
    "duration": 19,
    "start_time": "2024-05-27T23:21:35.661Z"
   },
   {
    "duration": 25,
    "start_time": "2024-05-27T23:21:35.713Z"
   },
   {
    "duration": 19,
    "start_time": "2024-05-27T23:21:35.741Z"
   },
   {
    "duration": 9,
    "start_time": "2024-05-27T23:21:35.763Z"
   },
   {
    "duration": 47,
    "start_time": "2024-05-27T23:21:35.774Z"
   },
   {
    "duration": 12,
    "start_time": "2024-05-27T23:21:35.824Z"
   },
   {
    "duration": 4,
    "start_time": "2024-05-27T23:21:35.839Z"
   },
   {
    "duration": 8,
    "start_time": "2024-05-27T23:21:35.847Z"
   },
   {
    "duration": 57,
    "start_time": "2024-05-27T23:21:35.859Z"
   },
   {
    "duration": 16,
    "start_time": "2024-05-27T23:21:35.919Z"
   },
   {
    "duration": 8,
    "start_time": "2024-05-27T23:21:35.938Z"
   },
   {
    "duration": 9,
    "start_time": "2024-05-27T23:21:35.948Z"
   },
   {
    "duration": 9,
    "start_time": "2024-05-27T23:21:35.960Z"
   },
   {
    "duration": 5,
    "start_time": "2024-05-27T23:21:36.011Z"
   },
   {
    "duration": 5,
    "start_time": "2024-05-27T23:21:36.019Z"
   },
   {
    "duration": 7,
    "start_time": "2024-05-27T23:21:36.027Z"
   },
   {
    "duration": 6,
    "start_time": "2024-05-27T23:21:36.037Z"
   },
   {
    "duration": 71,
    "start_time": "2024-05-27T23:21:36.046Z"
   },
   {
    "duration": 11,
    "start_time": "2024-05-27T23:21:36.120Z"
   },
   {
    "duration": 9,
    "start_time": "2024-05-27T23:21:36.134Z"
   },
   {
    "duration": 5,
    "start_time": "2024-05-27T23:21:36.146Z"
   },
   {
    "duration": 365,
    "start_time": "2024-05-27T23:21:36.154Z"
   },
   {
    "duration": 1307,
    "start_time": "2024-05-27T23:21:36.522Z"
   },
   {
    "duration": 0,
    "start_time": "2024-05-27T23:21:37.832Z"
   },
   {
    "duration": 0,
    "start_time": "2024-05-27T23:21:37.834Z"
   },
   {
    "duration": 0,
    "start_time": "2024-05-27T23:21:37.836Z"
   },
   {
    "duration": 0,
    "start_time": "2024-05-27T23:21:37.838Z"
   },
   {
    "duration": 0,
    "start_time": "2024-05-27T23:21:37.839Z"
   },
   {
    "duration": 0,
    "start_time": "2024-05-27T23:21:37.842Z"
   },
   {
    "duration": 0,
    "start_time": "2024-05-27T23:21:37.843Z"
   },
   {
    "duration": 0,
    "start_time": "2024-05-27T23:21:37.846Z"
   },
   {
    "duration": 11,
    "start_time": "2024-05-27T23:22:25.562Z"
   },
   {
    "duration": 9,
    "start_time": "2024-05-27T23:22:27.609Z"
   },
   {
    "duration": 20,
    "start_time": "2024-05-27T23:22:35.065Z"
   },
   {
    "duration": 256,
    "start_time": "2024-05-27T23:22:44.236Z"
   },
   {
    "duration": 272,
    "start_time": "2024-05-27T23:23:53.397Z"
   },
   {
    "duration": 10,
    "start_time": "2024-05-27T23:24:26.115Z"
   },
   {
    "duration": 5,
    "start_time": "2024-05-27T23:24:35.520Z"
   },
   {
    "duration": 259,
    "start_time": "2024-05-27T23:24:37.069Z"
   },
   {
    "duration": 244,
    "start_time": "2024-05-27T23:24:53.657Z"
   },
   {
    "duration": 261,
    "start_time": "2024-05-27T23:25:00.804Z"
   },
   {
    "duration": 251,
    "start_time": "2024-05-27T23:25:06.692Z"
   },
   {
    "duration": 247,
    "start_time": "2024-05-27T23:25:12.665Z"
   },
   {
    "duration": 246,
    "start_time": "2024-05-27T23:25:17.331Z"
   },
   {
    "duration": 243,
    "start_time": "2024-05-27T23:25:21.975Z"
   },
   {
    "duration": 251,
    "start_time": "2024-05-27T23:25:25.237Z"
   },
   {
    "duration": 259,
    "start_time": "2024-05-27T23:25:30.577Z"
   },
   {
    "duration": 236,
    "start_time": "2024-05-27T23:25:34.806Z"
   },
   {
    "duration": 240,
    "start_time": "2024-05-27T23:25:36.974Z"
   },
   {
    "duration": 270,
    "start_time": "2024-05-27T23:25:40.886Z"
   },
   {
    "duration": 353,
    "start_time": "2024-05-27T23:25:45.687Z"
   },
   {
    "duration": 259,
    "start_time": "2024-05-27T23:25:57.918Z"
   },
   {
    "duration": 242,
    "start_time": "2024-05-27T23:26:15.063Z"
   },
   {
    "duration": 256,
    "start_time": "2024-05-27T23:26:20.596Z"
   },
   {
    "duration": 243,
    "start_time": "2024-05-27T23:26:25.042Z"
   },
   {
    "duration": 240,
    "start_time": "2024-05-27T23:26:27.481Z"
   },
   {
    "duration": 6,
    "start_time": "2024-05-27T23:26:31.095Z"
   },
   {
    "duration": 276,
    "start_time": "2024-05-27T23:26:36.707Z"
   },
   {
    "duration": 6,
    "start_time": "2024-05-27T23:26:40.746Z"
   },
   {
    "duration": 247,
    "start_time": "2024-05-27T23:26:50.342Z"
   },
   {
    "duration": 259,
    "start_time": "2024-05-27T23:26:59.243Z"
   },
   {
    "duration": 255,
    "start_time": "2024-05-27T23:27:04.697Z"
   },
   {
    "duration": 244,
    "start_time": "2024-05-27T23:27:09.050Z"
   },
   {
    "duration": 243,
    "start_time": "2024-05-27T23:27:12.777Z"
   },
   {
    "duration": 238,
    "start_time": "2024-05-27T23:27:16.059Z"
   },
   {
    "duration": 238,
    "start_time": "2024-05-27T23:27:20.070Z"
   },
   {
    "duration": 247,
    "start_time": "2024-05-27T23:27:30.170Z"
   },
   {
    "duration": 258,
    "start_time": "2024-05-27T23:27:34.933Z"
   },
   {
    "duration": 249,
    "start_time": "2024-05-27T23:27:40.616Z"
   },
   {
    "duration": 263,
    "start_time": "2024-05-27T23:27:43.650Z"
   },
   {
    "duration": 238,
    "start_time": "2024-05-27T23:27:49.281Z"
   },
   {
    "duration": 394,
    "start_time": "2024-05-27T23:27:55.879Z"
   },
   {
    "duration": 261,
    "start_time": "2024-05-27T23:28:07.515Z"
   },
   {
    "duration": 250,
    "start_time": "2024-05-27T23:28:11.861Z"
   },
   {
    "duration": 247,
    "start_time": "2024-05-27T23:28:15.643Z"
   },
   {
    "duration": 260,
    "start_time": "2024-05-27T23:28:18.603Z"
   },
   {
    "duration": 269,
    "start_time": "2024-05-27T23:28:25.876Z"
   },
   {
    "duration": 251,
    "start_time": "2024-05-27T23:28:29.152Z"
   },
   {
    "duration": 250,
    "start_time": "2024-05-27T23:34:43.875Z"
   },
   {
    "duration": 244,
    "start_time": "2024-05-27T23:34:54.583Z"
   },
   {
    "duration": 5,
    "start_time": "2024-05-27T23:35:12.255Z"
   },
   {
    "duration": 253,
    "start_time": "2024-05-27T23:35:12.654Z"
   },
   {
    "duration": 276,
    "start_time": "2024-05-27T23:36:32.518Z"
   },
   {
    "duration": 245,
    "start_time": "2024-05-27T23:37:15.308Z"
   },
   {
    "duration": 308,
    "start_time": "2024-05-27T23:37:33.520Z"
   },
   {
    "duration": 253,
    "start_time": "2024-05-27T23:37:39.793Z"
   },
   {
    "duration": 263,
    "start_time": "2024-05-27T23:37:51.177Z"
   },
   {
    "duration": 252,
    "start_time": "2024-05-27T23:38:27.530Z"
   },
   {
    "duration": 298,
    "start_time": "2024-05-27T23:39:41.138Z"
   },
   {
    "duration": 285,
    "start_time": "2024-05-27T23:39:55.365Z"
   },
   {
    "duration": 314,
    "start_time": "2024-05-27T23:40:03.911Z"
   },
   {
    "duration": 285,
    "start_time": "2024-05-27T23:40:54.875Z"
   },
   {
    "duration": 299,
    "start_time": "2024-05-27T23:41:01.021Z"
   },
   {
    "duration": 273,
    "start_time": "2024-05-27T23:43:01.422Z"
   },
   {
    "duration": 265,
    "start_time": "2024-05-27T23:43:17.334Z"
   },
   {
    "duration": 495,
    "start_time": "2024-05-27T23:43:46.011Z"
   },
   {
    "duration": 281,
    "start_time": "2024-05-27T23:44:17.462Z"
   },
   {
    "duration": 281,
    "start_time": "2024-05-27T23:44:36.560Z"
   },
   {
    "duration": 301,
    "start_time": "2024-05-27T23:45:24.135Z"
   },
   {
    "duration": 15,
    "start_time": "2024-05-27T23:50:31.392Z"
   },
   {
    "duration": 13,
    "start_time": "2024-05-27T23:50:52.685Z"
   },
   {
    "duration": 9,
    "start_time": "2024-05-27T23:52:00.780Z"
   },
   {
    "duration": 19,
    "start_time": "2024-05-27T23:52:08.248Z"
   },
   {
    "duration": 10,
    "start_time": "2024-05-27T23:53:37.125Z"
   },
   {
    "duration": 28,
    "start_time": "2024-05-27T23:53:41.496Z"
   },
   {
    "duration": 11,
    "start_time": "2024-05-27T23:54:05.273Z"
   },
   {
    "duration": 6,
    "start_time": "2024-05-27T23:56:06.661Z"
   },
   {
    "duration": 10,
    "start_time": "2024-05-27T23:56:13.574Z"
   },
   {
    "duration": 6,
    "start_time": "2024-05-27T23:57:13.763Z"
   },
   {
    "duration": 7,
    "start_time": "2024-05-27T23:57:19.921Z"
   },
   {
    "duration": 11,
    "start_time": "2024-05-27T23:57:43.420Z"
   },
   {
    "duration": 10,
    "start_time": "2024-05-27T23:57:57.800Z"
   },
   {
    "duration": 9,
    "start_time": "2024-05-27T23:57:58.074Z"
   },
   {
    "duration": 4,
    "start_time": "2024-05-27T23:57:58.699Z"
   },
   {
    "duration": 127,
    "start_time": "2024-05-27T23:58:57.808Z"
   },
   {
    "duration": 71,
    "start_time": "2024-05-28T00:00:11.863Z"
   },
   {
    "duration": 164,
    "start_time": "2024-05-28T00:00:28.866Z"
   },
   {
    "duration": 5198,
    "start_time": "2024-05-28T02:33:58.835Z"
   },
   {
    "duration": 160,
    "start_time": "2024-05-28T02:34:04.037Z"
   },
   {
    "duration": 143,
    "start_time": "2024-05-28T02:34:04.200Z"
   },
   {
    "duration": 74,
    "start_time": "2024-05-28T02:34:04.348Z"
   },
   {
    "duration": 9,
    "start_time": "2024-05-28T02:34:04.425Z"
   },
   {
    "duration": 11,
    "start_time": "2024-05-28T02:34:04.437Z"
   },
   {
    "duration": 16,
    "start_time": "2024-05-28T02:34:04.452Z"
   },
   {
    "duration": 49,
    "start_time": "2024-05-28T02:34:04.471Z"
   },
   {
    "duration": 18,
    "start_time": "2024-05-28T02:34:04.523Z"
   },
   {
    "duration": 16,
    "start_time": "2024-05-28T02:34:04.547Z"
   },
   {
    "duration": 50,
    "start_time": "2024-05-28T02:34:04.568Z"
   },
   {
    "duration": 10,
    "start_time": "2024-05-28T02:34:04.621Z"
   },
   {
    "duration": 17,
    "start_time": "2024-05-28T02:34:04.634Z"
   },
   {
    "duration": 5,
    "start_time": "2024-05-28T02:34:04.655Z"
   },
   {
    "duration": 48,
    "start_time": "2024-05-28T02:34:04.664Z"
   },
   {
    "duration": 9,
    "start_time": "2024-05-28T02:34:04.716Z"
   },
   {
    "duration": 4,
    "start_time": "2024-05-28T02:34:04.729Z"
   },
   {
    "duration": 6,
    "start_time": "2024-05-28T02:34:04.736Z"
   },
   {
    "duration": 61,
    "start_time": "2024-05-28T02:34:04.745Z"
   },
   {
    "duration": 25,
    "start_time": "2024-05-28T02:34:04.809Z"
   },
   {
    "duration": 21,
    "start_time": "2024-05-28T02:34:04.837Z"
   },
   {
    "duration": 73,
    "start_time": "2024-05-28T02:34:04.862Z"
   },
   {
    "duration": 95,
    "start_time": "2024-05-28T02:34:04.938Z"
   },
   {
    "duration": 13,
    "start_time": "2024-05-28T02:34:05.036Z"
   },
   {
    "duration": 30,
    "start_time": "2024-05-28T02:34:05.051Z"
   },
   {
    "duration": 23,
    "start_time": "2024-05-28T02:34:05.111Z"
   },
   {
    "duration": 16,
    "start_time": "2024-05-28T02:34:05.138Z"
   },
   {
    "duration": 65,
    "start_time": "2024-05-28T02:34:05.165Z"
   },
   {
    "duration": 18,
    "start_time": "2024-05-28T02:34:05.234Z"
   },
   {
    "duration": 24,
    "start_time": "2024-05-28T02:34:05.255Z"
   },
   {
    "duration": 49,
    "start_time": "2024-05-28T02:34:05.284Z"
   },
   {
    "duration": 17,
    "start_time": "2024-05-28T02:34:05.337Z"
   },
   {
    "duration": 61,
    "start_time": "2024-05-28T02:34:05.356Z"
   },
   {
    "duration": 44,
    "start_time": "2024-05-28T02:34:05.421Z"
   },
   {
    "duration": 12,
    "start_time": "2024-05-28T02:34:05.468Z"
   },
   {
    "duration": 28,
    "start_time": "2024-05-28T02:34:05.506Z"
   },
   {
    "duration": 14,
    "start_time": "2024-05-28T02:34:05.537Z"
   },
   {
    "duration": 66,
    "start_time": "2024-05-28T02:34:05.556Z"
   },
   {
    "duration": 22,
    "start_time": "2024-05-28T02:34:05.624Z"
   },
   {
    "duration": 30,
    "start_time": "2024-05-28T02:34:05.649Z"
   },
   {
    "duration": 19,
    "start_time": "2024-05-28T02:34:05.708Z"
   },
   {
    "duration": 9,
    "start_time": "2024-05-28T02:34:05.731Z"
   },
   {
    "duration": 11,
    "start_time": "2024-05-28T02:34:05.743Z"
   },
   {
    "duration": 54,
    "start_time": "2024-05-28T02:34:05.758Z"
   },
   {
    "duration": 5,
    "start_time": "2024-05-28T02:34:05.815Z"
   },
   {
    "duration": 10,
    "start_time": "2024-05-28T02:34:05.823Z"
   },
   {
    "duration": 12,
    "start_time": "2024-05-28T02:34:05.836Z"
   },
   {
    "duration": 16,
    "start_time": "2024-05-28T02:34:05.850Z"
   },
   {
    "duration": 9,
    "start_time": "2024-05-28T02:34:05.908Z"
   },
   {
    "duration": 8,
    "start_time": "2024-05-28T02:34:05.920Z"
   },
   {
    "duration": 11,
    "start_time": "2024-05-28T02:34:05.931Z"
   },
   {
    "duration": 6,
    "start_time": "2024-05-28T02:34:05.945Z"
   },
   {
    "duration": 6,
    "start_time": "2024-05-28T02:34:05.954Z"
   },
   {
    "duration": 49,
    "start_time": "2024-05-28T02:34:05.962Z"
   },
   {
    "duration": 7,
    "start_time": "2024-05-28T02:34:06.014Z"
   },
   {
    "duration": 33,
    "start_time": "2024-05-28T02:34:06.025Z"
   },
   {
    "duration": 51,
    "start_time": "2024-05-28T02:34:06.062Z"
   },
   {
    "duration": 12,
    "start_time": "2024-05-28T02:34:06.115Z"
   },
   {
    "duration": 6,
    "start_time": "2024-05-28T02:34:06.130Z"
   },
   {
    "duration": 406,
    "start_time": "2024-05-28T02:34:06.139Z"
   },
   {
    "duration": 13,
    "start_time": "2024-05-28T02:34:06.549Z"
   },
   {
    "duration": 16,
    "start_time": "2024-05-28T02:34:06.564Z"
   },
   {
    "duration": 5,
    "start_time": "2024-05-28T02:34:06.605Z"
   },
   {
    "duration": 310,
    "start_time": "2024-05-28T02:34:06.613Z"
   },
   {
    "duration": 18,
    "start_time": "2024-05-28T02:34:06.926Z"
   },
   {
    "duration": 12,
    "start_time": "2024-05-28T02:34:06.951Z"
   },
   {
    "duration": 186,
    "start_time": "2024-05-28T02:34:06.966Z"
   },
   {
    "duration": 6,
    "start_time": "2024-05-28T02:34:07.155Z"
   },
   {
    "duration": 6,
    "start_time": "2024-05-28T02:34:07.164Z"
   },
   {
    "duration": 4,
    "start_time": "2024-05-28T02:34:07.173Z"
   },
   {
    "duration": 28,
    "start_time": "2024-05-28T02:34:07.179Z"
   },
   {
    "duration": 20,
    "start_time": "2024-05-28T02:36:48.156Z"
   },
   {
    "duration": 11,
    "start_time": "2024-05-28T02:37:20.812Z"
   },
   {
    "duration": 10,
    "start_time": "2024-05-28T02:37:23.312Z"
   },
   {
    "duration": 763,
    "start_time": "2024-05-28T02:38:52.028Z"
   },
   {
    "duration": 9,
    "start_time": "2024-05-28T02:40:21.009Z"
   },
   {
    "duration": 27,
    "start_time": "2024-05-28T02:40:26.686Z"
   },
   {
    "duration": 20,
    "start_time": "2024-05-28T02:40:30.334Z"
   },
   {
    "duration": 18,
    "start_time": "2024-05-28T02:40:43.881Z"
   },
   {
    "duration": 307,
    "start_time": "2024-05-28T02:40:51.269Z"
   },
   {
    "duration": 411,
    "start_time": "2024-05-28T02:41:33.041Z"
   },
   {
    "duration": 52,
    "start_time": "2024-05-28T02:49:35.730Z"
   },
   {
    "duration": 9,
    "start_time": "2024-05-28T02:49:57.986Z"
   },
   {
    "duration": 296,
    "start_time": "2024-05-28T02:50:01.180Z"
   },
   {
    "duration": 286,
    "start_time": "2024-05-28T02:50:31.073Z"
   },
   {
    "duration": 48,
    "start_time": "2024-05-28T02:50:55.870Z"
   },
   {
    "duration": 453,
    "start_time": "2024-05-28T02:52:32.168Z"
   },
   {
    "duration": 438,
    "start_time": "2024-05-28T02:53:20.175Z"
   },
   {
    "duration": 48,
    "start_time": "2024-05-28T03:03:11.038Z"
   },
   {
    "duration": 531,
    "start_time": "2024-05-28T03:03:58.426Z"
   },
   {
    "duration": 441,
    "start_time": "2024-05-28T03:04:35.152Z"
   },
   {
    "duration": 9,
    "start_time": "2024-05-28T03:06:17.565Z"
   },
   {
    "duration": 468,
    "start_time": "2024-05-28T03:06:25.606Z"
   },
   {
    "duration": 362,
    "start_time": "2024-05-28T03:07:34.320Z"
   },
   {
    "duration": 537,
    "start_time": "2024-05-28T03:07:49.407Z"
   },
   {
    "duration": 494,
    "start_time": "2024-05-28T03:07:59.368Z"
   },
   {
    "duration": 48,
    "start_time": "2024-05-28T03:09:16.531Z"
   },
   {
    "duration": 912,
    "start_time": "2024-05-28T03:19:04.952Z"
   },
   {
    "duration": 289,
    "start_time": "2024-05-28T03:21:23.176Z"
   },
   {
    "duration": 317,
    "start_time": "2024-05-28T03:21:52.180Z"
   },
   {
    "duration": 288,
    "start_time": "2024-05-28T03:22:04.160Z"
   },
   {
    "duration": 300,
    "start_time": "2024-05-28T03:22:11.400Z"
   },
   {
    "duration": 8,
    "start_time": "2024-05-28T03:24:16.692Z"
   },
   {
    "duration": 1318,
    "start_time": "2024-05-28T03:24:30.146Z"
   },
   {
    "duration": 305,
    "start_time": "2024-05-28T03:24:47.706Z"
   },
   {
    "duration": 293,
    "start_time": "2024-05-28T03:25:16.415Z"
   },
   {
    "duration": 594,
    "start_time": "2024-05-28T03:58:07.575Z"
   },
   {
    "duration": 315,
    "start_time": "2024-05-28T04:14:37.068Z"
   },
   {
    "duration": 307,
    "start_time": "2024-05-28T04:15:11.699Z"
   },
   {
    "duration": 48,
    "start_time": "2024-05-28T04:23:58.892Z"
   },
   {
    "duration": 10,
    "start_time": "2024-05-28T04:24:20.529Z"
   },
   {
    "duration": 16,
    "start_time": "2024-05-28T04:24:27.958Z"
   },
   {
    "duration": 792,
    "start_time": "2024-05-28T04:28:02.377Z"
   },
   {
    "duration": 83,
    "start_time": "2024-05-28T04:28:43.583Z"
   },
   {
    "duration": 15,
    "start_time": "2024-05-28T04:28:49.842Z"
   },
   {
    "duration": 26,
    "start_time": "2024-05-28T04:32:43.776Z"
   },
   {
    "duration": 6,
    "start_time": "2024-05-28T04:32:50.085Z"
   },
   {
    "duration": 6,
    "start_time": "2024-05-28T04:33:04.278Z"
   },
   {
    "duration": 76,
    "start_time": "2024-05-28T04:34:56.591Z"
   },
   {
    "duration": 46,
    "start_time": "2024-05-28T04:35:22.701Z"
   },
   {
    "duration": 41,
    "start_time": "2024-05-28T04:35:54.830Z"
   },
   {
    "duration": 11,
    "start_time": "2024-05-28T04:36:08.471Z"
   },
   {
    "duration": 6,
    "start_time": "2024-05-28T04:36:47.919Z"
   },
   {
    "duration": 7,
    "start_time": "2024-05-28T04:36:50.604Z"
   },
   {
    "duration": 12,
    "start_time": "2024-05-28T04:36:50.976Z"
   },
   {
    "duration": 15,
    "start_time": "2024-05-28T04:36:52.125Z"
   },
   {
    "duration": 1277,
    "start_time": "2024-05-28T04:36:59.296Z"
   },
   {
    "duration": 117,
    "start_time": "2024-05-28T04:37:00.577Z"
   },
   {
    "duration": 91,
    "start_time": "2024-05-28T04:37:00.697Z"
   },
   {
    "duration": 61,
    "start_time": "2024-05-28T04:37:00.792Z"
   },
   {
    "duration": 9,
    "start_time": "2024-05-28T04:37:00.855Z"
   },
   {
    "duration": 9,
    "start_time": "2024-05-28T04:37:00.866Z"
   },
   {
    "duration": 38,
    "start_time": "2024-05-28T04:37:00.879Z"
   },
   {
    "duration": 16,
    "start_time": "2024-05-28T04:37:00.920Z"
   },
   {
    "duration": 16,
    "start_time": "2024-05-28T04:37:00.939Z"
   },
   {
    "duration": 53,
    "start_time": "2024-05-28T04:37:00.960Z"
   },
   {
    "duration": 17,
    "start_time": "2024-05-28T04:37:01.017Z"
   },
   {
    "duration": 6,
    "start_time": "2024-05-28T04:37:01.037Z"
   },
   {
    "duration": 17,
    "start_time": "2024-05-28T04:37:01.046Z"
   },
   {
    "duration": 42,
    "start_time": "2024-05-28T04:37:01.066Z"
   },
   {
    "duration": 9,
    "start_time": "2024-05-28T04:37:01.111Z"
   },
   {
    "duration": 6,
    "start_time": "2024-05-28T04:37:01.123Z"
   },
   {
    "duration": 6,
    "start_time": "2024-05-28T04:37:01.132Z"
   },
   {
    "duration": 5,
    "start_time": "2024-05-28T04:37:01.142Z"
   },
   {
    "duration": 77,
    "start_time": "2024-05-28T04:37:01.151Z"
   },
   {
    "duration": 26,
    "start_time": "2024-05-28T04:37:01.232Z"
   },
   {
    "duration": 55,
    "start_time": "2024-05-28T04:37:01.261Z"
   },
   {
    "duration": 58,
    "start_time": "2024-05-28T04:37:01.319Z"
   },
   {
    "duration": 103,
    "start_time": "2024-05-28T04:37:01.381Z"
   },
   {
    "duration": 24,
    "start_time": "2024-05-28T04:37:01.487Z"
   },
   {
    "duration": 31,
    "start_time": "2024-05-28T04:37:01.514Z"
   },
   {
    "duration": 21,
    "start_time": "2024-05-28T04:37:01.548Z"
   },
   {
    "duration": 15,
    "start_time": "2024-05-28T04:37:01.605Z"
   },
   {
    "duration": 31,
    "start_time": "2024-05-28T04:37:01.632Z"
   },
   {
    "duration": 40,
    "start_time": "2024-05-28T04:37:01.666Z"
   },
   {
    "duration": 22,
    "start_time": "2024-05-28T04:37:01.709Z"
   },
   {
    "duration": 24,
    "start_time": "2024-05-28T04:37:01.734Z"
   },
   {
    "duration": 55,
    "start_time": "2024-05-28T04:37:01.761Z"
   },
   {
    "duration": 38,
    "start_time": "2024-05-28T04:37:01.819Z"
   },
   {
    "duration": 71,
    "start_time": "2024-05-28T04:37:01.861Z"
   },
   {
    "duration": 12,
    "start_time": "2024-05-28T04:37:01.935Z"
   },
   {
    "duration": 29,
    "start_time": "2024-05-28T04:37:01.950Z"
   },
   {
    "duration": 33,
    "start_time": "2024-05-28T04:37:01.982Z"
   },
   {
    "duration": 33,
    "start_time": "2024-05-28T04:37:02.019Z"
   },
   {
    "duration": 56,
    "start_time": "2024-05-28T04:37:02.056Z"
   },
   {
    "duration": 27,
    "start_time": "2024-05-28T04:37:02.114Z"
   },
   {
    "duration": 20,
    "start_time": "2024-05-28T04:37:02.144Z"
   },
   {
    "duration": 46,
    "start_time": "2024-05-28T04:37:02.167Z"
   },
   {
    "duration": 11,
    "start_time": "2024-05-28T04:37:02.216Z"
   },
   {
    "duration": 12,
    "start_time": "2024-05-28T04:37:02.230Z"
   },
   {
    "duration": 5,
    "start_time": "2024-05-28T04:37:02.245Z"
   },
   {
    "duration": 52,
    "start_time": "2024-05-28T04:37:02.254Z"
   },
   {
    "duration": 14,
    "start_time": "2024-05-28T04:37:02.309Z"
   },
   {
    "duration": 17,
    "start_time": "2024-05-28T04:37:02.326Z"
   },
   {
    "duration": 8,
    "start_time": "2024-05-28T04:37:02.346Z"
   },
   {
    "duration": 53,
    "start_time": "2024-05-28T04:37:02.357Z"
   },
   {
    "duration": 12,
    "start_time": "2024-05-28T04:37:02.414Z"
   },
   {
    "duration": 7,
    "start_time": "2024-05-28T04:37:02.429Z"
   },
   {
    "duration": 6,
    "start_time": "2024-05-28T04:37:02.439Z"
   },
   {
    "duration": 9,
    "start_time": "2024-05-28T04:37:02.448Z"
   },
   {
    "duration": 48,
    "start_time": "2024-05-28T04:37:02.460Z"
   },
   {
    "duration": 36,
    "start_time": "2024-05-28T04:37:02.511Z"
   },
   {
    "duration": 13,
    "start_time": "2024-05-28T04:37:02.550Z"
   },
   {
    "duration": 49,
    "start_time": "2024-05-28T04:37:02.565Z"
   },
   {
    "duration": 5,
    "start_time": "2024-05-28T04:37:02.618Z"
   },
   {
    "duration": 343,
    "start_time": "2024-05-28T04:37:02.626Z"
   },
   {
    "duration": 11,
    "start_time": "2024-05-28T04:37:02.972Z"
   },
   {
    "duration": 25,
    "start_time": "2024-05-28T04:37:02.986Z"
   },
   {
    "duration": 16,
    "start_time": "2024-05-28T04:37:03.014Z"
   },
   {
    "duration": 358,
    "start_time": "2024-05-28T04:37:03.034Z"
   },
   {
    "duration": 424,
    "start_time": "2024-05-28T04:37:03.395Z"
   },
   {
    "duration": 684,
    "start_time": "2024-05-28T04:37:03.822Z"
   },
   {
    "duration": 332,
    "start_time": "2024-05-28T04:37:04.509Z"
   },
   {
    "duration": 444,
    "start_time": "2024-05-28T04:37:04.844Z"
   },
   {
    "duration": 438,
    "start_time": "2024-05-28T04:37:05.291Z"
   },
   {
    "duration": 393,
    "start_time": "2024-05-28T04:37:05.732Z"
   },
   {
    "duration": 309,
    "start_time": "2024-05-28T04:37:06.128Z"
   },
   {
    "duration": 320,
    "start_time": "2024-05-28T04:37:06.440Z"
   },
   {
    "duration": 17,
    "start_time": "2024-05-28T04:37:06.763Z"
   },
   {
    "duration": 29,
    "start_time": "2024-05-28T04:37:06.782Z"
   },
   {
    "duration": 435,
    "start_time": "2024-05-28T04:37:06.814Z"
   },
   {
    "duration": 0,
    "start_time": "2024-05-28T04:37:07.252Z"
   },
   {
    "duration": 38,
    "start_time": "2024-05-28T04:37:18.285Z"
   },
   {
    "duration": 6,
    "start_time": "2024-05-28T04:37:53.078Z"
   },
   {
    "duration": 16,
    "start_time": "2024-05-28T04:41:17.504Z"
   },
   {
    "duration": 46,
    "start_time": "2024-05-28T04:41:27.337Z"
   },
   {
    "duration": 14,
    "start_time": "2024-05-28T04:41:38.380Z"
   },
   {
    "duration": 6,
    "start_time": "2024-05-28T04:45:06.756Z"
   },
   {
    "duration": 4949,
    "start_time": "2024-05-28T22:35:53.606Z"
   },
   {
    "duration": 156,
    "start_time": "2024-05-28T22:35:58.559Z"
   },
   {
    "duration": 118,
    "start_time": "2024-05-28T22:35:58.718Z"
   },
   {
    "duration": 73,
    "start_time": "2024-05-28T22:35:58.840Z"
   },
   {
    "duration": 9,
    "start_time": "2024-05-28T22:35:58.918Z"
   },
   {
    "duration": 13,
    "start_time": "2024-05-28T22:35:58.930Z"
   },
   {
    "duration": 16,
    "start_time": "2024-05-28T22:35:58.946Z"
   },
   {
    "duration": 45,
    "start_time": "2024-05-28T22:35:58.966Z"
   },
   {
    "duration": 15,
    "start_time": "2024-05-28T22:35:59.014Z"
   },
   {
    "duration": 16,
    "start_time": "2024-05-28T22:35:59.033Z"
   },
   {
    "duration": 56,
    "start_time": "2024-05-28T22:35:59.052Z"
   },
   {
    "duration": 6,
    "start_time": "2024-05-28T22:35:59.111Z"
   },
   {
    "duration": 18,
    "start_time": "2024-05-28T22:35:59.120Z"
   },
   {
    "duration": 5,
    "start_time": "2024-05-28T22:35:59.144Z"
   },
   {
    "duration": 7,
    "start_time": "2024-05-28T22:35:59.152Z"
   },
   {
    "duration": 47,
    "start_time": "2024-05-28T22:35:59.162Z"
   },
   {
    "duration": 5,
    "start_time": "2024-05-28T22:35:59.212Z"
   },
   {
    "duration": 6,
    "start_time": "2024-05-28T22:35:59.221Z"
   },
   {
    "duration": 22,
    "start_time": "2024-05-28T22:35:59.232Z"
   },
   {
    "duration": 67,
    "start_time": "2024-05-28T22:35:59.258Z"
   },
   {
    "duration": 16,
    "start_time": "2024-05-28T22:35:59.328Z"
   },
   {
    "duration": 76,
    "start_time": "2024-05-28T22:35:59.347Z"
   },
   {
    "duration": 91,
    "start_time": "2024-05-28T22:35:59.426Z"
   },
   {
    "duration": 14,
    "start_time": "2024-05-28T22:35:59.521Z"
   },
   {
    "duration": 32,
    "start_time": "2024-05-28T22:35:59.538Z"
   },
   {
    "duration": 46,
    "start_time": "2024-05-28T22:35:59.574Z"
   },
   {
    "duration": 13,
    "start_time": "2024-05-28T22:35:59.623Z"
   },
   {
    "duration": 30,
    "start_time": "2024-05-28T22:35:59.638Z"
   },
   {
    "duration": 42,
    "start_time": "2024-05-28T22:35:59.670Z"
   },
   {
    "duration": 21,
    "start_time": "2024-05-28T22:35:59.715Z"
   },
   {
    "duration": 22,
    "start_time": "2024-05-28T22:35:59.739Z"
   },
   {
    "duration": 50,
    "start_time": "2024-05-28T22:35:59.767Z"
   },
   {
    "duration": 36,
    "start_time": "2024-05-28T22:35:59.821Z"
   },
   {
    "duration": 72,
    "start_time": "2024-05-28T22:35:59.860Z"
   },
   {
    "duration": 12,
    "start_time": "2024-05-28T22:35:59.934Z"
   },
   {
    "duration": 28,
    "start_time": "2024-05-28T22:35:59.948Z"
   },
   {
    "duration": 41,
    "start_time": "2024-05-28T22:35:59.979Z"
   },
   {
    "duration": 34,
    "start_time": "2024-05-28T22:36:00.023Z"
   },
   {
    "duration": 19,
    "start_time": "2024-05-28T22:36:00.060Z"
   },
   {
    "duration": 52,
    "start_time": "2024-05-28T22:36:00.081Z"
   },
   {
    "duration": 18,
    "start_time": "2024-05-28T22:36:00.141Z"
   },
   {
    "duration": 9,
    "start_time": "2024-05-28T22:36:00.162Z"
   },
   {
    "duration": 12,
    "start_time": "2024-05-28T22:36:00.209Z"
   },
   {
    "duration": 12,
    "start_time": "2024-05-28T22:36:00.224Z"
   },
   {
    "duration": 5,
    "start_time": "2024-05-28T22:36:00.239Z"
   },
   {
    "duration": 8,
    "start_time": "2024-05-28T22:36:00.248Z"
   },
   {
    "duration": 57,
    "start_time": "2024-05-28T22:36:00.260Z"
   },
   {
    "duration": 18,
    "start_time": "2024-05-28T22:36:00.320Z"
   },
   {
    "duration": 10,
    "start_time": "2024-05-28T22:36:00.340Z"
   },
   {
    "duration": 9,
    "start_time": "2024-05-28T22:36:00.354Z"
   },
   {
    "duration": 49,
    "start_time": "2024-05-28T22:36:00.366Z"
   },
   {
    "duration": 5,
    "start_time": "2024-05-28T22:36:00.421Z"
   },
   {
    "duration": 5,
    "start_time": "2024-05-28T22:36:00.430Z"
   },
   {
    "duration": 11,
    "start_time": "2024-05-28T22:36:00.438Z"
   },
   {
    "duration": 6,
    "start_time": "2024-05-28T22:36:00.452Z"
   },
   {
    "duration": 1297,
    "start_time": "2024-05-28T22:37:15.287Z"
   },
   {
    "duration": 130,
    "start_time": "2024-05-28T22:37:16.588Z"
   },
   {
    "duration": 100,
    "start_time": "2024-05-28T22:37:16.721Z"
   },
   {
    "duration": 54,
    "start_time": "2024-05-28T22:37:16.825Z"
   },
   {
    "duration": 7,
    "start_time": "2024-05-28T22:37:16.882Z"
   },
   {
    "duration": 9,
    "start_time": "2024-05-28T22:37:16.909Z"
   },
   {
    "duration": 17,
    "start_time": "2024-05-28T22:37:16.924Z"
   },
   {
    "duration": 19,
    "start_time": "2024-05-28T22:37:16.944Z"
   },
   {
    "duration": 47,
    "start_time": "2024-05-28T22:37:16.966Z"
   },
   {
    "duration": 14,
    "start_time": "2024-05-28T22:37:17.019Z"
   },
   {
    "duration": 15,
    "start_time": "2024-05-28T22:37:17.036Z"
   },
   {
    "duration": 6,
    "start_time": "2024-05-28T22:37:17.055Z"
   },
   {
    "duration": 18,
    "start_time": "2024-05-28T22:37:17.108Z"
   },
   {
    "duration": 5,
    "start_time": "2024-05-28T22:37:17.129Z"
   },
   {
    "duration": 7,
    "start_time": "2024-05-28T22:37:17.138Z"
   },
   {
    "duration": 6,
    "start_time": "2024-05-28T22:37:17.148Z"
   },
   {
    "duration": 9,
    "start_time": "2024-05-28T22:37:17.157Z"
   },
   {
    "duration": 5,
    "start_time": "2024-05-28T22:37:17.208Z"
   },
   {
    "duration": 23,
    "start_time": "2024-05-28T22:37:17.216Z"
   },
   {
    "duration": 26,
    "start_time": "2024-05-28T22:37:17.243Z"
   },
   {
    "duration": 22,
    "start_time": "2024-05-28T22:37:17.308Z"
   },
   {
    "duration": 77,
    "start_time": "2024-05-28T22:37:17.333Z"
   },
   {
    "duration": 81,
    "start_time": "2024-05-28T22:37:17.414Z"
   },
   {
    "duration": 14,
    "start_time": "2024-05-28T22:37:17.510Z"
   },
   {
    "duration": 29,
    "start_time": "2024-05-28T22:37:17.526Z"
   },
   {
    "duration": 53,
    "start_time": "2024-05-28T22:37:17.558Z"
   },
   {
    "duration": 14,
    "start_time": "2024-05-28T22:37:17.614Z"
   },
   {
    "duration": 29,
    "start_time": "2024-05-28T22:37:17.637Z"
   },
   {
    "duration": 40,
    "start_time": "2024-05-28T22:37:17.669Z"
   },
   {
    "duration": 21,
    "start_time": "2024-05-28T22:37:17.713Z"
   },
   {
    "duration": 23,
    "start_time": "2024-05-28T22:37:17.737Z"
   },
   {
    "duration": 54,
    "start_time": "2024-05-28T22:37:17.764Z"
   },
   {
    "duration": 38,
    "start_time": "2024-05-28T22:37:17.822Z"
   },
   {
    "duration": 68,
    "start_time": "2024-05-28T22:37:17.863Z"
   },
   {
    "duration": 12,
    "start_time": "2024-05-28T22:37:17.934Z"
   },
   {
    "duration": 28,
    "start_time": "2024-05-28T22:37:17.949Z"
   },
   {
    "duration": 37,
    "start_time": "2024-05-28T22:37:17.979Z"
   },
   {
    "duration": 31,
    "start_time": "2024-05-28T22:37:18.020Z"
   },
   {
    "duration": 19,
    "start_time": "2024-05-28T22:37:18.054Z"
   },
   {
    "duration": 24,
    "start_time": "2024-05-28T22:37:18.109Z"
   },
   {
    "duration": 20,
    "start_time": "2024-05-28T22:37:18.136Z"
   },
   {
    "duration": 11,
    "start_time": "2024-05-28T22:37:18.159Z"
   },
   {
    "duration": 43,
    "start_time": "2024-05-28T22:37:18.173Z"
   },
   {
    "duration": 12,
    "start_time": "2024-05-28T22:37:18.218Z"
   },
   {
    "duration": 5,
    "start_time": "2024-05-28T22:37:18.233Z"
   },
   {
    "duration": 9,
    "start_time": "2024-05-28T22:37:18.241Z"
   },
   {
    "duration": 58,
    "start_time": "2024-05-28T22:37:18.255Z"
   },
   {
    "duration": 17,
    "start_time": "2024-05-28T22:37:18.316Z"
   },
   {
    "duration": 4,
    "start_time": "2024-05-28T22:37:18.336Z"
   },
   {
    "duration": 4,
    "start_time": "2024-05-28T22:37:18.342Z"
   },
   {
    "duration": 3,
    "start_time": "2024-05-28T22:37:18.349Z"
   },
   {
    "duration": 4,
    "start_time": "2024-05-28T22:37:18.355Z"
   },
   {
    "duration": 48,
    "start_time": "2024-05-28T22:37:18.362Z"
   },
   {
    "duration": 3,
    "start_time": "2024-05-28T22:37:18.413Z"
   },
   {
    "duration": 3,
    "start_time": "2024-05-28T22:37:18.420Z"
   },
   {
    "duration": 23,
    "start_time": "2024-05-28T22:37:18.427Z"
   },
   {
    "duration": 56,
    "start_time": "2024-05-28T22:37:18.453Z"
   },
   {
    "duration": 11,
    "start_time": "2024-05-28T22:37:18.512Z"
   },
   {
    "duration": 7,
    "start_time": "2024-05-28T22:37:18.525Z"
   },
   {
    "duration": 374,
    "start_time": "2024-05-28T22:37:18.537Z"
   },
   {
    "duration": 10,
    "start_time": "2024-05-28T22:37:18.915Z"
   },
   {
    "duration": 11,
    "start_time": "2024-05-28T22:37:18.928Z"
   },
   {
    "duration": 7,
    "start_time": "2024-05-28T22:37:18.942Z"
   },
   {
    "duration": 376,
    "start_time": "2024-05-28T22:37:18.953Z"
   },
   {
    "duration": 442,
    "start_time": "2024-05-28T22:37:19.331Z"
   },
   {
    "duration": 681,
    "start_time": "2024-05-28T22:37:19.776Z"
   },
   {
    "duration": 321,
    "start_time": "2024-05-28T22:37:20.460Z"
   },
   {
    "duration": 467,
    "start_time": "2024-05-28T22:37:20.785Z"
   },
   {
    "duration": 944,
    "start_time": "2024-05-28T22:37:21.257Z"
   },
   {
    "duration": 0,
    "start_time": "2024-05-28T22:37:22.204Z"
   },
   {
    "duration": 0,
    "start_time": "2024-05-28T22:37:22.209Z"
   },
   {
    "duration": 0,
    "start_time": "2024-05-28T22:37:22.211Z"
   },
   {
    "duration": 0,
    "start_time": "2024-05-28T22:37:22.214Z"
   },
   {
    "duration": 0,
    "start_time": "2024-05-28T22:37:22.217Z"
   },
   {
    "duration": 0,
    "start_time": "2024-05-28T22:37:22.219Z"
   },
   {
    "duration": 0,
    "start_time": "2024-05-28T22:37:22.221Z"
   },
   {
    "duration": 0,
    "start_time": "2024-05-28T22:37:22.224Z"
   },
   {
    "duration": 7,
    "start_time": "2024-05-28T22:37:48.121Z"
   },
   {
    "duration": 194,
    "start_time": "2024-05-28T22:37:48.133Z"
   },
   {
    "duration": 127,
    "start_time": "2024-05-28T22:37:48.330Z"
   },
   {
    "duration": 66,
    "start_time": "2024-05-28T22:37:48.461Z"
   },
   {
    "duration": 8,
    "start_time": "2024-05-28T22:37:48.530Z"
   },
   {
    "duration": 12,
    "start_time": "2024-05-28T22:37:48.544Z"
   },
   {
    "duration": 15,
    "start_time": "2024-05-28T22:37:48.559Z"
   },
   {
    "duration": 37,
    "start_time": "2024-05-28T22:37:48.577Z"
   },
   {
    "duration": 15,
    "start_time": "2024-05-28T22:37:48.617Z"
   },
   {
    "duration": 15,
    "start_time": "2024-05-28T22:37:48.638Z"
   },
   {
    "duration": 56,
    "start_time": "2024-05-28T22:37:48.656Z"
   },
   {
    "duration": 7,
    "start_time": "2024-05-28T22:37:48.716Z"
   },
   {
    "duration": 21,
    "start_time": "2024-05-28T22:37:48.727Z"
   },
   {
    "duration": 6,
    "start_time": "2024-05-28T22:37:48.752Z"
   },
   {
    "duration": 49,
    "start_time": "2024-05-28T22:37:48.761Z"
   },
   {
    "duration": 5,
    "start_time": "2024-05-28T22:37:48.813Z"
   },
   {
    "duration": 7,
    "start_time": "2024-05-28T22:37:48.822Z"
   },
   {
    "duration": 5,
    "start_time": "2024-05-28T22:37:48.832Z"
   },
   {
    "duration": 68,
    "start_time": "2024-05-28T22:37:48.840Z"
   },
   {
    "duration": 30,
    "start_time": "2024-05-28T22:37:48.912Z"
   },
   {
    "duration": 18,
    "start_time": "2024-05-28T22:37:48.944Z"
   },
   {
    "duration": 80,
    "start_time": "2024-05-28T22:37:48.966Z"
   },
   {
    "duration": 85,
    "start_time": "2024-05-28T22:37:49.050Z"
   },
   {
    "duration": 14,
    "start_time": "2024-05-28T22:37:49.138Z"
   },
   {
    "duration": 58,
    "start_time": "2024-05-28T22:37:49.157Z"
   },
   {
    "duration": 24,
    "start_time": "2024-05-28T22:37:49.219Z"
   },
   {
    "duration": 18,
    "start_time": "2024-05-28T22:37:49.246Z"
   },
   {
    "duration": 59,
    "start_time": "2024-05-28T22:37:49.275Z"
   },
   {
    "duration": 11,
    "start_time": "2024-05-28T22:37:49.338Z"
   },
   {
    "duration": 56,
    "start_time": "2024-05-28T22:37:49.353Z"
   },
   {
    "duration": 26,
    "start_time": "2024-05-28T22:37:49.412Z"
   },
   {
    "duration": 21,
    "start_time": "2024-05-28T22:37:49.441Z"
   },
   {
    "duration": 71,
    "start_time": "2024-05-28T22:37:49.465Z"
   },
   {
    "duration": 76,
    "start_time": "2024-05-28T22:37:49.539Z"
   },
   {
    "duration": 13,
    "start_time": "2024-05-28T22:37:49.618Z"
   },
   {
    "duration": 34,
    "start_time": "2024-05-28T22:37:49.636Z"
   },
   {
    "duration": 35,
    "start_time": "2024-05-28T22:37:49.676Z"
   },
   {
    "duration": 34,
    "start_time": "2024-05-28T22:37:49.714Z"
   },
   {
    "duration": 23,
    "start_time": "2024-05-28T22:37:49.750Z"
   },
   {
    "duration": 56,
    "start_time": "2024-05-28T22:37:49.776Z"
   },
   {
    "duration": 22,
    "start_time": "2024-05-28T22:37:49.836Z"
   },
   {
    "duration": 9,
    "start_time": "2024-05-28T22:37:49.862Z"
   },
   {
    "duration": 44,
    "start_time": "2024-05-28T22:37:49.874Z"
   },
   {
    "duration": 14,
    "start_time": "2024-05-28T22:37:49.921Z"
   },
   {
    "duration": 6,
    "start_time": "2024-05-28T22:37:49.939Z"
   },
   {
    "duration": 10,
    "start_time": "2024-05-28T22:37:49.948Z"
   },
   {
    "duration": 56,
    "start_time": "2024-05-28T22:37:49.962Z"
   },
   {
    "duration": 18,
    "start_time": "2024-05-28T22:37:55.634Z"
   },
   {
    "duration": 8,
    "start_time": "2024-05-28T22:40:50.333Z"
   },
   {
    "duration": 5,
    "start_time": "2024-05-28T22:47:23.250Z"
   },
   {
    "duration": 130,
    "start_time": "2024-05-28T22:47:23.259Z"
   },
   {
    "duration": 87,
    "start_time": "2024-05-28T22:47:23.408Z"
   },
   {
    "duration": 64,
    "start_time": "2024-05-28T22:47:23.497Z"
   },
   {
    "duration": 7,
    "start_time": "2024-05-28T22:47:23.565Z"
   },
   {
    "duration": 34,
    "start_time": "2024-05-28T22:47:23.575Z"
   },
   {
    "duration": 15,
    "start_time": "2024-05-28T22:47:23.612Z"
   },
   {
    "duration": 12,
    "start_time": "2024-05-28T22:47:23.629Z"
   },
   {
    "duration": 14,
    "start_time": "2024-05-28T22:47:23.645Z"
   },
   {
    "duration": 55,
    "start_time": "2024-05-28T22:47:23.663Z"
   },
   {
    "duration": 13,
    "start_time": "2024-05-28T22:47:23.724Z"
   },
   {
    "duration": 6,
    "start_time": "2024-05-28T22:47:23.740Z"
   },
   {
    "duration": 19,
    "start_time": "2024-05-28T22:47:23.749Z"
   },
   {
    "duration": 5,
    "start_time": "2024-05-28T22:47:23.810Z"
   },
   {
    "duration": 8,
    "start_time": "2024-05-28T22:47:23.818Z"
   },
   {
    "duration": 5,
    "start_time": "2024-05-28T22:47:23.829Z"
   },
   {
    "duration": 5,
    "start_time": "2024-05-28T22:47:23.838Z"
   },
   {
    "duration": 7,
    "start_time": "2024-05-28T22:47:23.846Z"
   },
   {
    "duration": 66,
    "start_time": "2024-05-28T22:47:23.855Z"
   },
   {
    "duration": 25,
    "start_time": "2024-05-28T22:47:23.925Z"
   },
   {
    "duration": 17,
    "start_time": "2024-05-28T22:47:23.954Z"
   },
   {
    "duration": 79,
    "start_time": "2024-05-28T22:47:23.974Z"
   },
   {
    "duration": 92,
    "start_time": "2024-05-28T22:47:24.056Z"
   },
   {
    "duration": 15,
    "start_time": "2024-05-28T22:47:24.150Z"
   },
   {
    "duration": 47,
    "start_time": "2024-05-28T22:47:24.168Z"
   },
   {
    "duration": 21,
    "start_time": "2024-05-28T22:47:24.217Z"
   },
   {
    "duration": 14,
    "start_time": "2024-05-28T22:47:24.241Z"
   },
   {
    "duration": 71,
    "start_time": "2024-05-28T22:47:24.257Z"
   },
   {
    "duration": 11,
    "start_time": "2024-05-28T22:47:24.339Z"
   },
   {
    "duration": 25,
    "start_time": "2024-05-28T22:47:24.353Z"
   },
   {
    "duration": 51,
    "start_time": "2024-05-28T22:47:24.382Z"
   },
   {
    "duration": 16,
    "start_time": "2024-05-28T22:47:24.436Z"
   },
   {
    "duration": 71,
    "start_time": "2024-05-28T22:47:24.455Z"
   },
   {
    "duration": 42,
    "start_time": "2024-05-28T22:47:24.529Z"
   },
   {
    "duration": 35,
    "start_time": "2024-05-28T22:47:24.574Z"
   },
   {
    "duration": 32,
    "start_time": "2024-05-28T22:47:24.613Z"
   },
   {
    "duration": 13,
    "start_time": "2024-05-28T22:47:24.648Z"
   },
   {
    "duration": 66,
    "start_time": "2024-05-28T22:47:24.664Z"
   },
   {
    "duration": 20,
    "start_time": "2024-05-28T22:47:24.733Z"
   },
   {
    "duration": 53,
    "start_time": "2024-05-28T22:47:24.755Z"
   },
   {
    "duration": 25,
    "start_time": "2024-05-28T22:47:24.812Z"
   },
   {
    "duration": 9,
    "start_time": "2024-05-28T22:47:24.840Z"
   },
   {
    "duration": 11,
    "start_time": "2024-05-28T22:47:24.851Z"
   },
   {
    "duration": 42,
    "start_time": "2024-05-28T22:47:24.867Z"
   },
   {
    "duration": 5,
    "start_time": "2024-05-28T22:47:24.912Z"
   },
   {
    "duration": 11,
    "start_time": "2024-05-28T22:47:24.921Z"
   },
   {
    "duration": 12,
    "start_time": "2024-05-28T22:47:24.938Z"
   },
   {
    "duration": 17,
    "start_time": "2024-05-28T22:47:24.953Z"
   },
   {
    "duration": 38,
    "start_time": "2024-05-28T22:47:24.973Z"
   },
   {
    "duration": 5,
    "start_time": "2024-05-28T22:47:25.013Z"
   },
   {
    "duration": 5,
    "start_time": "2024-05-28T22:47:25.021Z"
   },
   {
    "duration": 4,
    "start_time": "2024-05-28T22:47:25.029Z"
   },
   {
    "duration": 4,
    "start_time": "2024-05-28T22:47:25.036Z"
   },
   {
    "duration": 4,
    "start_time": "2024-05-28T22:47:25.043Z"
   },
   {
    "duration": 64,
    "start_time": "2024-05-28T22:47:25.050Z"
   },
   {
    "duration": 6,
    "start_time": "2024-05-28T22:47:25.117Z"
   },
   {
    "duration": 1256,
    "start_time": "2024-05-28T22:47:39.352Z"
   },
   {
    "duration": 119,
    "start_time": "2024-05-28T22:47:40.612Z"
   },
   {
    "duration": 96,
    "start_time": "2024-05-28T22:47:40.734Z"
   },
   {
    "duration": 59,
    "start_time": "2024-05-28T22:47:40.835Z"
   },
   {
    "duration": 17,
    "start_time": "2024-05-28T22:47:40.897Z"
   },
   {
    "duration": 10,
    "start_time": "2024-05-28T22:47:40.917Z"
   },
   {
    "duration": 16,
    "start_time": "2024-05-28T22:47:40.932Z"
   },
   {
    "duration": 17,
    "start_time": "2024-05-28T22:47:40.951Z"
   },
   {
    "duration": 18,
    "start_time": "2024-05-28T22:47:41.010Z"
   },
   {
    "duration": 14,
    "start_time": "2024-05-28T22:47:41.035Z"
   },
   {
    "duration": 19,
    "start_time": "2024-05-28T22:47:41.052Z"
   },
   {
    "duration": 7,
    "start_time": "2024-05-28T22:47:41.109Z"
   },
   {
    "duration": 17,
    "start_time": "2024-05-28T22:47:41.120Z"
   },
   {
    "duration": 4,
    "start_time": "2024-05-28T22:47:41.141Z"
   },
   {
    "duration": 7,
    "start_time": "2024-05-28T22:47:41.151Z"
   },
   {
    "duration": 47,
    "start_time": "2024-05-28T22:47:41.161Z"
   },
   {
    "duration": 6,
    "start_time": "2024-05-28T22:47:41.212Z"
   },
   {
    "duration": 5,
    "start_time": "2024-05-28T22:47:41.221Z"
   },
   {
    "duration": 23,
    "start_time": "2024-05-28T22:47:41.229Z"
   },
   {
    "duration": 62,
    "start_time": "2024-05-28T22:47:41.255Z"
   },
   {
    "duration": 17,
    "start_time": "2024-05-28T22:47:41.319Z"
   },
   {
    "duration": 74,
    "start_time": "2024-05-28T22:47:41.338Z"
   },
   {
    "duration": 93,
    "start_time": "2024-05-28T22:47:41.415Z"
   },
   {
    "duration": 13,
    "start_time": "2024-05-28T22:47:41.511Z"
   },
   {
    "duration": 28,
    "start_time": "2024-05-28T22:47:41.527Z"
   },
   {
    "duration": 51,
    "start_time": "2024-05-28T22:47:41.558Z"
   },
   {
    "duration": 14,
    "start_time": "2024-05-28T22:47:41.612Z"
   },
   {
    "duration": 29,
    "start_time": "2024-05-28T22:47:41.633Z"
   },
   {
    "duration": 42,
    "start_time": "2024-05-28T22:47:41.666Z"
   },
   {
    "duration": 21,
    "start_time": "2024-05-28T22:47:41.711Z"
   },
   {
    "duration": 22,
    "start_time": "2024-05-28T22:47:41.735Z"
   },
   {
    "duration": 48,
    "start_time": "2024-05-28T22:47:41.760Z"
   },
   {
    "duration": 36,
    "start_time": "2024-05-28T22:47:41.812Z"
   },
   {
    "duration": 63,
    "start_time": "2024-05-28T22:47:41.852Z"
   },
   {
    "duration": 12,
    "start_time": "2024-05-28T22:47:41.917Z"
   },
   {
    "duration": 29,
    "start_time": "2024-05-28T22:47:41.932Z"
   },
   {
    "duration": 45,
    "start_time": "2024-05-28T22:47:41.964Z"
   },
   {
    "duration": 33,
    "start_time": "2024-05-28T22:47:42.013Z"
   },
   {
    "duration": 19,
    "start_time": "2024-05-28T22:47:42.049Z"
   },
   {
    "duration": 58,
    "start_time": "2024-05-28T22:47:42.071Z"
   },
   {
    "duration": 19,
    "start_time": "2024-05-28T22:47:42.131Z"
   },
   {
    "duration": 10,
    "start_time": "2024-05-28T22:47:42.152Z"
   },
   {
    "duration": 41,
    "start_time": "2024-05-28T22:47:42.168Z"
   },
   {
    "duration": 12,
    "start_time": "2024-05-28T22:47:42.212Z"
   },
   {
    "duration": 5,
    "start_time": "2024-05-28T22:47:42.226Z"
   },
   {
    "duration": 8,
    "start_time": "2024-05-28T22:47:42.234Z"
   },
   {
    "duration": 12,
    "start_time": "2024-05-28T22:47:42.245Z"
   },
   {
    "duration": 61,
    "start_time": "2024-05-28T22:47:42.260Z"
   },
   {
    "duration": 4,
    "start_time": "2024-05-28T22:47:42.324Z"
   },
   {
    "duration": 4,
    "start_time": "2024-05-28T22:47:42.331Z"
   },
   {
    "duration": 4,
    "start_time": "2024-05-28T22:47:42.338Z"
   },
   {
    "duration": 4,
    "start_time": "2024-05-28T22:47:42.344Z"
   },
   {
    "duration": 3,
    "start_time": "2024-05-28T22:47:42.352Z"
   },
   {
    "duration": 53,
    "start_time": "2024-05-28T22:47:42.358Z"
   },
   {
    "duration": 5,
    "start_time": "2024-05-28T22:47:42.413Z"
   },
   {
    "duration": 7,
    "start_time": "2024-05-28T22:47:42.420Z"
   },
   {
    "duration": 970,
    "start_time": "2024-05-28T22:49:41.562Z"
   },
   {
    "duration": 5,
    "start_time": "2024-05-28T22:50:35.098Z"
   },
   {
    "duration": 150,
    "start_time": "2024-05-28T22:50:36.408Z"
   },
   {
    "duration": 134,
    "start_time": "2024-05-28T22:50:44.355Z"
   },
   {
    "duration": 22,
    "start_time": "2024-05-28T22:50:46.549Z"
   },
   {
    "duration": 5,
    "start_time": "2024-05-28T22:51:39.880Z"
   },
   {
    "duration": 152,
    "start_time": "2024-05-28T22:51:39.890Z"
   },
   {
    "duration": 115,
    "start_time": "2024-05-28T22:51:40.045Z"
   },
   {
    "duration": 71,
    "start_time": "2024-05-28T22:51:40.164Z"
   },
   {
    "duration": 9,
    "start_time": "2024-05-28T22:51:40.238Z"
   },
   {
    "duration": 18,
    "start_time": "2024-05-28T22:51:40.250Z"
   },
   {
    "duration": 14,
    "start_time": "2024-05-28T22:51:40.272Z"
   },
   {
    "duration": 49,
    "start_time": "2024-05-28T22:51:40.288Z"
   },
   {
    "duration": 16,
    "start_time": "2024-05-28T22:51:40.340Z"
   },
   {
    "duration": 47,
    "start_time": "2024-05-28T22:51:40.362Z"
   },
   {
    "duration": 15,
    "start_time": "2024-05-28T22:51:40.412Z"
   },
   {
    "duration": 5,
    "start_time": "2024-05-28T22:51:40.431Z"
   },
   {
    "duration": 22,
    "start_time": "2024-05-28T22:51:40.440Z"
   },
   {
    "duration": 46,
    "start_time": "2024-05-28T22:51:40.465Z"
   },
   {
    "duration": 9,
    "start_time": "2024-05-28T22:51:40.516Z"
   },
   {
    "duration": 7,
    "start_time": "2024-05-28T22:51:40.528Z"
   },
   {
    "duration": 6,
    "start_time": "2024-05-28T22:51:40.538Z"
   },
   {
    "duration": 6,
    "start_time": "2024-05-28T22:51:40.547Z"
   },
   {
    "duration": 69,
    "start_time": "2024-05-28T22:51:40.556Z"
   },
   {
    "duration": 27,
    "start_time": "2024-05-28T22:51:40.629Z"
   },
   {
    "duration": 51,
    "start_time": "2024-05-28T22:51:40.660Z"
   },
   {
    "duration": 52,
    "start_time": "2024-05-28T22:51:40.715Z"
   },
   {
    "duration": 114,
    "start_time": "2024-05-28T22:51:40.770Z"
   },
   {
    "duration": 24,
    "start_time": "2024-05-28T22:51:40.889Z"
   },
   {
    "duration": 35,
    "start_time": "2024-05-28T22:51:40.924Z"
   },
   {
    "duration": 26,
    "start_time": "2024-05-28T22:51:40.963Z"
   },
   {
    "duration": 16,
    "start_time": "2024-05-28T22:51:41.010Z"
   },
   {
    "duration": 40,
    "start_time": "2024-05-28T22:51:41.038Z"
   },
   {
    "duration": 35,
    "start_time": "2024-05-28T22:51:41.081Z"
   },
   {
    "duration": 27,
    "start_time": "2024-05-28T22:51:41.119Z"
   },
   {
    "duration": 29,
    "start_time": "2024-05-28T22:51:41.149Z"
   },
   {
    "duration": 18,
    "start_time": "2024-05-28T22:51:41.208Z"
   },
   {
    "duration": 38,
    "start_time": "2024-05-28T22:51:41.229Z"
   },
   {
    "duration": 71,
    "start_time": "2024-05-28T22:51:41.270Z"
   },
   {
    "duration": 12,
    "start_time": "2024-05-28T22:51:41.344Z"
   },
   {
    "duration": 57,
    "start_time": "2024-05-28T22:51:41.359Z"
   },
   {
    "duration": 15,
    "start_time": "2024-05-28T22:51:41.419Z"
   },
   {
    "duration": 29,
    "start_time": "2024-05-28T22:51:41.440Z"
   },
   {
    "duration": 46,
    "start_time": "2024-05-28T22:51:41.472Z"
   },
   {
    "duration": 28,
    "start_time": "2024-05-28T22:51:41.521Z"
   },
   {
    "duration": 21,
    "start_time": "2024-05-28T22:51:41.552Z"
   },
   {
    "duration": 10,
    "start_time": "2024-05-28T22:51:41.608Z"
   },
   {
    "duration": 14,
    "start_time": "2024-05-28T22:51:41.622Z"
   },
   {
    "duration": 16,
    "start_time": "2024-05-28T22:51:41.640Z"
   },
   {
    "duration": 7,
    "start_time": "2024-05-28T22:51:41.661Z"
   },
   {
    "duration": 9,
    "start_time": "2024-05-28T22:51:41.711Z"
   },
   {
    "duration": 14,
    "start_time": "2024-05-28T22:51:41.724Z"
   },
   {
    "duration": 19,
    "start_time": "2024-05-28T22:51:41.742Z"
   },
   {
    "duration": 44,
    "start_time": "2024-05-28T22:51:41.766Z"
   },
   {
    "duration": 5,
    "start_time": "2024-05-28T22:51:41.814Z"
   },
   {
    "duration": 5,
    "start_time": "2024-05-28T22:51:41.822Z"
   },
   {
    "duration": 7,
    "start_time": "2024-05-28T22:51:41.830Z"
   },
   {
    "duration": 3,
    "start_time": "2024-05-28T22:51:41.840Z"
   },
   {
    "duration": 4,
    "start_time": "2024-05-28T22:51:41.847Z"
   },
   {
    "duration": 4,
    "start_time": "2024-05-28T22:51:41.854Z"
   },
   {
    "duration": 6,
    "start_time": "2024-05-28T22:51:41.909Z"
   },
   {
    "duration": 163,
    "start_time": "2024-05-28T22:51:41.918Z"
   },
   {
    "duration": 26,
    "start_time": "2024-05-28T22:51:42.084Z"
   },
   {
    "duration": 12,
    "start_time": "2024-05-28T22:51:42.113Z"
   },
   {
    "duration": 11,
    "start_time": "2024-05-28T22:51:42.127Z"
   },
   {
    "duration": 6,
    "start_time": "2024-05-28T22:51:42.141Z"
   },
   {
    "duration": 379,
    "start_time": "2024-05-28T22:51:42.150Z"
   },
   {
    "duration": 11,
    "start_time": "2024-05-28T22:51:42.532Z"
   },
   {
    "duration": 10,
    "start_time": "2024-05-28T22:51:42.546Z"
   },
   {
    "duration": 5,
    "start_time": "2024-05-28T22:51:42.558Z"
   },
   {
    "duration": 361,
    "start_time": "2024-05-28T22:51:42.566Z"
   },
   {
    "duration": 517,
    "start_time": "2024-05-28T22:51:42.931Z"
   },
   {
    "duration": 714,
    "start_time": "2024-05-28T22:51:43.451Z"
   },
   {
    "duration": 319,
    "start_time": "2024-05-28T22:51:44.168Z"
   },
   {
    "duration": 466,
    "start_time": "2024-05-28T22:51:44.490Z"
   },
   {
    "duration": 570,
    "start_time": "2024-05-28T22:51:44.959Z"
   },
   {
    "duration": 0,
    "start_time": "2024-05-28T22:51:45.533Z"
   },
   {
    "duration": 0,
    "start_time": "2024-05-28T22:51:45.536Z"
   },
   {
    "duration": 0,
    "start_time": "2024-05-28T22:51:45.539Z"
   },
   {
    "duration": 0,
    "start_time": "2024-05-28T22:51:45.541Z"
   },
   {
    "duration": 0,
    "start_time": "2024-05-28T22:51:45.542Z"
   },
   {
    "duration": 0,
    "start_time": "2024-05-28T22:51:45.545Z"
   },
   {
    "duration": 0,
    "start_time": "2024-05-28T22:51:45.547Z"
   },
   {
    "duration": 0,
    "start_time": "2024-05-28T22:51:45.549Z"
   },
   {
    "duration": 429,
    "start_time": "2024-05-28T22:54:02.250Z"
   },
   {
    "duration": 312,
    "start_time": "2024-05-28T22:54:27.730Z"
   },
   {
    "duration": 5,
    "start_time": "2024-05-28T22:58:03.165Z"
   },
   {
    "duration": 4,
    "start_time": "2024-05-28T22:58:03.529Z"
   },
   {
    "duration": 4,
    "start_time": "2024-05-28T22:58:04.643Z"
   },
   {
    "duration": 1379,
    "start_time": "2024-05-28T23:00:54.993Z"
   },
   {
    "duration": 125,
    "start_time": "2024-05-28T23:00:56.375Z"
   },
   {
    "duration": 96,
    "start_time": "2024-05-28T23:00:56.502Z"
   },
   {
    "duration": 56,
    "start_time": "2024-05-28T23:00:56.608Z"
   },
   {
    "duration": 8,
    "start_time": "2024-05-28T23:00:56.667Z"
   },
   {
    "duration": 31,
    "start_time": "2024-05-28T23:00:56.678Z"
   },
   {
    "duration": 17,
    "start_time": "2024-05-28T23:00:56.712Z"
   },
   {
    "duration": 17,
    "start_time": "2024-05-28T23:00:56.732Z"
   },
   {
    "duration": 17,
    "start_time": "2024-05-28T23:00:56.752Z"
   },
   {
    "duration": 14,
    "start_time": "2024-05-28T23:00:56.811Z"
   },
   {
    "duration": 15,
    "start_time": "2024-05-28T23:00:56.828Z"
   },
   {
    "duration": 7,
    "start_time": "2024-05-28T23:00:56.846Z"
   },
   {
    "duration": 59,
    "start_time": "2024-05-28T23:00:56.856Z"
   },
   {
    "duration": 5,
    "start_time": "2024-05-28T23:00:56.918Z"
   },
   {
    "duration": 9,
    "start_time": "2024-05-28T23:00:56.927Z"
   },
   {
    "duration": 5,
    "start_time": "2024-05-28T23:00:56.939Z"
   },
   {
    "duration": 6,
    "start_time": "2024-05-28T23:00:56.947Z"
   },
   {
    "duration": 6,
    "start_time": "2024-05-28T23:00:56.956Z"
   },
   {
    "duration": 22,
    "start_time": "2024-05-28T23:00:57.010Z"
   },
   {
    "duration": 24,
    "start_time": "2024-05-28T23:00:57.036Z"
   },
   {
    "duration": 48,
    "start_time": "2024-05-28T23:00:57.063Z"
   },
   {
    "duration": 45,
    "start_time": "2024-05-28T23:00:57.114Z"
   },
   {
    "duration": 109,
    "start_time": "2024-05-28T23:00:57.163Z"
   },
   {
    "duration": 13,
    "start_time": "2024-05-28T23:00:57.275Z"
   },
   {
    "duration": 49,
    "start_time": "2024-05-28T23:00:57.291Z"
   },
   {
    "duration": 29,
    "start_time": "2024-05-28T23:00:57.344Z"
   },
   {
    "duration": 41,
    "start_time": "2024-05-28T23:00:57.378Z"
   },
   {
    "duration": 36,
    "start_time": "2024-05-28T23:00:57.432Z"
   },
   {
    "duration": 37,
    "start_time": "2024-05-28T23:00:57.472Z"
   },
   {
    "duration": 22,
    "start_time": "2024-05-28T23:00:57.511Z"
   },
   {
    "duration": 22,
    "start_time": "2024-05-28T23:00:57.536Z"
   },
   {
    "duration": 48,
    "start_time": "2024-05-28T23:00:57.562Z"
   },
   {
    "duration": 36,
    "start_time": "2024-05-28T23:00:57.613Z"
   },
   {
    "duration": 70,
    "start_time": "2024-05-28T23:00:57.651Z"
   },
   {
    "duration": 11,
    "start_time": "2024-05-28T23:00:57.724Z"
   },
   {
    "duration": 29,
    "start_time": "2024-05-28T23:00:57.738Z"
   },
   {
    "duration": 38,
    "start_time": "2024-05-28T23:00:57.770Z"
   },
   {
    "duration": 32,
    "start_time": "2024-05-28T23:00:57.811Z"
   },
   {
    "duration": 19,
    "start_time": "2024-05-28T23:00:57.846Z"
   },
   {
    "duration": 56,
    "start_time": "2024-05-28T23:00:57.868Z"
   },
   {
    "duration": 18,
    "start_time": "2024-05-28T23:00:57.927Z"
   },
   {
    "duration": 9,
    "start_time": "2024-05-28T23:00:57.949Z"
   },
   {
    "duration": 10,
    "start_time": "2024-05-28T23:00:57.964Z"
   },
   {
    "duration": 12,
    "start_time": "2024-05-28T23:00:58.009Z"
   },
   {
    "duration": 5,
    "start_time": "2024-05-28T23:00:58.024Z"
   },
   {
    "duration": 9,
    "start_time": "2024-05-28T23:00:58.032Z"
   },
   {
    "duration": 13,
    "start_time": "2024-05-28T23:00:58.043Z"
   },
   {
    "duration": 61,
    "start_time": "2024-05-28T23:00:58.059Z"
   },
   {
    "duration": 4,
    "start_time": "2024-05-28T23:00:58.123Z"
   },
   {
    "duration": 4,
    "start_time": "2024-05-28T23:00:58.130Z"
   },
   {
    "duration": 3,
    "start_time": "2024-05-28T23:00:58.138Z"
   },
   {
    "duration": 5,
    "start_time": "2024-05-28T23:00:58.144Z"
   },
   {
    "duration": 4,
    "start_time": "2024-05-28T23:00:58.153Z"
   },
   {
    "duration": 3,
    "start_time": "2024-05-28T23:00:58.210Z"
   },
   {
    "duration": 3,
    "start_time": "2024-05-28T23:00:58.217Z"
   },
   {
    "duration": 6,
    "start_time": "2024-05-28T23:00:58.224Z"
   },
   {
    "duration": 165,
    "start_time": "2024-05-28T23:00:58.233Z"
   },
   {
    "duration": 26,
    "start_time": "2024-05-28T23:00:58.401Z"
   },
   {
    "duration": 11,
    "start_time": "2024-05-28T23:00:58.430Z"
   },
   {
    "duration": 11,
    "start_time": "2024-05-28T23:00:58.444Z"
   },
   {
    "duration": 5,
    "start_time": "2024-05-28T23:00:58.457Z"
   },
   {
    "duration": 390,
    "start_time": "2024-05-28T23:00:58.466Z"
   },
   {
    "duration": 11,
    "start_time": "2024-05-28T23:00:58.859Z"
   },
   {
    "duration": 11,
    "start_time": "2024-05-28T23:00:58.873Z"
   },
   {
    "duration": 5,
    "start_time": "2024-05-28T23:00:58.909Z"
   },
   {
    "duration": 363,
    "start_time": "2024-05-28T23:00:58.918Z"
   },
   {
    "duration": 427,
    "start_time": "2024-05-28T23:00:59.284Z"
   },
   {
    "duration": 938,
    "start_time": "2024-05-28T23:00:59.713Z"
   },
   {
    "duration": 345,
    "start_time": "2024-05-28T23:01:00.654Z"
   },
   {
    "duration": 443,
    "start_time": "2024-05-28T23:01:01.009Z"
   },
   {
    "duration": 433,
    "start_time": "2024-05-28T23:01:01.455Z"
   },
   {
    "duration": 403,
    "start_time": "2024-05-28T23:01:01.892Z"
   },
   {
    "duration": 65,
    "start_time": "2024-05-28T23:01:02.299Z"
   },
   {
    "duration": 70,
    "start_time": "2024-05-28T23:01:02.367Z"
   },
   {
    "duration": 72,
    "start_time": "2024-05-28T23:01:02.440Z"
   },
   {
    "duration": 315,
    "start_time": "2024-05-28T23:01:02.515Z"
   },
   {
    "duration": 335,
    "start_time": "2024-05-28T23:01:02.833Z"
   },
   {
    "duration": 640,
    "start_time": "2024-05-28T23:01:03.171Z"
   },
   {
    "duration": 0,
    "start_time": "2024-05-28T23:01:03.814Z"
   },
   {
    "duration": 0,
    "start_time": "2024-05-28T23:01:03.816Z"
   },
   {
    "duration": 0,
    "start_time": "2024-05-28T23:01:03.818Z"
   },
   {
    "duration": 0,
    "start_time": "2024-05-28T23:01:03.820Z"
   },
   {
    "duration": 16,
    "start_time": "2024-05-28T23:04:26.112Z"
   },
   {
    "duration": 5,
    "start_time": "2024-05-28T23:04:31.878Z"
   },
   {
    "duration": 7,
    "start_time": "2024-05-28T23:10:09.686Z"
   },
   {
    "duration": 48,
    "start_time": "2024-05-28T23:10:10.372Z"
   },
   {
    "duration": 14,
    "start_time": "2024-05-28T23:10:23.450Z"
   },
   {
    "duration": 7,
    "start_time": "2024-05-28T23:10:26.847Z"
   },
   {
    "duration": 1306,
    "start_time": "2024-05-28T23:10:34.940Z"
   },
   {
    "duration": 116,
    "start_time": "2024-05-28T23:10:36.253Z"
   },
   {
    "duration": 95,
    "start_time": "2024-05-28T23:10:36.372Z"
   },
   {
    "duration": 64,
    "start_time": "2024-05-28T23:10:36.471Z"
   },
   {
    "duration": 8,
    "start_time": "2024-05-28T23:10:36.538Z"
   },
   {
    "duration": 9,
    "start_time": "2024-05-28T23:10:36.548Z"
   },
   {
    "duration": 18,
    "start_time": "2024-05-28T23:10:36.560Z"
   },
   {
    "duration": 18,
    "start_time": "2024-05-28T23:10:36.609Z"
   },
   {
    "duration": 16,
    "start_time": "2024-05-28T23:10:36.630Z"
   },
   {
    "duration": 14,
    "start_time": "2024-05-28T23:10:36.651Z"
   },
   {
    "duration": 47,
    "start_time": "2024-05-28T23:10:36.668Z"
   },
   {
    "duration": 5,
    "start_time": "2024-05-28T23:10:36.719Z"
   },
   {
    "duration": 18,
    "start_time": "2024-05-28T23:10:36.727Z"
   },
   {
    "duration": 5,
    "start_time": "2024-05-28T23:10:36.748Z"
   },
   {
    "duration": 53,
    "start_time": "2024-05-28T23:10:36.757Z"
   },
   {
    "duration": 7,
    "start_time": "2024-05-28T23:10:36.813Z"
   },
   {
    "duration": 7,
    "start_time": "2024-05-28T23:10:36.824Z"
   },
   {
    "duration": 6,
    "start_time": "2024-05-28T23:10:36.834Z"
   },
   {
    "duration": 65,
    "start_time": "2024-05-28T23:10:36.844Z"
   },
   {
    "duration": 27,
    "start_time": "2024-05-28T23:10:36.912Z"
   },
   {
    "duration": 18,
    "start_time": "2024-05-28T23:10:36.942Z"
   },
   {
    "duration": 75,
    "start_time": "2024-05-28T23:10:36.965Z"
   },
   {
    "duration": 92,
    "start_time": "2024-05-28T23:10:37.043Z"
   },
   {
    "duration": 13,
    "start_time": "2024-05-28T23:10:37.139Z"
   },
   {
    "duration": 29,
    "start_time": "2024-05-28T23:10:37.155Z"
   },
   {
    "duration": 20,
    "start_time": "2024-05-28T23:10:37.210Z"
   },
   {
    "duration": 12,
    "start_time": "2024-05-28T23:10:37.236Z"
   },
   {
    "duration": 64,
    "start_time": "2024-05-28T23:10:37.258Z"
   },
   {
    "duration": 10,
    "start_time": "2024-05-28T23:10:37.325Z"
   },
   {
    "duration": 28,
    "start_time": "2024-05-28T23:10:37.338Z"
   },
   {
    "duration": 44,
    "start_time": "2024-05-28T23:10:37.375Z"
   },
   {
    "duration": 15,
    "start_time": "2024-05-28T23:10:37.422Z"
   },
   {
    "duration": 35,
    "start_time": "2024-05-28T23:10:37.441Z"
   },
   {
    "duration": 44,
    "start_time": "2024-05-28T23:10:37.508Z"
   },
   {
    "duration": 12,
    "start_time": "2024-05-28T23:10:37.554Z"
   },
   {
    "duration": 53,
    "start_time": "2024-05-28T23:10:37.569Z"
   },
   {
    "duration": 14,
    "start_time": "2024-05-28T23:10:37.625Z"
   },
   {
    "duration": 31,
    "start_time": "2024-05-28T23:10:37.642Z"
   },
   {
    "duration": 49,
    "start_time": "2024-05-28T23:10:37.676Z"
   },
   {
    "duration": 25,
    "start_time": "2024-05-28T23:10:37.729Z"
   },
   {
    "duration": 52,
    "start_time": "2024-05-28T23:10:37.757Z"
   },
   {
    "duration": 9,
    "start_time": "2024-05-28T23:10:37.812Z"
   },
   {
    "duration": 13,
    "start_time": "2024-05-28T23:10:37.823Z"
   },
   {
    "duration": 11,
    "start_time": "2024-05-28T23:10:37.839Z"
   },
   {
    "duration": 8,
    "start_time": "2024-05-28T23:10:37.852Z"
   },
   {
    "duration": 48,
    "start_time": "2024-05-28T23:10:37.863Z"
   },
   {
    "duration": 15,
    "start_time": "2024-05-28T23:10:37.915Z"
   },
   {
    "duration": 19,
    "start_time": "2024-05-28T23:10:37.933Z"
   },
   {
    "duration": 5,
    "start_time": "2024-05-28T23:10:37.956Z"
   },
   {
    "duration": 45,
    "start_time": "2024-05-28T23:10:37.964Z"
   },
   {
    "duration": 3,
    "start_time": "2024-05-28T23:10:38.013Z"
   },
   {
    "duration": 4,
    "start_time": "2024-05-28T23:10:38.019Z"
   },
   {
    "duration": 3,
    "start_time": "2024-05-28T23:10:38.026Z"
   },
   {
    "duration": 5,
    "start_time": "2024-05-28T23:10:38.032Z"
   },
   {
    "duration": 3,
    "start_time": "2024-05-28T23:10:38.041Z"
   },
   {
    "duration": 6,
    "start_time": "2024-05-28T23:10:38.047Z"
   },
   {
    "duration": 192,
    "start_time": "2024-05-28T23:10:38.056Z"
   },
   {
    "duration": 21,
    "start_time": "2024-05-28T23:10:38.251Z"
   },
   {
    "duration": 34,
    "start_time": "2024-05-28T23:10:38.275Z"
   },
   {
    "duration": 10,
    "start_time": "2024-05-28T23:10:38.311Z"
   },
   {
    "duration": 4,
    "start_time": "2024-05-28T23:10:38.324Z"
   },
   {
    "duration": 361,
    "start_time": "2024-05-28T23:10:38.332Z"
   },
   {
    "duration": 20,
    "start_time": "2024-05-28T23:10:38.696Z"
   },
   {
    "duration": 12,
    "start_time": "2024-05-28T23:10:38.719Z"
   },
   {
    "duration": 5,
    "start_time": "2024-05-28T23:10:38.736Z"
   },
   {
    "duration": 396,
    "start_time": "2024-05-28T23:10:38.745Z"
   },
   {
    "duration": 434,
    "start_time": "2024-05-28T23:10:39.144Z"
   },
   {
    "duration": 696,
    "start_time": "2024-05-28T23:10:39.581Z"
   },
   {
    "duration": 313,
    "start_time": "2024-05-28T23:10:40.280Z"
   },
   {
    "duration": 458,
    "start_time": "2024-05-28T23:10:40.597Z"
   },
   {
    "duration": 470,
    "start_time": "2024-05-28T23:10:41.058Z"
   },
   {
    "duration": 395,
    "start_time": "2024-05-28T23:10:41.531Z"
   },
   {
    "duration": 62,
    "start_time": "2024-05-28T23:10:41.929Z"
   },
   {
    "duration": 74,
    "start_time": "2024-05-28T23:10:41.993Z"
   },
   {
    "duration": 79,
    "start_time": "2024-05-28T23:10:42.069Z"
   },
   {
    "duration": 327,
    "start_time": "2024-05-28T23:10:42.151Z"
   },
   {
    "duration": 336,
    "start_time": "2024-05-28T23:10:42.481Z"
   },
   {
    "duration": 15,
    "start_time": "2024-05-28T23:10:42.820Z"
   },
   {
    "duration": 7,
    "start_time": "2024-05-28T23:10:42.838Z"
   },
   {
    "duration": 7,
    "start_time": "2024-05-28T23:10:42.848Z"
   },
   {
    "duration": 60,
    "start_time": "2024-05-28T23:10:42.858Z"
   },
   {
    "duration": 6,
    "start_time": "2024-05-28T23:10:42.932Z"
   },
   {
    "duration": 1320,
    "start_time": "2024-05-29T02:48:28.867Z"
   },
   {
    "duration": 170,
    "start_time": "2024-05-29T02:48:30.191Z"
   },
   {
    "duration": 131,
    "start_time": "2024-05-29T02:48:30.367Z"
   },
   {
    "duration": 74,
    "start_time": "2024-05-29T02:48:30.502Z"
   },
   {
    "duration": 12,
    "start_time": "2024-05-29T02:48:30.579Z"
   },
   {
    "duration": 10,
    "start_time": "2024-05-29T02:48:30.595Z"
   },
   {
    "duration": 30,
    "start_time": "2024-05-29T02:48:30.608Z"
   },
   {
    "duration": 20,
    "start_time": "2024-05-29T02:48:30.642Z"
   },
   {
    "duration": 19,
    "start_time": "2024-05-29T02:48:30.665Z"
   },
   {
    "duration": 47,
    "start_time": "2024-05-29T02:48:30.692Z"
   },
   {
    "duration": 18,
    "start_time": "2024-05-29T02:48:30.742Z"
   },
   {
    "duration": 8,
    "start_time": "2024-05-29T02:48:30.763Z"
   },
   {
    "duration": 60,
    "start_time": "2024-05-29T02:48:30.774Z"
   },
   {
    "duration": 11,
    "start_time": "2024-05-29T02:48:30.840Z"
   },
   {
    "duration": 10,
    "start_time": "2024-05-29T02:48:30.854Z"
   },
   {
    "duration": 7,
    "start_time": "2024-05-29T02:48:30.867Z"
   },
   {
    "duration": 6,
    "start_time": "2024-05-29T02:48:30.878Z"
   },
   {
    "duration": 47,
    "start_time": "2024-05-29T02:48:30.888Z"
   },
   {
    "duration": 28,
    "start_time": "2024-05-29T02:48:30.939Z"
   },
   {
    "duration": 59,
    "start_time": "2024-05-29T02:48:30.972Z"
   },
   {
    "duration": 21,
    "start_time": "2024-05-29T02:48:31.035Z"
   },
   {
    "duration": 74,
    "start_time": "2024-05-29T02:48:31.059Z"
   },
   {
    "duration": 97,
    "start_time": "2024-05-29T02:48:31.136Z"
   },
   {
    "duration": 12,
    "start_time": "2024-05-29T02:48:31.236Z"
   },
   {
    "duration": 30,
    "start_time": "2024-05-29T02:48:31.252Z"
   },
   {
    "duration": 56,
    "start_time": "2024-05-29T02:48:31.286Z"
   },
   {
    "duration": 16,
    "start_time": "2024-05-29T02:48:31.346Z"
   },
   {
    "duration": 56,
    "start_time": "2024-05-29T02:48:31.375Z"
   },
   {
    "duration": 12,
    "start_time": "2024-05-29T02:48:31.434Z"
   },
   {
    "duration": 26,
    "start_time": "2024-05-29T02:48:31.450Z"
   },
   {
    "duration": 58,
    "start_time": "2024-05-29T02:48:31.479Z"
   },
   {
    "duration": 20,
    "start_time": "2024-05-29T02:48:31.541Z"
   },
   {
    "duration": 37,
    "start_time": "2024-05-29T02:48:31.564Z"
   },
   {
    "duration": 70,
    "start_time": "2024-05-29T02:48:31.603Z"
   },
   {
    "duration": 14,
    "start_time": "2024-05-29T02:48:31.677Z"
   },
   {
    "duration": 58,
    "start_time": "2024-05-29T02:48:31.695Z"
   },
   {
    "duration": 21,
    "start_time": "2024-05-29T02:48:31.763Z"
   },
   {
    "duration": 57,
    "start_time": "2024-05-29T02:48:31.787Z"
   },
   {
    "duration": 25,
    "start_time": "2024-05-29T02:48:31.847Z"
   },
   {
    "duration": 51,
    "start_time": "2024-05-29T02:48:31.879Z"
   },
   {
    "duration": 21,
    "start_time": "2024-05-29T02:48:31.933Z"
   },
   {
    "duration": 12,
    "start_time": "2024-05-29T02:48:31.957Z"
   },
   {
    "duration": 13,
    "start_time": "2024-05-29T02:48:31.972Z"
   },
   {
    "duration": 56,
    "start_time": "2024-05-29T02:48:31.991Z"
   },
   {
    "duration": 11,
    "start_time": "2024-05-29T02:48:32.053Z"
   },
   {
    "duration": 10,
    "start_time": "2024-05-29T02:48:32.068Z"
   },
   {
    "duration": 15,
    "start_time": "2024-05-29T02:48:32.083Z"
   },
   {
    "duration": 39,
    "start_time": "2024-05-29T02:48:32.103Z"
   },
   {
    "duration": 9,
    "start_time": "2024-05-29T02:48:32.145Z"
   },
   {
    "duration": 8,
    "start_time": "2024-05-29T02:48:32.159Z"
   },
   {
    "duration": 4,
    "start_time": "2024-05-29T02:48:32.171Z"
   },
   {
    "duration": 6,
    "start_time": "2024-05-29T02:48:32.179Z"
   },
   {
    "duration": 41,
    "start_time": "2024-05-29T02:48:32.191Z"
   },
   {
    "duration": 7,
    "start_time": "2024-05-29T02:48:32.237Z"
   },
   {
    "duration": 4,
    "start_time": "2024-05-29T02:48:32.249Z"
   },
   {
    "duration": 8,
    "start_time": "2024-05-29T02:48:32.257Z"
   },
   {
    "duration": 178,
    "start_time": "2024-05-29T02:48:32.272Z"
   },
   {
    "duration": 22,
    "start_time": "2024-05-29T02:48:32.453Z"
   },
   {
    "duration": 12,
    "start_time": "2024-05-29T02:48:32.479Z"
   },
   {
    "duration": 41,
    "start_time": "2024-05-29T02:48:32.494Z"
   },
   {
    "duration": 7,
    "start_time": "2024-05-29T02:48:32.539Z"
   },
   {
    "duration": 378,
    "start_time": "2024-05-29T02:48:32.550Z"
   },
   {
    "duration": 12,
    "start_time": "2024-05-29T02:48:32.931Z"
   },
   {
    "duration": 10,
    "start_time": "2024-05-29T02:48:32.947Z"
   },
   {
    "duration": 5,
    "start_time": "2024-05-29T02:48:32.960Z"
   },
   {
    "duration": 390,
    "start_time": "2024-05-29T02:48:32.968Z"
   },
   {
    "duration": 436,
    "start_time": "2024-05-29T02:48:33.361Z"
   },
   {
    "duration": 741,
    "start_time": "2024-05-29T02:48:33.800Z"
   },
   {
    "duration": 367,
    "start_time": "2024-05-29T02:48:34.545Z"
   },
   {
    "duration": 526,
    "start_time": "2024-05-29T02:48:34.915Z"
   },
   {
    "duration": 471,
    "start_time": "2024-05-29T02:48:35.443Z"
   },
   {
    "duration": 468,
    "start_time": "2024-05-29T02:48:35.918Z"
   },
   {
    "duration": 77,
    "start_time": "2024-05-29T02:48:36.390Z"
   },
   {
    "duration": 66,
    "start_time": "2024-05-29T02:48:36.470Z"
   },
   {
    "duration": 59,
    "start_time": "2024-05-29T02:48:36.539Z"
   },
   {
    "duration": 315,
    "start_time": "2024-05-29T02:48:36.602Z"
   },
   {
    "duration": 330,
    "start_time": "2024-05-29T02:48:36.920Z"
   },
   {
    "duration": 16,
    "start_time": "2024-05-29T02:48:37.254Z"
   },
   {
    "duration": 7,
    "start_time": "2024-05-29T02:48:37.273Z"
   },
   {
    "duration": 47,
    "start_time": "2024-05-29T02:48:37.283Z"
   },
   {
    "duration": 14,
    "start_time": "2024-05-29T02:48:37.334Z"
   },
   {
    "duration": 6,
    "start_time": "2024-05-29T02:48:37.360Z"
   },
   {
    "duration": 6,
    "start_time": "2024-05-29T02:49:10.231Z"
   },
   {
    "duration": 137,
    "start_time": "2024-05-29T02:49:11.547Z"
   },
   {
    "duration": 32,
    "start_time": "2024-05-29T02:49:13.029Z"
   },
   {
    "duration": 430,
    "start_time": "2024-05-29T02:50:26.142Z"
   },
   {
    "duration": 140,
    "start_time": "2024-05-29T02:50:31.572Z"
   },
   {
    "duration": 6,
    "start_time": "2024-05-29T02:51:13.493Z"
   },
   {
    "duration": 5,
    "start_time": "2024-05-29T02:51:21.922Z"
   },
   {
    "duration": 26,
    "start_time": "2024-05-29T02:52:27.375Z"
   },
   {
    "duration": 7,
    "start_time": "2024-05-29T02:52:34.359Z"
   },
   {
    "duration": 22,
    "start_time": "2024-05-29T02:52:38.605Z"
   },
   {
    "duration": 18,
    "start_time": "2024-05-29T02:52:42.587Z"
   },
   {
    "duration": 24,
    "start_time": "2024-05-29T02:53:10.020Z"
   },
   {
    "duration": 20,
    "start_time": "2024-05-29T02:53:10.118Z"
   },
   {
    "duration": 21,
    "start_time": "2024-05-29T02:53:10.512Z"
   },
   {
    "duration": 18,
    "start_time": "2024-05-29T02:53:10.642Z"
   },
   {
    "duration": 9,
    "start_time": "2024-05-29T02:53:10.972Z"
   },
   {
    "duration": 13,
    "start_time": "2024-05-29T02:53:11.448Z"
   },
   {
    "duration": 12,
    "start_time": "2024-05-29T02:53:11.660Z"
   },
   {
    "duration": 9,
    "start_time": "2024-05-29T02:53:12.236Z"
   },
   {
    "duration": 8,
    "start_time": "2024-05-29T02:53:12.576Z"
   },
   {
    "duration": 10,
    "start_time": "2024-05-29T02:53:13.080Z"
   },
   {
    "duration": 16,
    "start_time": "2024-05-29T02:53:13.504Z"
   },
   {
    "duration": 3,
    "start_time": "2024-05-29T02:53:15.137Z"
   },
   {
    "duration": 3,
    "start_time": "2024-05-29T02:53:15.296Z"
   },
   {
    "duration": 3,
    "start_time": "2024-05-29T02:53:15.442Z"
   },
   {
    "duration": 4,
    "start_time": "2024-05-29T02:53:15.821Z"
   },
   {
    "duration": 7,
    "start_time": "2024-05-29T02:53:16.130Z"
   },
   {
    "duration": 4,
    "start_time": "2024-05-29T02:53:16.491Z"
   },
   {
    "duration": 3,
    "start_time": "2024-05-29T02:53:16.870Z"
   },
   {
    "duration": 6,
    "start_time": "2024-05-29T02:53:17.391Z"
   },
   {
    "duration": 139,
    "start_time": "2024-05-29T02:53:17.893Z"
   },
   {
    "duration": 145,
    "start_time": "2024-05-29T02:53:18.318Z"
   },
   {
    "duration": 40,
    "start_time": "2024-05-29T02:55:05.886Z"
   },
   {
    "duration": 20,
    "start_time": "2024-05-29T02:55:08.155Z"
   },
   {
    "duration": 20,
    "start_time": "2024-05-29T02:55:11.680Z"
   },
   {
    "duration": 20,
    "start_time": "2024-05-29T02:55:14.111Z"
   },
   {
    "duration": 10,
    "start_time": "2024-05-29T02:55:16.509Z"
   },
   {
    "duration": 14,
    "start_time": "2024-05-29T02:55:18.217Z"
   },
   {
    "duration": 10,
    "start_time": "2024-05-29T02:55:20.805Z"
   },
   {
    "duration": 5,
    "start_time": "2024-05-29T02:55:22.767Z"
   },
   {
    "duration": 8,
    "start_time": "2024-05-29T02:55:23.265Z"
   },
   {
    "duration": 12,
    "start_time": "2024-05-29T02:55:23.643Z"
   },
   {
    "duration": 17,
    "start_time": "2024-05-29T02:55:24.007Z"
   },
   {
    "duration": 7,
    "start_time": "2024-05-29T02:55:30.755Z"
   },
   {
    "duration": 148,
    "start_time": "2024-05-29T02:55:32.357Z"
   },
   {
    "duration": 143,
    "start_time": "2024-05-29T02:55:33.043Z"
   },
   {
    "duration": 21,
    "start_time": "2024-05-29T02:55:42.702Z"
   },
   {
    "duration": 1187,
    "start_time": "2024-05-29T02:56:28.996Z"
   },
   {
    "duration": 145,
    "start_time": "2024-05-29T02:56:46.797Z"
   },
   {
    "duration": 159,
    "start_time": "2024-05-29T02:56:55.084Z"
   },
   {
    "duration": 147,
    "start_time": "2024-05-29T02:57:10.211Z"
   },
   {
    "duration": 141,
    "start_time": "2024-05-29T02:57:25.456Z"
   },
   {
    "duration": 156,
    "start_time": "2024-05-29T02:57:43.495Z"
   },
   {
    "duration": 147,
    "start_time": "2024-05-29T02:57:53.501Z"
   },
   {
    "duration": 26,
    "start_time": "2024-05-29T02:58:26.497Z"
   },
   {
    "duration": 21,
    "start_time": "2024-05-29T02:59:07.721Z"
   },
   {
    "duration": 18,
    "start_time": "2024-05-29T02:59:08.962Z"
   },
   {
    "duration": 50,
    "start_time": "2024-05-29T02:59:51.997Z"
   },
   {
    "duration": 14,
    "start_time": "2024-05-29T02:59:53.089Z"
   },
   {
    "duration": 28,
    "start_time": "2024-05-29T02:59:53.473Z"
   },
   {
    "duration": 18,
    "start_time": "2024-05-29T02:59:56.942Z"
   },
   {
    "duration": 7,
    "start_time": "2024-05-29T03:00:01.898Z"
   },
   {
    "duration": 20,
    "start_time": "2024-05-29T03:00:05.493Z"
   },
   {
    "duration": 9,
    "start_time": "2024-05-29T03:00:20.490Z"
   },
   {
    "duration": 11,
    "start_time": "2024-05-29T03:00:20.630Z"
   },
   {
    "duration": 11,
    "start_time": "2024-05-29T03:00:20.751Z"
   },
   {
    "duration": 6,
    "start_time": "2024-05-29T03:00:20.875Z"
   },
   {
    "duration": 7,
    "start_time": "2024-05-29T03:00:21.253Z"
   },
   {
    "duration": 14,
    "start_time": "2024-05-29T03:00:21.596Z"
   },
   {
    "duration": 20,
    "start_time": "2024-05-29T03:00:21.757Z"
   },
   {
    "duration": 3,
    "start_time": "2024-05-29T03:00:22.865Z"
   },
   {
    "duration": 3,
    "start_time": "2024-05-29T03:00:23.089Z"
   },
   {
    "duration": 6,
    "start_time": "2024-05-29T03:00:23.229Z"
   },
   {
    "duration": 3,
    "start_time": "2024-05-29T03:00:23.374Z"
   },
   {
    "duration": 3,
    "start_time": "2024-05-29T03:00:23.513Z"
   },
   {
    "duration": 3,
    "start_time": "2024-05-29T03:00:23.677Z"
   },
   {
    "duration": 3,
    "start_time": "2024-05-29T03:00:23.914Z"
   },
   {
    "duration": 6,
    "start_time": "2024-05-29T03:00:24.135Z"
   },
   {
    "duration": 144,
    "start_time": "2024-05-29T03:00:24.617Z"
   },
   {
    "duration": 158,
    "start_time": "2024-05-29T03:00:24.961Z"
   },
   {
    "duration": 26,
    "start_time": "2024-05-29T03:00:32.650Z"
   },
   {
    "duration": 12,
    "start_time": "2024-05-29T03:00:50.421Z"
   },
   {
    "duration": 10,
    "start_time": "2024-05-29T03:00:51.805Z"
   },
   {
    "duration": 9,
    "start_time": "2024-05-29T03:00:51.943Z"
   },
   {
    "duration": 5,
    "start_time": "2024-05-29T03:00:52.063Z"
   },
   {
    "duration": 338,
    "start_time": "2024-05-29T03:00:52.204Z"
   },
   {
    "duration": 13,
    "start_time": "2024-05-29T03:00:52.545Z"
   },
   {
    "duration": 12,
    "start_time": "2024-05-29T03:00:52.667Z"
   },
   {
    "duration": 4,
    "start_time": "2024-05-29T03:00:52.849Z"
   },
   {
    "duration": 450,
    "start_time": "2024-05-29T03:00:53.233Z"
   },
   {
    "duration": 428,
    "start_time": "2024-05-29T03:00:54.339Z"
   },
   {
    "duration": 679,
    "start_time": "2024-05-29T03:00:54.771Z"
   },
   {
    "duration": 327,
    "start_time": "2024-05-29T03:00:55.941Z"
   },
   {
    "duration": 489,
    "start_time": "2024-05-29T03:00:57.361Z"
   },
   {
    "duration": 612,
    "start_time": "2024-05-29T03:00:58.669Z"
   },
   {
    "duration": 326,
    "start_time": "2024-05-29T03:00:59.285Z"
   },
   {
    "duration": 67,
    "start_time": "2024-05-29T03:00:59.614Z"
   },
   {
    "duration": 74,
    "start_time": "2024-05-29T03:00:59.685Z"
   },
   {
    "duration": 59,
    "start_time": "2024-05-29T03:00:59.883Z"
   },
   {
    "duration": 320,
    "start_time": "2024-05-29T03:01:00.186Z"
   },
   {
    "duration": 321,
    "start_time": "2024-05-29T03:01:01.174Z"
   },
   {
    "duration": 6,
    "start_time": "2024-05-29T03:02:19.858Z"
   }
  ],
  "colab": {
   "provenance": []
  },
  "kernelspec": {
   "display_name": "Python 3 (ipykernel)",
   "language": "python",
   "name": "python3"
  },
  "language_info": {
   "codemirror_mode": {
    "name": "ipython",
    "version": 3
   },
   "file_extension": ".py",
   "mimetype": "text/x-python",
   "name": "python",
   "nbconvert_exporter": "python",
   "pygments_lexer": "ipython3",
   "version": "3.13.2"
  },
  "toc": {
   "base_numbering": 1,
   "nav_menu": {},
   "number_sections": true,
   "sideBar": true,
   "skip_h1_title": false,
   "title_cell": "Table of Contents",
   "title_sidebar": "Contents",
   "toc_cell": false,
   "toc_position": {
    "height": "calc(100% - 180px)",
    "left": "10px",
    "top": "150px",
    "width": "384px"
   },
   "toc_section_display": true,
   "toc_window_display": false
  }
 },
 "nbformat": 4,
 "nbformat_minor": 4
}
